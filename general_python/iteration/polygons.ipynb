{
 "cells": [
  {
   "cell_type": "markdown",
   "metadata": {},
   "source": [
    "$n$ - n_edges\n",
    "$r$ - circumradius\n",
    "\n",
    "interior_angle = $(n-2) * \\frac{180}{n}$\n",
    "\n",
    "edge_length $s = 2 * R * sin(\\frac{\\pi}{n})$\n",
    "\n",
    "apothem $a = R * cos(\\frac{\\pi}{n})$\n",
    "\n",
    "area = $\\frac{1}{2}*n * s * a$\n",
    "\n",
    "perimeter = $n * s$"
   ]
  },
  {
   "cell_type": "code",
   "execution_count": 1,
   "metadata": {},
   "outputs": [],
   "source": [
    "import math"
   ]
  },
  {
   "cell_type": "code",
   "execution_count": 2,
   "metadata": {},
   "outputs": [],
   "source": [
    "class Polygon:\n",
    "    def __init__(self, n_edges, circumradius):\n",
    "        self.n_edges = n_edges\n",
    "        self.r = circumradius\n",
    "        self.inter_angle = (n_edges - 2) * 180 / n_edges\n",
    "        self.s = 2 * circumradius * math.sin(math.pi / n_edges)\n",
    "        self.apothem = self.r * math.cos(math.pi / n_edges)\n",
    "        self.area = 0.5 * n_edges * self.s * self.apothem\n",
    "        self.perimeter = n_edges * self.s\n",
    "    \n",
    "    def __repr__(self):\n",
    "        return f'''\n",
    "        n_edges: {self.n_edges}, \n",
    "        circumradius: {self.r},\n",
    "        inter_angle: {self.inter_angle},\n",
    "        edge_length: {self.s},\n",
    "        apothem: {self.apothem},\n",
    "        area: {self.area},\n",
    "        perimeter: {self.perimeter}\n",
    "        '''\n",
    "    \n",
    "    def __eq__(self, other):\n",
    "        return self.n_edges == other.n_edges and self.r == other.r\n",
    "    \n",
    "    def __gt__(self, other):\n",
    "        return self.n_edges > other.n_edges"
   ]
  },
  {
   "cell_type": "code",
   "execution_count": 7,
   "metadata": {},
   "outputs": [],
   "source": [
    "class Polygons:\n",
    "    def __init__(self, n_edges, circumradius):\n",
    "        self.n_edges = n_edges\n",
    "        self.r = circumradius\n",
    "        self.polygons = [Polygon(i, self.r) for i in range(3, n_edges)]\n",
    "        # best area / perimeter ratio\n",
    "        self.max_efficient = sorted(self.polygons, \n",
    "                                    key=lambda x: x.area / x.perimeter, \n",
    "                                    reverse=True)[0]\n",
    "    \n",
    "    def __getitem__(self, index):\n",
    "        return self.polygons[index]\n",
    "    \n",
    "    def __len__(self):\n",
    "        return len(self.polygons)\n",
    "    \n",
    "    def __repr__(self):\n",
    "        result = ''\n",
    "        for p in self.polygons:\n",
    "            result += str(p)\n",
    "        return result"
   ]
  },
  {
   "cell_type": "code",
   "execution_count": 8,
   "metadata": {},
   "outputs": [
    {
     "name": "stdout",
     "output_type": "stream",
     "text": [
      "\n",
      "        n_edges: 9, \n",
      "        circumradius: 5,\n",
      "        inter_angle: 140.0,\n",
      "        edge_length: 3.420201433256687,\n",
      "        apothem: 4.698463103929543,\n",
      "        area: 72.31360608973567,\n",
      "        perimeter: 30.781812899310182\n",
      "        \n",
      "\n",
      "        n_edges: 3, \n",
      "        circumradius: 5,\n",
      "        inter_angle: 60.0,\n",
      "        edge_length: 8.660254037844386,\n",
      "        apothem: 2.5000000000000004,\n",
      "        area: 32.47595264191645,\n",
      "        perimeter: 25.980762113533157\n",
      "        \n",
      "        n_edges: 4, \n",
      "        circumradius: 5,\n",
      "        inter_angle: 90.0,\n",
      "        edge_length: 7.071067811865475,\n",
      "        apothem: 3.5355339059327378,\n",
      "        area: 50.0,\n",
      "        perimeter: 28.2842712474619\n",
      "        \n",
      "        n_edges: 5, \n",
      "        circumradius: 5,\n",
      "        inter_angle: 108.0,\n",
      "        edge_length: 5.877852522924732,\n",
      "        apothem: 4.045084971874737,\n",
      "        area: 59.44103226844711,\n",
      "        perimeter: 29.38926261462366\n",
      "        \n",
      "        n_edges: 6, \n",
      "        circumradius: 5,\n",
      "        inter_angle: 120.0,\n",
      "        edge_length: 4.999999999999999,\n",
      "        apothem: 4.330127018922194,\n",
      "        area: 64.95190528383289,\n",
      "        perimeter: 29.999999999999993\n",
      "        \n",
      "        n_edges: 7, \n",
      "        circumradius: 5,\n",
      "        inter_angle: 128.57142857142858,\n",
      "        edge_length: 4.3388373911755815,\n",
      "        apothem: 4.504844339512096,\n",
      "        area: 68.41025471595262,\n",
      "        perimeter: 30.37186173822907\n",
      "        \n",
      "        n_edges: 8, \n",
      "        circumradius: 5,\n",
      "        inter_angle: 135.0,\n",
      "        edge_length: 3.826834323650898,\n",
      "        apothem: 4.619397662556434,\n",
      "        area: 70.71067811865476,\n",
      "        perimeter: 30.614674589207183\n",
      "        \n",
      "        n_edges: 9, \n",
      "        circumradius: 5,\n",
      "        inter_angle: 140.0,\n",
      "        edge_length: 3.420201433256687,\n",
      "        apothem: 4.698463103929543,\n",
      "        area: 72.31360608973567,\n",
      "        perimeter: 30.781812899310182\n",
      "        \n"
     ]
    }
   ],
   "source": [
    "polygons = Polygons(10, 5)\n",
    "print(polygons.max_efficient)\n",
    "print(polygons)"
   ]
  },
  {
   "cell_type": "code",
   "execution_count": null,
   "metadata": {},
   "outputs": [],
   "source": []
  }
 ],
 "metadata": {
  "kernelspec": {
   "display_name": "Python 3",
   "language": "python",
   "name": "python3"
  },
  "language_info": {
   "codemirror_mode": {
    "name": "ipython",
    "version": 3
   },
   "file_extension": ".py",
   "mimetype": "text/x-python",
   "name": "python",
   "nbconvert_exporter": "python",
   "pygments_lexer": "ipython3",
   "version": "3.7.3"
  }
 },
 "nbformat": 4,
 "nbformat_minor": 2
}
