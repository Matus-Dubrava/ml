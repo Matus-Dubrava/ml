{
 "cells": [
  {
   "cell_type": "code",
   "execution_count": 4,
   "metadata": {},
   "outputs": [
    {
     "name": "stdout",
     "output_type": "stream",
     "text": [
      "hello Jeff\n",
      "hello Gary\n",
      "hello Gill\n",
      "hello Samantha\n"
     ]
    }
   ],
   "source": [
    "names = ['Jeff', 'Gary', 'Gill', 'Samantha']\n",
    "\n",
    "# printing hello message using str.join method\n",
    "for name in names:\n",
    "    # print(f'Hello {name}')\n",
    "    print(' '.join([\"hello\", name]))"
   ]
  },
  {
   "cell_type": "code",
   "execution_count": 8,
   "metadata": {},
   "outputs": [
    {
     "name": "stdout",
     "output_type": "stream",
     "text": [
      "Jeff, Gary, Gill, Samantha\n"
     ]
    }
   ],
   "source": [
    "# printing list as a string\n",
    "names = ['Jeff', 'Gary', 'Gill', 'Samantha']\n",
    "\n",
    "print(', '.join(names))"
   ]
  },
  {
   "cell_type": "code",
   "execution_count": 17,
   "metadata": {},
   "outputs": [],
   "source": [
    "# joining file path with filename \n",
    "import os\n",
    "\n",
    "location_of_files = '/home/matus/documents/machine_learning/basics'\n",
    "filename = 'KNN.ipynb'\n",
    "\n",
    "# one way \n",
    "os.sep.join([location_of_files, filename])\n",
    "\n",
    "with open(os.path.join(location_of_files, filename)) as f:\n",
    "    pass"
   ]
  },
  {
   "cell_type": "code",
   "execution_count": 19,
   "metadata": {},
   "outputs": [
    {
     "name": "stdout",
     "output_type": "stream",
     "text": [
      "Gary bought 12 apples today\n",
      "Gary bought 12 apples today\n"
     ]
    }
   ],
   "source": [
    "# basic string formatting\n",
    "who = 'Gary'\n",
    "how_many = 12\n",
    "\n",
    "print('{} bought {} apples today'.format(who, how_many))\n",
    "print(f'{who} bought {how_many} apples today')"
   ]
  },
  {
   "cell_type": "code",
   "execution_count": null,
   "metadata": {},
   "outputs": [],
   "source": []
  }
 ],
 "metadata": {
  "kernelspec": {
   "display_name": "Python 3",
   "language": "python",
   "name": "python3"
  },
  "language_info": {
   "codemirror_mode": {
    "name": "ipython",
    "version": 3
   },
   "file_extension": ".py",
   "mimetype": "text/x-python",
   "name": "python",
   "nbconvert_exporter": "python",
   "pygments_lexer": "ipython3",
   "version": "3.7.6"
  }
 },
 "nbformat": 4,
 "nbformat_minor": 2
}
