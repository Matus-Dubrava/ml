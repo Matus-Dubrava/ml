{
 "cells": [
  {
   "cell_type": "code",
   "execution_count": 4,
   "metadata": {},
   "outputs": [
    {
     "data": {
      "text/plain": [
       "2.3333333333333335"
      ]
     },
     "execution_count": 4,
     "metadata": {},
     "output_type": "execute_result"
    }
   ],
   "source": [
    "import argparse\n",
    "import sys\n",
    "\n",
    "def main():\n",
    "    parser = argparse.ArgumentParser()\n",
    "    parser.add_argument('--x', type=float, default=1.0,\n",
    "                       help='What is the first number')\n",
    "    parser.add_argument('--y', type=float, default=1.0,\n",
    "                       help='What is the second number')\n",
    "    parser.add_argument('--operation', type=str, default='add',\n",
    "                       help='What operation? (add, sub, mul, div)')\n",
    "    \n",
    "    args = parser.parse_args()\n",
    "    sys.stdout.write(str(calc(args)))\n",
    "\n",
    "def calc(args):\n",
    "    if args.operation == 'add':\n",
    "        return args.x + args.y\n",
    "    elif args.operation == 'sub':\n",
    "        return args.x - args.y\n",
    "    elif args.operation == 'mul':\n",
    "        return args.x * args.y\n",
    "    elif args.operation == 'div':\n",
    "        return args.x / args.y\n",
    "\n",
    "if __name__ == '__main__':\n",
    "    main()\n"
   ]
  },
  {
   "cell_type": "code",
   "execution_count": null,
   "metadata": {},
   "outputs": [],
   "source": []
  }
 ],
 "metadata": {
  "kernelspec": {
   "display_name": "Python 3",
   "language": "python",
   "name": "python3"
  },
  "language_info": {
   "codemirror_mode": {
    "name": "ipython",
    "version": 3
   },
   "file_extension": ".py",
   "mimetype": "text/x-python",
   "name": "python",
   "nbconvert_exporter": "python",
   "pygments_lexer": "ipython3",
   "version": "3.7.6"
  }
 },
 "nbformat": 4,
 "nbformat_minor": 2
}
