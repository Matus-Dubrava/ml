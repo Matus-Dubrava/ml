{
 "cells": [
  {
   "cell_type": "code",
   "execution_count": 1,
   "metadata": {},
   "outputs": [],
   "source": [
    "import pandas as pd\n",
    "from pyspark import SparkContext, SparkConf"
   ]
  },
  {
   "cell_type": "code",
   "execution_count": 2,
   "metadata": {},
   "outputs": [],
   "source": [
    "conf = SparkConf().setMaster('local').setAppName('AverageFriendsByAge')\n",
    "sc = SparkContext(conf=conf)"
   ]
  },
  {
   "cell_type": "code",
   "execution_count": 8,
   "metadata": {},
   "outputs": [
    {
     "data": {
      "text/html": [
       "<div>\n",
       "<style scoped>\n",
       "    .dataframe tbody tr th:only-of-type {\n",
       "        vertical-align: middle;\n",
       "    }\n",
       "\n",
       "    .dataframe tbody tr th {\n",
       "        vertical-align: top;\n",
       "    }\n",
       "\n",
       "    .dataframe thead th {\n",
       "        text-align: right;\n",
       "    }\n",
       "</style>\n",
       "<table border=\"1\" class=\"dataframe\">\n",
       "  <thead>\n",
       "    <tr style=\"text-align: right;\">\n",
       "      <th></th>\n",
       "      <th>name</th>\n",
       "      <th>age</th>\n",
       "      <th>n_friends</th>\n",
       "    </tr>\n",
       "  </thead>\n",
       "  <tbody>\n",
       "    <tr>\n",
       "      <th>0</th>\n",
       "      <td>Will</td>\n",
       "      <td>33</td>\n",
       "      <td>385</td>\n",
       "    </tr>\n",
       "    <tr>\n",
       "      <th>1</th>\n",
       "      <td>Jean-Luc</td>\n",
       "      <td>26</td>\n",
       "      <td>2</td>\n",
       "    </tr>\n",
       "    <tr>\n",
       "      <th>2</th>\n",
       "      <td>Hugh</td>\n",
       "      <td>55</td>\n",
       "      <td>221</td>\n",
       "    </tr>\n",
       "    <tr>\n",
       "      <th>3</th>\n",
       "      <td>Deanna</td>\n",
       "      <td>40</td>\n",
       "      <td>465</td>\n",
       "    </tr>\n",
       "    <tr>\n",
       "      <th>4</th>\n",
       "      <td>Quark</td>\n",
       "      <td>68</td>\n",
       "      <td>21</td>\n",
       "    </tr>\n",
       "  </tbody>\n",
       "</table>\n",
       "</div>"
      ],
      "text/plain": [
       "       name  age  n_friends\n",
       "0      Will   33        385\n",
       "1  Jean-Luc   26          2\n",
       "2      Hugh   55        221\n",
       "3    Deanna   40        465\n",
       "4     Quark   68         21"
      ]
     },
     "execution_count": 8,
     "metadata": {},
     "output_type": "execute_result"
    }
   ],
   "source": [
    "df = pd.read_csv('../datasets/fakefriends.csv', index_col=0, names=['name', 'age', 'n_friends'])\n",
    "df.head()"
   ]
  },
  {
   "cell_type": "code",
   "execution_count": 48,
   "metadata": {},
   "outputs": [
    {
     "data": {
      "text/html": [
       "<div>\n",
       "<style scoped>\n",
       "    .dataframe tbody tr th:only-of-type {\n",
       "        vertical-align: middle;\n",
       "    }\n",
       "\n",
       "    .dataframe tbody tr th {\n",
       "        vertical-align: top;\n",
       "    }\n",
       "\n",
       "    .dataframe thead th {\n",
       "        text-align: right;\n",
       "    }\n",
       "</style>\n",
       "<table border=\"1\" class=\"dataframe\">\n",
       "  <thead>\n",
       "    <tr style=\"text-align: right;\">\n",
       "      <th></th>\n",
       "      <th>n_friends</th>\n",
       "    </tr>\n",
       "    <tr>\n",
       "      <th>age</th>\n",
       "      <th></th>\n",
       "    </tr>\n",
       "  </thead>\n",
       "  <tbody>\n",
       "    <tr>\n",
       "      <th>18</th>\n",
       "      <td>343.375000</td>\n",
       "    </tr>\n",
       "    <tr>\n",
       "      <th>19</th>\n",
       "      <td>213.272727</td>\n",
       "    </tr>\n",
       "    <tr>\n",
       "      <th>20</th>\n",
       "      <td>165.000000</td>\n",
       "    </tr>\n",
       "    <tr>\n",
       "      <th>21</th>\n",
       "      <td>350.875000</td>\n",
       "    </tr>\n",
       "    <tr>\n",
       "      <th>22</th>\n",
       "      <td>206.428571</td>\n",
       "    </tr>\n",
       "  </tbody>\n",
       "</table>\n",
       "</div>"
      ],
      "text/plain": [
       "      n_friends\n",
       "age            \n",
       "18   343.375000\n",
       "19   213.272727\n",
       "20   165.000000\n",
       "21   350.875000\n",
       "22   206.428571"
      ]
     },
     "execution_count": 48,
     "metadata": {},
     "output_type": "execute_result"
    }
   ],
   "source": [
    "df.groupby(by='age').mean().head()"
   ]
  },
  {
   "cell_type": "code",
   "execution_count": 46,
   "metadata": {},
   "outputs": [
    {
     "data": {
      "text/plain": [
       "[(63, 384.0),\n",
       " (21, 350.875),\n",
       " (18, 343.375),\n",
       " (52, 340.6363636363636),\n",
       " (33, 325.3333333333333),\n",
       " (45, 309.53846153846155),\n",
       " (56, 306.6666666666667),\n",
       " (42, 303.5),\n",
       " (51, 302.14285714285717),\n",
       " (65, 298.2),\n",
       " (55, 295.53846153846155),\n",
       " (44, 282.1666666666667),\n",
       " (48, 281.4),\n",
       " (64, 281.3333333333333),\n",
       " (54, 278.0769230769231),\n",
       " (66, 276.44444444444446),\n",
       " (68, 269.6),\n",
       " (41, 268.55555555555554),\n",
       " (31, 267.25),\n",
       " (57, 258.8333333333333),\n",
       " (61, 256.22222222222223),\n",
       " (50, 254.6),\n",
       " (40, 250.8235294117647),\n",
       " (37, 249.33333333333334),\n",
       " (36, 246.6),\n",
       " (23, 246.3),\n",
       " (34, 245.5),\n",
       " (26, 242.05882352941177),\n",
       " (30, 235.8181818181818),\n",
       " (69, 235.2),\n",
       " (24, 233.8),\n",
       " (47, 233.22222222222223),\n",
       " (43, 230.57142857142858),\n",
       " (27, 228.125),\n",
       " (46, 223.69230769230768),\n",
       " (53, 222.85714285714286),\n",
       " (62, 220.76923076923077),\n",
       " (59, 220.0),\n",
       " (29, 215.91666666666666),\n",
       " (67, 214.625),\n",
       " (19, 213.27272727272728),\n",
       " (35, 211.625),\n",
       " (28, 209.1),\n",
       " (32, 207.9090909090909),\n",
       " (22, 206.42857142857142),\n",
       " (60, 202.71428571428572),\n",
       " (25, 197.45454545454547),\n",
       " (38, 193.53333333333333),\n",
       " (49, 184.66666666666666),\n",
       " (39, 169.28571428571428),\n",
       " (20, 165.0),\n",
       " (58, 116.54545454545455)]"
      ]
     },
     "execution_count": 46,
     "metadata": {},
     "output_type": "execute_result"
    }
   ],
   "source": [
    "def parse_line(line):\n",
    "    fields = line.split(',')\n",
    "    age = int(fields[2])\n",
    "    n_friends = int(fields[3])\n",
    "    return (age, n_friends)\n",
    "\n",
    "lines = sc.textFile('../datasets/fakefriends.csv')\n",
    "rdd = lines.map(parse_line)\n",
    "\n",
    "totals_by_age = rdd.mapValues(lambda x: (x, 1)) \\\n",
    "                   .reduceByKey(lambda x, y: (x[0] + y[0], x[1] + y[1])) \\\n",
    "                   \n",
    "average_by_age = totals_by_age.mapValues(lambda x: x[0] / x[1])\n",
    "\n",
    "sorted(average_by_age.collect(), key=lambda x: x[1], reverse=True)"
   ]
  },
  {
   "cell_type": "code",
   "execution_count": null,
   "metadata": {},
   "outputs": [],
   "source": []
  }
 ],
 "metadata": {
  "kernelspec": {
   "display_name": "Python 3",
   "language": "python",
   "name": "python3"
  },
  "language_info": {
   "codemirror_mode": {
    "name": "ipython",
    "version": 3
   },
   "file_extension": ".py",
   "mimetype": "text/x-python",
   "name": "python",
   "nbconvert_exporter": "python",
   "pygments_lexer": "ipython3",
   "version": "3.7.6"
  }
 },
 "nbformat": 4,
 "nbformat_minor": 2
}
