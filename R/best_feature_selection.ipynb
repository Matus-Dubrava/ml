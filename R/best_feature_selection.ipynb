{
 "cells": [
  {
   "cell_type": "code",
   "execution_count": 1,
   "metadata": {},
   "outputs": [],
   "source": [
    "library(ISLR)"
   ]
  },
  {
   "cell_type": "code",
   "execution_count": 2,
   "metadata": {},
   "outputs": [
    {
     "data": {
      "text/html": [
       "<ol class=list-inline>\n",
       "\t<li>'AtBat'</li>\n",
       "\t<li>'Hits'</li>\n",
       "\t<li>'HmRun'</li>\n",
       "\t<li>'Runs'</li>\n",
       "\t<li>'RBI'</li>\n",
       "\t<li>'Walks'</li>\n",
       "\t<li>'Years'</li>\n",
       "\t<li>'CAtBat'</li>\n",
       "\t<li>'CHits'</li>\n",
       "\t<li>'CHmRun'</li>\n",
       "\t<li>'CRuns'</li>\n",
       "\t<li>'CRBI'</li>\n",
       "\t<li>'CWalks'</li>\n",
       "\t<li>'League'</li>\n",
       "\t<li>'Division'</li>\n",
       "\t<li>'PutOuts'</li>\n",
       "\t<li>'Assists'</li>\n",
       "\t<li>'Errors'</li>\n",
       "\t<li>'Salary'</li>\n",
       "\t<li>'NewLeague'</li>\n",
       "</ol>\n"
      ],
      "text/latex": [
       "\\begin{enumerate*}\n",
       "\\item 'AtBat'\n",
       "\\item 'Hits'\n",
       "\\item 'HmRun'\n",
       "\\item 'Runs'\n",
       "\\item 'RBI'\n",
       "\\item 'Walks'\n",
       "\\item 'Years'\n",
       "\\item 'CAtBat'\n",
       "\\item 'CHits'\n",
       "\\item 'CHmRun'\n",
       "\\item 'CRuns'\n",
       "\\item 'CRBI'\n",
       "\\item 'CWalks'\n",
       "\\item 'League'\n",
       "\\item 'Division'\n",
       "\\item 'PutOuts'\n",
       "\\item 'Assists'\n",
       "\\item 'Errors'\n",
       "\\item 'Salary'\n",
       "\\item 'NewLeague'\n",
       "\\end{enumerate*}\n"
      ],
      "text/markdown": [
       "1. 'AtBat'\n",
       "2. 'Hits'\n",
       "3. 'HmRun'\n",
       "4. 'Runs'\n",
       "5. 'RBI'\n",
       "6. 'Walks'\n",
       "7. 'Years'\n",
       "8. 'CAtBat'\n",
       "9. 'CHits'\n",
       "10. 'CHmRun'\n",
       "11. 'CRuns'\n",
       "12. 'CRBI'\n",
       "13. 'CWalks'\n",
       "14. 'League'\n",
       "15. 'Division'\n",
       "16. 'PutOuts'\n",
       "17. 'Assists'\n",
       "18. 'Errors'\n",
       "19. 'Salary'\n",
       "20. 'NewLeague'\n",
       "\n",
       "\n"
      ],
      "text/plain": [
       " [1] \"AtBat\"     \"Hits\"      \"HmRun\"     \"Runs\"      \"RBI\"       \"Walks\"    \n",
       " [7] \"Years\"     \"CAtBat\"    \"CHits\"     \"CHmRun\"    \"CRuns\"     \"CRBI\"     \n",
       "[13] \"CWalks\"    \"League\"    \"Division\"  \"PutOuts\"   \"Assists\"   \"Errors\"   \n",
       "[19] \"Salary\"    \"NewLeague\""
      ]
     },
     "metadata": {},
     "output_type": "display_data"
    }
   ],
   "source": [
    "names(Hitters)"
   ]
  },
  {
   "cell_type": "code",
   "execution_count": 3,
   "metadata": {},
   "outputs": [
    {
     "data": {
      "text/html": [
       "<table>\n",
       "<thead><tr><th></th><th scope=col>AtBat</th><th scope=col>Hits</th><th scope=col>HmRun</th><th scope=col>Runs</th><th scope=col>RBI</th><th scope=col>Walks</th><th scope=col>Years</th><th scope=col>CAtBat</th><th scope=col>CHits</th><th scope=col>CHmRun</th><th scope=col>CRuns</th><th scope=col>CRBI</th><th scope=col>CWalks</th><th scope=col>League</th><th scope=col>Division</th><th scope=col>PutOuts</th><th scope=col>Assists</th><th scope=col>Errors</th><th scope=col>Salary</th><th scope=col>NewLeague</th></tr></thead>\n",
       "<tbody>\n",
       "\t<tr><th scope=row>-Andy Allanson</th><td>293  </td><td> 66  </td><td> 1   </td><td>30   </td><td>29   </td><td>14   </td><td> 1   </td><td> 293 </td><td>  66 </td><td>  1  </td><td> 30  </td><td> 29  </td><td> 14  </td><td>A    </td><td>E    </td><td>446  </td><td> 33  </td><td>20   </td><td>   NA</td><td>A    </td></tr>\n",
       "\t<tr><th scope=row>-Alan Ashby</th><td>315  </td><td> 81  </td><td> 7   </td><td>24   </td><td>38   </td><td>39   </td><td>14   </td><td>3449 </td><td> 835 </td><td> 69  </td><td>321  </td><td>414  </td><td>375  </td><td>N    </td><td>W    </td><td>632  </td><td> 43  </td><td>10   </td><td>475.0</td><td>N    </td></tr>\n",
       "\t<tr><th scope=row>-Alvin Davis</th><td>479  </td><td>130  </td><td>18   </td><td>66   </td><td>72   </td><td>76   </td><td> 3   </td><td>1624 </td><td> 457 </td><td> 63  </td><td>224  </td><td>266  </td><td>263  </td><td>A    </td><td>W    </td><td>880  </td><td> 82  </td><td>14   </td><td>480.0</td><td>A    </td></tr>\n",
       "\t<tr><th scope=row>-Andre Dawson</th><td>496  </td><td>141  </td><td>20   </td><td>65   </td><td>78   </td><td>37   </td><td>11   </td><td>5628 </td><td>1575 </td><td>225  </td><td>828  </td><td>838  </td><td>354  </td><td>N    </td><td>E    </td><td>200  </td><td> 11  </td><td> 3   </td><td>500.0</td><td>N    </td></tr>\n",
       "\t<tr><th scope=row>-Andres Galarraga</th><td>321  </td><td> 87  </td><td>10   </td><td>39   </td><td>42   </td><td>30   </td><td> 2   </td><td> 396 </td><td> 101 </td><td> 12  </td><td> 48  </td><td> 46  </td><td> 33  </td><td>N    </td><td>E    </td><td>805  </td><td> 40  </td><td> 4   </td><td> 91.5</td><td>N    </td></tr>\n",
       "\t<tr><th scope=row>-Alfredo Griffin</th><td>594  </td><td>169  </td><td> 4   </td><td>74   </td><td>51   </td><td>35   </td><td>11   </td><td>4408 </td><td>1133 </td><td> 19  </td><td>501  </td><td>336  </td><td>194  </td><td>A    </td><td>W    </td><td>282  </td><td>421  </td><td>25   </td><td>750.0</td><td>A    </td></tr>\n",
       "</tbody>\n",
       "</table>\n"
      ],
      "text/latex": [
       "\\begin{tabular}{r|llllllllllllllllllll}\n",
       "  & AtBat & Hits & HmRun & Runs & RBI & Walks & Years & CAtBat & CHits & CHmRun & CRuns & CRBI & CWalks & League & Division & PutOuts & Assists & Errors & Salary & NewLeague\\\\\n",
       "\\hline\n",
       "\t-Andy Allanson & 293   &  66   &  1    & 30    & 29    & 14    &  1    &  293  &   66  &   1   &  30   &  29   &  14   & A     & E     & 446   &  33   & 20    &    NA & A    \\\\\n",
       "\t-Alan Ashby & 315   &  81   &  7    & 24    & 38    & 39    & 14    & 3449  &  835  &  69   & 321   & 414   & 375   & N     & W     & 632   &  43   & 10    & 475.0 & N    \\\\\n",
       "\t-Alvin Davis & 479   & 130   & 18    & 66    & 72    & 76    &  3    & 1624  &  457  &  63   & 224   & 266   & 263   & A     & W     & 880   &  82   & 14    & 480.0 & A    \\\\\n",
       "\t-Andre Dawson & 496   & 141   & 20    & 65    & 78    & 37    & 11    & 5628  & 1575  & 225   & 828   & 838   & 354   & N     & E     & 200   &  11   &  3    & 500.0 & N    \\\\\n",
       "\t-Andres Galarraga & 321   &  87   & 10    & 39    & 42    & 30    &  2    &  396  &  101  &  12   &  48   &  46   &  33   & N     & E     & 805   &  40   &  4    &  91.5 & N    \\\\\n",
       "\t-Alfredo Griffin & 594   & 169   &  4    & 74    & 51    & 35    & 11    & 4408  & 1133  &  19   & 501   & 336   & 194   & A     & W     & 282   & 421   & 25    & 750.0 & A    \\\\\n",
       "\\end{tabular}\n"
      ],
      "text/markdown": [
       "\n",
       "| <!--/--> | AtBat | Hits | HmRun | Runs | RBI | Walks | Years | CAtBat | CHits | CHmRun | CRuns | CRBI | CWalks | League | Division | PutOuts | Assists | Errors | Salary | NewLeague |\n",
       "|---|---|---|---|---|---|---|---|---|---|---|---|---|---|---|---|---|---|---|---|---|\n",
       "| -Andy Allanson | 293   |  66   |  1    | 30    | 29    | 14    |  1    |  293  |   66  |   1   |  30   |  29   |  14   | A     | E     | 446   |  33   | 20    |    NA | A     |\n",
       "| -Alan Ashby | 315   |  81   |  7    | 24    | 38    | 39    | 14    | 3449  |  835  |  69   | 321   | 414   | 375   | N     | W     | 632   |  43   | 10    | 475.0 | N     |\n",
       "| -Alvin Davis | 479   | 130   | 18    | 66    | 72    | 76    |  3    | 1624  |  457  |  63   | 224   | 266   | 263   | A     | W     | 880   |  82   | 14    | 480.0 | A     |\n",
       "| -Andre Dawson | 496   | 141   | 20    | 65    | 78    | 37    | 11    | 5628  | 1575  | 225   | 828   | 838   | 354   | N     | E     | 200   |  11   |  3    | 500.0 | N     |\n",
       "| -Andres Galarraga | 321   |  87   | 10    | 39    | 42    | 30    |  2    |  396  |  101  |  12   |  48   |  46   |  33   | N     | E     | 805   |  40   |  4    |  91.5 | N     |\n",
       "| -Alfredo Griffin | 594   | 169   |  4    | 74    | 51    | 35    | 11    | 4408  | 1133  |  19   | 501   | 336   | 194   | A     | W     | 282   | 421   | 25    | 750.0 | A     |\n",
       "\n"
      ],
      "text/plain": [
       "                  AtBat Hits HmRun Runs RBI Walks Years CAtBat CHits CHmRun\n",
       "-Andy Allanson    293    66   1    30   29  14     1     293     66    1   \n",
       "-Alan Ashby       315    81   7    24   38  39    14    3449    835   69   \n",
       "-Alvin Davis      479   130  18    66   72  76     3    1624    457   63   \n",
       "-Andre Dawson     496   141  20    65   78  37    11    5628   1575  225   \n",
       "-Andres Galarraga 321    87  10    39   42  30     2     396    101   12   \n",
       "-Alfredo Griffin  594   169   4    74   51  35    11    4408   1133   19   \n",
       "                  CRuns CRBI CWalks League Division PutOuts Assists Errors\n",
       "-Andy Allanson     30    29   14    A      E        446      33     20    \n",
       "-Alan Ashby       321   414  375    N      W        632      43     10    \n",
       "-Alvin Davis      224   266  263    A      W        880      82     14    \n",
       "-Andre Dawson     828   838  354    N      E        200      11      3    \n",
       "-Andres Galarraga  48    46   33    N      E        805      40      4    \n",
       "-Alfredo Griffin  501   336  194    A      W        282     421     25    \n",
       "                  Salary NewLeague\n",
       "-Andy Allanson       NA  A        \n",
       "-Alan Ashby       475.0  N        \n",
       "-Alvin Davis      480.0  A        \n",
       "-Andre Dawson     500.0  N        \n",
       "-Andres Galarraga  91.5  N        \n",
       "-Alfredo Griffin  750.0  A        "
      ]
     },
     "metadata": {},
     "output_type": "display_data"
    }
   ],
   "source": [
    "head(Hitters)"
   ]
  },
  {
   "cell_type": "code",
   "execution_count": 4,
   "metadata": {},
   "outputs": [
    {
     "data": {
      "text/html": [
       "<ol class=list-inline>\n",
       "\t<li>322</li>\n",
       "\t<li>20</li>\n",
       "</ol>\n"
      ],
      "text/latex": [
       "\\begin{enumerate*}\n",
       "\\item 322\n",
       "\\item 20\n",
       "\\end{enumerate*}\n"
      ],
      "text/markdown": [
       "1. 322\n",
       "2. 20\n",
       "\n",
       "\n"
      ],
      "text/plain": [
       "[1] 322  20"
      ]
     },
     "metadata": {},
     "output_type": "display_data"
    }
   ],
   "source": [
    "dim(Hitters)"
   ]
  },
  {
   "cell_type": "code",
   "execution_count": 9,
   "metadata": {},
   "outputs": [
    {
     "data": {
      "text/html": [
       "59"
      ],
      "text/latex": [
       "59"
      ],
      "text/markdown": [
       "59"
      ],
      "text/plain": [
       "[1] 59"
      ]
     },
     "metadata": {},
     "output_type": "display_data"
    }
   ],
   "source": [
    "sum(is.na(Hitters))"
   ]
  },
  {
   "cell_type": "code",
   "execution_count": 10,
   "metadata": {},
   "outputs": [
    {
     "data": {
      "text/html": [
       "<ol class=list-inline>\n",
       "\t<li>263</li>\n",
       "\t<li>20</li>\n",
       "</ol>\n"
      ],
      "text/latex": [
       "\\begin{enumerate*}\n",
       "\\item 263\n",
       "\\item 20\n",
       "\\end{enumerate*}\n"
      ],
      "text/markdown": [
       "1. 263\n",
       "2. 20\n",
       "\n",
       "\n"
      ],
      "text/plain": [
       "[1] 263  20"
      ]
     },
     "metadata": {},
     "output_type": "display_data"
    }
   ],
   "source": [
    "Hitters = na.omit(Hitters)\n",
    "dim(Hitters)"
   ]
  },
  {
   "cell_type": "markdown",
   "metadata": {},
   "source": [
    "# Best Subset Selection"
   ]
  },
  {
   "cell_type": "code",
   "execution_count": 19,
   "metadata": {},
   "outputs": [],
   "source": [
    "library(leaps)\n",
    "regfit.full = regsubsets(Salary~., data=Hitters)"
   ]
  },
  {
   "cell_type": "code",
   "execution_count": 21,
   "metadata": {},
   "outputs": [
    {
     "data": {
      "text/plain": [
       "Subset selection object\n",
       "Call: regsubsets.formula(Salary ~ ., data = Hitters)\n",
       "19 Variables  (and intercept)\n",
       "           Forced in Forced out\n",
       "AtBat          FALSE      FALSE\n",
       "Hits           FALSE      FALSE\n",
       "HmRun          FALSE      FALSE\n",
       "Runs           FALSE      FALSE\n",
       "RBI            FALSE      FALSE\n",
       "Walks          FALSE      FALSE\n",
       "Years          FALSE      FALSE\n",
       "CAtBat         FALSE      FALSE\n",
       "CHits          FALSE      FALSE\n",
       "CHmRun         FALSE      FALSE\n",
       "CRuns          FALSE      FALSE\n",
       "CRBI           FALSE      FALSE\n",
       "CWalks         FALSE      FALSE\n",
       "LeagueN        FALSE      FALSE\n",
       "DivisionW      FALSE      FALSE\n",
       "PutOuts        FALSE      FALSE\n",
       "Assists        FALSE      FALSE\n",
       "Errors         FALSE      FALSE\n",
       "NewLeagueN     FALSE      FALSE\n",
       "1 subsets of each size up to 8\n",
       "Selection Algorithm: exhaustive\n",
       "         AtBat Hits HmRun Runs RBI Walks Years CAtBat CHits CHmRun CRuns CRBI\n",
       "1  ( 1 ) \" \"   \" \"  \" \"   \" \"  \" \" \" \"   \" \"   \" \"    \" \"   \" \"    \" \"   \"*\" \n",
       "2  ( 1 ) \" \"   \"*\"  \" \"   \" \"  \" \" \" \"   \" \"   \" \"    \" \"   \" \"    \" \"   \"*\" \n",
       "3  ( 1 ) \" \"   \"*\"  \" \"   \" \"  \" \" \" \"   \" \"   \" \"    \" \"   \" \"    \" \"   \"*\" \n",
       "4  ( 1 ) \" \"   \"*\"  \" \"   \" \"  \" \" \" \"   \" \"   \" \"    \" \"   \" \"    \" \"   \"*\" \n",
       "5  ( 1 ) \"*\"   \"*\"  \" \"   \" \"  \" \" \" \"   \" \"   \" \"    \" \"   \" \"    \" \"   \"*\" \n",
       "6  ( 1 ) \"*\"   \"*\"  \" \"   \" \"  \" \" \"*\"   \" \"   \" \"    \" \"   \" \"    \" \"   \"*\" \n",
       "7  ( 1 ) \" \"   \"*\"  \" \"   \" \"  \" \" \"*\"   \" \"   \"*\"    \"*\"   \"*\"    \" \"   \" \" \n",
       "8  ( 1 ) \"*\"   \"*\"  \" \"   \" \"  \" \" \"*\"   \" \"   \" \"    \" \"   \"*\"    \"*\"   \" \" \n",
       "         CWalks LeagueN DivisionW PutOuts Assists Errors NewLeagueN\n",
       "1  ( 1 ) \" \"    \" \"     \" \"       \" \"     \" \"     \" \"    \" \"       \n",
       "2  ( 1 ) \" \"    \" \"     \" \"       \" \"     \" \"     \" \"    \" \"       \n",
       "3  ( 1 ) \" \"    \" \"     \" \"       \"*\"     \" \"     \" \"    \" \"       \n",
       "4  ( 1 ) \" \"    \" \"     \"*\"       \"*\"     \" \"     \" \"    \" \"       \n",
       "5  ( 1 ) \" \"    \" \"     \"*\"       \"*\"     \" \"     \" \"    \" \"       \n",
       "6  ( 1 ) \" \"    \" \"     \"*\"       \"*\"     \" \"     \" \"    \" \"       \n",
       "7  ( 1 ) \" \"    \" \"     \"*\"       \"*\"     \" \"     \" \"    \" \"       \n",
       "8  ( 1 ) \"*\"    \" \"     \"*\"       \"*\"     \" \"     \" \"    \" \"       "
      ]
     },
     "metadata": {},
     "output_type": "display_data"
    }
   ],
   "source": [
    "summary(regfit.full)"
   ]
  },
  {
   "cell_type": "code",
   "execution_count": 22,
   "metadata": {},
   "outputs": [
    {
     "data": {
      "text/html": [
       "<ol class=list-inline>\n",
       "\t<li>'which'</li>\n",
       "\t<li>'rsq'</li>\n",
       "\t<li>'rss'</li>\n",
       "\t<li>'adjr2'</li>\n",
       "\t<li>'cp'</li>\n",
       "\t<li>'bic'</li>\n",
       "\t<li>'outmat'</li>\n",
       "\t<li>'obj'</li>\n",
       "</ol>\n"
      ],
      "text/latex": [
       "\\begin{enumerate*}\n",
       "\\item 'which'\n",
       "\\item 'rsq'\n",
       "\\item 'rss'\n",
       "\\item 'adjr2'\n",
       "\\item 'cp'\n",
       "\\item 'bic'\n",
       "\\item 'outmat'\n",
       "\\item 'obj'\n",
       "\\end{enumerate*}\n"
      ],
      "text/markdown": [
       "1. 'which'\n",
       "2. 'rsq'\n",
       "3. 'rss'\n",
       "4. 'adjr2'\n",
       "5. 'cp'\n",
       "6. 'bic'\n",
       "7. 'outmat'\n",
       "8. 'obj'\n",
       "\n",
       "\n"
      ],
      "text/plain": [
       "[1] \"which\"  \"rsq\"    \"rss\"    \"adjr2\"  \"cp\"     \"bic\"    \"outmat\" \"obj\"   "
      ]
     },
     "metadata": {},
     "output_type": "display_data"
    }
   ],
   "source": [
    "regfit.full = regsubsets(Salary~., data=Hitters, nvmax=19)\n",
    "reg.summary = summary(regfit.full)\n",
    "names(reg.summary)"
   ]
  },
  {
   "cell_type": "code",
   "execution_count": 23,
   "metadata": {},
   "outputs": [
    {
     "data": {
      "text/html": [
       "<ol class=list-inline>\n",
       "\t<li>0.321450088667894</li>\n",
       "\t<li>0.425223746466778</li>\n",
       "\t<li>0.451429415717957</li>\n",
       "\t<li>0.475406653394787</li>\n",
       "\t<li>0.490803615963518</li>\n",
       "\t<li>0.508714557358996</li>\n",
       "\t<li>0.514122682361273</li>\n",
       "\t<li>0.528556860302574</li>\n",
       "\t<li>0.534612447792431</li>\n",
       "\t<li>0.540494950940798</li>\n",
       "\t<li>0.54261532542542</li>\n",
       "\t<li>0.543630208632163</li>\n",
       "\t<li>0.544457014231977</li>\n",
       "\t<li>0.545216356301489</li>\n",
       "\t<li>0.545469230681164</li>\n",
       "\t<li>0.54576555748528</li>\n",
       "\t<li>0.545951808076699</li>\n",
       "\t<li>0.546094522341906</li>\n",
       "\t<li>0.546115861912532</li>\n",
       "</ol>\n"
      ],
      "text/latex": [
       "\\begin{enumerate*}\n",
       "\\item 0.321450088667894\n",
       "\\item 0.425223746466778\n",
       "\\item 0.451429415717957\n",
       "\\item 0.475406653394787\n",
       "\\item 0.490803615963518\n",
       "\\item 0.508714557358996\n",
       "\\item 0.514122682361273\n",
       "\\item 0.528556860302574\n",
       "\\item 0.534612447792431\n",
       "\\item 0.540494950940798\n",
       "\\item 0.54261532542542\n",
       "\\item 0.543630208632163\n",
       "\\item 0.544457014231977\n",
       "\\item 0.545216356301489\n",
       "\\item 0.545469230681164\n",
       "\\item 0.54576555748528\n",
       "\\item 0.545951808076699\n",
       "\\item 0.546094522341906\n",
       "\\item 0.546115861912532\n",
       "\\end{enumerate*}\n"
      ],
      "text/markdown": [
       "1. 0.321450088667894\n",
       "2. 0.425223746466778\n",
       "3. 0.451429415717957\n",
       "4. 0.475406653394787\n",
       "5. 0.490803615963518\n",
       "6. 0.508714557358996\n",
       "7. 0.514122682361273\n",
       "8. 0.528556860302574\n",
       "9. 0.534612447792431\n",
       "10. 0.540494950940798\n",
       "11. 0.54261532542542\n",
       "12. 0.543630208632163\n",
       "13. 0.544457014231977\n",
       "14. 0.545216356301489\n",
       "15. 0.545469230681164\n",
       "16. 0.54576555748528\n",
       "17. 0.545951808076699\n",
       "18. 0.546094522341906\n",
       "19. 0.546115861912532\n",
       "\n",
       "\n"
      ],
      "text/plain": [
       " [1] 0.3214501 0.4252237 0.4514294 0.4754067 0.4908036 0.5087146 0.5141227\n",
       " [8] 0.5285569 0.5346124 0.5404950 0.5426153 0.5436302 0.5444570 0.5452164\n",
       "[15] 0.5454692 0.5457656 0.5459518 0.5460945 0.5461159"
      ]
     },
     "metadata": {},
     "output_type": "display_data"
    }
   ],
   "source": [
    "reg.summary$rsq"
   ]
  },
  {
   "cell_type": "code",
   "execution_count": null,
   "metadata": {},
   "outputs": [],
   "source": [
    "# find index with the maximum adjusted R^2\n",
    "which.max(reg.summary$adjr2)"
   ]
  },
  {
   "cell_type": "code",
   "execution_count": 40,
   "metadata": {},
   "outputs": [
    {
     "data": {
      "image/png": "[encoded data removed]",
      "text/plain": [
       "plot without title"
      ]
     },
     "metadata": {},
     "output_type": "display_data"
    }
   ],
   "source": [
    "par(mfrow=c(2, 2))\n",
    "plot(reg.summary$rss, xlab=\"Number of Variables\", ylab=\"RSS\", type=\"l\")\n",
    "plot(reg.summary$adjr2, xlab=\"Number of Variables\", ylab=\"Adjusted RSq\", type=\"l\")\n",
    "points(11, reg.summary$adjr2[11], col=\"red\", cex=2, pch=20)\n",
    "\n",
    "min_cp = which.min(reg.summary$cp)\n",
    "plot(reg.summary$cp, xlab=\"Number of Variables\", ylab=\"Cp\", type=\"l\")\n",
    "points(min_cp, reg.summary$cp[min_cp], col=\"red\", cex=2, pch=20)\n",
    "\n",
    "min_bic = which.min(reg.summary$bic)\n",
    "plot(reg.summary$bic, xlab=\"Number of Variables\", ylab=\"BIC\", type=\"l\")\n",
    "points(min_bic, reg.summary$bic[min_bic], col=\"red\", cex=2, pch=20)"
   ]
  },
  {
   "cell_type": "code",
   "execution_count": 43,
   "metadata": {},
   "outputs": [
    {
     "data": {
      "image/png": "[encoded data removed]",
      "text/plain": [
       "plot without title"
      ]
     },
     "metadata": {},
     "output_type": "display_data"
    }
   ],
   "source": [
    "plot(regfit.full, scale=\"bic\")"
   ]
  },
  {
   "cell_type": "code",
   "execution_count": 44,
   "metadata": {},
   "outputs": [
    {
     "data": {
      "text/html": [
       "<dl class=dl-horizontal>\n",
       "\t<dt>(Intercept)</dt>\n",
       "\t\t<dd>91,5117981171539</dd>\n",
       "\t<dt>AtBat</dt>\n",
       "\t\t<dd>-1,86858923135561</dd>\n",
       "\t<dt>Hits</dt>\n",
       "\t\t<dd>7,60439763117204</dd>\n",
       "\t<dt>Walks</dt>\n",
       "\t\t<dd>3,69764677424139</dd>\n",
       "\t<dt>CRBI</dt>\n",
       "\t\t<dd>0,643016935097332</dd>\n",
       "\t<dt>DivisionW</dt>\n",
       "\t\t<dd>-122,95153377292</dd>\n",
       "\t<dt>PutOuts</dt>\n",
       "\t\t<dd>0,264307605461511</dd>\n",
       "</dl>\n"
      ],
      "text/latex": [
       "\\begin{description*}\n",
       "\\item[(Intercept)] 91,5117981171539\n",
       "\\item[AtBat] -1,86858923135561\n",
       "\\item[Hits] 7,60439763117204\n",
       "\\item[Walks] 3,69764677424139\n",
       "\\item[CRBI] 0,643016935097332\n",
       "\\item[DivisionW] -122,95153377292\n",
       "\\item[PutOuts] 0,264307605461511\n",
       "\\end{description*}\n"
      ],
      "text/markdown": [
       "(Intercept)\n",
       ":   91,5117981171539AtBat\n",
       ":   -1,86858923135561Hits\n",
       ":   7,60439763117204Walks\n",
       ":   3,69764677424139CRBI\n",
       ":   0,643016935097332DivisionW\n",
       ":   -122,95153377292PutOuts\n",
       ":   0,264307605461511\n",
       "\n"
      ],
      "text/plain": [
       " (Intercept)        AtBat         Hits        Walks         CRBI    DivisionW \n",
       "  91,5117981   -1,8685892    7,6043976    3,6976468    0,6430169 -122,9515338 \n",
       "     PutOuts \n",
       "   0,2643076 "
      ]
     },
     "metadata": {},
     "output_type": "display_data"
    }
   ],
   "source": [
    "coef(regfit.full, 6)"
   ]
  },
  {
   "cell_type": "markdown",
   "metadata": {},
   "source": [
    "# Forward and Backward Stepwise Selection"
   ]
  },
  {
   "cell_type": "code",
   "execution_count": 47,
   "metadata": {},
   "outputs": [
    {
     "data": {
      "text/plain": [
       "Subset selection object\n",
       "Call: regsubsets.formula(Salary ~ ., data = Hitters, nvmax = 19, method = \"forward\")\n",
       "19 Variables  (and intercept)\n",
       "           Forced in Forced out\n",
       "AtBat          FALSE      FALSE\n",
       "Hits           FALSE      FALSE\n",
       "HmRun          FALSE      FALSE\n",
       "Runs           FALSE      FALSE\n",
       "RBI            FALSE      FALSE\n",
       "Walks          FALSE      FALSE\n",
       "Years          FALSE      FALSE\n",
       "CAtBat         FALSE      FALSE\n",
       "CHits          FALSE      FALSE\n",
       "CHmRun         FALSE      FALSE\n",
       "CRuns          FALSE      FALSE\n",
       "CRBI           FALSE      FALSE\n",
       "CWalks         FALSE      FALSE\n",
       "LeagueN        FALSE      FALSE\n",
       "DivisionW      FALSE      FALSE\n",
       "PutOuts        FALSE      FALSE\n",
       "Assists        FALSE      FALSE\n",
       "Errors         FALSE      FALSE\n",
       "NewLeagueN     FALSE      FALSE\n",
       "1 subsets of each size up to 19\n",
       "Selection Algorithm: forward\n",
       "          AtBat Hits HmRun Runs RBI Walks Years CAtBat CHits CHmRun CRuns CRBI\n",
       "1  ( 1 )  \" \"   \" \"  \" \"   \" \"  \" \" \" \"   \" \"   \" \"    \" \"   \" \"    \" \"   \"*\" \n",
       "2  ( 1 )  \" \"   \"*\"  \" \"   \" \"  \" \" \" \"   \" \"   \" \"    \" \"   \" \"    \" \"   \"*\" \n",
       "3  ( 1 )  \" \"   \"*\"  \" \"   \" \"  \" \" \" \"   \" \"   \" \"    \" \"   \" \"    \" \"   \"*\" \n",
       "4  ( 1 )  \" \"   \"*\"  \" \"   \" \"  \" \" \" \"   \" \"   \" \"    \" \"   \" \"    \" \"   \"*\" \n",
       "5  ( 1 )  \"*\"   \"*\"  \" \"   \" \"  \" \" \" \"   \" \"   \" \"    \" \"   \" \"    \" \"   \"*\" \n",
       "6  ( 1 )  \"*\"   \"*\"  \" \"   \" \"  \" \" \"*\"   \" \"   \" \"    \" \"   \" \"    \" \"   \"*\" \n",
       "7  ( 1 )  \"*\"   \"*\"  \" \"   \" \"  \" \" \"*\"   \" \"   \" \"    \" \"   \" \"    \" \"   \"*\" \n",
       "8  ( 1 )  \"*\"   \"*\"  \" \"   \" \"  \" \" \"*\"   \" \"   \" \"    \" \"   \" \"    \"*\"   \"*\" \n",
       "9  ( 1 )  \"*\"   \"*\"  \" \"   \" \"  \" \" \"*\"   \" \"   \"*\"    \" \"   \" \"    \"*\"   \"*\" \n",
       "10  ( 1 ) \"*\"   \"*\"  \" \"   \" \"  \" \" \"*\"   \" \"   \"*\"    \" \"   \" \"    \"*\"   \"*\" \n",
       "11  ( 1 ) \"*\"   \"*\"  \" \"   \" \"  \" \" \"*\"   \" \"   \"*\"    \" \"   \" \"    \"*\"   \"*\" \n",
       "12  ( 1 ) \"*\"   \"*\"  \" \"   \"*\"  \" \" \"*\"   \" \"   \"*\"    \" \"   \" \"    \"*\"   \"*\" \n",
       "13  ( 1 ) \"*\"   \"*\"  \" \"   \"*\"  \" \" \"*\"   \" \"   \"*\"    \" \"   \" \"    \"*\"   \"*\" \n",
       "14  ( 1 ) \"*\"   \"*\"  \"*\"   \"*\"  \" \" \"*\"   \" \"   \"*\"    \" \"   \" \"    \"*\"   \"*\" \n",
       "15  ( 1 ) \"*\"   \"*\"  \"*\"   \"*\"  \" \" \"*\"   \" \"   \"*\"    \"*\"   \" \"    \"*\"   \"*\" \n",
       "16  ( 1 ) \"*\"   \"*\"  \"*\"   \"*\"  \"*\" \"*\"   \" \"   \"*\"    \"*\"   \" \"    \"*\"   \"*\" \n",
       "17  ( 1 ) \"*\"   \"*\"  \"*\"   \"*\"  \"*\" \"*\"   \" \"   \"*\"    \"*\"   \" \"    \"*\"   \"*\" \n",
       "18  ( 1 ) \"*\"   \"*\"  \"*\"   \"*\"  \"*\" \"*\"   \"*\"   \"*\"    \"*\"   \" \"    \"*\"   \"*\" \n",
       "19  ( 1 ) \"*\"   \"*\"  \"*\"   \"*\"  \"*\" \"*\"   \"*\"   \"*\"    \"*\"   \"*\"    \"*\"   \"*\" \n",
       "          CWalks LeagueN DivisionW PutOuts Assists Errors NewLeagueN\n",
       "1  ( 1 )  \" \"    \" \"     \" \"       \" \"     \" \"     \" \"    \" \"       \n",
       "2  ( 1 )  \" \"    \" \"     \" \"       \" \"     \" \"     \" \"    \" \"       \n",
       "3  ( 1 )  \" \"    \" \"     \" \"       \"*\"     \" \"     \" \"    \" \"       \n",
       "4  ( 1 )  \" \"    \" \"     \"*\"       \"*\"     \" \"     \" \"    \" \"       \n",
       "5  ( 1 )  \" \"    \" \"     \"*\"       \"*\"     \" \"     \" \"    \" \"       \n",
       "6  ( 1 )  \" \"    \" \"     \"*\"       \"*\"     \" \"     \" \"    \" \"       \n",
       "7  ( 1 )  \"*\"    \" \"     \"*\"       \"*\"     \" \"     \" \"    \" \"       \n",
       "8  ( 1 )  \"*\"    \" \"     \"*\"       \"*\"     \" \"     \" \"    \" \"       \n",
       "9  ( 1 )  \"*\"    \" \"     \"*\"       \"*\"     \" \"     \" \"    \" \"       \n",
       "10  ( 1 ) \"*\"    \" \"     \"*\"       \"*\"     \"*\"     \" \"    \" \"       \n",
       "11  ( 1 ) \"*\"    \"*\"     \"*\"       \"*\"     \"*\"     \" \"    \" \"       \n",
       "12  ( 1 ) \"*\"    \"*\"     \"*\"       \"*\"     \"*\"     \" \"    \" \"       \n",
       "13  ( 1 ) \"*\"    \"*\"     \"*\"       \"*\"     \"*\"     \"*\"    \" \"       \n",
       "14  ( 1 ) \"*\"    \"*\"     \"*\"       \"*\"     \"*\"     \"*\"    \" \"       \n",
       "15  ( 1 ) \"*\"    \"*\"     \"*\"       \"*\"     \"*\"     \"*\"    \" \"       \n",
       "16  ( 1 ) \"*\"    \"*\"     \"*\"       \"*\"     \"*\"     \"*\"    \" \"       \n",
       "17  ( 1 ) \"*\"    \"*\"     \"*\"       \"*\"     \"*\"     \"*\"    \"*\"       \n",
       "18  ( 1 ) \"*\"    \"*\"     \"*\"       \"*\"     \"*\"     \"*\"    \"*\"       \n",
       "19  ( 1 ) \"*\"    \"*\"     \"*\"       \"*\"     \"*\"     \"*\"    \"*\"       "
      ]
     },
     "metadata": {},
     "output_type": "display_data"
    }
   ],
   "source": [
    "regfit.fwd = regsubsets(Salary~., data=Hitters, nvmax=19, method=\"forward\")\n",
    "regfit.bwd = regsubsets(Salary~., data=Hitters, nvmax=19, method=\"backward\")\n",
    "summary(regfit.fwd)"
   ]
  },
  {
   "cell_type": "markdown",
   "metadata": {},
   "source": [
    "# Cross-Validation"
   ]
  },
  {
   "cell_type": "code",
   "execution_count": 65,
   "metadata": {},
   "outputs": [],
   "source": [
    "set.seed(1)\n",
    "train = sample(c(TRUE, FALSE), nrow(Hitters), rep=TRUE)\n",
    "test = !train"
   ]
  },
  {
   "cell_type": "code",
   "execution_count": 66,
   "metadata": {},
   "outputs": [],
   "source": [
    "regfit.best = regsubsets(Salary~., data=Hitters[train,], nvmax=19)"
   ]
  },
  {
   "cell_type": "code",
   "execution_count": 67,
   "metadata": {},
   "outputs": [],
   "source": [
    "test.mat = model.matrix(Salary~., data=Hitters[test,])"
   ]
  },
  {
   "cell_type": "code",
   "execution_count": 68,
   "metadata": {},
   "outputs": [],
   "source": [
    "val.errors = rep(NA, 19)\n",
    "for (i in 1:19) {\n",
    "    coefi = coef(regfit.best, id=i)\n",
    "    pred = test.mat[, names(coefi)]%*%coefi\n",
    "    val.errors[i] = mean((Hitters$Salary[test] - pred) ^ 2)\n",
    "}"
   ]
  },
  {
   "cell_type": "code",
   "execution_count": 69,
   "metadata": {},
   "outputs": [
    {
     "data": {
      "text/html": [
       "<ol class=list-inline>\n",
       "\t<li>164377,260362341</li>\n",
       "\t<li>144405,470709589</li>\n",
       "\t<li>152175,69459474</li>\n",
       "\t<li>145198,381708901</li>\n",
       "\t<li>137902,113680192</li>\n",
       "\t<li>139175,74540071</li>\n",
       "\t<li>126848,963422889</li>\n",
       "\t<li>136191,381502395</li>\n",
       "\t<li>132889,632125506</li>\n",
       "\t<li>135434,897163883</li>\n",
       "\t<li>136963,294656889</li>\n",
       "\t<li>140694,931446905</li>\n",
       "\t<li>140690,940552605</li>\n",
       "\t<li>141951,168986255</li>\n",
       "\t<li>141508,153781646</li>\n",
       "\t<li>142164,368072385</li>\n",
       "\t<li>141767,40236927</li>\n",
       "\t<li>142339,552749068</li>\n",
       "\t<li>142238,156755267</li>\n",
       "</ol>\n"
      ],
      "text/latex": [
       "\\begin{enumerate*}\n",
       "\\item 164377,260362341\n",
       "\\item 144405,470709589\n",
       "\\item 152175,69459474\n",
       "\\item 145198,381708901\n",
       "\\item 137902,113680192\n",
       "\\item 139175,74540071\n",
       "\\item 126848,963422889\n",
       "\\item 136191,381502395\n",
       "\\item 132889,632125506\n",
       "\\item 135434,897163883\n",
       "\\item 136963,294656889\n",
       "\\item 140694,931446905\n",
       "\\item 140690,940552605\n",
       "\\item 141951,168986255\n",
       "\\item 141508,153781646\n",
       "\\item 142164,368072385\n",
       "\\item 141767,40236927\n",
       "\\item 142339,552749068\n",
       "\\item 142238,156755267\n",
       "\\end{enumerate*}\n"
      ],
      "text/markdown": [
       "1. 164377,260362341\n",
       "2. 144405,470709589\n",
       "3. 152175,69459474\n",
       "4. 145198,381708901\n",
       "5. 137902,113680192\n",
       "6. 139175,74540071\n",
       "7. 126848,963422889\n",
       "8. 136191,381502395\n",
       "9. 132889,632125506\n",
       "10. 135434,897163883\n",
       "11. 136963,294656889\n",
       "12. 140694,931446905\n",
       "13. 140690,940552605\n",
       "14. 141951,168986255\n",
       "15. 141508,153781646\n",
       "16. 142164,368072385\n",
       "17. 141767,40236927\n",
       "18. 142339,552749068\n",
       "19. 142238,156755267\n",
       "\n",
       "\n"
      ],
      "text/plain": [
       " [1] 164377,3 144405,5 152175,7 145198,4 137902,1 139175,7 126849,0 136191,4\n",
       " [9] 132889,6 135434,9 136963,3 140694,9 140690,9 141951,2 141508,2 142164,4\n",
       "[17] 141767,4 142339,6 142238,2"
      ]
     },
     "metadata": {},
     "output_type": "display_data"
    }
   ],
   "source": [
    "val.errors"
   ]
  },
  {
   "cell_type": "code",
   "execution_count": 70,
   "metadata": {},
   "outputs": [
    {
     "data": {
      "text/html": [
       "7"
      ],
      "text/latex": [
       "7"
      ],
      "text/markdown": [
       "7"
      ],
      "text/plain": [
       "[1] 7"
      ]
     },
     "metadata": {},
     "output_type": "display_data"
    }
   ],
   "source": [
    "which.min(val.errors)"
   ]
  },
  {
   "cell_type": "code",
   "execution_count": 72,
   "metadata": {},
   "outputs": [
    {
     "data": {
      "text/html": [
       "<dl class=dl-horizontal>\n",
       "\t<dt>(Intercept)</dt>\n",
       "\t\t<dd>67,1085369123294</dd>\n",
       "\t<dt>AtBat</dt>\n",
       "\t\t<dd>-2,14629867457481</dd>\n",
       "\t<dt>Hits</dt>\n",
       "\t\t<dd>7,01495467840133</dd>\n",
       "\t<dt>Walks</dt>\n",
       "\t\t<dd>8,07166403119075</dd>\n",
       "\t<dt>CRuns</dt>\n",
       "\t\t<dd>1,24251126334183</dd>\n",
       "\t<dt>CWalks</dt>\n",
       "\t\t<dd>-0,833784385185916</dd>\n",
       "\t<dt>DivisionW</dt>\n",
       "\t\t<dd>-118,436499846968</dd>\n",
       "\t<dt>PutOuts</dt>\n",
       "\t\t<dd>0,252692546543788</dd>\n",
       "</dl>\n"
      ],
      "text/latex": [
       "\\begin{description*}\n",
       "\\item[(Intercept)] 67,1085369123294\n",
       "\\item[AtBat] -2,14629867457481\n",
       "\\item[Hits] 7,01495467840133\n",
       "\\item[Walks] 8,07166403119075\n",
       "\\item[CRuns] 1,24251126334183\n",
       "\\item[CWalks] -0,833784385185916\n",
       "\\item[DivisionW] -118,436499846968\n",
       "\\item[PutOuts] 0,252692546543788\n",
       "\\end{description*}\n"
      ],
      "text/markdown": [
       "(Intercept)\n",
       ":   67,1085369123294AtBat\n",
       ":   -2,14629867457481Hits\n",
       ":   7,01495467840133Walks\n",
       ":   8,07166403119075CRuns\n",
       ":   1,24251126334183CWalks\n",
       ":   -0,833784385185916DivisionW\n",
       ":   -118,436499846968PutOuts\n",
       ":   0,252692546543788\n",
       "\n"
      ],
      "text/plain": [
       " (Intercept)        AtBat         Hits        Walks        CRuns       CWalks \n",
       "  67,1085369   -2,1462987    7,0149547    8,0716640    1,2425113   -0,8337844 \n",
       "   DivisionW      PutOuts \n",
       "-118,4364998    0,2526925 "
      ]
     },
     "metadata": {},
     "output_type": "display_data"
    }
   ],
   "source": [
    "coef(regfit.best, 7)"
   ]
  },
  {
   "cell_type": "code",
   "execution_count": 81,
   "metadata": {},
   "outputs": [],
   "source": [
    "predict.regsubsets = function(object, newdata, id, ...) {\n",
    "    form = as.formula(object$call[[2]])\n",
    "    mat = model.matrix(form, newdata)\n",
    "    coefi = coef(object, id)\n",
    "    xvars = names(coefi)\n",
    "    mat[,xvars]%*%coefi\n",
    "}"
   ]
  },
  {
   "cell_type": "code",
   "execution_count": 82,
   "metadata": {},
   "outputs": [
    {
     "data": {
      "text/html": [
       "<dl class=dl-horizontal>\n",
       "\t<dt>(Intercept)</dt>\n",
       "\t\t<dd>79,4509472435319</dd>\n",
       "\t<dt>Hits</dt>\n",
       "\t\t<dd>1,28335125463328</dd>\n",
       "\t<dt>Walks</dt>\n",
       "\t\t<dd>3,22742638972714</dd>\n",
       "\t<dt>CAtBat</dt>\n",
       "\t\t<dd>-0,375235019565453</dd>\n",
       "\t<dt>CHits</dt>\n",
       "\t\t<dd>1,49570730989869</dd>\n",
       "\t<dt>CHmRun</dt>\n",
       "\t\t<dd>1,44205381889666</dd>\n",
       "\t<dt>DivisionW</dt>\n",
       "\t\t<dd>-129,986643165116</dd>\n",
       "\t<dt>PutOuts</dt>\n",
       "\t\t<dd>0,236681317525621</dd>\n",
       "</dl>\n"
      ],
      "text/latex": [
       "\\begin{description*}\n",
       "\\item[(Intercept)] 79,4509472435319\n",
       "\\item[Hits] 1,28335125463328\n",
       "\\item[Walks] 3,22742638972714\n",
       "\\item[CAtBat] -0,375235019565453\n",
       "\\item[CHits] 1,49570730989869\n",
       "\\item[CHmRun] 1,44205381889666\n",
       "\\item[DivisionW] -129,986643165116\n",
       "\\item[PutOuts] 0,236681317525621\n",
       "\\end{description*}\n"
      ],
      "text/markdown": [
       "(Intercept)\n",
       ":   79,4509472435319Hits\n",
       ":   1,28335125463328Walks\n",
       ":   3,22742638972714CAtBat\n",
       ":   -0,375235019565453CHits\n",
       ":   1,49570730989869CHmRun\n",
       ":   1,44205381889666DivisionW\n",
       ":   -129,986643165116PutOuts\n",
       ":   0,236681317525621\n",
       "\n"
      ],
      "text/plain": [
       " (Intercept)         Hits        Walks       CAtBat        CHits       CHmRun \n",
       "  79,4509472    1,2833513    3,2274264   -0,3752350    1,4957073    1,4420538 \n",
       "   DivisionW      PutOuts \n",
       "-129,9866432    0,2366813 "
      ]
     },
     "metadata": {},
     "output_type": "display_data"
    }
   ],
   "source": [
    "# training new model on all of the data\n",
    "regfit.best = regsubsets(Salary~., data=Hitters, nvmax=19)\n",
    "coef(regfit.best, 7)"
   ]
  },
  {
   "cell_type": "code",
   "execution_count": 83,
   "metadata": {},
   "outputs": [],
   "source": [
    "# Using Cross-Validation\n",
    "k = 10\n",
    "folds = sample(1:k, nrow(Hitters), replace=TRUE)\n",
    "cv.errors = matrix(NA, k, 19, dimnames=list(NULL, paste(1:19)))"
   ]
  },
  {
   "cell_type": "code",
   "execution_count": 99,
   "metadata": {},
   "outputs": [
    {
     "data": {
      "text/html": [
       "<table>\n",
       "<thead><tr><th scope=col>1</th><th scope=col>2</th><th scope=col>3</th><th scope=col>4</th><th scope=col>5</th><th scope=col>6</th><th scope=col>7</th><th scope=col>8</th><th scope=col>9</th><th scope=col>10</th><th scope=col>11</th><th scope=col>12</th><th scope=col>13</th><th scope=col>14</th><th scope=col>15</th><th scope=col>16</th><th scope=col>17</th><th scope=col>18</th><th scope=col>19</th></tr></thead>\n",
       "<tbody>\n",
       "\t<tr><td> 94082,50</td><td> 85564,76</td><td>106982,28</td><td>106959,54</td><td>107347,70</td><td> 91911,49</td><td> 95517,82</td><td> 92508,15</td><td>105224,66</td><td> 92509,45</td><td> 96418,41</td><td> 94026,69</td><td> 97503,47</td><td> 95413,54</td><td> 95666,50</td><td> 96299,67</td><td> 95917,70</td><td> 96120,62</td><td> 95998,43</td></tr>\n",
       "\t<tr><td>212762,89</td><td>244081,41</td><td>231913,14</td><td>221143,81</td><td>222892,91</td><td>214055,13</td><td>213285,37</td><td>204436,10</td><td>201912,05</td><td>201634,50</td><td>203787,70</td><td>200624,69</td><td>202618,33</td><td>203789,13</td><td>203184,69</td><td>202098,97</td><td>201754,69</td><td>201911,06</td><td>201914,61</td></tr>\n",
       "\t<tr><td>181265,72</td><td>176271,97</td><td>172349,72</td><td>136248,83</td><td>128383,26</td><td>116987,83</td><td>127553,29</td><td>116263,26</td><td>116591,98</td><td>112693,54</td><td>114167,38</td><td>114588,58</td><td>114126,78</td><td>117277,99</td><td>117440,01</td><td>116675,11</td><td>116927,97</td><td>116958,71</td><td>117020,92</td></tr>\n",
       "\t<tr><td>171516,25</td><td>140760,93</td><td>150389,28</td><td>143830,23</td><td>135310,21</td><td>120791,15</td><td>131881,02</td><td>118991,74</td><td>135321,56</td><td>139139,12</td><td>128335,70</td><td>132657,42</td><td>135323,81</td><td>141297,57</td><td>140673,69</td><td>139411,15</td><td>138949,91</td><td>138841,40</td><td>138667,33</td></tr>\n",
       "\t<tr><td>208000,82</td><td>163238,43</td><td>167733,24</td><td>166868,11</td><td>182585,71</td><td>171177,54</td><td>161837,38</td><td>146803,43</td><td>149103,53</td><td>148224,26</td><td>149567,31</td><td>152212,64</td><td>153106,02</td><td>153570,40</td><td>152995,13</td><td>153626,95</td><td>152880,36</td><td>152949,16</td><td>152800,60</td></tr>\n",
       "\t<tr><td> 83275,95</td><td> 70356,74</td><td> 62895,18</td><td> 75756,98</td><td> 62738,95</td><td> 55071,51</td><td> 67370,28</td><td> 57865,58</td><td> 63429,68</td><td> 60840,39</td><td> 62345,72</td><td> 63206,16</td><td> 62247,44</td><td> 63027,93</td><td> 62376,13</td><td> 62539,85</td><td> 62416,80</td><td> 62269,45</td><td> 62342,51</td></tr>\n",
       "\t<tr><td>262360,34</td><td>234528,76</td><td>218963,74</td><td>205018,27</td><td>172082,45</td><td>158249,52</td><td>183294,62</td><td>157741,72</td><td>155844,19</td><td>148422,79</td><td>164195,62</td><td>164792,71</td><td>169234,60</td><td>172012,24</td><td>169412,88</td><td>174561,55</td><td>176301,50</td><td>178061,02</td><td>177887,67</td></tr>\n",
       "\t<tr><td>127641,71</td><td>103039,73</td><td>176413,91</td><td>164879,26</td><td>147599,35</td><td>166660,63</td><td>154578,61</td><td> 95694,07</td><td>114024,41</td><td>109768,52</td><td> 95140,05</td><td> 99310,68</td><td>103029,17</td><td>105297,83</td><td>105376,13</td><td>110900,66</td><td>109881,48</td><td>109212,63</td><td>108994,55</td></tr>\n",
       "\t<tr><td>127693,16</td><td>142313,75</td><td>168730,69</td><td>147814,44</td><td>132418,78</td><td>116428,23</td><td>125900,05</td><td> 94160,73</td><td>111811,18</td><td>103523,32</td><td>101992,78</td><td>107574,58</td><td>106135,25</td><td>107384,58</td><td>107167,85</td><td>107219,98</td><td>106014,41</td><td>105867,83</td><td>105933,83</td></tr>\n",
       "\t<tr><td> 37261,62</td><td> 39223,69</td><td> 40567,76</td><td> 37972,44</td><td> 38423,41</td><td> 36696,61</td><td> 43648,05</td><td> 41630,89</td><td> 45921,61</td><td> 39976,62</td><td> 42338,95</td><td> 41927,24</td><td> 40526,07</td><td> 40068,13</td><td> 38977,61</td><td> 39313,85</td><td> 39309,88</td><td> 39224,36</td><td> 39219,83</td></tr>\n",
       "</tbody>\n",
       "</table>\n"
      ],
      "text/latex": [
       "\\begin{tabular}{lllllllllllllllllll}\n",
       " 1 & 2 & 3 & 4 & 5 & 6 & 7 & 8 & 9 & 10 & 11 & 12 & 13 & 14 & 15 & 16 & 17 & 18 & 19\\\\\n",
       "\\hline\n",
       "\t  94082,50 &  85564,76 & 106982,28 & 106959,54 & 107347,70 &  91911,49 &  95517,82 &  92508,15 & 105224,66 &  92509,45 &  96418,41 &  94026,69 &  97503,47 &  95413,54 &  95666,50 &  96299,67 &  95917,70 &  96120,62 &  95998,43\\\\\n",
       "\t 212762,89 & 244081,41 & 231913,14 & 221143,81 & 222892,91 & 214055,13 & 213285,37 & 204436,10 & 201912,05 & 201634,50 & 203787,70 & 200624,69 & 202618,33 & 203789,13 & 203184,69 & 202098,97 & 201754,69 & 201911,06 & 201914,61\\\\\n",
       "\t 181265,72 & 176271,97 & 172349,72 & 136248,83 & 128383,26 & 116987,83 & 127553,29 & 116263,26 & 116591,98 & 112693,54 & 114167,38 & 114588,58 & 114126,78 & 117277,99 & 117440,01 & 116675,11 & 116927,97 & 116958,71 & 117020,92\\\\\n",
       "\t 171516,25 & 140760,93 & 150389,28 & 143830,23 & 135310,21 & 120791,15 & 131881,02 & 118991,74 & 135321,56 & 139139,12 & 128335,70 & 132657,42 & 135323,81 & 141297,57 & 140673,69 & 139411,15 & 138949,91 & 138841,40 & 138667,33\\\\\n",
       "\t 208000,82 & 163238,43 & 167733,24 & 166868,11 & 182585,71 & 171177,54 & 161837,38 & 146803,43 & 149103,53 & 148224,26 & 149567,31 & 152212,64 & 153106,02 & 153570,40 & 152995,13 & 153626,95 & 152880,36 & 152949,16 & 152800,60\\\\\n",
       "\t  83275,95 &  70356,74 &  62895,18 &  75756,98 &  62738,95 &  55071,51 &  67370,28 &  57865,58 &  63429,68 &  60840,39 &  62345,72 &  63206,16 &  62247,44 &  63027,93 &  62376,13 &  62539,85 &  62416,80 &  62269,45 &  62342,51\\\\\n",
       "\t 262360,34 & 234528,76 & 218963,74 & 205018,27 & 172082,45 & 158249,52 & 183294,62 & 157741,72 & 155844,19 & 148422,79 & 164195,62 & 164792,71 & 169234,60 & 172012,24 & 169412,88 & 174561,55 & 176301,50 & 178061,02 & 177887,67\\\\\n",
       "\t 127641,71 & 103039,73 & 176413,91 & 164879,26 & 147599,35 & 166660,63 & 154578,61 &  95694,07 & 114024,41 & 109768,52 &  95140,05 &  99310,68 & 103029,17 & 105297,83 & 105376,13 & 110900,66 & 109881,48 & 109212,63 & 108994,55\\\\\n",
       "\t 127693,16 & 142313,75 & 168730,69 & 147814,44 & 132418,78 & 116428,23 & 125900,05 &  94160,73 & 111811,18 & 103523,32 & 101992,78 & 107574,58 & 106135,25 & 107384,58 & 107167,85 & 107219,98 & 106014,41 & 105867,83 & 105933,83\\\\\n",
       "\t  37261,62 &  39223,69 &  40567,76 &  37972,44 &  38423,41 &  36696,61 &  43648,05 &  41630,89 &  45921,61 &  39976,62 &  42338,95 &  41927,24 &  40526,07 &  40068,13 &  38977,61 &  39313,85 &  39309,88 &  39224,36 &  39219,83\\\\\n",
       "\\end{tabular}\n"
      ],
      "text/markdown": [
       "\n",
       "| 1 | 2 | 3 | 4 | 5 | 6 | 7 | 8 | 9 | 10 | 11 | 12 | 13 | 14 | 15 | 16 | 17 | 18 | 19 |\n",
       "|---|---|---|---|---|---|---|---|---|---|---|---|---|---|---|---|---|---|---|\n",
       "|  94082,50 |  85564,76 | 106982,28 | 106959,54 | 107347,70 |  91911,49 |  95517,82 |  92508,15 | 105224,66 |  92509,45 |  96418,41 |  94026,69 |  97503,47 |  95413,54 |  95666,50 |  96299,67 |  95917,70 |  96120,62 |  95998,43 |\n",
       "| 212762,89 | 244081,41 | 231913,14 | 221143,81 | 222892,91 | 214055,13 | 213285,37 | 204436,10 | 201912,05 | 201634,50 | 203787,70 | 200624,69 | 202618,33 | 203789,13 | 203184,69 | 202098,97 | 201754,69 | 201911,06 | 201914,61 |\n",
       "| 181265,72 | 176271,97 | 172349,72 | 136248,83 | 128383,26 | 116987,83 | 127553,29 | 116263,26 | 116591,98 | 112693,54 | 114167,38 | 114588,58 | 114126,78 | 117277,99 | 117440,01 | 116675,11 | 116927,97 | 116958,71 | 117020,92 |\n",
       "| 171516,25 | 140760,93 | 150389,28 | 143830,23 | 135310,21 | 120791,15 | 131881,02 | 118991,74 | 135321,56 | 139139,12 | 128335,70 | 132657,42 | 135323,81 | 141297,57 | 140673,69 | 139411,15 | 138949,91 | 138841,40 | 138667,33 |\n",
       "| 208000,82 | 163238,43 | 167733,24 | 166868,11 | 182585,71 | 171177,54 | 161837,38 | 146803,43 | 149103,53 | 148224,26 | 149567,31 | 152212,64 | 153106,02 | 153570,40 | 152995,13 | 153626,95 | 152880,36 | 152949,16 | 152800,60 |\n",
       "|  83275,95 |  70356,74 |  62895,18 |  75756,98 |  62738,95 |  55071,51 |  67370,28 |  57865,58 |  63429,68 |  60840,39 |  62345,72 |  63206,16 |  62247,44 |  63027,93 |  62376,13 |  62539,85 |  62416,80 |  62269,45 |  62342,51 |\n",
       "| 262360,34 | 234528,76 | 218963,74 | 205018,27 | 172082,45 | 158249,52 | 183294,62 | 157741,72 | 155844,19 | 148422,79 | 164195,62 | 164792,71 | 169234,60 | 172012,24 | 169412,88 | 174561,55 | 176301,50 | 178061,02 | 177887,67 |\n",
       "| 127641,71 | 103039,73 | 176413,91 | 164879,26 | 147599,35 | 166660,63 | 154578,61 |  95694,07 | 114024,41 | 109768,52 |  95140,05 |  99310,68 | 103029,17 | 105297,83 | 105376,13 | 110900,66 | 109881,48 | 109212,63 | 108994,55 |\n",
       "| 127693,16 | 142313,75 | 168730,69 | 147814,44 | 132418,78 | 116428,23 | 125900,05 |  94160,73 | 111811,18 | 103523,32 | 101992,78 | 107574,58 | 106135,25 | 107384,58 | 107167,85 | 107219,98 | 106014,41 | 105867,83 | 105933,83 |\n",
       "|  37261,62 |  39223,69 |  40567,76 |  37972,44 |  38423,41 |  36696,61 |  43648,05 |  41630,89 |  45921,61 |  39976,62 |  42338,95 |  41927,24 |  40526,07 |  40068,13 |  38977,61 |  39313,85 |  39309,88 |  39224,36 |  39219,83 |\n",
       "\n"
      ],
      "text/plain": [
       "      1         2         3         4         5         6         7        \n",
       " [1,]  94082,50  85564,76 106982,28 106959,54 107347,70  91911,49  95517,82\n",
       " [2,] 212762,89 244081,41 231913,14 221143,81 222892,91 214055,13 213285,37\n",
       " [3,] 181265,72 176271,97 172349,72 136248,83 128383,26 116987,83 127553,29\n",
       " [4,] 171516,25 140760,93 150389,28 143830,23 135310,21 120791,15 131881,02\n",
       " [5,] 208000,82 163238,43 167733,24 166868,11 182585,71 171177,54 161837,38\n",
       " [6,]  83275,95  70356,74  62895,18  75756,98  62738,95  55071,51  67370,28\n",
       " [7,] 262360,34 234528,76 218963,74 205018,27 172082,45 158249,52 183294,62\n",
       " [8,] 127641,71 103039,73 176413,91 164879,26 147599,35 166660,63 154578,61\n",
       " [9,] 127693,16 142313,75 168730,69 147814,44 132418,78 116428,23 125900,05\n",
       "[10,]  37261,62  39223,69  40567,76  37972,44  38423,41  36696,61  43648,05\n",
       "      8         9         10        11        12        13        14       \n",
       " [1,]  92508,15 105224,66  92509,45  96418,41  94026,69  97503,47  95413,54\n",
       " [2,] 204436,10 201912,05 201634,50 203787,70 200624,69 202618,33 203789,13\n",
       " [3,] 116263,26 116591,98 112693,54 114167,38 114588,58 114126,78 117277,99\n",
       " [4,] 118991,74 135321,56 139139,12 128335,70 132657,42 135323,81 141297,57\n",
       " [5,] 146803,43 149103,53 148224,26 149567,31 152212,64 153106,02 153570,40\n",
       " [6,]  57865,58  63429,68  60840,39  62345,72  63206,16  62247,44  63027,93\n",
       " [7,] 157741,72 155844,19 148422,79 164195,62 164792,71 169234,60 172012,24\n",
       " [8,]  95694,07 114024,41 109768,52  95140,05  99310,68 103029,17 105297,83\n",
       " [9,]  94160,73 111811,18 103523,32 101992,78 107574,58 106135,25 107384,58\n",
       "[10,]  41630,89  45921,61  39976,62  42338,95  41927,24  40526,07  40068,13\n",
       "      15        16        17        18        19       \n",
       " [1,]  95666,50  96299,67  95917,70  96120,62  95998,43\n",
       " [2,] 203184,69 202098,97 201754,69 201911,06 201914,61\n",
       " [3,] 117440,01 116675,11 116927,97 116958,71 117020,92\n",
       " [4,] 140673,69 139411,15 138949,91 138841,40 138667,33\n",
       " [5,] 152995,13 153626,95 152880,36 152949,16 152800,60\n",
       " [6,]  62376,13  62539,85  62416,80  62269,45  62342,51\n",
       " [7,] 169412,88 174561,55 176301,50 178061,02 177887,67\n",
       " [8,] 105376,13 110900,66 109881,48 109212,63 108994,55\n",
       " [9,] 107167,85 107219,98 106014,41 105867,83 105933,83\n",
       "[10,]  38977,61  39313,85  39309,88  39224,36  39219,83"
      ]
     },
     "metadata": {},
     "output_type": "display_data"
    }
   ],
   "source": [
    "for (j in 1:k) {\n",
    "    best.fit = regsubsets(Salary~., data=Hitters[folds != j,], nvmax=19)\n",
    "    for (i in 1:19) {\n",
    "        pred = predict(best.fit, Hitters[folds==j,], id=i)\n",
    "        cv.errors[j, i] = mean((Hitters$Salary[folds==j] - pred) ^ 2)\n",
    "    }\n",
    "}\n",
    "cv.errors"
   ]
  },
  {
   "cell_type": "code",
   "execution_count": 100,
   "metadata": {},
   "outputs": [
    {
     "data": {
      "text/html": [
       "<dl class=dl-horizontal>\n",
       "\t<dt>1</dt>\n",
       "\t\t<dd>150586,096075429</dd>\n",
       "\t<dt>2</dt>\n",
       "\t\t<dd>139938,01656089</dd>\n",
       "\t<dt>3</dt>\n",
       "\t\t<dd>149693,895413602</dd>\n",
       "\t<dt>4</dt>\n",
       "\t\t<dd>140649,190617942</dd>\n",
       "\t<dt>5</dt>\n",
       "\t\t<dd>132978,274457529</dd>\n",
       "\t<dt>6</dt>\n",
       "\t\t<dd>124802,965173225</dd>\n",
       "\t<dt>7</dt>\n",
       "\t\t<dd>130486,650389673</dd>\n",
       "\t<dt>8</dt>\n",
       "\t\t<dd>112609,566956538</dd>\n",
       "\t<dt>9</dt>\n",
       "\t\t<dd>119918,484783174</dd>\n",
       "\t<dt>10</dt>\n",
       "\t\t<dd>115673,252525353</dd>\n",
       "\t<dt>11</dt>\n",
       "\t\t<dd>115828,961866062</dd>\n",
       "\t<dt>12</dt>\n",
       "\t\t<dd>117092,139075562</dd>\n",
       "\t<dt>13</dt>\n",
       "\t\t<dd>118385,093964858</dd>\n",
       "\t<dt>14</dt>\n",
       "\t\t<dd>119913,933708734</dd>\n",
       "\t<dt>15</dt>\n",
       "\t\t<dd>119327,061671442</dd>\n",
       "\t<dt>16</dt>\n",
       "\t\t<dd>120264,77247898</dd>\n",
       "\t<dt>17</dt>\n",
       "\t\t<dd>120035,472036874</dd>\n",
       "\t<dt>18</dt>\n",
       "\t\t<dd>120141,624614244</dd>\n",
       "\t<dt>19</dt>\n",
       "\t\t<dd>120078,028027535</dd>\n",
       "</dl>\n"
      ],
      "text/latex": [
       "\\begin{description*}\n",
       "\\item[1] 150586,096075429\n",
       "\\item[2] 139938,01656089\n",
       "\\item[3] 149693,895413602\n",
       "\\item[4] 140649,190617942\n",
       "\\item[5] 132978,274457529\n",
       "\\item[6] 124802,965173225\n",
       "\\item[7] 130486,650389673\n",
       "\\item[8] 112609,566956538\n",
       "\\item[9] 119918,484783174\n",
       "\\item[10] 115673,252525353\n",
       "\\item[11] 115828,961866062\n",
       "\\item[12] 117092,139075562\n",
       "\\item[13] 118385,093964858\n",
       "\\item[14] 119913,933708734\n",
       "\\item[15] 119327,061671442\n",
       "\\item[16] 120264,77247898\n",
       "\\item[17] 120035,472036874\n",
       "\\item[18] 120141,624614244\n",
       "\\item[19] 120078,028027535\n",
       "\\end{description*}\n"
      ],
      "text/markdown": [
       "1\n",
       ":   150586,0960754292\n",
       ":   139938,016560893\n",
       ":   149693,8954136024\n",
       ":   140649,1906179425\n",
       ":   132978,2744575296\n",
       ":   124802,9651732257\n",
       ":   130486,6503896738\n",
       ":   112609,5669565389\n",
       ":   119918,48478317410\n",
       ":   115673,25252535311\n",
       ":   115828,96186606212\n",
       ":   117092,13907556213\n",
       ":   118385,09396485814\n",
       ":   119913,93370873415\n",
       ":   119327,06167144216\n",
       ":   120264,7724789817\n",
       ":   120035,47203687418\n",
       ":   120141,62461424419\n",
       ":   120078,028027535\n",
       "\n"
      ],
      "text/plain": [
       "       1        2        3        4        5        6        7        8 \n",
       "150586,1 139938,0 149693,9 140649,2 132978,3 124803,0 130486,7 112609,6 \n",
       "       9       10       11       12       13       14       15       16 \n",
       "119918,5 115673,3 115829,0 117092,1 118385,1 119913,9 119327,1 120264,8 \n",
       "      17       18       19 \n",
       "120035,5 120141,6 120078,0 "
      ]
     },
     "metadata": {},
     "output_type": "display_data"
    }
   ],
   "source": [
    "# compute mean error for each column in the cv.errors\n",
    "mean.cv.errors = apply(cv.errors, 2, mean)\n",
    "mean.cv.errors"
   ]
  },
  {
   "cell_type": "code",
   "execution_count": 88,
   "metadata": {},
   "outputs": [
    {
     "data": {
      "text/html": [
       "<strong>8:</strong> 8"
      ],
      "text/latex": [
       "\\textbf{8:} 8"
      ],
      "text/markdown": [
       "**8:** 8"
      ],
      "text/plain": [
       "8 \n",
       "8 "
      ]
     },
     "metadata": {},
     "output_type": "display_data"
    }
   ],
   "source": [
    "which.min(mean.cv.errors)"
   ]
  },
  {
   "cell_type": "code",
   "execution_count": 98,
   "metadata": {},
   "outputs": [
    {
     "data": {
      "image/png": "[encoded data removed]",
      "text/plain": [
       "plot without title"
      ]
     },
     "metadata": {},
     "output_type": "display_data"
    }
   ],
   "source": [
    "plot(mean.cv.errors, xlab=\"Number of Variables\", ylab=\"MSE\", type=\"b\")\n",
    "min_error_idx = which.min(mean.cv.errors)\n",
    "points(min_error_idx, mean.cv.errors[min_error_idx], col=\"red\")"
   ]
  },
  {
   "cell_type": "code",
   "execution_count": null,
   "metadata": {},
   "outputs": [],
   "source": []
  }
 ],
 "metadata": {
  "kernelspec": {
   "display_name": "R",
   "language": "R",
   "name": "ir"
  },
  "language_info": {
   "codemirror_mode": "r",
   "file_extension": ".r",
   "mimetype": "text/x-r-source",
   "name": "R",
   "pygments_lexer": "r",
   "version": "3.6.1"
  }
 },
 "nbformat": 4,
 "nbformat_minor": 4
}
