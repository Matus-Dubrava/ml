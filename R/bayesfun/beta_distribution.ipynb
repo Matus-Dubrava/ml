---
title: "R Notebook"
output: html_notebook
---

```{r}
# example of beta distribution 
# observed :
#   14 successes
#   27 fails
#   what is the probability that p is less than 0.5
integrate(function(p) dbeta(p, 14, 27), 0, 0.5)
```
```{r}
p <- seq(0, 1, length.out = 100)
plot(p, dbeta(p, 14, 27), type = "l")
p.max <- p[which.max(dbeta(p, 14, 27))]
lines(rep(p.max, 2), c(0, 5.5), col = "red")
```
```{r}
# 1200 cards were pulled out of inifinite deck
# only 5 were the desired cards
# continue pulling or not? given that we are willing to pull more cards
# only if there is at least 0.7 probability that the chance of pulling the desired cards is greater than 0.005

alph <- 5
beta <- 1195
integrate(function(p) dbeta(p, alph, beta), 0.005, 1)
```
```{r}
p <- seq(0, 1, length.out = 100)
plot(p, dbeta(p, alph, beta), type = "l")
p.max <- p[which.max(dbeta(p, alph, beta))]
lines(rep(p.max, 2), c(0, 5.5), col = "red")
```
```{r}
# use beta distribution to find out whether the coin is fair or not
# 10 flips - 4 heads, 6 tails 
# what is the probability that the coin will land on heads more than 60 percent of the time
alp <- 4
beta <- 6
integrate(function(p) dbeta(p, alp, beta), 0.6, 1)
```
```{r}
p <- seq(0, 1, length.out = 100)
plot(p, dbeta(p, alp, beta), type = "l")
p.max <- p[which.max(dbeta(p, alp, beta))]
lines(rep(p.max, 2), c(0, 2.5), col = "red")
```
```{r}
# flip the coin 10 more times, now we have 9 heads and 11 tails
# what is the probability that the coin is fair, give or take 5 percent
alp <- 9
beta <- 11
integrate(function(p) dbeta(p, alp, beta), 0.45, 0.55)
```
```{r}
p <- seq(0, 1, length.out = 100)
plot(p, dbeta(p, alp, beta), type = "l")
p.max <- p[which.max(dbeta(p, alp, beta))]
lines(rep(p.max, 2), c(0, 3.5), col = "red")
lines(rep(0.45, 2), c(0, 3.5), col = "blue")
lines(rep(0.55, 2), c(0, 3.5), col = "blue")
```
```{r}
# we continue flipping the coin, now we have 109 heads and 111 tails
# what is the probability that the coin is fair, give or take 5 percent?
alp <- 109
beta <- 111
integrate(function(p) dbeta(p, alp, beta), 0.45, 0.55)
```
```{r}
p <- seq(0, 1, length.out = 100)
plot(p, dbeta(p, alp, beta), type = "l")
p.max <- p[which.max(dbeta(p, alp, beta))]
lines(rep(p.max, 2), c(0, 12), col = "red")
lines(rep(0.45, 2), c(0, 12), col = "blue")
lines(rep(0.55, 2), c(0, 12), col = "blue")
```

