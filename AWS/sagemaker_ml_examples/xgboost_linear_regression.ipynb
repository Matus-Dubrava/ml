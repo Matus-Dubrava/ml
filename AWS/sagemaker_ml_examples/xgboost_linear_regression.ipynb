{
 "cells": [
  {
   "cell_type": "code",
   "execution_count": 1,
   "metadata": {},
   "outputs": [],
   "source": [
    "import numpy as np\n",
    "import pandas as pd\n",
    "import matplotlib.pyplot as plt\n",
    "from matplotlib import style\n",
    "style.use('ggplot')"
   ]
  },
  {
   "cell_type": "code",
   "execution_count": 2,
   "metadata": {},
   "outputs": [],
   "source": [
    "def straight_line(x):\n",
    "    return 5 * x + 8"
   ]
  },
  {
   "cell_type": "code",
   "execution_count": 4,
   "metadata": {},
   "outputs": [
    {
     "data": {
      "text/html": [
       "<div>\n",
       "<style scoped>\n",
       "    .dataframe tbody tr th:only-of-type {\n",
       "        vertical-align: middle;\n",
       "    }\n",
       "\n",
       "    .dataframe tbody tr th {\n",
       "        vertical-align: top;\n",
       "    }\n",
       "\n",
       "    .dataframe thead th {\n",
       "        text-align: right;\n",
       "    }\n",
       "</style>\n",
       "<table border=\"1\" class=\"dataframe\">\n",
       "  <thead>\n",
       "    <tr style=\"text-align: right;\">\n",
       "      <th></th>\n",
       "      <th>x</th>\n",
       "      <th>y</th>\n",
       "    </tr>\n",
       "  </thead>\n",
       "  <tbody>\n",
       "    <tr>\n",
       "      <th>0</th>\n",
       "      <td>0.0</td>\n",
       "      <td>12.240137</td>\n",
       "    </tr>\n",
       "    <tr>\n",
       "      <th>1</th>\n",
       "      <td>1.0</td>\n",
       "      <td>17.926756</td>\n",
       "    </tr>\n",
       "    <tr>\n",
       "      <th>2</th>\n",
       "      <td>2.0</td>\n",
       "      <td>7.808880</td>\n",
       "    </tr>\n",
       "    <tr>\n",
       "      <th>3</th>\n",
       "      <td>3.0</td>\n",
       "      <td>25.587270</td>\n",
       "    </tr>\n",
       "    <tr>\n",
       "      <th>4</th>\n",
       "      <td>4.0</td>\n",
       "      <td>32.623164</td>\n",
       "    </tr>\n",
       "  </tbody>\n",
       "</table>\n",
       "</div>"
      ],
      "text/plain": [
       "     x          y\n",
       "0  0.0  12.240137\n",
       "1  1.0  17.926756\n",
       "2  2.0   7.808880\n",
       "3  3.0  25.587270\n",
       "4  4.0  32.623164"
      ]
     },
     "execution_count": 4,
     "metadata": {},
     "output_type": "execute_result"
    }
   ],
   "source": [
    "n_samples = 150\n",
    "x = pd.Series(np.arange(0, n_samples, dtype=float))\n",
    "y = x.map(straight_line) + np.random.randn(n_samples) * 10\n",
    "df = pd.DataFrame({'x': x, 'y': y})\n",
    "df.head()"
   ]
  },
  {
   "cell_type": "code",
   "execution_count": 5,
   "metadata": {},
   "outputs": [
    {
     "data": {
      "text/html": [
       "<div>\n",
       "<style scoped>\n",
       "    .dataframe tbody tr th:only-of-type {\n",
       "        vertical-align: middle;\n",
       "    }\n",
       "\n",
       "    .dataframe tbody tr th {\n",
       "        vertical-align: top;\n",
       "    }\n",
       "\n",
       "    .dataframe thead th {\n",
       "        text-align: right;\n",
       "    }\n",
       "</style>\n",
       "<table border=\"1\" class=\"dataframe\">\n",
       "  <thead>\n",
       "    <tr style=\"text-align: right;\">\n",
       "      <th></th>\n",
       "      <th>x</th>\n",
       "      <th>y</th>\n",
       "    </tr>\n",
       "  </thead>\n",
       "  <tbody>\n",
       "    <tr>\n",
       "      <th>x</th>\n",
       "      <td>1.000000</td>\n",
       "      <td>0.998756</td>\n",
       "    </tr>\n",
       "    <tr>\n",
       "      <th>y</th>\n",
       "      <td>0.998756</td>\n",
       "      <td>1.000000</td>\n",
       "    </tr>\n",
       "  </tbody>\n",
       "</table>\n",
       "</div>"
      ],
      "text/plain": [
       "          x         y\n",
       "x  1.000000  0.998756\n",
       "y  0.998756  1.000000"
      ]
     },
     "execution_count": 5,
     "metadata": {},
     "output_type": "execute_result"
    }
   ],
   "source": [
    "df.corr()"
   ]
  },
  {
   "cell_type": "code",
   "execution_count": 9,
   "metadata": {},
   "outputs": [
    {
     "data": {
      "image/png": "[encoded data removed]",
      "text/plain": [
       "<Figure size 432x288 with 1 Axes>"
      ]
     },
     "metadata": {},
     "output_type": "display_data"
    }
   ],
   "source": [
    "plt.plot(df['x'], df['y'])\n",
    "plt.xlabel('x')\n",
    "plt.ylabel('target')\n",
    "plt.show()"
   ]
  },
  {
   "cell_type": "code",
   "execution_count": 20,
   "metadata": {},
   "outputs": [
    {
     "data": {
      "text/html": [
       "<div>\n",
       "<style scoped>\n",
       "    .dataframe tbody tr th:only-of-type {\n",
       "        vertical-align: middle;\n",
       "    }\n",
       "\n",
       "    .dataframe tbody tr th {\n",
       "        vertical-align: top;\n",
       "    }\n",
       "\n",
       "    .dataframe thead th {\n",
       "        text-align: right;\n",
       "    }\n",
       "</style>\n",
       "<table border=\"1\" class=\"dataframe\">\n",
       "  <thead>\n",
       "    <tr style=\"text-align: right;\">\n",
       "      <th></th>\n",
       "      <th>x</th>\n",
       "      <th>y</th>\n",
       "    </tr>\n",
       "  </thead>\n",
       "  <tbody>\n",
       "    <tr>\n",
       "      <th>53</th>\n",
       "      <td>14.0</td>\n",
       "      <td>81.605956</td>\n",
       "    </tr>\n",
       "    <tr>\n",
       "      <th>112</th>\n",
       "      <td>106.0</td>\n",
       "      <td>510.410819</td>\n",
       "    </tr>\n",
       "    <tr>\n",
       "      <th>36</th>\n",
       "      <td>2.0</td>\n",
       "      <td>7.808880</td>\n",
       "    </tr>\n",
       "    <tr>\n",
       "      <th>63</th>\n",
       "      <td>1.0</td>\n",
       "      <td>17.926756</td>\n",
       "    </tr>\n",
       "    <tr>\n",
       "      <th>71</th>\n",
       "      <td>142.0</td>\n",
       "      <td>709.094793</td>\n",
       "    </tr>\n",
       "  </tbody>\n",
       "</table>\n",
       "</div>"
      ],
      "text/plain": [
       "         x           y\n",
       "53    14.0   81.605956\n",
       "112  106.0  510.410819\n",
       "36     2.0    7.808880\n",
       "63     1.0   17.926756\n",
       "71   142.0  709.094793"
      ]
     },
     "execution_count": 20,
     "metadata": {},
     "output_type": "execute_result"
    }
   ],
   "source": [
    "# shuffling the dataset\n",
    "indices = df.index.values\n",
    "np.random.shuffle(indices)\n",
    "df = df.iloc[indices]\n",
    "df.head()"
   ]
  },
  {
   "cell_type": "code",
   "execution_count": 25,
   "metadata": {},
   "outputs": [
    {
     "name": "stdout",
     "output_type": "stream",
     "text": [
      "150 105 45\n"
     ]
    }
   ],
   "source": [
    "# splitting the dataset into Training and Test sets\n",
    "rows = df.shape[0]\n",
    "train = int(.7 * rows)\n",
    "test = rows - train\n",
    "print(rows, train, test)"
   ]
  },
  {
   "cell_type": "code",
   "execution_count": 29,
   "metadata": {},
   "outputs": [],
   "source": [
    "X = df.iloc[:, 0:-1].values\n",
    "y = df.iloc[:, -1].values\n",
    "\n",
    "X_train = X[:train]\n",
    "X_test = X[train:]\n",
    "y_train = y[:train]\n",
    "y_test = y[train:]"
   ]
  },
  {
   "cell_type": "code",
   "execution_count": 31,
   "metadata": {},
   "outputs": [],
   "source": [
    "import xgboost as xgb\n",
    "from sklearn.linear_model import LinearRegression"
   ]
  },
  {
   "cell_type": "code",
   "execution_count": 33,
   "metadata": {
    "scrolled": true
   },
   "outputs": [
    {
     "name": "stdout",
     "output_type": "stream",
     "text": [
      "[19:58:13] WARNING: /workspace/src/objective/regression_obj.cu:152: reg:linear is now deprecated in favor of reg:squarederror.\n",
      "[0]\tvalidation_0-rmse:392.82\tvalidation_1-rmse:405.343\n",
      "[1]\tvalidation_0-rmse:355.543\tvalidation_1-rmse:366.148\n",
      "[2]\tvalidation_0-rmse:321.898\tvalidation_1-rmse:331.154\n",
      "[3]\tvalidation_0-rmse:291.404\tvalidation_1-rmse:299.274\n",
      "[4]\tvalidation_0-rmse:263.835\tvalidation_1-rmse:269.706\n",
      "[5]\tvalidation_0-rmse:238.947\tvalidation_1-rmse:243.389\n",
      "[6]\tvalidation_0-rmse:216.43\tvalidation_1-rmse:219.753\n",
      "[7]\tvalidation_0-rmse:196.066\tvalidation_1-rmse:198.736\n",
      "[8]\tvalidation_0-rmse:177.649\tvalidation_1-rmse:180.323\n",
      "[9]\tvalidation_0-rmse:160.993\tvalidation_1-rmse:163.759\n",
      "[10]\tvalidation_0-rmse:145.915\tvalidation_1-rmse:148.858\n",
      "[11]\tvalidation_0-rmse:132.249\tvalidation_1-rmse:134.236\n",
      "[12]\tvalidation_0-rmse:119.922\tvalidation_1-rmse:121.387\n",
      "[13]\tvalidation_0-rmse:108.753\tvalidation_1-rmse:110.229\n",
      "[14]\tvalidation_0-rmse:98.657\tvalidation_1-rmse:100.34\n",
      "[15]\tvalidation_0-rmse:89.5221\tvalidation_1-rmse:90.5961\n",
      "[16]\tvalidation_0-rmse:81.2508\tvalidation_1-rmse:82.3881\n",
      "[17]\tvalidation_0-rmse:73.7537\tvalidation_1-rmse:74.8412\n",
      "[18]\tvalidation_0-rmse:66.9703\tvalidation_1-rmse:68.0704\n",
      "[19]\tvalidation_0-rmse:60.8481\tvalidation_1-rmse:62.199\n",
      "[20]\tvalidation_0-rmse:55.3078\tvalidation_1-rmse:56.8407\n",
      "[21]\tvalidation_0-rmse:50.2884\tvalidation_1-rmse:51.9309\n",
      "[22]\tvalidation_0-rmse:45.7578\tvalidation_1-rmse:47.6051\n",
      "[23]\tvalidation_0-rmse:41.6449\tvalidation_1-rmse:43.6252\n",
      "[24]\tvalidation_0-rmse:37.9356\tvalidation_1-rmse:39.9518\n",
      "[25]\tvalidation_0-rmse:34.5792\tvalidation_1-rmse:36.7676\n",
      "[26]\tvalidation_0-rmse:31.5359\tvalidation_1-rmse:33.7772\n",
      "[27]\tvalidation_0-rmse:28.789\tvalidation_1-rmse:31.0944\n",
      "[28]\tvalidation_0-rmse:26.3047\tvalidation_1-rmse:28.7408\n",
      "[29]\tvalidation_0-rmse:24.0628\tvalidation_1-rmse:26.7213\n",
      "[30]\tvalidation_0-rmse:22.0323\tvalidation_1-rmse:25.0198\n",
      "[31]\tvalidation_0-rmse:20.2045\tvalidation_1-rmse:23.3951\n",
      "[32]\tvalidation_0-rmse:18.5574\tvalidation_1-rmse:22.0043\n",
      "[33]\tvalidation_0-rmse:17.0791\tvalidation_1-rmse:20.8356\n",
      "[34]\tvalidation_0-rmse:15.7449\tvalidation_1-rmse:19.7606\n",
      "[35]\tvalidation_0-rmse:14.5542\tvalidation_1-rmse:18.8971\n",
      "[36]\tvalidation_0-rmse:13.4835\tvalidation_1-rmse:18.1708\n",
      "[37]\tvalidation_0-rmse:12.5224\tvalidation_1-rmse:17.5367\n",
      "[38]\tvalidation_0-rmse:11.6689\tvalidation_1-rmse:16.979\n",
      "[39]\tvalidation_0-rmse:10.9071\tvalidation_1-rmse:16.5269\n",
      "[40]\tvalidation_0-rmse:10.2258\tvalidation_1-rmse:16.1482\n",
      "[41]\tvalidation_0-rmse:9.62251\tvalidation_1-rmse:15.848\n",
      "[42]\tvalidation_0-rmse:9.08848\tvalidation_1-rmse:15.5693\n",
      "[43]\tvalidation_0-rmse:8.60985\tvalidation_1-rmse:15.3614\n",
      "[44]\tvalidation_0-rmse:8.19695\tvalidation_1-rmse:15.1704\n",
      "[45]\tvalidation_0-rmse:7.8372\tvalidation_1-rmse:15.0144\n",
      "[46]\tvalidation_0-rmse:7.51729\tvalidation_1-rmse:14.8877\n",
      "[47]\tvalidation_0-rmse:7.23928\tvalidation_1-rmse:14.7878\n",
      "[48]\tvalidation_0-rmse:6.99101\tvalidation_1-rmse:14.7072\n",
      "[49]\tvalidation_0-rmse:6.78064\tvalidation_1-rmse:14.6489\n",
      "[50]\tvalidation_0-rmse:6.59711\tvalidation_1-rmse:14.6011\n",
      "[51]\tvalidation_0-rmse:6.43507\tvalidation_1-rmse:14.5699\n",
      "[52]\tvalidation_0-rmse:6.29365\tvalidation_1-rmse:14.5531\n",
      "[53]\tvalidation_0-rmse:6.16017\tvalidation_1-rmse:14.5452\n",
      "[54]\tvalidation_0-rmse:6.05495\tvalidation_1-rmse:14.5379\n",
      "[55]\tvalidation_0-rmse:5.95\tvalidation_1-rmse:14.5213\n",
      "[56]\tvalidation_0-rmse:5.85224\tvalidation_1-rmse:14.5118\n",
      "[57]\tvalidation_0-rmse:5.77731\tvalidation_1-rmse:14.5034\n",
      "[58]\tvalidation_0-rmse:5.70405\tvalidation_1-rmse:14.5246\n",
      "[59]\tvalidation_0-rmse:5.64726\tvalidation_1-rmse:14.5241\n",
      "[60]\tvalidation_0-rmse:5.59874\tvalidation_1-rmse:14.5249\n",
      "[61]\tvalidation_0-rmse:5.5362\tvalidation_1-rmse:14.5218\n",
      "[62]\tvalidation_0-rmse:5.48424\tvalidation_1-rmse:14.5442\n",
      "[63]\tvalidation_0-rmse:5.42201\tvalidation_1-rmse:14.567\n",
      "[64]\tvalidation_0-rmse:5.3803\tvalidation_1-rmse:14.573\n",
      "[65]\tvalidation_0-rmse:5.32719\tvalidation_1-rmse:14.598\n",
      "[66]\tvalidation_0-rmse:5.28061\tvalidation_1-rmse:14.5983\n",
      "[67]\tvalidation_0-rmse:5.25327\tvalidation_1-rmse:14.5908\n",
      "[68]\tvalidation_0-rmse:5.22297\tvalidation_1-rmse:14.5957\n",
      "[69]\tvalidation_0-rmse:5.18392\tvalidation_1-rmse:14.5969\n",
      "[70]\tvalidation_0-rmse:5.1649\tvalidation_1-rmse:14.6054\n",
      "[71]\tvalidation_0-rmse:5.1357\tvalidation_1-rmse:14.6205\n",
      "[72]\tvalidation_0-rmse:5.11805\tvalidation_1-rmse:14.6562\n",
      "[73]\tvalidation_0-rmse:5.09831\tvalidation_1-rmse:14.6529\n",
      "[74]\tvalidation_0-rmse:5.06107\tvalidation_1-rmse:14.6792\n",
      "[75]\tvalidation_0-rmse:5.04249\tvalidation_1-rmse:14.6739\n",
      "[76]\tvalidation_0-rmse:5.01985\tvalidation_1-rmse:14.6802\n",
      "[77]\tvalidation_0-rmse:4.98197\tvalidation_1-rmse:14.7081\n",
      "[78]\tvalidation_0-rmse:4.95185\tvalidation_1-rmse:14.6998\n",
      "[79]\tvalidation_0-rmse:4.9224\tvalidation_1-rmse:14.7006\n",
      "[80]\tvalidation_0-rmse:4.90853\tvalidation_1-rmse:14.7019\n",
      "[81]\tvalidation_0-rmse:4.8804\tvalidation_1-rmse:14.726\n",
      "[82]\tvalidation_0-rmse:4.84907\tvalidation_1-rmse:14.7527\n",
      "[83]\tvalidation_0-rmse:4.83846\tvalidation_1-rmse:14.7569\n",
      "[84]\tvalidation_0-rmse:4.8228\tvalidation_1-rmse:14.7561\n",
      "[85]\tvalidation_0-rmse:4.75347\tvalidation_1-rmse:14.7787\n",
      "[86]\tvalidation_0-rmse:4.74657\tvalidation_1-rmse:14.7797\n",
      "[87]\tvalidation_0-rmse:4.7404\tvalidation_1-rmse:14.7825\n",
      "[88]\tvalidation_0-rmse:4.73467\tvalidation_1-rmse:14.7841\n",
      "[89]\tvalidation_0-rmse:4.72858\tvalidation_1-rmse:14.7937\n",
      "[90]\tvalidation_0-rmse:4.67459\tvalidation_1-rmse:14.8038\n",
      "[91]\tvalidation_0-rmse:4.67052\tvalidation_1-rmse:14.8018\n",
      "[92]\tvalidation_0-rmse:4.66185\tvalidation_1-rmse:14.8049\n",
      "[93]\tvalidation_0-rmse:4.65732\tvalidation_1-rmse:14.8064\n",
      "[94]\tvalidation_0-rmse:4.60937\tvalidation_1-rmse:14.8158\n",
      "[95]\tvalidation_0-rmse:4.60536\tvalidation_1-rmse:14.8164\n",
      "[96]\tvalidation_0-rmse:4.57628\tvalidation_1-rmse:14.8452\n",
      "[97]\tvalidation_0-rmse:4.53321\tvalidation_1-rmse:14.8551\n",
      "[98]\tvalidation_0-rmse:4.52959\tvalidation_1-rmse:14.8561\n",
      "[99]\tvalidation_0-rmse:4.50308\tvalidation_1-rmse:14.8848\n"
     ]
    },
    {
     "data": {
      "text/plain": [
       "XGBRegressor(base_score=0.5, booster='gbtree', colsample_bylevel=1,\n",
       "             colsample_bynode=1, colsample_bytree=1, gamma=0,\n",
       "             importance_type='gain', learning_rate=0.1, max_delta_step=0,\n",
       "             max_depth=3, min_child_weight=1, missing=None, n_estimators=100,\n",
       "             n_jobs=1, nthread=None, objective='reg:linear', random_state=0,\n",
       "             reg_alpha=0, reg_lambda=1, scale_pos_weight=1, seed=None,\n",
       "             silent=None, subsample=1, verbosity=1)"
      ]
     },
     "execution_count": 33,
     "metadata": {},
     "output_type": "execute_result"
    }
   ],
   "source": [
    "regressor = xgb.XGBRegressor()\n",
    "regressor.fit(X_train, y_train, eval_set=[(X_train, y_train), (X_test, y_test)])"
   ]
  },
  {
   "cell_type": "code",
   "execution_count": 35,
   "metadata": {},
   "outputs": [
    {
     "data": {
      "text/plain": [
       "{'validation_0': {'rmse': [392.820221,\n",
       "   355.543243,\n",
       "   321.898041,\n",
       "   291.404297,\n",
       "   263.835114,\n",
       "   238.947021,\n",
       "   216.429688,\n",
       "   196.066452,\n",
       "   177.649338,\n",
       "   160.992783,\n",
       "   145.91481,\n",
       "   132.248886,\n",
       "   119.922279,\n",
       "   108.75325,\n",
       "   98.65699,\n",
       "   89.522118,\n",
       "   81.250832,\n",
       "   73.7537,\n",
       "   66.970276,\n",
       "   60.848103,\n",
       "   55.307835,\n",
       "   50.288429,\n",
       "   45.757755,\n",
       "   41.644947,\n",
       "   37.935585,\n",
       "   34.579163,\n",
       "   31.535881,\n",
       "   28.789049,\n",
       "   26.304743,\n",
       "   24.062799,\n",
       "   22.032253,\n",
       "   20.204454,\n",
       "   18.557449,\n",
       "   17.079107,\n",
       "   15.744852,\n",
       "   14.554222,\n",
       "   13.483503,\n",
       "   12.522362,\n",
       "   11.668862,\n",
       "   10.907067,\n",
       "   10.225802,\n",
       "   9.622509,\n",
       "   9.088479,\n",
       "   8.60985,\n",
       "   8.196947,\n",
       "   7.837201,\n",
       "   7.51729,\n",
       "   7.239275,\n",
       "   6.99101,\n",
       "   6.780638,\n",
       "   6.597112,\n",
       "   6.435071,\n",
       "   6.293651,\n",
       "   6.160165,\n",
       "   6.054954,\n",
       "   5.950004,\n",
       "   5.852244,\n",
       "   5.777307,\n",
       "   5.704053,\n",
       "   5.647257,\n",
       "   5.598737,\n",
       "   5.5362,\n",
       "   5.484242,\n",
       "   5.422013,\n",
       "   5.380295,\n",
       "   5.327195,\n",
       "   5.280609,\n",
       "   5.253267,\n",
       "   5.22297,\n",
       "   5.183919,\n",
       "   5.164902,\n",
       "   5.135703,\n",
       "   5.118049,\n",
       "   5.098313,\n",
       "   5.061066,\n",
       "   5.042495,\n",
       "   5.019855,\n",
       "   4.981974,\n",
       "   4.951852,\n",
       "   4.922403,\n",
       "   4.908532,\n",
       "   4.880403,\n",
       "   4.84907,\n",
       "   4.838463,\n",
       "   4.822795,\n",
       "   4.753471,\n",
       "   4.746572,\n",
       "   4.740399,\n",
       "   4.734673,\n",
       "   4.728575,\n",
       "   4.674591,\n",
       "   4.670523,\n",
       "   4.661851,\n",
       "   4.657322,\n",
       "   4.609367,\n",
       "   4.605359,\n",
       "   4.576276,\n",
       "   4.533212,\n",
       "   4.529586,\n",
       "   4.503083]},\n",
       " 'validation_1': {'rmse': [405.343262,\n",
       "   366.148224,\n",
       "   331.15448,\n",
       "   299.273712,\n",
       "   269.706085,\n",
       "   243.388657,\n",
       "   219.753067,\n",
       "   198.736359,\n",
       "   180.323349,\n",
       "   163.759445,\n",
       "   148.85759,\n",
       "   134.236328,\n",
       "   121.386559,\n",
       "   110.228874,\n",
       "   100.339798,\n",
       "   90.59613,\n",
       "   82.388069,\n",
       "   74.841164,\n",
       "   68.070404,\n",
       "   62.199013,\n",
       "   56.840656,\n",
       "   51.930931,\n",
       "   47.605145,\n",
       "   43.625221,\n",
       "   39.951786,\n",
       "   36.767643,\n",
       "   33.77721,\n",
       "   31.094408,\n",
       "   28.74082,\n",
       "   26.721323,\n",
       "   25.019846,\n",
       "   23.395084,\n",
       "   22.004267,\n",
       "   20.835649,\n",
       "   19.760637,\n",
       "   18.897055,\n",
       "   18.170794,\n",
       "   17.536686,\n",
       "   16.978958,\n",
       "   16.526941,\n",
       "   16.148249,\n",
       "   15.847977,\n",
       "   15.569265,\n",
       "   15.361395,\n",
       "   15.170382,\n",
       "   15.014441,\n",
       "   14.88766,\n",
       "   14.78776,\n",
       "   14.707213,\n",
       "   14.648899,\n",
       "   14.601118,\n",
       "   14.569885,\n",
       "   14.553112,\n",
       "   14.545227,\n",
       "   14.537935,\n",
       "   14.521277,\n",
       "   14.511761,\n",
       "   14.50337,\n",
       "   14.52461,\n",
       "   14.524062,\n",
       "   14.524886,\n",
       "   14.521838,\n",
       "   14.54422,\n",
       "   14.567032,\n",
       "   14.572959,\n",
       "   14.598036,\n",
       "   14.598253,\n",
       "   14.590795,\n",
       "   14.59572,\n",
       "   14.596877,\n",
       "   14.605413,\n",
       "   14.620526,\n",
       "   14.656168,\n",
       "   14.652859,\n",
       "   14.679198,\n",
       "   14.673943,\n",
       "   14.680175,\n",
       "   14.708127,\n",
       "   14.699781,\n",
       "   14.700564,\n",
       "   14.701854,\n",
       "   14.726,\n",
       "   14.752711,\n",
       "   14.756897,\n",
       "   14.756111,\n",
       "   14.778659,\n",
       "   14.779668,\n",
       "   14.782545,\n",
       "   14.78408,\n",
       "   14.793726,\n",
       "   14.803802,\n",
       "   14.801832,\n",
       "   14.804942,\n",
       "   14.806396,\n",
       "   14.815817,\n",
       "   14.816416,\n",
       "   14.845223,\n",
       "   14.85505,\n",
       "   14.85614,\n",
       "   14.884779]}}"
      ]
     },
     "execution_count": 35,
     "metadata": {},
     "output_type": "execute_result"
    }
   ],
   "source": [
    "eval_results = regressor.evals_result()\n",
    "eval_results"
   ]
  },
  {
   "cell_type": "code",
   "execution_count": 37,
   "metadata": {},
   "outputs": [
    {
     "data": {
      "text/plain": [
       "range(0, 100)"
      ]
     },
     "execution_count": 37,
     "metadata": {},
     "output_type": "execute_result"
    }
   ],
   "source": [
    "training_rounds = range(len(eval_results['validation_0']['rmse']))\n",
    "training_rounds"
   ]
  },
  {
   "cell_type": "code",
   "execution_count": 38,
   "metadata": {},
   "outputs": [
    {
     "data": {
      "image/png": "[encoded data removed]",
      "text/plain": [
       "<Figure size 432x288 with 1 Axes>"
      ]
     },
     "metadata": {},
     "output_type": "display_data"
    }
   ],
   "source": [
    "plt.scatter(x=training_rounds, y=eval_results['validation_0']['rmse'], label='Training Error')\n",
    "plt.scatter(x=training_rounds, y=eval_results['validation_1']['rmse'], label='Validation Error')\n",
    "plt.xlabel('n_iterations')\n",
    "plt.ylabel('RMSE')\n",
    "plt.title('XGBoost Training vs Validation Error')\n",
    "plt.legend()\n",
    "plt.show()"
   ]
  },
  {
   "cell_type": "code",
   "execution_count": 40,
   "metadata": {},
   "outputs": [
    {
     "data": {
      "image/png": "[encoded data removed]",
      "text/plain": [
       "<Figure size 432x288 with 1 Axes>"
      ]
     },
     "metadata": {},
     "output_type": "display_data"
    }
   ],
   "source": [
    "xgb.plot_importance(regressor)\n",
    "plt.show()"
   ]
  },
  {
   "cell_type": "code",
   "execution_count": 55,
   "metadata": {},
   "outputs": [
    {
     "data": {
      "image/png": "[encoded data removed]",
      "text/plain": [
       "<Figure size 432x288 with 1 Axes>"
      ]
     },
     "metadata": {},
     "output_type": "display_data"
    }
   ],
   "source": [
    "sorted_dataset = sorted(np.concatenate((X_train, y_train.reshape((-1, 1))), axis=1), \n",
    "                        key=lambda x: x[0])\n",
    "\n",
    "plt.scatter(X_test, y_test, color='skyblue', edgecolor='k')\n",
    "plt.plot([x[0] for x in sorted_dataset], \n",
    "         [x[1] for x in sorted_dataset], \n",
    "         color='red')\n",
    "plt.show()"
   ]
  },
  {
   "cell_type": "code",
   "execution_count": 61,
   "metadata": {},
   "outputs": [
    {
     "name": "stdout",
     "output_type": "stream",
     "text": [
      "mean squared error: 221.5565357696959\n",
      "root mean squared error: 14.884775301283385\n"
     ]
    }
   ],
   "source": [
    "from sklearn.metrics import mean_squared_error\n",
    "\n",
    "y_pred = regressor.predict(X_test)\n",
    "mse = mean_squared_error(y_test, y_pred)\n",
    "print(f'mean squared error: {mse}')\n",
    "print(f'root mean squared error: {mse ** 0.5}')"
   ]
  },
  {
   "cell_type": "code",
   "execution_count": 67,
   "metadata": {},
   "outputs": [
    {
     "data": {
      "image/png": "[encoded data removed]",
      "text/plain": [
       "<Figure size 432x288 with 1 Axes>"
      ]
     },
     "metadata": {},
     "output_type": "display_data"
    }
   ],
   "source": [
    "# histogram of residuals\n",
    "residuals = y_test - y_pred\n",
    "plt.hist(residuals, color='skyblue')\n",
    "plt.plot([0,0], [0, 11], color='red')\n",
    "plt.show()"
   ]
  },
  {
   "cell_type": "code",
   "execution_count": 82,
   "metadata": {},
   "outputs": [
    {
     "name": "stdout",
     "output_type": "stream",
     "text": [
      "under  estimations: 24\n",
      "over   estimations: 21\n"
     ]
    }
   ],
   "source": [
    "under_estimations = (residuals > 0).sum()\n",
    "over_estimations = (residuals < 0).sum()\n",
    "\n",
    "print(f'under  estimations: {under_estimations}')\n",
    "print(f'over   estimations: {over_estimations}')"
   ]
  },
  {
   "cell_type": "code",
   "execution_count": null,
   "metadata": {},
   "outputs": [],
   "source": []
  }
 ],
 "metadata": {
  "kernelspec": {
   "display_name": "Python 3",
   "language": "python",
   "name": "python3"
  },
  "language_info": {
   "codemirror_mode": {
    "name": "ipython",
    "version": 3
   },
   "file_extension": ".py",
   "mimetype": "text/x-python",
   "name": "python",
   "nbconvert_exporter": "python",
   "pygments_lexer": "ipython3",
   "version": "3.7.6"
  }
 },
 "nbformat": 4,
 "nbformat_minor": 2
}
