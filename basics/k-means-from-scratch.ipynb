{
 "cells": [
  {
   "cell_type": "code",
   "execution_count": 3,
   "metadata": {},
   "outputs": [],
   "source": [
    "import numpy as np\n",
    "import matplotlib.pyplot as plt\n",
    "from matplotlib import style\n",
    "style.use('ggplot')"
   ]
  },
  {
   "cell_type": "code",
   "execution_count": 19,
   "metadata": {},
   "outputs": [
    {
     "data": {
      "image/png": "[encoded data removed]",
      "text/plain": [
       "<Figure size 432x288 with 1 Axes>"
      ]
     },
     "metadata": {},
     "output_type": "display_data"
    }
   ],
   "source": [
    "X = np.array([\n",
    "    [1, 2],\n",
    "    [1.5, 1.8],\n",
    "    [5, 8],\n",
    "    [8, 8],\n",
    "    [1, 0.6],\n",
    "    [9, 11]\n",
    "])\n",
    "\n",
    "colors = ['r', 'b', 'g', 'y', 'c']\n",
    "\n",
    "plt.scatter(X[:,0], X[:,1])\n",
    "plt.show()"
   ]
  },
  {
   "cell_type": "code",
   "execution_count": 26,
   "metadata": {},
   "outputs": [],
   "source": [
    "class K_Means:\n",
    "    def __init__(self, k=2, tol=0.001, max_iter=300):\n",
    "        self.k = k\n",
    "        self.tol = tol\n",
    "        self.max_iter = max_iter\n",
    "        \n",
    "    def fit(self, data):\n",
    "        self.centroids = {}\n",
    "        \n",
    "        # first 2 observations will be our centroids\n",
    "        for i in range(self.k):\n",
    "            self.centroids[i] = data[i]\n",
    "           \n",
    "        for i in range(self.max_iter):\n",
    "            self.classifications = {}\n",
    "            for j in range(self.k):\n",
    "                self.classifications[j] = []\n",
    "                \n",
    "            for featureset in data:\n",
    "                distances = [np.linalg.norm(featureset - self.centroids[centroid])\n",
    "                            for centroid in self.centroids]\n",
    "                classification = distances.index(min(distances))\n",
    "                self.classifications[classification].append(featureset)\n",
    "                \n",
    "            prev_centroids = dict(self.centroids)\n",
    "            \n",
    "            for classification in self.classifications:\n",
    "                pass\n",
    "                self.centroids[classification] = np.average(self.classifications[classification],\n",
    "                                                            axis=0)\n",
    "            optimized = True\n",
    "            for c in self.centroids:\n",
    "                original_centroid = prev_centroids[c]\n",
    "                current_centroid = self.centroids[c]\n",
    "                if np.sum((current_centroid - original_centroid) / original_centroid*100) > self.tol:\n",
    "                    optimized = False\n",
    "        \n",
    "            if optimized:\n",
    "                break\n",
    "            \n",
    "            \n",
    "    \n",
    "    def predict(self, data):\n",
    "        distances = [np.linalg.norm(data - self.centroids[centroid])\n",
    "                            for centroid in self.centroids]\n",
    "        classification = distances.index(min(distances))\n",
    "        return classification"
   ]
  },
  {
   "cell_type": "code",
   "execution_count": 29,
   "metadata": {},
   "outputs": [
    {
     "data": {
      "image/png": "[encoded data removed]",
      "text/plain": [
       "<Figure size 432x288 with 1 Axes>"
      ]
     },
     "metadata": {},
     "output_type": "display_data"
    }
   ],
   "source": [
    "classifier = K_Means()\n",
    "classifier.fit(X)\n",
    "\n",
    "for centroid in classifier.centroids:\n",
    "    plt.scatter(classifier.centroids[centroid][0], \n",
    "                classifier.centroids[centroid][1], \n",
    "                marker='o', color='k', s=150)\n",
    "    \n",
    "for classification in classifier.classifications:\n",
    "    color = colors[classification]\n",
    "    for featureset in classifier.classifications[classification]:\n",
    "        plt.scatter(featureset[0], featureset[1], marker='x', color=color)\n",
    "        \n",
    "unknowns = np.array([\n",
    "    [1, 3],\n",
    "    [8, 9],\n",
    "    [0, 3],\n",
    "    [5, 4],\n",
    "    [6, 4]\n",
    "])\n",
    "\n",
    "for unknown in unknowns:\n",
    "    classification = classifier.predict(unknown)\n",
    "    plt.scatter(unknown[0], unknown[1], marker='*', color=colors[classification])\n",
    "    \n",
    "plt.show()"
   ]
  },
  {
   "cell_type": "code",
   "execution_count": null,
   "metadata": {},
   "outputs": [],
   "source": []
  },
  {
   "cell_type": "code",
   "execution_count": null,
   "metadata": {},
   "outputs": [],
   "source": []
  },
  {
   "cell_type": "code",
   "execution_count": null,
   "metadata": {},
   "outputs": [],
   "source": []
  },
  {
   "cell_type": "code",
   "execution_count": null,
   "metadata": {},
   "outputs": [],
   "source": []
  },
  {
   "cell_type": "code",
   "execution_count": null,
   "metadata": {},
   "outputs": [],
   "source": []
  },
  {
   "cell_type": "code",
   "execution_count": null,
   "metadata": {},
   "outputs": [],
   "source": []
  },
  {
   "cell_type": "code",
   "execution_count": null,
   "metadata": {},
   "outputs": [],
   "source": []
  },
  {
   "cell_type": "code",
   "execution_count": null,
   "metadata": {},
   "outputs": [],
   "source": []
  }
 ],
 "metadata": {
  "kernelspec": {
   "display_name": "Python 3",
   "language": "python",
   "name": "python3"
  },
  "language_info": {
   "codemirror_mode": {
    "name": "ipython",
    "version": 3
   },
   "file_extension": ".py",
   "mimetype": "text/x-python",
   "name": "python",
   "nbconvert_exporter": "python",
   "pygments_lexer": "ipython3",
   "version": "3.7.6"
  }
 },
 "nbformat": 4,
 "nbformat_minor": 2
}
