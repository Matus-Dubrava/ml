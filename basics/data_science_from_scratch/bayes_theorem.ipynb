{
 "cells": [
  {
   "cell_type": "markdown",
   "metadata": {},
   "source": [
    "## Bayes Theorem\n",
    "\n",
    "\\begin{equation}\n",
    "P(F) = P(F|E) * P(E) + P(F|\\neg{E}) * P(\\neg{E})\n",
    "\\end{equation}\n",
    "\n",
    "\\begin{equation}\n",
    "P(E|F) = \\frac{P(F|E) * P(E)}{P(F)} = \\frac{P(F|E) * P(E)}{P(F|E) * P(E) + P(F|\\neg{E}) * P(\\neg{E})}\n",
    "\\end{equation}"
   ]
  },
  {
   "cell_type": "code",
   "execution_count": 1,
   "metadata": {},
   "outputs": [],
   "source": [
    "# example \n",
    "# what is the probability that 2 children are girls if we know that at least one of them\n",
    "# is girl\n",
    "\n",
    "# P(2 girls) = 1/4\n",
    "# P(at least 1 girl) = 3/4\n",
    "# P(2 girls | at least 1 girl) = P(at least 1 girl | 2 girls) * P(2 girls) / P(at least 1 girl)\n",
    "# = 1 * 1/4 / 3/4 = 1/3"
   ]
  },
  {
   "cell_type": "code",
   "execution_count": 2,
   "metadata": {},
   "outputs": [],
   "source": [
    "import enum, random"
   ]
  },
  {
   "cell_type": "code",
   "execution_count": 4,
   "metadata": {},
   "outputs": [
    {
     "name": "stdout",
     "output_type": "stream",
     "text": [
      "P(both | either): 0.3338842953156225\n"
     ]
    }
   ],
   "source": [
    "class Kid(enum.Enum):\n",
    "    BOY = 0\n",
    "    GIRL = 1\n",
    "    \n",
    "def random_kid() -> Kid:\n",
    "    '''randomly generate either BOY or GIRL'''\n",
    "    return random.choice([Kid.BOY, Kid.GIRL])\n",
    "\n",
    "both_girls = 0\n",
    "either_girl = 0\n",
    "n_trials = 1_000_000\n",
    "\n",
    "for _ in range(n_trials):\n",
    "    younger = random_kid()\n",
    "    older = random_kid()\n",
    "    \n",
    "    if younger == Kid.GIRL and older == Kid.GIRL:\n",
    "        both_girls += 1\n",
    "    if younger == Kid.GIRL or older == Kid.GIRL:\n",
    "        either_girl += 1\n",
    "        \n",
    "print(f'P(both | either): {both_girls / either_girl}')"
   ]
  },
  {
   "cell_type": "code",
   "execution_count": null,
   "metadata": {},
   "outputs": [],
   "source": []
  }
 ],
 "metadata": {
  "kernelspec": {
   "display_name": "Python 3",
   "language": "python",
   "name": "python3"
  },
  "language_info": {
   "codemirror_mode": {
    "name": "ipython",
    "version": 3
   },
   "file_extension": ".py",
   "mimetype": "text/x-python",
   "name": "python",
   "nbconvert_exporter": "python",
   "pygments_lexer": "ipython3",
   "version": "3.7.6"
  }
 },
 "nbformat": 4,
 "nbformat_minor": 2
}
