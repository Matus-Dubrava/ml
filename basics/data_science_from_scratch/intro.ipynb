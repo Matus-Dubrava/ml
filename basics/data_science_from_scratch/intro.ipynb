{
 "cells": [
  {
   "cell_type": "code",
   "execution_count": 44,
   "metadata": {},
   "outputs": [],
   "source": [
    "from collections import defaultdict, Counter\n",
    "from typing import List\n",
    "import matplotlib.pyplot as plt\n",
    "plt.style.use('seaborn')"
   ]
  },
  {
   "cell_type": "code",
   "execution_count": 10,
   "metadata": {},
   "outputs": [],
   "source": [
    "users = [\n",
    "    { 'id': 0, 'name': 'Hero' },\n",
    "    { 'id': 1, 'name': 'Dunn' },\n",
    "    { 'id': 2, 'name': 'Sue' },\n",
    "    { 'id': 3, 'name': 'Chi' },\n",
    "    { 'id': 4, 'name': 'Thor' },\n",
    "    { 'id': 5, 'name': 'Clive' },\n",
    "    { 'id': 6, 'name': 'Hicks' },\n",
    "    { 'id': 7, 'name': 'Devin' },\n",
    "    { 'id': 8, 'name': 'Kate' },\n",
    "    { 'id': 9, 'name': 'Klain' }\n",
    "]\n",
    "\n",
    "friendship_pairs = [(0, 1), (0, 2), (1, 2), (1, 3), (2, 3), (3, 4), (4, 5), (5, 6), \n",
    "                    (5, 7), (6, 8), (7, 8), (8, 9)]"
   ]
  },
  {
   "cell_type": "code",
   "execution_count": 11,
   "metadata": {},
   "outputs": [
    {
     "name": "stdout",
     "output_type": "stream",
     "text": [
      "0: [1, 2]\n",
      "1: [0, 2, 3]\n",
      "2: [0, 1, 3]\n",
      "3: [1, 2, 4]\n",
      "4: [3, 5]\n",
      "5: [4, 6, 7]\n",
      "6: [5, 8]\n",
      "7: [5, 8]\n",
      "8: [6, 7, 9]\n",
      "9: [8]\n"
     ]
    }
   ],
   "source": [
    "# create a dictionary representing friends that the users have to \n",
    "# speed up the lookup operation\n",
    "friendships = defaultdict(list)\n",
    "\n",
    "for x, y in friendship_pairs:\n",
    "    friendships[x].append(y) # y is a friend of x\n",
    "    friendships[y].append(x) # conversly, x is a friend of y\n",
    "    \n",
    "for user, friends in friendships.items():\n",
    "    print(f'{user}: {friends}')"
   ]
  },
  {
   "cell_type": "code",
   "execution_count": 14,
   "metadata": {},
   "outputs": [
    {
     "name": "stdout",
     "output_type": "stream",
     "text": [
      "average num. of connections: 2.4\n"
     ]
    }
   ],
   "source": [
    "# what is the average number of connections in our friendship graph?\n",
    "\n",
    "# sum length of values in friendships, then divide by the number of users\n",
    "\n",
    "# sum_of_connections = 0\n",
    "# for connections in friendships.values():\n",
    "#     sum_of_connections += len(connections)\n",
    "    \n",
    "sum_of_connections = sum([len(connections) for connections in friendships.values()])\n",
    "\n",
    "print(f'average num. of connections: {sum_of_connections / len(users)}')"
   ]
  },
  {
   "cell_type": "code",
   "execution_count": 16,
   "metadata": {},
   "outputs": [
    {
     "name": "stdout",
     "output_type": "stream",
     "text": [
      "[(1, 3), (2, 3), (3, 3), (5, 3), (8, 3), (0, 2), (4, 2), (6, 2), (7, 2), (9, 1)]\n"
     ]
    }
   ],
   "source": [
    "# which user has the most friends? \n",
    "\n",
    "# create a list of tuples (user_id, n_friends) and sort it on the second index\n",
    "num_friends_by_id = [(user_id, len(friends)) for user_id, friends in friendships.items()]\n",
    "num_friends_by_id = sorted(num_friends_by_id, key=lambda x: x[1], reverse=True)\n",
    "print(num_friends_by_id)"
   ]
  },
  {
   "cell_type": "code",
   "execution_count": 27,
   "metadata": {},
   "outputs": [
    {
     "name": "stdout",
     "output_type": "stream",
     "text": [
      "friends & friends of friends (user 0): {0, 1, 2, 3}\n",
      "friends of friends (user 0): {0, 3}\n"
     ]
    }
   ],
   "source": [
    "# friend of a friend suggester - find all friends of your friends\n",
    "\n",
    "# iterate through the friendships of a user\n",
    "# for each friend, iterate through their friends and build a list of suggestions\n",
    "def friends_of_friends(user_id: int) -> List[int]:\n",
    "    foaf = []\n",
    "    for friend in friendships[user_id]:\n",
    "        for possible_friend in friendships[friend]:\n",
    "            foaf.append(possible_friend)\n",
    "    return set(foaf) \n",
    "\n",
    "# friends & friends of friends of user 0\n",
    "print(f'friends & friends of friends (user 0): {friends_of_friends(0)}')\n",
    "\n",
    "# exluding existing frinds of user 0 from the result\n",
    "print(f'friends of friends (user 0): {friends_of_friends(0).difference(friendships[0])}')"
   ]
  },
  {
   "cell_type": "code",
   "execution_count": 35,
   "metadata": {},
   "outputs": [
    {
     "name": "stdout",
     "output_type": "stream",
     "text": [
      "2 mutual friends with user 0\n",
      "1 mutual friends with user 5\n"
     ]
    }
   ],
   "source": [
    "# getting number of mutual friends of a user\n",
    "\n",
    "def friends_of_friends_imp(user_id: int) -> List[int]:\n",
    "    foaf = []\n",
    "    for friend in friendships[user_id]:\n",
    "        for possible_friend in friendships[friend]:\n",
    "            if possible_friend != user_id and possible_friend not in friendships[user_id]:\n",
    "                foaf.append(possible_friend)\n",
    "    return Counter(foaf)\n",
    "\n",
    "# suggest friends for user 3\n",
    "for possible_friend, count in friends_of_friends_imp(3).items():\n",
    "    print(f'{count} mutual friends with user {possible_friend}')"
   ]
  },
  {
   "cell_type": "code",
   "execution_count": 36,
   "metadata": {},
   "outputs": [],
   "source": [
    "# suggesting friends based on mutual interests\n",
    "interests = [\n",
    "    (0, 'hadoop'), (0, 'big data'), (0, 'hbase'), (0, 'java'),\n",
    "    (0, 'spark'), (0, 'storm'), (0, 'cassandra'), (1, 'nosql'),\n",
    "    (1, 'mongodb'), (1, 'cassandra'), (1, 'hbase'), (1, 'postgres'),\n",
    "    (2, 'python'), (2, 'scikit-learn'), (2, 'scipy'), (2, 'numpy'),\n",
    "    (2, 'statsmodels'), (2, 'pandas'), (3, 'r'), (3, 'python'),\n",
    "    (3, 'statistics'), (3, 'regression'), (3, 'probability'), (4, 'machine learning'),\n",
    "    (4, 'regression'), (4, 'decision trees'), (4, 'libsvm'), (5, 'python'),\n",
    "    (5, 'r'), (5, 'java'), (5, 'c++'), (5, 'haskell'),\n",
    "    (5, 'programming languages'), (6, 'statistics'), (6, 'probability'), (6, 'mathematics'),\n",
    "    (6, 'theory'), (7, 'machine learning'), (7, 'scikit-learn'), (7, 'mahout'),\n",
    "    (7, 'neural networks'), (8, 'neural networks'), (8, 'deep learning'), (8, 'big data'),\n",
    "    (8, 'artificial intelligence'), (9, 'hadoop'), (9, 'java'), (9, 'mapreduce'),\n",
    "    (9, 'big data')\n",
    "]"
   ]
  },
  {
   "cell_type": "code",
   "execution_count": 43,
   "metadata": {},
   "outputs": [
    {
     "data": {
      "text/plain": [
       "(9, 4)"
      ]
     },
     "execution_count": 43,
     "metadata": {},
     "output_type": "execute_result"
    }
   ],
   "source": [
    "# build dictionary of users per interest\n",
    "user_ids_by_interest = defaultdict(list)\n",
    "\n",
    "for user_id, interest in interests:\n",
    "    user_ids_by_interest[interest].append(user_id)\n",
    "    \n",
    "# build dictionary of interests per user\n",
    "interests_by_user_id = defaultdict(list)\n",
    "\n",
    "for user_id, interest in interests:\n",
    "    interests_by_user_id[user_id].append(interest)\n",
    "\n",
    "# find user that has the most interests in common with a given user\n",
    "# - iterate through the list of all users\n",
    "# - for each user count the number of mutual interests \n",
    "def most_common_interests_with_user(user: int) -> int:\n",
    "    mutual_interests = defaultdict(int)\n",
    "    \n",
    "    for u in users:\n",
    "        user_id = u['id']\n",
    "        # don't compare user with itself\n",
    "        if user_id != user:\n",
    "            mutual_interests[user_id] = len(set(\n",
    "                interests_by_user_id[user]).difference(interests_by_user_id[user_id]))\n",
    "            \n",
    "    return sorted([(user_id, n_interests) for user_id, n_interests in mutual_interests.items()], \n",
    "                  key=lambda x: x[1])[0]\n",
    "\n",
    "most_common_interests_with_user(0)\n"
   ]
  },
  {
   "cell_type": "code",
   "execution_count": 54,
   "metadata": {},
   "outputs": [
    {
     "data": {
      "text/plain": [
       "[('big data', 3),\n",
       " ('java', 3),\n",
       " ('python', 3),\n",
       " ('hadoop', 2),\n",
       " ('hbase', 2),\n",
       " ('cassandra', 2),\n",
       " ('scikit-learn', 2),\n",
       " ('r', 2),\n",
       " ('statistics', 2),\n",
       " ('regression', 2),\n",
       " ('probability', 2),\n",
       " ('machine learning', 2),\n",
       " ('neural networks', 2),\n",
       " ('spark', 1),\n",
       " ('storm', 1),\n",
       " ('nosql', 1),\n",
       " ('mongodb', 1),\n",
       " ('postgres', 1),\n",
       " ('scipy', 1),\n",
       " ('numpy', 1),\n",
       " ('statsmodels', 1),\n",
       " ('pandas', 1),\n",
       " ('decision trees', 1),\n",
       " ('libsvm', 1),\n",
       " ('c++', 1),\n",
       " ('haskell', 1),\n",
       " ('programming languages', 1),\n",
       " ('mathematics', 1),\n",
       " ('theory', 1),\n",
       " ('mahout', 1),\n",
       " ('deep learning', 1),\n",
       " ('artificial intelligence', 1),\n",
       " ('mapreduce', 1)]"
      ]
     },
     "execution_count": 54,
     "metadata": {},
     "output_type": "execute_result"
    }
   ],
   "source": [
    "# get the most interesting topic by simply counting the words\n",
    "words = [interest for _, interest in interests]\n",
    "word_counts = sorted(Counter(words).items(), key=lambda x: x[1], reverse=True)\n",
    "word_counts"
   ]
  },
  {
   "cell_type": "code",
   "execution_count": 45,
   "metadata": {},
   "outputs": [
    {
     "data": {
      "image/png": "[encoded data removed]",
      "text/plain": [
       "<Figure size 576x396 with 1 Axes>"
      ]
     },
     "metadata": {},
     "output_type": "display_data"
    }
   ],
   "source": [
    "salaries_and_tenures = [(83000, 8.7), (88000, 8.1),\n",
    "                        (48000, 0.7), (76000, 6),\n",
    "                        (69000, 6.5), (76000, 7.5),\n",
    "                        (60000, 2.5), (83000, 10),\n",
    "                        (48000, 1.9), (63000, 4.2)]\n",
    "\n",
    "fig, ax = plt.subplots()\n",
    "ax.scatter([x[1] for x in salaries_and_tenures], \n",
    "           [x[0] for x in salaries_and_tenures])\n",
    "ax.set(title='Salary by Years Experience', xlabel='Years Experience', ylabel='Salary')\n",
    "\n",
    "plt.show()"
   ]
  },
  {
   "cell_type": "code",
   "execution_count": 48,
   "metadata": {},
   "outputs": [
    {
     "name": "stdout",
     "output_type": "stream",
     "text": [
      "defaultdict(<class 'int'>, {'more than 5': 79166.66666666667, 'less than 2': 48000.0, 'between 2 and 5': 61500.0})\n"
     ]
    }
   ],
   "source": [
    "# split salaries into 3 groups and get average salary for each group: \n",
    "# - below 2 years\n",
    "# - between 2 and 5 years \n",
    "# - more than 5 years \n",
    "salary_by_tenure_bucket = defaultdict(list)\n",
    "\n",
    "for salary, tenure in salaries_and_tenures:\n",
    "    if tenure < 2:\n",
    "        salary_by_tenure_bucket['less than 2'].append(salary)\n",
    "    elif tenure <= 5:\n",
    "        salary_by_tenure_bucket['between 2 and 5'].append(salary)\n",
    "    else:\n",
    "        salary_by_tenure_bucket['more than 5'].append(salary)\n",
    "        \n",
    "average_salary_by_tenure_bucket = defaultdict(int)\n",
    "\n",
    "for tenure, salaries in salary_by_tenure_bucket.items():\n",
    "    average_salary_by_tenure_bucket[tenure] = sum(salaries) / len(salaries)\n",
    "    \n",
    "print(average_salary_by_tenure_bucket)"
   ]
  },
  {
   "cell_type": "code",
   "execution_count": 62,
   "metadata": {},
   "outputs": [
    {
     "data": {
      "image/png": "[encoded data removed]",
      "text/plain": [
       "<Figure size 720x720 with 1 Axes>"
      ]
     },
     "metadata": {},
     "output_type": "display_data"
    }
   ],
   "source": [
    "# annotating scatter plots \n",
    "friends = [70, 65, 72, 63, 71, 64, 60, 64, 67]\n",
    "minutes = [175, 170, 205, 120, 220, 130, 105, 145, 190]\n",
    "labels = ['a', 'b', 'c', 'd', 'e', 'f', 'g', 'h', 'i']\n",
    "\n",
    "fig, ax = plt.subplots(figsize=(10, 10))\n",
    "ax.scatter(friends, minutes, s=100)\n",
    "\n",
    "for label, friend, minute in zip(labels, friends, minutes):\n",
    "    ax.annotate(label, \n",
    "                xy=(friend, minute), \n",
    "                xytext=(10, -10),\n",
    "                textcoords='offset points')\n",
    "    \n",
    "ax.set(title='Daily Minutes vs. Number of Friends', \n",
    "       xlabel='Daily Minutes Spent on the Site', \n",
    "       ylabel='Number of Friends')\n",
    "\n",
    "plt.show()"
   ]
  },
  {
   "cell_type": "code",
   "execution_count": null,
   "metadata": {},
   "outputs": [],
   "source": [
    "\n"
   ]
  }
 ],
 "metadata": {
  "kernelspec": {
   "display_name": "Python 3",
   "language": "python",
   "name": "python3"
  },
  "language_info": {
   "codemirror_mode": {
    "name": "ipython",
    "version": 3
   },
   "file_extension": ".py",
   "mimetype": "text/x-python",
   "name": "python",
   "nbconvert_exporter": "python",
   "pygments_lexer": "ipython3",
   "version": "3.7.6"
  }
 },
 "nbformat": 4,
 "nbformat_minor": 2
}
