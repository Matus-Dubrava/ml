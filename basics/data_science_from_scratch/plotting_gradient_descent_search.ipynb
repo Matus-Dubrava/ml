{
 "cells": [
  {
   "cell_type": "code",
   "execution_count": 5,
   "metadata": {},
   "outputs": [],
   "source": [
    "import numpy as np\n",
    "import matplotlib.pyplot as plt\n",
    "plt.style.use(\"seaborn\")"
   ]
  },
  {
   "cell_type": "code",
   "execution_count": 294,
   "metadata": {},
   "outputs": [],
   "source": [
    "m = 1000\n",
    "X = np.random.rand(m, 1) * 100 - 50\n",
    "y = 5 + 2 * X + np.random.randn(m, 1) * 3"
   ]
  },
  {
   "cell_type": "code",
   "execution_count": 295,
   "metadata": {},
   "outputs": [],
   "source": [
    "class LinearRegression:\n",
    "    def __init__(self, learning_rate=0.1, n_epochs=100, batch_size=0, keep_thetas=False):\n",
    "        self.learning_rate = learning_rate\n",
    "        self.n_epochs = n_epochs\n",
    "        self.keep_thetas = keep_thetas\n",
    "        self.batch_size = batch_size\n",
    "        \n",
    "    def fit(self, X, y):\n",
    "        X_b = np.c_[np.ones((len(X), 1)), X]\n",
    "        self.theta_ = np.random.randn(len(X_b[0]), 1)\n",
    "        \n",
    "        # store theta values \n",
    "        if self.keep_thetas:\n",
    "            self.thetas_ = []\n",
    "        \n",
    "        if self.batch_size == 0:\n",
    "            for _ in range(self.n_epochs):\n",
    "                gradients = 2 / len(X) * X_b.T.dot(X_b.dot(self.theta_) - y)\n",
    "                self.theta_ -= self.learning_rate * gradients\n",
    "                if self.keep_thetas:\n",
    "                    self.thetas_.append(self.theta_.ravel().copy())\n",
    "                \n",
    "        else:\n",
    "            for _ in range(self.n_epochs):\n",
    "                for _ in range(int(len(X) / self.batch_size)):\n",
    "                    rand_indices = np.random.choice(range(len(X)), size=self.batch_size)\n",
    "                    X_batch = X_b[rand_indices, :]\n",
    "                    y_batch = y[rand_indices, :]\n",
    "                    gradients = 2 / len(X) * X_batch.T.dot(X_batch.dot(self.theta_) - y_batch)\n",
    "                    self.theta_ -= self.learning_rate * gradients\n",
    "                    if self.keep_thetas:\n",
    "                        self.thetas_.append(self.theta_.ravel().copy())\n",
    "            \n",
    "    def predict(self, X):\n",
    "        X_b = np.c_[np.ones((len(X), 1)), X]\n",
    "        return X_b.dot(self.theta_)\n",
    "    \n",
    "    def plot(self, X, y):\n",
    "        min_, max_ = X.min(), X.max()\n",
    "        X_line = [min_, max_]\n",
    "        y_line = self.predict(X_line)\n",
    "        plt.scatter(X, y)\n",
    "        plt.plot(X_line, y_line, color=\"salmon\")\n",
    "        plt.show()\n",
    "        \n",
    "    def plot_thetas(self, dest_x=None, dest_y=None):\n",
    "        if not self.keep_thetas:\n",
    "            raise Exception(\"Thetas were not stored during training, set keep_thetas=True\")\n",
    "            \n",
    "        self.thetas_ = np.array(self.thetas_)\n",
    "        plt.xlim(0, 6)\n",
    "        plt.ylim(0, 4)\n",
    "        plt.plot(self.thetas_[:, 0], self.thetas_[:, 1])\n",
    "        \n",
    "        if dest_x is not None and dest_y is not None:\n",
    "            plt.scatter([dest_x], [dest_y], color=\"red\", s=100)\n",
    "        \n",
    "        plt.show()"
   ]
  },
  {
   "cell_type": "code",
   "execution_count": 329,
   "metadata": {},
   "outputs": [
    {
     "data": {
      "text/plain": [
       "array([[4.62560149],\n",
       "       [1.98969857]])"
      ]
     },
     "execution_count": 329,
     "metadata": {},
     "output_type": "execute_result"
    }
   ],
   "source": [
    "np.random.seed(42)\n",
    "reg = LinearRegression(n_epochs=100, learning_rate=0.01, keep_thetas=True,\n",
    "                       batch_size=30)\n",
    "reg.fit(X, y)\n",
    "reg.theta_"
   ]
  },
  {
   "cell_type": "code",
   "execution_count": 330,
   "metadata": {
    "scrolled": true
   },
   "outputs": [
    {
     "data": {
      "image/png": "[encoded data removed]",
      "text/plain": [
       "<Figure size 576x396 with 1 Axes>"
      ]
     },
     "metadata": {},
     "output_type": "display_data"
    }
   ],
   "source": [
    "reg.plot_thetas(dest_x=5, dest_y=2)"
   ]
  },
  {
   "cell_type": "code",
   "execution_count": null,
   "metadata": {},
   "outputs": [],
   "source": []
  },
  {
   "cell_type": "code",
   "execution_count": null,
   "metadata": {},
   "outputs": [],
   "source": []
  },
  {
   "cell_type": "code",
   "execution_count": null,
   "metadata": {},
   "outputs": [],
   "source": []
  },
  {
   "cell_type": "code",
   "execution_count": null,
   "metadata": {},
   "outputs": [],
   "source": []
  },
  {
   "cell_type": "code",
   "execution_count": null,
   "metadata": {},
   "outputs": [],
   "source": []
  },
  {
   "cell_type": "code",
   "execution_count": null,
   "metadata": {},
   "outputs": [],
   "source": []
  },
  {
   "cell_type": "code",
   "execution_count": null,
   "metadata": {},
   "outputs": [],
   "source": []
  },
  {
   "cell_type": "code",
   "execution_count": null,
   "metadata": {},
   "outputs": [],
   "source": []
  }
 ],
 "metadata": {
  "kernelspec": {
   "display_name": "Python 3",
   "language": "python",
   "name": "python3"
  },
  "language_info": {
   "codemirror_mode": {
    "name": "ipython",
    "version": 3
   },
   "file_extension": ".py",
   "mimetype": "text/x-python",
   "name": "python",
   "nbconvert_exporter": "python",
   "pygments_lexer": "ipython3",
   "version": "3.7.6"
  }
 },
 "nbformat": 4,
 "nbformat_minor": 2
}
