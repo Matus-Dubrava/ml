{
 "cells": [
  {
   "cell_type": "code",
   "execution_count": 42,
   "metadata": {},
   "outputs": [],
   "source": [
    "from typing import List\n",
    "from collections import Counter\n",
    "import math"
   ]
  },
  {
   "cell_type": "code",
   "execution_count": 2,
   "metadata": {},
   "outputs": [
    {
     "name": "stdout",
     "output_type": "stream",
     "text": [
      "3.0\n"
     ]
    }
   ],
   "source": [
    "def mean(xs: List[float]) -> float:\n",
    "    '''return mean of a list'''\n",
    "    return sum(xs) / len(xs)\n",
    "\n",
    "print(mean([1, 2, 3, 4, 5]))"
   ]
  },
  {
   "cell_type": "code",
   "execution_count": 7,
   "metadata": {},
   "outputs": [
    {
     "name": "stdout",
     "output_type": "stream",
     "text": [
      "3\n",
      "3.5\n"
     ]
    }
   ],
   "source": [
    "def _median_odd(xs: List[float]) -> float:\n",
    "    return sorted(xs)[len(xs) // 2]\n",
    "\n",
    "def _median_even(xs: List[float]) -> float:\n",
    "    xs = sorted(xs)\n",
    "    return (xs[len(xs) // 2 - 1] + xs[len(xs) // 2]) / 2\n",
    "\n",
    "def median(xs: List[float]) -> float:\n",
    "    '''find the middle-most value of xs'''\n",
    "    return _median_even(xs) if len(xs) % 2 == 0 else _median_odd(xs)\n",
    "\n",
    "print(median([1, 2, 3, 4, 5]))\n",
    "print(median([1, 2, 3, 4, 5, 6]))"
   ]
  },
  {
   "cell_type": "code",
   "execution_count": 17,
   "metadata": {},
   "outputs": [
    {
     "name": "stdout",
     "output_type": "stream",
     "text": [
      "3\n"
     ]
    }
   ],
   "source": [
    "def quantile(xs: List[float], p: float) -> float:\n",
    "    '''return p-th percentile value of xs'''\n",
    "    assert p >= 0 and p < 1, 'p has to be between 0 and 1 (exclusive)'\n",
    "    \n",
    "    return sorted(xs)[int(p * len(xs))]\n",
    "\n",
    "print(quantile([1, 2, 3, 4, 5, 6, 7, 8, 9, 10], 0.25))"
   ]
  },
  {
   "cell_type": "code",
   "execution_count": 26,
   "metadata": {},
   "outputs": [
    {
     "name": "stdout",
     "output_type": "stream",
     "text": [
      "[1, 2, 6]\n"
     ]
    }
   ],
   "source": [
    "def mode(xs: List[float]) -> List[float]:\n",
    "    '''return list of the most common values xs'''\n",
    "    \n",
    "    counts = Counter(xs)\n",
    "    max_count = counts.most_common(1)[0][1]\n",
    "    return [x for x, y in counts.items() if y == max_count]\n",
    "\n",
    "print(mode([1, 1, 2, 2, 3, 4, 5, 6, 6]))"
   ]
  },
  {
   "cell_type": "code",
   "execution_count": 30,
   "metadata": {},
   "outputs": [
    {
     "name": "stdout",
     "output_type": "stream",
     "text": [
      "4\n"
     ]
    }
   ],
   "source": [
    "def data_range(xs: List[float]) -> float:\n",
    "    '''return difference between the smallest and the largest element in xs'''\n",
    "    return max(xs) - min(xs)\n",
    "\n",
    "print(data_range([1, 2, 3, 4, 5]))"
   ]
  },
  {
   "cell_type": "code",
   "execution_count": 41,
   "metadata": {},
   "outputs": [
    {
     "name": "stdout",
     "output_type": "stream",
     "text": [
      "1142.7755102040817\n"
     ]
    }
   ],
   "source": [
    "Vector = List[float]\n",
    "\n",
    "def subtract(v: Vector, w: Vector) -> Vector:\n",
    "    assert len(v) == len(w), 'vectors must be the same length'\n",
    "    return [x - y for x, y in zip(v, w)]\n",
    "\n",
    "def sum_of_squares(v: Vector) -> float:\n",
    "    return sum([x ** 2 for x in v])\n",
    "\n",
    "def variance(xs: List[float]) -> float:\n",
    "    '''\n",
    "    compute variance of xs\n",
    "    variance is computed:\n",
    "    - subtracting mean from of the xs from xs component-wise\n",
    "    - get sum of squares of the difference\n",
    "    - divide by n where n is length of the xs\n",
    "    '''\n",
    "    \n",
    "    mean_subtracted = subtract(xs, [mean(xs)] * len(xs))\n",
    "    return sum_of_squares(mean_subtracted) / (len(xs))\n",
    "    \n",
    "print(variance([1, 2, 3, 4, 5, 6, 100]))"
   ]
  },
  {
   "cell_type": "code",
   "execution_count": 46,
   "metadata": {},
   "outputs": [
    {
     "name": "stdout",
     "output_type": "stream",
     "text": [
      "33.804962804358794\n"
     ]
    }
   ],
   "source": [
    "def standard_deviation(xs: List[float]) -> float:\n",
    "    '''return standard deviation -> squared root of variance'''\n",
    "    return math.sqrt(variance(xs))\n",
    "\n",
    "print(standard_deviation([1, 2, 3, 4, 5, 6, 100]))"
   ]
  },
  {
   "cell_type": "code",
   "execution_count": 47,
   "metadata": {},
   "outputs": [],
   "source": [
    "def interquartile_range(xs: List[float]) -> float:\n",
    "    '''return difference between 0.75-ile and 0.25-ile'''\n",
    "    return quantile(xs, 0.75) - quantile(xs, 0.25)"
   ]
  },
  {
   "cell_type": "code",
   "execution_count": 68,
   "metadata": {},
   "outputs": [
    {
     "name": "stdout",
     "output_type": "stream",
     "text": [
      "376.6\n",
      "a\n"
     ]
    }
   ],
   "source": [
    "def dot(v: Vector, w: Vector) -> float:\n",
    "    assert len(v) == len(w), 'vectors must be the same length'\n",
    "    return sum([x * y for x, y in zip(v, w)])\n",
    "\n",
    "def covariance(xs: List[float], ys: List[float]) -> float:\n",
    "    '''\n",
    "    covariance is defined as a dot product of two vectors that has their mean \n",
    "    subtracted from them, divided by the length\n",
    "    '''\n",
    "    \n",
    "    xs_mean_subtracted = subtract(xs, [mean(xs)] * len(xs))\n",
    "    ys_mean_subtracted = subtract(ys, [mean(ys)] * len(ys))\n",
    "    \n",
    "    return dot(xs, ys) / len(xs)\n",
    "\n",
    "x = [1, 2, 3, 4, 5]\n",
    "y = [100, 110, 111, 120, 150]\n",
    "print(covariance(x, y))"
   ]
  },
  {
   "cell_type": "code",
   "execution_count": 79,
   "metadata": {},
   "outputs": [],
   "source": [
    "def correlation(xs: List[float], ys: List[float]) -> float:\n",
    "    '''measures how much xs and ys vary in tandem about their means'''\n",
    "    stdev_x = standard_deviation(xs)\n",
    "    stdev_y = standard_deviation(ys)\n",
    "    \n",
    "    if stdev_x > 0 and stdev_y > 0: \n",
    "        return covariance(xs, ys) / stdev_x / stdev_y\n",
    "    else:\n",
    "        return 0"
   ]
  },
  {
   "cell_type": "code",
   "execution_count": null,
   "metadata": {},
   "outputs": [],
   "source": []
  },
  {
   "cell_type": "code",
   "execution_count": null,
   "metadata": {},
   "outputs": [],
   "source": []
  },
  {
   "cell_type": "code",
   "execution_count": null,
   "metadata": {},
   "outputs": [],
   "source": []
  },
  {
   "cell_type": "code",
   "execution_count": null,
   "metadata": {},
   "outputs": [],
   "source": []
  },
  {
   "cell_type": "code",
   "execution_count": null,
   "metadata": {},
   "outputs": [],
   "source": []
  }
 ],
 "metadata": {
  "kernelspec": {
   "display_name": "Python 3",
   "language": "python",
   "name": "python3"
  },
  "language_info": {
   "codemirror_mode": {
    "name": "ipython",
    "version": 3
   },
   "file_extension": ".py",
   "mimetype": "text/x-python",
   "name": "python",
   "nbconvert_exporter": "python",
   "pygments_lexer": "ipython3",
   "version": "3.7.6"
  }
 },
 "nbformat": 4,
 "nbformat_minor": 2
}
