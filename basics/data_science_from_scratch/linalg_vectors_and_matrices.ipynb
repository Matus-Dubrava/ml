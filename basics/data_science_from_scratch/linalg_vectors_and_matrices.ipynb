{
 "cells": [
  {
   "cell_type": "code",
   "execution_count": 32,
   "metadata": {},
   "outputs": [],
   "source": [
    "from typing import List, Tuple, Callable\n",
    "import math"
   ]
  },
  {
   "cell_type": "markdown",
   "metadata": {},
   "source": [
    "## Vectors"
   ]
  },
  {
   "cell_type": "code",
   "execution_count": 2,
   "metadata": {},
   "outputs": [],
   "source": [
    "Vector = List[float]"
   ]
  },
  {
   "cell_type": "code",
   "execution_count": 3,
   "metadata": {},
   "outputs": [
    {
     "name": "stdout",
     "output_type": "stream",
     "text": [
      "[5, 7, 9]\n"
     ]
    }
   ],
   "source": [
    "def add(v: Vector, w: Vector) -> Vector:\n",
    "    '''Perform pairwise sum of vector components'''    \n",
    "    assert len(v) == len(w), 'vectors must be the same length'\n",
    "    \n",
    "    return [v_i + w_i for v_i, w_i in zip(v, w)]\n",
    "\n",
    "print(add([1, 2, 3], [4, 5, 6]))"
   ]
  },
  {
   "cell_type": "code",
   "execution_count": 4,
   "metadata": {},
   "outputs": [
    {
     "name": "stdout",
     "output_type": "stream",
     "text": [
      "[1, 2, 3]\n"
     ]
    }
   ],
   "source": [
    "def subtract(v: Vector, w: Vector) -> Vector:\n",
    "    '''subtract corresponding vector components'''\n",
    "    assert len(v) == len(w), 'vectors must be the same length'\n",
    "    \n",
    "    return [v_i - w_i for v_i, w_i in zip(v, w)]\n",
    "\n",
    "print(subtract([5, 7, 9], [4, 5, 6]))"
   ]
  },
  {
   "cell_type": "code",
   "execution_count": 9,
   "metadata": {},
   "outputs": [
    {
     "name": "stdout",
     "output_type": "stream",
     "text": [
      "[16, 20]\n"
     ]
    }
   ],
   "source": [
    "def vector_sum(vectors: List[Vector]) -> Vector:\n",
    "    '''sums corresponding components'''\n",
    "    assert vectors, 'no vectors provided'\n",
    "    \n",
    "    v_len = len(vectors[0])\n",
    "    assert all(len(v) == v_len for v in vectors), 'all vectors must be the same length'\n",
    "            \n",
    "    return [sum(vector[i] for vector in vectors) for i in range(v_len)]\n",
    "\n",
    "print(vector_sum([[1, 2], [3, 4], [5, 6], [7, 8]]))"
   ]
  },
  {
   "cell_type": "code",
   "execution_count": 12,
   "metadata": {},
   "outputs": [
    {
     "name": "stdout",
     "output_type": "stream",
     "text": [
      "[3, 6, 9]\n"
     ]
    }
   ],
   "source": [
    "def scalar_multiply(c: float, v: Vector) -> Vector:\n",
    "    '''multiply every element by c'''\n",
    "    \n",
    "    return [v_i * c for v_i in v]\n",
    "\n",
    "print(scalar_multiply(3, [1, 2, 3]))"
   ]
  },
  {
   "cell_type": "code",
   "execution_count": 13,
   "metadata": {},
   "outputs": [
    {
     "data": {
      "text/plain": [
       "[[3.0, 4.0]]"
      ]
     },
     "execution_count": 13,
     "metadata": {},
     "output_type": "execute_result"
    }
   ],
   "source": [
    "def vector_mean(vectors: List[Vector]) -> Vector:\n",
    "    '''computes element-wise average'''\n",
    "    n = len(vectors)\n",
    "    return [scalar_multiply(1/n, vector_sum(vectors))]\n",
    "\n",
    "vector_mean([[1, 2], [3, 4], [5, 6]])"
   ]
  },
  {
   "cell_type": "code",
   "execution_count": 15,
   "metadata": {},
   "outputs": [
    {
     "name": "stdout",
     "output_type": "stream",
     "text": [
      "32\n"
     ]
    }
   ],
   "source": [
    "def dot(v: Vector, w: Vector) -> float:\n",
    "    '''computes dot product of 2 vectors'''\n",
    "    assert len(v) == len(w), 'vectors must be the same length'\n",
    "    \n",
    "    return sum([v_i * w_i for v_i, w_i in zip(v, w)])\n",
    "\n",
    "print(dot([1, 2, 3], [4, 5, 6]))"
   ]
  },
  {
   "cell_type": "code",
   "execution_count": 17,
   "metadata": {},
   "outputs": [
    {
     "name": "stdout",
     "output_type": "stream",
     "text": [
      "14\n"
     ]
    }
   ],
   "source": [
    "def sum_of_squares(v: Vector) -> float:\n",
    "    '''returns v_1 * v_1 + v_2 * v_2 ... v_n * v_n'''\n",
    "    \n",
    "    return dot(v, v)\n",
    "\n",
    "print(sum_of_squares([1, 2, 3]))"
   ]
  },
  {
   "cell_type": "code",
   "execution_count": 19,
   "metadata": {},
   "outputs": [
    {
     "name": "stdout",
     "output_type": "stream",
     "text": [
      "5\n"
     ]
    }
   ],
   "source": [
    "def magnitude(v: Vector) -> float:\n",
    "    '''return magnitude (length) of a vector'''\n",
    "    \n",
    "    return math.sqrt(sum_of_squares(v))\n",
    "\n",
    "print(sum_of_squares([1, 2]))"
   ]
  },
  {
   "cell_type": "code",
   "execution_count": 20,
   "metadata": {},
   "outputs": [],
   "source": [
    "def distance(v: Vector, w: Vector) -> float:\n",
    "    '''computes distance between v and w'''\n",
    "    \n",
    "    return math.sqrt(sum_of_squares(subtract(v, w)))"
   ]
  },
  {
   "cell_type": "markdown",
   "metadata": {},
   "source": [
    "## Matrices"
   ]
  },
  {
   "cell_type": "code",
   "execution_count": 28,
   "metadata": {},
   "outputs": [],
   "source": [
    "Matrix = List[List[float]]\n",
    "\n",
    "A = [[1, 2, 3], \n",
    "     [4, 5, 6]]"
   ]
  },
  {
   "cell_type": "code",
   "execution_count": 29,
   "metadata": {},
   "outputs": [
    {
     "name": "stdout",
     "output_type": "stream",
     "text": [
      "(2, 3)\n"
     ]
    }
   ],
   "source": [
    "def shape(A: Matrix) -> Tuple[int, int]:\n",
    "    '''returns shape of the matrix: (rows, columns)'''\n",
    "    return len(A), len(A[0])\n",
    "\n",
    "print(shape(A))"
   ]
  },
  {
   "cell_type": "code",
   "execution_count": 30,
   "metadata": {},
   "outputs": [
    {
     "name": "stdout",
     "output_type": "stream",
     "text": [
      "[4, 5, 6]\n"
     ]
    }
   ],
   "source": [
    "def get_row(A: Matrix, i: int) -> Vector:\n",
    "    '''returns i-th row of a matrix'''\n",
    "    \n",
    "    return A[i]\n",
    "\n",
    "print(get_row(A, 1))"
   ]
  },
  {
   "cell_type": "code",
   "execution_count": 31,
   "metadata": {},
   "outputs": [
    {
     "name": "stdout",
     "output_type": "stream",
     "text": [
      "[2, 5]\n"
     ]
    }
   ],
   "source": [
    "def get_column(A: Matrix, j: int) -> Vector:\n",
    "    '''returns j-th column of a matrix'''\n",
    "    \n",
    "    return [vector[j] for vector in A]\n",
    "\n",
    "print(get_column(A, 1))"
   ]
  },
  {
   "cell_type": "code",
   "execution_count": 35,
   "metadata": {},
   "outputs": [],
   "source": [
    "def make_matrix(n_rows: int, \n",
    "                n_cols: int, \n",
    "                fn: Callable[[int, int], float]) -> Matrix:\n",
    "    \n",
    "    '''returns matrix(n_rows, n_cols) where (i, j) is fn(i, j)'''\n",
    "    \n",
    "    return [[fn(i, j) for j in range(n_cols)] for i in range(n_rows)]"
   ]
  },
  {
   "cell_type": "code",
   "execution_count": 36,
   "metadata": {},
   "outputs": [
    {
     "name": "stdout",
     "output_type": "stream",
     "text": [
      "[[1, 0, 0, 0, 0], [0, 1, 0, 0, 0], [0, 0, 1, 0, 0], [0, 0, 0, 1, 0], [0, 0, 0, 0, 1]]\n"
     ]
    }
   ],
   "source": [
    "def identity_matrix(n: int) -> Matrix:\n",
    "    '''returns identity matrix of size (n, n)'''\n",
    "    \n",
    "    return make_matrix(n, n, lambda i, j: 1 if i == j else 0)\n",
    "\n",
    "print(identity_matrix(5))"
   ]
  },
  {
   "cell_type": "code",
   "execution_count": null,
   "metadata": {},
   "outputs": [],
   "source": []
  }
 ],
 "metadata": {
  "kernelspec": {
   "display_name": "Python 3",
   "language": "python",
   "name": "python3"
  },
  "language_info": {
   "codemirror_mode": {
    "name": "ipython",
    "version": 3
   },
   "file_extension": ".py",
   "mimetype": "text/x-python",
   "name": "python",
   "nbconvert_exporter": "python",
   "pygments_lexer": "ipython3",
   "version": "3.7.6"
  }
 },
 "nbformat": 4,
 "nbformat_minor": 2
}
