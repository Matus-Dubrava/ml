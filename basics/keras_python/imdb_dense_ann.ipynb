{
  "nbformat": 4,
  "nbformat_minor": 0,
  "metadata": {
    "colab": {
      "name": "imdb_dense_ann.ipynb",
      "provenance": [],
      "collapsed_sections": [],
      "toc_visible": true
    },
    "kernelspec": {
      "name": "python3",
      "display_name": "Python 3"
    },
    "accelerator": "TPU"
  },
  "cells": [
    {
      "cell_type": "code",
      "metadata": {
        "id": "bNTD6l6djzdU",
        "colab_type": "code",
        "outputId": "d64e5405-5d25-414b-bc81-606fa28273ef",
        "colab": {
          "base_uri": "https://localhost:8080/",
          "height": 34
        }
      },
      "source": [
        "%tensorflow_version 2.x"
      ],
      "execution_count": 1,
      "outputs": [
        {
          "output_type": "stream",
          "text": [
            "TensorFlow 2.x selected.\n"
          ],
          "name": "stdout"
        }
      ]
    },
    {
      "cell_type": "code",
      "metadata": {
        "id": "gACdStO0j6p5",
        "colab_type": "code",
        "colab": {}
      },
      "source": [
        "from tensorflow import keras\n",
        "from keras.datasets import imdb\n",
        "import numpy as np"
      ],
      "execution_count": 0,
      "outputs": []
    },
    {
      "cell_type": "code",
      "metadata": {
        "id": "xBy4Caxkj-sb",
        "colab_type": "code",
        "colab": {}
      },
      "source": [
        "(X_train, y_train), (X_test, y_test) = imdb.load_data(num_words=10000)"
      ],
      "execution_count": 0,
      "outputs": []
    },
    {
      "cell_type": "code",
      "metadata": {
        "id": "wxGXV4OlkjSj",
        "colab_type": "code",
        "colab": {
          "base_uri": "https://localhost:8080/",
          "height": 34
        },
        "outputId": "531382e0-7490-406a-e864-82bdd6062f54"
      },
      "source": [
        "X_train.shape, len(X_train[2])"
      ],
      "execution_count": 16,
      "outputs": [
        {
          "output_type": "execute_result",
          "data": {
            "text/plain": [
              "((25000,), 141)"
            ]
          },
          "metadata": {
            "tags": []
          },
          "execution_count": 16
        }
      ]
    },
    {
      "cell_type": "code",
      "metadata": {
        "id": "s25UNbkwkkny",
        "colab_type": "code",
        "colab": {
          "base_uri": "https://localhost:8080/",
          "height": 34
        },
        "outputId": "2f196866-7521-412b-9e60-b30561914e7d"
      },
      "source": [
        "y_train[0]"
      ],
      "execution_count": 17,
      "outputs": [
        {
          "output_type": "execute_result",
          "data": {
            "text/plain": [
              "1"
            ]
          },
          "metadata": {
            "tags": []
          },
          "execution_count": 17
        }
      ]
    },
    {
      "cell_type": "code",
      "metadata": {
        "id": "mZPtaXyik9o7",
        "colab_type": "code",
        "colab": {
          "base_uri": "https://localhost:8080/",
          "height": 34
        },
        "outputId": "87c4325a-0cd7-41f5-a744-6272cac3bfaa"
      },
      "source": [
        "max(max(sequence) for sequence in X_train)"
      ],
      "execution_count": 18,
      "outputs": [
        {
          "output_type": "execute_result",
          "data": {
            "text/plain": [
              "9999"
            ]
          },
          "metadata": {
            "tags": []
          },
          "execution_count": 18
        }
      ]
    },
    {
      "cell_type": "code",
      "metadata": {
        "id": "VBvFMgCBlSpy",
        "colab_type": "code",
        "colab": {
          "base_uri": "https://localhost:8080/",
          "height": 51
        },
        "outputId": "09f2ec1c-f329-4d3a-97ae-e1fa4c765c93"
      },
      "source": [
        "word_index = imdb.get_word_index()\n",
        "reverse_word_index = dict(\n",
        "    [(value, key) for (key, value) in word_index.items()]\n",
        ")\n",
        "decoded_review = ' '.join(\n",
        "    [reverse_word_index.get(i - 3, \"?\") for i in X_train[0]]\n",
        ")"
      ],
      "execution_count": 19,
      "outputs": [
        {
          "output_type": "stream",
          "text": [
            "Downloading data from https://s3.amazonaws.com/text-datasets/imdb_word_index.json\n",
            "1646592/1641221 [==============================] - 0s 0us/step\n"
          ],
          "name": "stdout"
        }
      ]
    },
    {
      "cell_type": "code",
      "metadata": {
        "id": "7hZETsa-l56d",
        "colab_type": "code",
        "colab": {
          "base_uri": "https://localhost:8080/",
          "height": 54
        },
        "outputId": "39d001a9-7465-4c70-dfb9-bf9598e0d128"
      },
      "source": [
        "decoded_review"
      ],
      "execution_count": 20,
      "outputs": [
        {
          "output_type": "execute_result",
          "data": {
            "text/plain": [
              "\"? this film was just brilliant casting location scenery story direction everyone's really suited the part they played and you could just imagine being there robert ? is an amazing actor and now the same being director ? father came from the same scottish island as myself so i loved the fact there was a real connection with this film the witty remarks throughout the film were great it was just brilliant so much that i bought the film as soon as it was released for ? and would recommend it to everyone to watch and the fly fishing was amazing really cried at the end it was so sad and you know what they say if you cry at a film it must have been good and this definitely was also ? to the two little boy's that played the ? of norman and paul they were just brilliant children are often left out of the ? list i think because the stars that play them all grown up are such a big profile for the whole film but these children are amazing and should be praised for what they have done don't you think the whole story was so lovely because it was true and was someone's life after all that was shared with us all\""
            ]
          },
          "metadata": {
            "tags": []
          },
          "execution_count": 20
        }
      ]
    },
    {
      "cell_type": "code",
      "metadata": {
        "id": "JFBn_GWjl8Fu",
        "colab_type": "code",
        "colab": {}
      },
      "source": [
        "def vectorize_sequences(sequences, dimension=10000):\n",
        "  result = np.zeros((len(sequences), dimension))\n",
        "  for i, sequence in enumerate(sequences):\n",
        "    result[i, sequence] = 1\n",
        "  return result"
      ],
      "execution_count": 0,
      "outputs": []
    },
    {
      "cell_type": "code",
      "metadata": {
        "id": "In5q3VmCmbR3",
        "colab_type": "code",
        "colab": {}
      },
      "source": [
        "X_train = vectorize_sequences(X_train)\n",
        "X_test = vectorize_sequences(X_test)"
      ],
      "execution_count": 0,
      "outputs": []
    },
    {
      "cell_type": "code",
      "metadata": {
        "id": "fhT1dAUpmfTI",
        "colab_type": "code",
        "colab": {
          "base_uri": "https://localhost:8080/",
          "height": 34
        },
        "outputId": "718e113c-b8e7-4ea5-8ca0-0842775e2caa"
      },
      "source": [
        "len(X_train[0]), X_train[0]"
      ],
      "execution_count": 25,
      "outputs": [
        {
          "output_type": "execute_result",
          "data": {
            "text/plain": [
              "(10000, array([0., 1., 1., ..., 0., 0., 0.]))"
            ]
          },
          "metadata": {
            "tags": []
          },
          "execution_count": 25
        }
      ]
    },
    {
      "cell_type": "code",
      "metadata": {
        "id": "uCpvPSqcmhXX",
        "colab_type": "code",
        "colab": {}
      },
      "source": [
        "y_train = y_train.astype(\"float32\")\n",
        "y_test = y_test.astype(\"float32\")"
      ],
      "execution_count": 0,
      "outputs": []
    },
    {
      "cell_type": "code",
      "metadata": {
        "id": "_r8BA9YjmsGM",
        "colab_type": "code",
        "colab": {}
      },
      "source": [
        "model = keras.Sequential([\n",
        "                          keras.layers.Dense(16, activation=\"relu\", input_shape=(10000,)),\n",
        "                          keras.layers.Dense(16, activation=\"relu\"),\n",
        "                          keras.layers.Dense(1, activation=\"sigmoid\")\n",
        "])\n",
        "model.compile(loss=\"binary_crossentropy\", optimizer=\"rmsprop\", metrics=[\"accuracy\"])"
      ],
      "execution_count": 0,
      "outputs": []
    },
    {
      "cell_type": "code",
      "metadata": {
        "id": "QzMW0CwBm14v",
        "colab_type": "code",
        "colab": {}
      },
      "source": [
        "X_val = X_train[:10000]\n",
        "partial_X_train = X_train[10000:]\n",
        "y_val = y_train[:10000]\n",
        "partial_y_train = y_train[10000:]"
      ],
      "execution_count": 0,
      "outputs": []
    },
    {
      "cell_type": "code",
      "metadata": {
        "id": "JLH2oGJVnVwn",
        "colab_type": "code",
        "colab": {
          "base_uri": "https://localhost:8080/",
          "height": 714
        },
        "outputId": "38fd7ebd-c508-4368-f768-db67a328ceeb"
      },
      "source": [
        "history = model.fit(partial_X_train, partial_y_train, batch_size=512, epochs=20, \n",
        "                    validation_data=(X_val, y_val))"
      ],
      "execution_count": 34,
      "outputs": [
        {
          "output_type": "stream",
          "text": [
            "Train on 15000 samples, validate on 10000 samples\n",
            "Epoch 1/20\n",
            "15000/15000 [==============================] - 2s 164us/sample - loss: 0.5107 - accuracy: 0.7826 - val_loss: 0.3856 - val_accuracy: 0.8628\n",
            "Epoch 2/20\n",
            "15000/15000 [==============================] - 2s 111us/sample - loss: 0.3012 - accuracy: 0.9009 - val_loss: 0.2996 - val_accuracy: 0.8869\n",
            "Epoch 3/20\n",
            "15000/15000 [==============================] - 2s 109us/sample - loss: 0.2191 - accuracy: 0.9254 - val_loss: 0.2771 - val_accuracy: 0.8894\n",
            "Epoch 4/20\n",
            "15000/15000 [==============================] - 2s 109us/sample - loss: 0.1691 - accuracy: 0.9435 - val_loss: 0.2762 - val_accuracy: 0.8888\n",
            "Epoch 5/20\n",
            "15000/15000 [==============================] - 2s 109us/sample - loss: 0.1401 - accuracy: 0.9538 - val_loss: 0.3272 - val_accuracy: 0.8723\n",
            "Epoch 6/20\n",
            "15000/15000 [==============================] - 2s 108us/sample - loss: 0.1145 - accuracy: 0.9635 - val_loss: 0.3157 - val_accuracy: 0.8789\n",
            "Epoch 7/20\n",
            "15000/15000 [==============================] - 2s 107us/sample - loss: 0.0949 - accuracy: 0.9717 - val_loss: 0.3144 - val_accuracy: 0.8830\n",
            "Epoch 8/20\n",
            "15000/15000 [==============================] - 2s 107us/sample - loss: 0.0789 - accuracy: 0.9767 - val_loss: 0.3365 - val_accuracy: 0.8806\n",
            "Epoch 9/20\n",
            "15000/15000 [==============================] - 2s 105us/sample - loss: 0.0674 - accuracy: 0.9807 - val_loss: 0.3613 - val_accuracy: 0.8772\n",
            "Epoch 10/20\n",
            "15000/15000 [==============================] - 2s 108us/sample - loss: 0.0505 - accuracy: 0.9881 - val_loss: 0.3842 - val_accuracy: 0.8768\n",
            "Epoch 11/20\n",
            "15000/15000 [==============================] - 2s 110us/sample - loss: 0.0419 - accuracy: 0.9902 - val_loss: 0.4214 - val_accuracy: 0.8759\n",
            "Epoch 12/20\n",
            "15000/15000 [==============================] - 2s 109us/sample - loss: 0.0366 - accuracy: 0.9915 - val_loss: 0.4489 - val_accuracy: 0.8681\n",
            "Epoch 13/20\n",
            "15000/15000 [==============================] - 2s 109us/sample - loss: 0.0269 - accuracy: 0.9948 - val_loss: 0.4767 - val_accuracy: 0.8734\n",
            "Epoch 14/20\n",
            "15000/15000 [==============================] - 2s 109us/sample - loss: 0.0234 - accuracy: 0.9952 - val_loss: 0.5051 - val_accuracy: 0.8711\n",
            "Epoch 15/20\n",
            "15000/15000 [==============================] - 2s 110us/sample - loss: 0.0135 - accuracy: 0.9988 - val_loss: 0.6060 - val_accuracy: 0.8617\n",
            "Epoch 16/20\n",
            "15000/15000 [==============================] - 2s 109us/sample - loss: 0.0138 - accuracy: 0.9984 - val_loss: 0.5800 - val_accuracy: 0.8706\n",
            "Epoch 17/20\n",
            "15000/15000 [==============================] - 2s 109us/sample - loss: 0.0121 - accuracy: 0.9979 - val_loss: 0.6088 - val_accuracy: 0.8685\n",
            "Epoch 18/20\n",
            "15000/15000 [==============================] - 2s 109us/sample - loss: 0.0060 - accuracy: 0.9998 - val_loss: 0.6763 - val_accuracy: 0.8586\n",
            "Epoch 19/20\n",
            "15000/15000 [==============================] - 2s 108us/sample - loss: 0.0064 - accuracy: 0.9994 - val_loss: 0.6815 - val_accuracy: 0.8655\n",
            "Epoch 20/20\n",
            "15000/15000 [==============================] - 2s 108us/sample - loss: 0.0058 - accuracy: 0.9987 - val_loss: 0.7227 - val_accuracy: 0.8644\n"
          ],
          "name": "stdout"
        }
      ]
    },
    {
      "cell_type": "code",
      "metadata": {
        "id": "x6jrw5RVn_40",
        "colab_type": "code",
        "colab": {}
      },
      "source": [
        "import matplotlib.pyplot as plt\n",
        "plt.style.use(\"seaborn\")"
      ],
      "execution_count": 0,
      "outputs": []
    },
    {
      "cell_type": "code",
      "metadata": {
        "id": "klnpKqWgoQOb",
        "colab_type": "code",
        "colab": {
          "base_uri": "https://localhost:8080/",
          "height": 34
        },
        "outputId": "91325eba-69e7-4bdb-a543-2fa816bd296a"
      },
      "source": [
        "history_dict = history.history\n",
        "history_dict.keys()"
      ],
      "execution_count": 36,
      "outputs": [
        {
          "output_type": "execute_result",
          "data": {
            "text/plain": [
              "dict_keys(['loss', 'accuracy', 'val_loss', 'val_accuracy'])"
            ]
          },
          "metadata": {
            "tags": []
          },
          "execution_count": 36
        }
      ]
    },
    {
      "cell_type": "code",
      "metadata": {
        "id": "ML3wyc1coVOs",
        "colab_type": "code",
        "colab": {
          "base_uri": "https://localhost:8080/",
          "height": 376
        },
        "outputId": "204e76b5-3912-4ba6-f2f8-2e85fa162ce6"
      },
      "source": [
        "loss_values = history_dict[\"loss\"]\n",
        "val_loss_values = history_dict[\"val_loss\"]\n",
        "epochs = range(1, len(loss_values) + 1)\n",
        "\n",
        "plt.plot(epochs, loss_values, \"bo\", label=\"training loss\")\n",
        "plt.plot(epochs, val_loss_values, \"b\", label=\"validation loss\")\n",
        "plt.title(\"Training and validation loss\")\n",
        "plt.xlabel(\"Epochs\")\n",
        "plt.ylabel(\"Loss\")\n",
        "plt.legend()\n",
        "plt.show()"
      ],
      "execution_count": 41,
      "outputs": [
        {
          "output_type": "display_data",
          "data": {
            "image/png": "[encoded data removed]",
            "text/plain": [
              "<Figure size 576x396 with 1 Axes>"
            ]
          },
          "metadata": {
            "tags": []
          }
        }
      ]
    },
    {
      "cell_type": "code",
      "metadata": {
        "id": "AcPPZAGWu0-X",
        "colab_type": "code",
        "colab": {
          "base_uri": "https://localhost:8080/",
          "height": 376
        },
        "outputId": "56671052-8fef-4dde-cec3-9e3b1d5b70c1"
      },
      "source": [
        "acc = history_dict[\"accuracy\"]\n",
        "val_acc = history_dict[\"val_accuracy\"]\n",
        "\n",
        "plt.plot(epochs, acc, \"bo\", label=\"training loss\")\n",
        "plt.plot(epochs, val_acc, \"b\", label=\"validation loss\")\n",
        "plt.title(\"Training and validation accuracy\")\n",
        "plt.xlabel(\"Epochs\")\n",
        "plt.ylabel(\"Accuracy\")\n",
        "plt.legend()\n",
        "plt.show()"
      ],
      "execution_count": 42,
      "outputs": [
        {
          "output_type": "display_data",
          "data": {
            "image/png": "[encoded data removed]",
            "text/plain": [
              "<Figure size 576x396 with 1 Axes>"
            ]
          },
          "metadata": {
            "tags": []
          }
        }
      ]
    },
    {
      "cell_type": "code",
      "metadata": {
        "id": "QE2v8dDDvl4G",
        "colab_type": "code",
        "colab": {}
      },
      "source": [
        "model = keras.Sequential([\n",
        "                          keras.layers.Dense(16, activation=\"relu\", input_shape=(10000,)),\n",
        "                          keras.layers.Dense(16, activation=\"relu\"),\n",
        "                          keras.layers.Dense(1, activation=\"sigmoid\")\n",
        "])\n",
        "model.compile(loss=\"binary_crossentropy\", optimizer=\"rmsprop\", metrics=[\"accuracy\"])"
      ],
      "execution_count": 0,
      "outputs": []
    },
    {
      "cell_type": "code",
      "metadata": {
        "id": "m6SunvdXwVq0",
        "colab_type": "code",
        "colab": {
          "base_uri": "https://localhost:8080/",
          "height": 187
        },
        "outputId": "78f4ff24-b5f1-493a-b788-d2b3429c243e"
      },
      "source": [
        "model.fit(partial_X_train, partial_y_train, epochs=4, batch_size=512,\n",
        "          validation_data=(X_val, y_val))"
      ],
      "execution_count": 44,
      "outputs": [
        {
          "output_type": "stream",
          "text": [
            "Train on 15000 samples, validate on 10000 samples\n",
            "Epoch 1/4\n",
            "15000/15000 [==============================] - 2s 160us/sample - loss: 0.5173 - accuracy: 0.7936 - val_loss: 0.3872 - val_accuracy: 0.8678\n",
            "Epoch 2/4\n",
            "15000/15000 [==============================] - 2s 105us/sample - loss: 0.3088 - accuracy: 0.9008 - val_loss: 0.3166 - val_accuracy: 0.8774\n",
            "Epoch 3/4\n",
            "15000/15000 [==============================] - 2s 107us/sample - loss: 0.2224 - accuracy: 0.9300 - val_loss: 0.2885 - val_accuracy: 0.8855\n",
            "Epoch 4/4\n",
            "15000/15000 [==============================] - 2s 105us/sample - loss: 0.1794 - accuracy: 0.9431 - val_loss: 0.2749 - val_accuracy: 0.8875\n"
          ],
          "name": "stdout"
        },
        {
          "output_type": "execute_result",
          "data": {
            "text/plain": [
              "<tensorflow.python.keras.callbacks.History at 0x7f4f4c964048>"
            ]
          },
          "metadata": {
            "tags": []
          },
          "execution_count": 44
        }
      ]
    },
    {
      "cell_type": "code",
      "metadata": {
        "id": "WQWeXpo4wfTX",
        "colab_type": "code",
        "colab": {
          "base_uri": "https://localhost:8080/",
          "height": 51
        },
        "outputId": "9794ae5a-7737-406a-8697-88286f146883"
      },
      "source": [
        "model.evaluate(X_test, y_test)"
      ],
      "execution_count": 45,
      "outputs": [
        {
          "output_type": "stream",
          "text": [
            "25000/25000 [==============================] - 2s 90us/sample - loss: 0.2931 - accuracy: 0.8828\n"
          ],
          "name": "stdout"
        },
        {
          "output_type": "execute_result",
          "data": {
            "text/plain": [
              "[0.29306093593120575, 0.8828]"
            ]
          },
          "metadata": {
            "tags": []
          },
          "execution_count": 45
        }
      ]
    },
    {
      "cell_type": "code",
      "metadata": {
        "id": "kCTX2N24wjHI",
        "colab_type": "code",
        "colab": {
          "base_uri": "https://localhost:8080/",
          "height": 136
        },
        "outputId": "4b398eff-fe38-48e2-c046-954449fe0dd3"
      },
      "source": [
        "model.predict(X_test)"
      ],
      "execution_count": 46,
      "outputs": [
        {
          "output_type": "execute_result",
          "data": {
            "text/plain": [
              "array([[0.27263522],\n",
              "       [0.99617034],\n",
              "       [0.86786556],\n",
              "       ...,\n",
              "       [0.08421664],\n",
              "       [0.1195448 ],\n",
              "       [0.41999787]], dtype=float32)"
            ]
          },
          "metadata": {
            "tags": []
          },
          "execution_count": 46
        }
      ]
    },
    {
      "cell_type": "code",
      "metadata": {
        "id": "XCbbtAp7wsiL",
        "colab_type": "code",
        "colab": {
          "base_uri": "https://localhost:8080/",
          "height": 425
        },
        "outputId": "f6713aa0-3fdb-43fb-a6c6-c344f7b32b75"
      },
      "source": [
        "model = keras.Sequential([\n",
        "                          keras.layers.Dense(32, activation=\"relu\", input_shape=(10000,)),\n",
        "                          keras.layers.Dropout(rate=0.4),\n",
        "                          keras.layers.Dense(32, activation=\"relu\"),\n",
        "                          keras.layers.Dropout(rate=0.4),\n",
        "                          keras.layers.Dense(32, activation=\"relu\"),\n",
        "                          keras.layers.Dropout(rate=0.4),\n",
        "                          keras.layers.Dense(1, activation=\"sigmoid\")\n",
        "])\n",
        "model.compile(loss=\"binary_crossentropy\", metrics=[\"accuracy\"], optimizer=\"rmsprop\")\n",
        "model.fit(partial_X_train, partial_y_train, epochs=100, batch_size=32,\n",
        "          validation_data=(X_val, y_val),\n",
        "          callbacks=[keras.callbacks.EarlyStopping(patience=10, restore_best_weights=True)])"
      ],
      "execution_count": 50,
      "outputs": [
        {
          "output_type": "stream",
          "text": [
            "Train on 15000 samples, validate on 10000 samples\n",
            "Epoch 1/100\n",
            "15000/15000 [==============================] - 5s 334us/sample - loss: 0.4759 - accuracy: 0.7793 - val_loss: 0.3019 - val_accuracy: 0.8822\n",
            "Epoch 2/100\n",
            "15000/15000 [==============================] - 4s 287us/sample - loss: 0.3131 - accuracy: 0.8891 - val_loss: 0.3094 - val_accuracy: 0.8847\n",
            "Epoch 3/100\n",
            "15000/15000 [==============================] - 4s 279us/sample - loss: 0.2619 - accuracy: 0.9094 - val_loss: 0.3149 - val_accuracy: 0.8852\n",
            "Epoch 4/100\n",
            "15000/15000 [==============================] - 4s 280us/sample - loss: 0.2386 - accuracy: 0.9212 - val_loss: 0.3110 - val_accuracy: 0.8852\n",
            "Epoch 5/100\n",
            "15000/15000 [==============================] - 4s 281us/sample - loss: 0.2146 - accuracy: 0.9268 - val_loss: 0.3171 - val_accuracy: 0.8850\n",
            "Epoch 6/100\n",
            "15000/15000 [==============================] - 4s 281us/sample - loss: 0.1946 - accuracy: 0.9336 - val_loss: 0.3441 - val_accuracy: 0.8849\n",
            "Epoch 7/100\n",
            "15000/15000 [==============================] - 4s 283us/sample - loss: 0.1907 - accuracy: 0.9360 - val_loss: 0.3611 - val_accuracy: 0.8836\n",
            "Epoch 8/100\n",
            "15000/15000 [==============================] - 4s 282us/sample - loss: 0.1703 - accuracy: 0.9416 - val_loss: 0.4106 - val_accuracy: 0.8821\n",
            "Epoch 9/100\n",
            "15000/15000 [==============================] - 4s 286us/sample - loss: 0.1651 - accuracy: 0.9445 - val_loss: 0.4636 - val_accuracy: 0.8789\n",
            "Epoch 10/100\n",
            "15000/15000 [==============================] - 4s 280us/sample - loss: 0.1831 - accuracy: 0.9435 - val_loss: 0.4689 - val_accuracy: 0.8791\n",
            "Epoch 11/100\n",
            "15000/15000 [==============================] - 4s 280us/sample - loss: 0.1625 - accuracy: 0.9453 - val_loss: 0.5373 - val_accuracy: 0.8778\n"
          ],
          "name": "stdout"
        },
        {
          "output_type": "execute_result",
          "data": {
            "text/plain": [
              "<tensorflow.python.keras.callbacks.History at 0x7f4f4da807f0>"
            ]
          },
          "metadata": {
            "tags": []
          },
          "execution_count": 50
        }
      ]
    },
    {
      "cell_type": "code",
      "metadata": {
        "id": "ulZ1dqCxxqjO",
        "colab_type": "code",
        "colab": {
          "base_uri": "https://localhost:8080/",
          "height": 51
        },
        "outputId": "ae590273-2e39-496d-d76e-3372649eb129"
      },
      "source": [
        "model.evaluate(X_test, y_test)"
      ],
      "execution_count": 51,
      "outputs": [
        {
          "output_type": "stream",
          "text": [
            "25000/25000 [==============================] - 2s 93us/sample - loss: 0.3123 - accuracy: 0.8793\n"
          ],
          "name": "stdout"
        },
        {
          "output_type": "execute_result",
          "data": {
            "text/plain": [
              "[0.3123341794967651, 0.87928]"
            ]
          },
          "metadata": {
            "tags": []
          },
          "execution_count": 51
        }
      ]
    },
    {
      "cell_type": "code",
      "metadata": {
        "id": "gPj9z6V0y-WY",
        "colab_type": "code",
        "colab": {}
      },
      "source": [
        ""
      ],
      "execution_count": 0,
      "outputs": []
    }
  ]
}