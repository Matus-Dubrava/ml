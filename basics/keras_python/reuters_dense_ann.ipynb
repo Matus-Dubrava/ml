{
  "nbformat": 4,
  "nbformat_minor": 0,
  "metadata": {
    "colab": {
      "name": "reuters_dense_ann.ipynb",
      "provenance": [],
      "collapsed_sections": []
    },
    "kernelspec": {
      "name": "python3",
      "display_name": "Python 3"
    }
  },
  "cells": [
    {
      "cell_type": "code",
      "metadata": {
        "id": "W5vk4Yfl0TFD",
        "colab_type": "code",
        "colab": {
          "base_uri": "https://localhost:8080/",
          "height": 34
        },
        "outputId": "69fcb12c-aaed-471c-f359-8d587deb4112"
      },
      "source": [
        "%tensorflow_version 2.x"
      ],
      "execution_count": 1,
      "outputs": [
        {
          "output_type": "stream",
          "text": [
            "TensorFlow 2.x selected.\n"
          ],
          "name": "stdout"
        }
      ]
    },
    {
      "cell_type": "code",
      "metadata": {
        "id": "cBkOIWUn0WiI",
        "colab_type": "code",
        "colab": {}
      },
      "source": [
        "from tensorflow import keras\n",
        "from keras.datasets import reuters"
      ],
      "execution_count": 0,
      "outputs": []
    },
    {
      "cell_type": "code",
      "metadata": {
        "id": "LOGdJTMP0Ye0",
        "colab_type": "code",
        "colab": {
          "base_uri": "https://localhost:8080/",
          "height": 51
        },
        "outputId": "5621ff68-a66e-4cd4-f9e4-574840016b54"
      },
      "source": [
        "(X_train, y_train), (X_test, y_test) = reuters.load_data(num_words=10000)"
      ],
      "execution_count": 4,
      "outputs": [
        {
          "output_type": "stream",
          "text": [
            "Downloading data from https://s3.amazonaws.com/text-datasets/reuters.npz\n",
            "2113536/2110848 [==============================] - 0s 0us/step\n"
          ],
          "name": "stdout"
        }
      ]
    },
    {
      "cell_type": "code",
      "metadata": {
        "id": "cXR0oXqq3ZvP",
        "colab_type": "code",
        "colab": {
          "base_uri": "https://localhost:8080/",
          "height": 34
        },
        "outputId": "baeff4c7-f2ab-42a6-cfc5-a033f546d38e"
      },
      "source": [
        "X_train.shape, y_test.shape"
      ],
      "execution_count": 10,
      "outputs": [
        {
          "output_type": "execute_result",
          "data": {
            "text/plain": [
              "((8982,), (2246,))"
            ]
          },
          "metadata": {
            "tags": []
          },
          "execution_count": 10
        }
      ]
    },
    {
      "cell_type": "code",
      "metadata": {
        "id": "05FT6hNL3bXf",
        "colab_type": "code",
        "colab": {
          "base_uri": "https://localhost:8080/",
          "height": 34
        },
        "outputId": "1f01d9c4-2240-4d4c-e48d-226aab46328d"
      },
      "source": [
        "len(X_train[0]), len(X_train[1])"
      ],
      "execution_count": 7,
      "outputs": [
        {
          "output_type": "execute_result",
          "data": {
            "text/plain": [
              "(87, 56)"
            ]
          },
          "metadata": {
            "tags": []
          },
          "execution_count": 7
        }
      ]
    },
    {
      "cell_type": "code",
      "metadata": {
        "id": "m6_VAmW33jnC",
        "colab_type": "code",
        "colab": {
          "base_uri": "https://localhost:8080/",
          "height": 347
        },
        "outputId": "06a73d77-ef4b-4a3c-e6b7-bcc3c5dcb98c"
      },
      "source": [
        "from collections import Counter\n",
        "import matplotlib.pyplot as plt\n",
        "plt.style.use(\"seaborn\")\n",
        "\n",
        "# there are 45 different classes\n",
        "plt.hist(y_train, bins=45, edgecolor=\"k\")\n",
        "plt.show()"
      ],
      "execution_count": 20,
      "outputs": [
        {
          "output_type": "display_data",
          "data": {
            "image/png": "[encoded data removed]",
            "text/plain": [
              "<Figure size 576x396 with 1 Axes>"
            ]
          },
          "metadata": {
            "tags": []
          }
        }
      ]
    },
    {
      "cell_type": "code",
      "metadata": {
        "id": "6IIq3rVU3pQj",
        "colab_type": "code",
        "colab": {
          "base_uri": "https://localhost:8080/",
          "height": 54
        },
        "outputId": "15612abd-c1de-4244-fa79-d31c57651cc9"
      },
      "source": [
        "word_index = reuters.get_word_index()\n",
        "inverse_word_index = dict([value, key] for key, value in word_index.items())\n",
        "\n",
        "def decode_text(text, mapping):\n",
        "  return \" \".join([mapping.get(w - 3, \"?\") for w in text])\n",
        "\n",
        "decode_text(X_train[0], inverse_word_index)"
      ],
      "execution_count": 24,
      "outputs": [
        {
          "output_type": "execute_result",
          "data": {
            "text/plain": [
              "'? ? ? said as a result of its december acquisition of space co it expects earnings per share in 1987 of 1 15 to 1 30 dlrs per share up from 70 cts in 1986 the company said pretax net should rise to nine to 10 mln dlrs from six mln dlrs in 1986 and rental operation revenues to 19 to 22 mln dlrs from 12 5 mln dlrs it said cash flow per share this year should be 2 50 to three dlrs reuter 3'"
            ]
          },
          "metadata": {
            "tags": []
          },
          "execution_count": 24
        }
      ]
    },
    {
      "cell_type": "code",
      "metadata": {
        "id": "oT2XI3rA48lt",
        "colab_type": "code",
        "colab": {}
      },
      "source": [
        "import numpy as np\n",
        "\n",
        "def vectorize_sequences(sequences, dimension=10000):\n",
        "  result = np.zeros((len(sequences), dimension))\n",
        "  \n",
        "  for i, sequence in enumerate(sequences):\n",
        "    result[i, sequence] = 1\n",
        "  return result"
      ],
      "execution_count": 0,
      "outputs": []
    },
    {
      "cell_type": "code",
      "metadata": {
        "id": "f5TxJPKS50Tc",
        "colab_type": "code",
        "colab": {}
      },
      "source": [
        "X_train = vectorize_sequences(X_train)\n",
        "X_test = vectorize_sequences(X_test)"
      ],
      "execution_count": 0,
      "outputs": []
    },
    {
      "cell_type": "code",
      "metadata": {
        "id": "1Khw2Rw_6650",
        "colab_type": "code",
        "colab": {
          "base_uri": "https://localhost:8080/",
          "height": 34
        },
        "outputId": "5fd0ae5f-50cc-4526-bcd6-dee1e50a8d78"
      },
      "source": [
        "X_train[0], len(X_train[0])"
      ],
      "execution_count": 31,
      "outputs": [
        {
          "output_type": "execute_result",
          "data": {
            "text/plain": [
              "(array([0., 1., 1., ..., 0., 0., 0.]), 10000)"
            ]
          },
          "metadata": {
            "tags": []
          },
          "execution_count": 31
        }
      ]
    },
    {
      "cell_type": "code",
      "metadata": {
        "id": "GIWmL-sd68Dh",
        "colab_type": "code",
        "colab": {}
      },
      "source": [
        "def to_one_hot(labels, dimension=46):\n",
        "  result = np.zeros((len(labels), dimension))\n",
        "  for i, label in enumerate(labels):\n",
        "    result[i, label] = 1\n",
        "  return result\n",
        "\n",
        "one_hot_train_labels = to_one_hot(y_train)\n",
        "one_hot_test_labels = to_one_hot(y_test)"
      ],
      "execution_count": 0,
      "outputs": []
    },
    {
      "cell_type": "code",
      "metadata": {
        "id": "Ko7-mHx67m5v",
        "colab_type": "code",
        "colab": {
          "base_uri": "https://localhost:8080/",
          "height": 34
        },
        "outputId": "e624139c-0773-4337-ee2f-d79f6e81bd59"
      },
      "source": [
        "one_hot_train_labels.shape"
      ],
      "execution_count": 34,
      "outputs": [
        {
          "output_type": "execute_result",
          "data": {
            "text/plain": [
              "(8982, 46)"
            ]
          },
          "metadata": {
            "tags": []
          },
          "execution_count": 34
        }
      ]
    },
    {
      "cell_type": "code",
      "metadata": {
        "id": "FSFgjG2_7ow-",
        "colab_type": "code",
        "colab": {}
      },
      "source": [
        "# this is the same as the custom code in the previous cell\n",
        "from keras.utils.np_utils import to_categorical\n",
        "\n",
        "one_hot_train_labels = to_categorical(y_train)\n",
        "one_hot_test_labels = to_categorical(y_test)"
      ],
      "execution_count": 0,
      "outputs": []
    },
    {
      "cell_type": "code",
      "metadata": {
        "id": "37FhY1YC7-vL",
        "colab_type": "code",
        "colab": {}
      },
      "source": [
        "model = keras.Sequential([\n",
        "                          keras.layers.Dense(64, activation=\"relu\", input_shape=(10000,)),\n",
        "                          keras.layers.Dense(64, activation=\"relu\"),\n",
        "                          keras.layers.Dense(46, activation=\"softmax\")\n",
        "])\n",
        "model.compile(loss=\"categorical_crossentropy\", optimizer=\"rmsprop\", metrics=[\"accuracy\"])"
      ],
      "execution_count": 0,
      "outputs": []
    },
    {
      "cell_type": "code",
      "metadata": {
        "id": "Qb6Vp-Zm89z4",
        "colab_type": "code",
        "colab": {}
      },
      "source": [
        "X_val = X_train[:1000]\n",
        "partial_X_train = X_train[1000:]\n",
        "y_val = one_hot_train_labels[:1000]\n",
        "partial_y_train = one_hot_train_labels[1000:]"
      ],
      "execution_count": 0,
      "outputs": []
    },
    {
      "cell_type": "code",
      "metadata": {
        "id": "ZGoVXcit9Kic",
        "colab_type": "code",
        "colab": {
          "base_uri": "https://localhost:8080/",
          "height": 714
        },
        "outputId": "a79cb659-8a89-4297-c251-2a4bca5ef781"
      },
      "source": [
        "history = model.fit(partial_X_train, partial_y_train, epochs=20,\n",
        "                    batch_size=512, \n",
        "                    validation_data=(X_val, y_val))"
      ],
      "execution_count": 43,
      "outputs": [
        {
          "output_type": "stream",
          "text": [
            "Train on 7982 samples, validate on 1000 samples\n",
            "Epoch 1/20\n",
            "7982/7982 [==============================] - 2s 263us/sample - loss: 2.7257 - accuracy: 0.5199 - val_loss: 1.7854 - val_accuracy: 0.6350\n",
            "Epoch 2/20\n",
            "7982/7982 [==============================] - 1s 134us/sample - loss: 1.4378 - accuracy: 0.7063 - val_loss: 1.3294 - val_accuracy: 0.7100\n",
            "Epoch 3/20\n",
            "7982/7982 [==============================] - 1s 133us/sample - loss: 1.0525 - accuracy: 0.7785 - val_loss: 1.1361 - val_accuracy: 0.7760\n",
            "Epoch 4/20\n",
            "7982/7982 [==============================] - 1s 128us/sample - loss: 0.8261 - accuracy: 0.8326 - val_loss: 1.0214 - val_accuracy: 0.7930\n",
            "Epoch 5/20\n",
            "7982/7982 [==============================] - 1s 130us/sample - loss: 0.6609 - accuracy: 0.8646 - val_loss: 0.9598 - val_accuracy: 0.8010\n",
            "Epoch 6/20\n",
            "7982/7982 [==============================] - 1s 133us/sample - loss: 0.5373 - accuracy: 0.8861 - val_loss: 0.9231 - val_accuracy: 0.8130\n",
            "Epoch 7/20\n",
            "7982/7982 [==============================] - 1s 125us/sample - loss: 0.4319 - accuracy: 0.9099 - val_loss: 0.9139 - val_accuracy: 0.8080\n",
            "Epoch 8/20\n",
            "7982/7982 [==============================] - 1s 128us/sample - loss: 0.3594 - accuracy: 0.9251 - val_loss: 0.9152 - val_accuracy: 0.8070\n",
            "Epoch 9/20\n",
            "7982/7982 [==============================] - 1s 131us/sample - loss: 0.2973 - accuracy: 0.9332 - val_loss: 0.9012 - val_accuracy: 0.8160\n",
            "Epoch 10/20\n",
            "7982/7982 [==============================] - 1s 128us/sample - loss: 0.2504 - accuracy: 0.9417 - val_loss: 0.9206 - val_accuracy: 0.8130\n",
            "Epoch 11/20\n",
            "7982/7982 [==============================] - 1s 128us/sample - loss: 0.2155 - accuracy: 0.9496 - val_loss: 0.9474 - val_accuracy: 0.7970\n",
            "Epoch 12/20\n",
            "7982/7982 [==============================] - 1s 131us/sample - loss: 0.1951 - accuracy: 0.9495 - val_loss: 0.9223 - val_accuracy: 0.8160\n",
            "Epoch 13/20\n",
            "7982/7982 [==============================] - 1s 129us/sample - loss: 0.1707 - accuracy: 0.9521 - val_loss: 0.9662 - val_accuracy: 0.8060\n",
            "Epoch 14/20\n",
            "7982/7982 [==============================] - 1s 130us/sample - loss: 0.1545 - accuracy: 0.9533 - val_loss: 0.9995 - val_accuracy: 0.8110\n",
            "Epoch 15/20\n",
            "7982/7982 [==============================] - 1s 132us/sample - loss: 0.1449 - accuracy: 0.9543 - val_loss: 0.9836 - val_accuracy: 0.8190\n",
            "Epoch 16/20\n",
            "7982/7982 [==============================] - 1s 133us/sample - loss: 0.1389 - accuracy: 0.9564 - val_loss: 1.0615 - val_accuracy: 0.7970\n",
            "Epoch 17/20\n",
            "7982/7982 [==============================] - 1s 128us/sample - loss: 0.1308 - accuracy: 0.9559 - val_loss: 1.0385 - val_accuracy: 0.8090\n",
            "Epoch 18/20\n",
            "7982/7982 [==============================] - 1s 128us/sample - loss: 0.1261 - accuracy: 0.9570 - val_loss: 1.0229 - val_accuracy: 0.8160\n",
            "Epoch 19/20\n",
            "7982/7982 [==============================] - 1s 127us/sample - loss: 0.1182 - accuracy: 0.9579 - val_loss: 1.0831 - val_accuracy: 0.8060\n",
            "Epoch 20/20\n",
            "7982/7982 [==============================] - 1s 125us/sample - loss: 0.1175 - accuracy: 0.9573 - val_loss: 1.0769 - val_accuracy: 0.8100\n"
          ],
          "name": "stdout"
        }
      ]
    },
    {
      "cell_type": "code",
      "metadata": {
        "id": "VhUw9r7B9kZT",
        "colab_type": "code",
        "colab": {
          "base_uri": "https://localhost:8080/",
          "height": 349
        },
        "outputId": "b59a7a44-cfc4-4210-ba91-44fb4ac23db6"
      },
      "source": [
        "history_dict = history.history\n",
        "loss = history_dict[\"loss\"]\n",
        "val_loss = history_dict[\"val_loss\"]\n",
        "acc = history_dict[\"accuracy\"]\n",
        "val_acc = history_dict[\"val_accuracy\"]\n",
        "\n",
        "epochs = range(1, len(loss) + 1)\n",
        "\n",
        "fig, ax = plt.subplots(figsize=(15, 5), nrows=1, ncols=2)\n",
        "\n",
        "ax[0].plot(epochs, loss, \"b\", label=\"training loss\")\n",
        "ax[0].plot(epochs, val_loss, \"g\", label=\"validation loss\")\n",
        "ax[0].set(title=\"Training & Validation Loss\", xlabel=\"epochs\", ylabel=\"loss\")\n",
        "ax[0].legend()\n",
        "\n",
        "ax[1].plot(epochs, acc, \"b\", label=\"training accuracy\")\n",
        "ax[1].plot(epochs, val_acc, \"g\", label=\"validation accuracy\")\n",
        "ax[1].set(title=\"Training & Validation Accuracy\", xlabel=\"epochs\", ylabel=\"accuracy\")\n",
        "ax[1].legend()\n",
        "\n",
        "plt.show()"
      ],
      "execution_count": 53,
      "outputs": [
        {
          "output_type": "display_data",
          "data": {
            "image/png": "[encoded data removed]",
            "text/plain": [
              "<Figure size 1080x360 with 2 Axes>"
            ]
          },
          "metadata": {
            "tags": []
          }
        }
      ]
    },
    {
      "cell_type": "code",
      "metadata": {
        "id": "BTCUwOAx-Yr0",
        "colab_type": "code",
        "colab": {
          "base_uri": "https://localhost:8080/",
          "height": 34
        },
        "outputId": "4a8e8a20-79ff-4293-cc53-4801232f5885"
      },
      "source": [
        "history_dict.keys()"
      ],
      "execution_count": 46,
      "outputs": [
        {
          "output_type": "execute_result",
          "data": {
            "text/plain": [
              "dict_keys(['loss', 'accuracy', 'val_loss', 'val_accuracy'])"
            ]
          },
          "metadata": {
            "tags": []
          },
          "execution_count": 46
        }
      ]
    },
    {
      "cell_type": "code",
      "metadata": {
        "id": "ZxK8V5_7-Zq0",
        "colab_type": "code",
        "colab": {}
      },
      "source": [
        ""
      ],
      "execution_count": 0,
      "outputs": []
    }
  ]
}