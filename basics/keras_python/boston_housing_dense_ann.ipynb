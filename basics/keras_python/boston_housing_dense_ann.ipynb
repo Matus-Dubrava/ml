{
  "nbformat": 4,
  "nbformat_minor": 0,
  "metadata": {
    "colab": {
      "name": "boston_housing_dense_ann.ipynb",
      "provenance": [],
      "collapsed_sections": []
    },
    "kernelspec": {
      "name": "python3",
      "display_name": "Python 3"
    }
  },
  "cells": [
    {
      "cell_type": "code",
      "metadata": {
        "id": "U945FRSwBHkO",
        "colab_type": "code",
        "colab": {
          "base_uri": "https://localhost:8080/",
          "height": 34
        },
        "outputId": "e415409d-6bb1-4275-df2a-dc57dc3a4dc2"
      },
      "source": [
        "%tensorflow_version 2.x"
      ],
      "execution_count": 1,
      "outputs": [
        {
          "output_type": "stream",
          "text": [
            "TensorFlow 2.x selected.\n"
          ],
          "name": "stdout"
        }
      ]
    },
    {
      "cell_type": "code",
      "metadata": {
        "id": "7V_BiQc2BL-N",
        "colab_type": "code",
        "colab": {}
      },
      "source": [
        "from tensorflow import keras\n",
        "from keras.datasets import boston_housing\n",
        "import pandas as pd"
      ],
      "execution_count": 0,
      "outputs": []
    },
    {
      "cell_type": "code",
      "metadata": {
        "id": "SeK6rGc3BRLL",
        "colab_type": "code",
        "colab": {}
      },
      "source": [
        "(X_train, y_train), (X_test, y_test) = boston_housing.load_data()"
      ],
      "execution_count": 0,
      "outputs": []
    },
    {
      "cell_type": "code",
      "metadata": {
        "id": "9XkbwxWbCdgw",
        "colab_type": "code",
        "colab": {
          "base_uri": "https://localhost:8080/",
          "height": 34
        },
        "outputId": "651ec2d6-bdfd-4187-e27b-c962f3868efb"
      },
      "source": [
        "X_train.shape, X_test.shape"
      ],
      "execution_count": 12,
      "outputs": [
        {
          "output_type": "execute_result",
          "data": {
            "text/plain": [
              "((404, 13), (102, 13))"
            ]
          },
          "metadata": {
            "tags": []
          },
          "execution_count": 12
        }
      ]
    },
    {
      "cell_type": "code",
      "metadata": {
        "id": "sp0ZcDMVCfFO",
        "colab_type": "code",
        "colab": {
          "base_uri": "https://localhost:8080/",
          "height": 323
        },
        "outputId": "3f2c670a-d341-4172-e8a5-6d0746500532"
      },
      "source": [
        "df = pd.DataFrame(X_train)\n",
        "df.info()"
      ],
      "execution_count": 11,
      "outputs": [
        {
          "output_type": "stream",
          "text": [
            "<class 'pandas.core.frame.DataFrame'>\n",
            "RangeIndex: 404 entries, 0 to 403\n",
            "Data columns (total 13 columns):\n",
            "0     404 non-null float64\n",
            "1     404 non-null float64\n",
            "2     404 non-null float64\n",
            "3     404 non-null float64\n",
            "4     404 non-null float64\n",
            "5     404 non-null float64\n",
            "6     404 non-null float64\n",
            "7     404 non-null float64\n",
            "8     404 non-null float64\n",
            "9     404 non-null float64\n",
            "10    404 non-null float64\n",
            "11    404 non-null float64\n",
            "12    404 non-null float64\n",
            "dtypes: float64(13)\n",
            "memory usage: 41.2 KB\n"
          ],
          "name": "stdout"
        }
      ]
    },
    {
      "cell_type": "code",
      "metadata": {
        "id": "GWJotdzfCqYT",
        "colab_type": "code",
        "colab": {}
      },
      "source": [
        "mean = X_train.mean(axis=0)\n",
        "std = X_train.std(axis=0)\n",
        "X_train = (X_train - mean) / std\n",
        "X_test = (X_test - mean) / std"
      ],
      "execution_count": 0,
      "outputs": []
    },
    {
      "cell_type": "code",
      "metadata": {
        "id": "8ZH9dhoZR4zZ",
        "colab_type": "code",
        "colab": {
          "base_uri": "https://localhost:8080/",
          "height": 34
        },
        "outputId": "ddb6a0f6-855b-4e82-ae82-5d07bbf0b518"
      },
      "source": [
        "X_test.shape"
      ],
      "execution_count": 62,
      "outputs": [
        {
          "output_type": "execute_result",
          "data": {
            "text/plain": [
              "(102, 13)"
            ]
          },
          "metadata": {
            "tags": []
          },
          "execution_count": 62
        }
      ]
    },
    {
      "cell_type": "code",
      "metadata": {
        "id": "mX_HLEbHDw14",
        "colab_type": "code",
        "colab": {
          "base_uri": "https://localhost:8080/",
          "height": 204
        },
        "outputId": "ac2f4dd1-256a-42fd-9914-3a692bad074f"
      },
      "source": [
        "pd.DataFrame(X_train).head(5)"
      ],
      "execution_count": 16,
      "outputs": [
        {
          "output_type": "execute_result",
          "data": {
            "text/html": [
              "<div>\n",
              "<style scoped>\n",
              "    .dataframe tbody tr th:only-of-type {\n",
              "        vertical-align: middle;\n",
              "    }\n",
              "\n",
              "    .dataframe tbody tr th {\n",
              "        vertical-align: top;\n",
              "    }\n",
              "\n",
              "    .dataframe thead th {\n",
              "        text-align: right;\n",
              "    }\n",
              "</style>\n",
              "<table border=\"1\" class=\"dataframe\">\n",
              "  <thead>\n",
              "    <tr style=\"text-align: right;\">\n",
              "      <th></th>\n",
              "      <th>0</th>\n",
              "      <th>1</th>\n",
              "      <th>2</th>\n",
              "      <th>3</th>\n",
              "      <th>4</th>\n",
              "      <th>5</th>\n",
              "      <th>6</th>\n",
              "      <th>7</th>\n",
              "      <th>8</th>\n",
              "      <th>9</th>\n",
              "      <th>10</th>\n",
              "      <th>11</th>\n",
              "      <th>12</th>\n",
              "    </tr>\n",
              "  </thead>\n",
              "  <tbody>\n",
              "    <tr>\n",
              "      <th>0</th>\n",
              "      <td>-0.272246</td>\n",
              "      <td>-0.483615</td>\n",
              "      <td>-0.435762</td>\n",
              "      <td>-0.256833</td>\n",
              "      <td>-0.165227</td>\n",
              "      <td>-0.176443</td>\n",
              "      <td>0.813062</td>\n",
              "      <td>0.116698</td>\n",
              "      <td>-0.626249</td>\n",
              "      <td>-0.595170</td>\n",
              "      <td>1.148500</td>\n",
              "      <td>0.448077</td>\n",
              "      <td>0.825220</td>\n",
              "    </tr>\n",
              "    <tr>\n",
              "      <th>1</th>\n",
              "      <td>-0.403427</td>\n",
              "      <td>2.991784</td>\n",
              "      <td>-1.333912</td>\n",
              "      <td>-0.256833</td>\n",
              "      <td>-1.215182</td>\n",
              "      <td>1.894346</td>\n",
              "      <td>-1.910361</td>\n",
              "      <td>1.247585</td>\n",
              "      <td>-0.856463</td>\n",
              "      <td>-0.348433</td>\n",
              "      <td>-1.718189</td>\n",
              "      <td>0.431906</td>\n",
              "      <td>-1.329202</td>\n",
              "    </tr>\n",
              "    <tr>\n",
              "      <th>2</th>\n",
              "      <td>0.124940</td>\n",
              "      <td>-0.483615</td>\n",
              "      <td>1.028326</td>\n",
              "      <td>-0.256833</td>\n",
              "      <td>0.628642</td>\n",
              "      <td>-1.829688</td>\n",
              "      <td>1.110488</td>\n",
              "      <td>-1.187439</td>\n",
              "      <td>1.675886</td>\n",
              "      <td>1.565287</td>\n",
              "      <td>0.784476</td>\n",
              "      <td>0.220617</td>\n",
              "      <td>-1.308500</td>\n",
              "    </tr>\n",
              "    <tr>\n",
              "      <th>3</th>\n",
              "      <td>-0.401494</td>\n",
              "      <td>-0.483615</td>\n",
              "      <td>-0.869402</td>\n",
              "      <td>-0.256833</td>\n",
              "      <td>-0.361560</td>\n",
              "      <td>-0.324558</td>\n",
              "      <td>-1.236672</td>\n",
              "      <td>1.107180</td>\n",
              "      <td>-0.511142</td>\n",
              "      <td>-1.094663</td>\n",
              "      <td>0.784476</td>\n",
              "      <td>0.448077</td>\n",
              "      <td>-0.652926</td>\n",
              "    </tr>\n",
              "    <tr>\n",
              "      <th>4</th>\n",
              "      <td>-0.005634</td>\n",
              "      <td>-0.483615</td>\n",
              "      <td>1.028326</td>\n",
              "      <td>-0.256833</td>\n",
              "      <td>1.328612</td>\n",
              "      <td>0.153642</td>\n",
              "      <td>0.694808</td>\n",
              "      <td>-0.578572</td>\n",
              "      <td>1.675886</td>\n",
              "      <td>1.565287</td>\n",
              "      <td>0.784476</td>\n",
              "      <td>0.389882</td>\n",
              "      <td>0.263497</td>\n",
              "    </tr>\n",
              "  </tbody>\n",
              "</table>\n",
              "</div>"
            ],
            "text/plain": [
              "         0         1         2   ...        10        11        12\n",
              "0 -0.272246 -0.483615 -0.435762  ...  1.148500  0.448077  0.825220\n",
              "1 -0.403427  2.991784 -1.333912  ... -1.718189  0.431906 -1.329202\n",
              "2  0.124940 -0.483615  1.028326  ...  0.784476  0.220617 -1.308500\n",
              "3 -0.401494 -0.483615 -0.869402  ...  0.784476  0.448077 -0.652926\n",
              "4 -0.005634 -0.483615  1.028326  ...  0.784476  0.389882  0.263497\n",
              "\n",
              "[5 rows x 13 columns]"
            ]
          },
          "metadata": {
            "tags": []
          },
          "execution_count": 16
        }
      ]
    },
    {
      "cell_type": "code",
      "metadata": {
        "id": "jOh5FIC8D-M7",
        "colab_type": "code",
        "colab": {}
      },
      "source": [
        "def build_model():\n",
        "  model = keras.Sequential([\n",
        "                            keras.layers.Dense(64, activation=\"relu\", input_shape=(X_train.shape[1],)),\n",
        "                            keras.layers.Dense(64, activation=\"relu\"),\n",
        "                            keras.layers.Dense(1)\n",
        "  ])\n",
        "  model.compile(loss=\"mse\", optimizer=\"rmsprop\", metrics=[\"mae\"])\n",
        "  return model"
      ],
      "execution_count": 0,
      "outputs": []
    },
    {
      "cell_type": "code",
      "metadata": {
        "id": "3JECZZK1FOxz",
        "colab_type": "code",
        "colab": {
          "base_uri": "https://localhost:8080/",
          "height": 85
        },
        "outputId": "19866083-61cc-4a8b-945d-6a7fb2e5ea99"
      },
      "source": [
        "import numpy as np\n",
        "\n",
        "k = 4\n",
        "num_val_samples = len(X_train) // k\n",
        "num_epochs = 100\n",
        "all_scores = []\n",
        "\n",
        "for i in range(k):\n",
        "  print(f\"processing fold #: {i}\")\n",
        "  val_data = X_train[i * num_val_samples : (i + 1) * num_val_samples]\n",
        "  val_targets = y_train[i * num_val_samples : (i + 1) * num_val_samples]\n",
        "  \n",
        "  partial_train_data = np.r_[X_train[:i * num_val_samples], X_train[(i+1) * num_val_samples:]]\n",
        "  partial_train_targets = np.r_[y_train[:i * num_val_samples], y_train[(i+1) * num_val_samples:]]\n",
        "\n",
        "  model = build_model()\n",
        "  model.fit(partial_train_data, partial_train_targets, epochs=num_epochs, batch_size=1, verbose=0)\n",
        "  val_mse, val_mae = model.evaluate(val_data, val_targets, verbose=0)\n",
        "  all_scores.append(val_mae)"
      ],
      "execution_count": 26,
      "outputs": [
        {
          "output_type": "stream",
          "text": [
            "processing fold #: 0\n",
            "processing fold #: 1\n",
            "processing fold #: 2\n",
            "processing fold #: 3\n"
          ],
          "name": "stdout"
        }
      ]
    },
    {
      "cell_type": "code",
      "metadata": {
        "id": "npX_fx3JHPqJ",
        "colab_type": "code",
        "colab": {
          "base_uri": "https://localhost:8080/",
          "height": 34
        },
        "outputId": "0ea3b660-9169-45ff-ef3d-a25a10a66b51"
      },
      "source": [
        "all_scores"
      ],
      "execution_count": 28,
      "outputs": [
        {
          "output_type": "execute_result",
          "data": {
            "text/plain": [
              "[2.5167599, 2.3792424, 3.0474086, 2.500281]"
            ]
          },
          "metadata": {
            "tags": []
          },
          "execution_count": 28
        }
      ]
    },
    {
      "cell_type": "code",
      "metadata": {
        "id": "07fiaEAFJVES",
        "colab_type": "code",
        "colab": {
          "base_uri": "https://localhost:8080/",
          "height": 34
        },
        "outputId": "5a914ac0-0971-415b-ec76-1c4579a66ed9"
      },
      "source": [
        "np.mean(all_scores)"
      ],
      "execution_count": 29,
      "outputs": [
        {
          "output_type": "execute_result",
          "data": {
            "text/plain": [
              "2.610923"
            ]
          },
          "metadata": {
            "tags": []
          },
          "execution_count": 29
        }
      ]
    },
    {
      "cell_type": "code",
      "metadata": {
        "id": "A2vj8hrdJZVB",
        "colab_type": "code",
        "colab": {
          "base_uri": "https://localhost:8080/",
          "height": 85
        },
        "outputId": "dcafe95b-fa02-46e6-824d-bbf894741d21"
      },
      "source": [
        "num_epochs = 200\n",
        "all_mae_histories = []\n",
        "\n",
        "for i in range(k):\n",
        "  print(f\"processing fold #: {i}\")\n",
        "  val_data = X_train[i * num_val_samples : (i+1) * num_val_samples]\n",
        "  val_targets = y_train[i * num_val_samples : (i+1) * num_val_samples]\n",
        "\n",
        "  partial_train_data = np.r_[X_train[:i * num_val_samples], X_train[(i+1) * num_val_samples:]]\n",
        "  partial_train_targets = np.r_[y_train[:i * num_val_samples], y_train[(i+1) * num_val_samples:]]\n",
        "\n",
        "  model = build_model()\n",
        "  history = model.fit(partial_train_data, partial_train_targets, \n",
        "                      epochs=num_epochs, batch_size=1, verbose=0,\n",
        "                      validation_data=(val_data, val_targets))\n",
        "  all_mae_histories.append(history.history[\"val_mae\"])  "
      ],
      "execution_count": 32,
      "outputs": [
        {
          "output_type": "stream",
          "text": [
            "processing fold #: 0\n",
            "processing fold #: 1\n",
            "processing fold #: 2\n",
            "processing fold #: 3\n"
          ],
          "name": "stdout"
        }
      ]
    },
    {
      "cell_type": "code",
      "metadata": {
        "id": "sjxX7lCEJsi3",
        "colab_type": "code",
        "colab": {}
      },
      "source": [
        "average_mae_history = [np.mean([x[i] for x in all_mae_histories]) for i in range(num_epochs)]"
      ],
      "execution_count": 0,
      "outputs": []
    },
    {
      "cell_type": "code",
      "metadata": {
        "id": "YWP5csXhO1FZ",
        "colab_type": "code",
        "colab": {
          "base_uri": "https://localhost:8080/",
          "height": 361
        },
        "outputId": "2dd35d77-34c0-4a15-9f8f-7bc718293cbd"
      },
      "source": [
        "import matplotlib.pyplot as plt\n",
        "plt.style.use(\"seaborn\")\n",
        "\n",
        "plt.plot(range(1, len(average_mae_history) + 1), average_mae_history)\n",
        "plt.xlabel(\"epochs\")\n",
        "plt.ylabel(\"validation MAE\")\n",
        "plt.show()"
      ],
      "execution_count": 38,
      "outputs": [
        {
          "output_type": "display_data",
          "data": {
            "image/png": "[encoded data removed]",
            "text/plain": [
              "<Figure size 576x396 with 1 Axes>"
            ]
          },
          "metadata": {
            "tags": []
          }
        }
      ]
    },
    {
      "cell_type": "code",
      "metadata": {
        "id": "gTKhcahkPex2",
        "colab_type": "code",
        "colab": {
          "base_uri": "https://localhost:8080/",
          "height": 361
        },
        "outputId": "17616aef-a8fb-47ee-ce4b-c5261939e98f"
      },
      "source": [
        "def smooth_curve(points, factor=0.9):\n",
        "  smoothed_points = []\n",
        "  for point in points:\n",
        "    if smoothed_points:\n",
        "      previous = smoothed_points[-1]\n",
        "      smoothed_points.append(previous * factor + point * (1 - factor))\n",
        "    else:\n",
        "      smoothed_points.append(point)\n",
        "  return smoothed_points\n",
        "\n",
        "smooth_mae_history = smooth_curve(average_mae_history[10:])\n",
        "\n",
        "plt.plot(range(1, len(smooth_mae_history) + 1), smooth_mae_history)\n",
        "plt.xlabel(\"epochs\")\n",
        "plt.ylabel(\"validation MAE\")\n",
        "plt.show()"
      ],
      "execution_count": 51,
      "outputs": [
        {
          "output_type": "display_data",
          "data": {
            "image/png": "[encoded data removed]",
            "text/plain": [
              "<Figure size 576x396 with 1 Axes>"
            ]
          },
          "metadata": {
            "tags": []
          }
        }
      ]
    },
    {
      "cell_type": "code",
      "metadata": {
        "id": "4lbm5I0JPoF7",
        "colab_type": "code",
        "colab": {
          "base_uri": "https://localhost:8080/",
          "height": 1000
        },
        "outputId": "418cd543-31aa-4173-f1f2-bfe4fb884812"
      },
      "source": [
        "model = build_model()\n",
        "model.fit(X_train, y_train, epochs=80, batch_size=1)"
      ],
      "execution_count": 53,
      "outputs": [
        {
          "output_type": "stream",
          "text": [
            "Train on 404 samples\n",
            "Epoch 1/80\n",
            "404/404 [==============================] - 1s 2ms/sample - loss: 180.6126 - mae: 10.0077\n",
            "Epoch 2/80\n",
            "404/404 [==============================] - 1s 1ms/sample - loss: 26.9822 - mae: 3.4281\n",
            "Epoch 3/80\n",
            "404/404 [==============================] - 1s 1ms/sample - loss: 19.9824 - mae: 2.8740\n",
            "Epoch 4/80\n",
            "404/404 [==============================] - 1s 1ms/sample - loss: 16.9973 - mae: 2.7049\n",
            "Epoch 5/80\n",
            "404/404 [==============================] - 1s 1ms/sample - loss: 15.1362 - mae: 2.5638\n",
            "Epoch 6/80\n",
            "404/404 [==============================] - 1s 1ms/sample - loss: 13.7405 - mae: 2.4325\n",
            "Epoch 7/80\n",
            "404/404 [==============================] - 1s 1ms/sample - loss: 13.0427 - mae: 2.3650\n",
            "Epoch 8/80\n",
            "404/404 [==============================] - 1s 1ms/sample - loss: 12.0325 - mae: 2.2991\n",
            "Epoch 9/80\n",
            "404/404 [==============================] - 1s 1ms/sample - loss: 11.4623 - mae: 2.2572\n",
            "Epoch 10/80\n",
            "404/404 [==============================] - 1s 1ms/sample - loss: 10.4641 - mae: 2.1356\n",
            "Epoch 11/80\n",
            "404/404 [==============================] - 1s 1ms/sample - loss: 10.8036 - mae: 2.1740\n",
            "Epoch 12/80\n",
            "404/404 [==============================] - 1s 1ms/sample - loss: 10.5089 - mae: 2.1758\n",
            "Epoch 13/80\n",
            "404/404 [==============================] - 1s 1ms/sample - loss: 10.1778 - mae: 2.1310\n",
            "Epoch 14/80\n",
            "404/404 [==============================] - 1s 1ms/sample - loss: 10.0433 - mae: 2.0773\n",
            "Epoch 15/80\n",
            "404/404 [==============================] - 1s 1ms/sample - loss: 9.8123 - mae: 2.1373\n",
            "Epoch 16/80\n",
            "404/404 [==============================] - 1s 1ms/sample - loss: 9.5255 - mae: 2.0349\n",
            "Epoch 17/80\n",
            "404/404 [==============================] - 1s 1ms/sample - loss: 8.8234 - mae: 2.0138\n",
            "Epoch 18/80\n",
            "404/404 [==============================] - 1s 1ms/sample - loss: 9.0134 - mae: 2.0442\n",
            "Epoch 19/80\n",
            "404/404 [==============================] - 1s 1ms/sample - loss: 9.3080 - mae: 1.9787\n",
            "Epoch 20/80\n",
            "404/404 [==============================] - 1s 1ms/sample - loss: 8.8926 - mae: 1.9281\n",
            "Epoch 21/80\n",
            "404/404 [==============================] - 1s 1ms/sample - loss: 8.9303 - mae: 1.9870\n",
            "Epoch 22/80\n",
            "404/404 [==============================] - 1s 1ms/sample - loss: 8.4430 - mae: 1.9375\n",
            "Epoch 23/80\n",
            "404/404 [==============================] - 1s 1ms/sample - loss: 8.2405 - mae: 1.9627\n",
            "Epoch 24/80\n",
            "404/404 [==============================] - 1s 1ms/sample - loss: 8.0908 - mae: 1.8886\n",
            "Epoch 25/80\n",
            "404/404 [==============================] - 1s 1ms/sample - loss: 8.1041 - mae: 1.9149\n",
            "Epoch 26/80\n",
            "404/404 [==============================] - 1s 1ms/sample - loss: 8.0221 - mae: 1.9131\n",
            "Epoch 27/80\n",
            "404/404 [==============================] - 1s 1ms/sample - loss: 8.2605 - mae: 1.8836\n",
            "Epoch 28/80\n",
            "404/404 [==============================] - 1s 1ms/sample - loss: 8.0915 - mae: 1.8799\n",
            "Epoch 29/80\n",
            "404/404 [==============================] - 1s 1ms/sample - loss: 7.8883 - mae: 1.8534\n",
            "Epoch 30/80\n",
            "404/404 [==============================] - 1s 1ms/sample - loss: 7.7166 - mae: 1.8569\n",
            "Epoch 31/80\n",
            "404/404 [==============================] - 1s 1ms/sample - loss: 7.7652 - mae: 1.8332\n",
            "Epoch 32/80\n",
            "404/404 [==============================] - 1s 1ms/sample - loss: 7.4932 - mae: 1.8123\n",
            "Epoch 33/80\n",
            "404/404 [==============================] - 1s 1ms/sample - loss: 7.0474 - mae: 1.8090\n",
            "Epoch 34/80\n",
            "404/404 [==============================] - 1s 1ms/sample - loss: 7.1910 - mae: 1.8156\n",
            "Epoch 35/80\n",
            "404/404 [==============================] - 1s 1ms/sample - loss: 7.3238 - mae: 1.8354\n",
            "Epoch 36/80\n",
            "404/404 [==============================] - 1s 1ms/sample - loss: 7.2271 - mae: 1.7741\n",
            "Epoch 37/80\n",
            "404/404 [==============================] - 1s 1ms/sample - loss: 7.0140 - mae: 1.8219\n",
            "Epoch 38/80\n",
            "404/404 [==============================] - 1s 1ms/sample - loss: 6.7713 - mae: 1.8114\n",
            "Epoch 39/80\n",
            "404/404 [==============================] - 1s 1ms/sample - loss: 6.6527 - mae: 1.7300\n",
            "Epoch 40/80\n",
            "404/404 [==============================] - 1s 1ms/sample - loss: 6.6043 - mae: 1.7206\n",
            "Epoch 41/80\n",
            "404/404 [==============================] - 1s 1ms/sample - loss: 7.0913 - mae: 1.7793\n",
            "Epoch 42/80\n",
            "404/404 [==============================] - 1s 1ms/sample - loss: 6.8621 - mae: 1.7750\n",
            "Epoch 43/80\n",
            "404/404 [==============================] - 1s 1ms/sample - loss: 6.9453 - mae: 1.7402\n",
            "Epoch 44/80\n",
            "404/404 [==============================] - 1s 1ms/sample - loss: 6.5293 - mae: 1.7095\n",
            "Epoch 45/80\n",
            "404/404 [==============================] - 1s 1ms/sample - loss: 6.7825 - mae: 1.7483\n",
            "Epoch 46/80\n",
            "404/404 [==============================] - 1s 1ms/sample - loss: 6.8756 - mae: 1.7410\n",
            "Epoch 47/80\n",
            "404/404 [==============================] - 1s 2ms/sample - loss: 6.3680 - mae: 1.6899\n",
            "Epoch 48/80\n",
            "404/404 [==============================] - 1s 1ms/sample - loss: 6.7852 - mae: 1.7010\n",
            "Epoch 49/80\n",
            "404/404 [==============================] - 1s 1ms/sample - loss: 6.4549 - mae: 1.7254\n",
            "Epoch 50/80\n",
            "404/404 [==============================] - 1s 1ms/sample - loss: 6.4417 - mae: 1.6831\n",
            "Epoch 51/80\n",
            "404/404 [==============================] - 1s 1ms/sample - loss: 6.4556 - mae: 1.6352\n",
            "Epoch 52/80\n",
            "404/404 [==============================] - 1s 1ms/sample - loss: 6.4833 - mae: 1.6960\n",
            "Epoch 53/80\n",
            "404/404 [==============================] - 1s 1ms/sample - loss: 6.3013 - mae: 1.6855\n",
            "Epoch 54/80\n",
            "404/404 [==============================] - 1s 1ms/sample - loss: 6.3688 - mae: 1.6585\n",
            "Epoch 55/80\n",
            "404/404 [==============================] - 1s 1ms/sample - loss: 5.9940 - mae: 1.6427\n",
            "Epoch 56/80\n",
            "404/404 [==============================] - 1s 1ms/sample - loss: 6.5429 - mae: 1.6940\n",
            "Epoch 57/80\n",
            "404/404 [==============================] - 1s 2ms/sample - loss: 5.9644 - mae: 1.6428\n",
            "Epoch 58/80\n",
            "404/404 [==============================] - 1s 1ms/sample - loss: 6.0166 - mae: 1.6555\n",
            "Epoch 59/80\n",
            "404/404 [==============================] - 1s 1ms/sample - loss: 6.0269 - mae: 1.6360\n",
            "Epoch 60/80\n",
            "404/404 [==============================] - 1s 1ms/sample - loss: 6.1984 - mae: 1.6440\n",
            "Epoch 61/80\n",
            "404/404 [==============================] - 1s 1ms/sample - loss: 5.9994 - mae: 1.6297\n",
            "Epoch 62/80\n",
            "404/404 [==============================] - 1s 1ms/sample - loss: 6.1803 - mae: 1.6289\n",
            "Epoch 63/80\n",
            "404/404 [==============================] - 1s 1ms/sample - loss: 5.9744 - mae: 1.6310\n",
            "Epoch 64/80\n",
            "404/404 [==============================] - 1s 1ms/sample - loss: 5.9196 - mae: 1.6323\n",
            "Epoch 65/80\n",
            "404/404 [==============================] - 1s 2ms/sample - loss: 5.6411 - mae: 1.5830\n",
            "Epoch 66/80\n",
            "404/404 [==============================] - 1s 1ms/sample - loss: 5.8478 - mae: 1.5704\n",
            "Epoch 67/80\n",
            "404/404 [==============================] - 1s 2ms/sample - loss: 5.7304 - mae: 1.6019\n",
            "Epoch 68/80\n",
            "404/404 [==============================] - 1s 1ms/sample - loss: 5.9706 - mae: 1.5964\n",
            "Epoch 69/80\n",
            "404/404 [==============================] - 1s 1ms/sample - loss: 5.6495 - mae: 1.5761\n",
            "Epoch 70/80\n",
            "404/404 [==============================] - 1s 1ms/sample - loss: 5.7242 - mae: 1.5907\n",
            "Epoch 71/80\n",
            "404/404 [==============================] - 1s 1ms/sample - loss: 5.4092 - mae: 1.5419\n",
            "Epoch 72/80\n",
            "404/404 [==============================] - 1s 1ms/sample - loss: 5.4720 - mae: 1.5382\n",
            "Epoch 73/80\n",
            "404/404 [==============================] - 1s 1ms/sample - loss: 5.6497 - mae: 1.5480\n",
            "Epoch 74/80\n",
            "404/404 [==============================] - 1s 1ms/sample - loss: 5.7755 - mae: 1.5652\n",
            "Epoch 75/80\n",
            "404/404 [==============================] - 1s 1ms/sample - loss: 5.4842 - mae: 1.5872\n",
            "Epoch 76/80\n",
            "404/404 [==============================] - 1s 1ms/sample - loss: 5.4847 - mae: 1.5716\n",
            "Epoch 77/80\n",
            "404/404 [==============================] - 1s 1ms/sample - loss: 5.1692 - mae: 1.5255\n",
            "Epoch 78/80\n",
            "404/404 [==============================] - 1s 1ms/sample - loss: 5.4162 - mae: 1.5472\n",
            "Epoch 79/80\n",
            "404/404 [==============================] - 1s 1ms/sample - loss: 6.1551 - mae: 1.5563\n",
            "Epoch 80/80\n",
            "404/404 [==============================] - 1s 1ms/sample - loss: 5.3579 - mae: 1.5575\n"
          ],
          "name": "stdout"
        },
        {
          "output_type": "execute_result",
          "data": {
            "text/plain": [
              "<tensorflow.python.keras.callbacks.History at 0x7f9a55ae36a0>"
            ]
          },
          "metadata": {
            "tags": []
          },
          "execution_count": 53
        }
      ]
    },
    {
      "cell_type": "code",
      "metadata": {
        "id": "J9rPAbMuRXcb",
        "colab_type": "code",
        "colab": {
          "base_uri": "https://localhost:8080/",
          "height": 51
        },
        "outputId": "29518154-a0e2-4943-de00-0198e5232ef8"
      },
      "source": [
        "model.evaluate(X_test, y_test)"
      ],
      "execution_count": 63,
      "outputs": [
        {
          "output_type": "stream",
          "text": [
            "102/102 [==============================] - 0s 710us/sample - loss: 15.0141 - mae: 2.4416\n"
          ],
          "name": "stdout"
        },
        {
          "output_type": "execute_result",
          "data": {
            "text/plain": [
              "[15.014126048368567, 2.4416292]"
            ]
          },
          "metadata": {
            "tags": []
          },
          "execution_count": 63
        }
      ]
    },
    {
      "cell_type": "code",
      "metadata": {
        "id": "hWNkaYJ-Rmjw",
        "colab_type": "code",
        "colab": {
          "base_uri": "https://localhost:8080/",
          "height": 34
        },
        "outputId": "a13365c5-f28b-4680-fcb2-5c35b496eb26"
      },
      "source": [
        ""
      ],
      "execution_count": 58,
      "outputs": [
        {
          "output_type": "execute_result",
          "data": {
            "text/plain": [
              "(404, 13)"
            ]
          },
          "metadata": {
            "tags": []
          },
          "execution_count": 58
        }
      ]
    },
    {
      "cell_type": "code",
      "metadata": {
        "id": "OLrEtGDtR1MF",
        "colab_type": "code",
        "colab": {}
      },
      "source": [
        ""
      ],
      "execution_count": 0,
      "outputs": []
    }
  ]
}