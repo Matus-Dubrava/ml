{
 "cells": [
  {
   "cell_type": "markdown",
   "metadata": {},
   "source": [
    "# UCB (Upper Confidence Bound)\n",
    "## ----------------------------------------------------\n",
    "\n",
    "Step 1: At each round $n_{i}$ we consider two numbers for each id $i$:\n",
    "\n",
    "- $N_{i}(n)$ - the number of times the ad $i$ was selected up to round $n$\n",
    "- $R_{i}(n)$ - the sum of rewards of the ad $i$ up to round $n$\n",
    "\n",
    "Step 2: From these two numbers we compute:\n",
    "- the average reward of ad $i$ up to round $n$\n",
    "\\begin{equation}\n",
    "\\overline{r_{i}}(n) = \\frac{R_{i}(n)}{N_{i}(n)}\n",
    "\\end{equation}\n",
    "\n",
    "- the confidence interval $[\\overline{r_{i}} - \\Delta_{i}(n), \\overline{r_{i}} + \\Delta_{i}(n)]$ at round $n$ with\n",
    "\\begin{equation}\n",
    "\\Delta_{i}(n) = \\sqrt{\\frac{3log(n)}{2 N_{i}(n)}}\n",
    "\\end{equation}\n",
    "\n",
    "Step 3: We select the ad $i$ that has the maximum UCB $\\overline{r_{i}}(n) + \\Delta_{i}(n)$"
   ]
  },
  {
   "cell_type": "code",
   "execution_count": 10,
   "metadata": {
    "scrolled": true
   },
   "outputs": [
    {
     "data": {
      "text/html": [
       "<div>\n",
       "<style scoped>\n",
       "    .dataframe tbody tr th:only-of-type {\n",
       "        vertical-align: middle;\n",
       "    }\n",
       "\n",
       "    .dataframe tbody tr th {\n",
       "        vertical-align: top;\n",
       "    }\n",
       "\n",
       "    .dataframe thead th {\n",
       "        text-align: right;\n",
       "    }\n",
       "</style>\n",
       "<table border=\"1\" class=\"dataframe\">\n",
       "  <thead>\n",
       "    <tr style=\"text-align: right;\">\n",
       "      <th></th>\n",
       "      <th>Ad 1</th>\n",
       "      <th>Ad 2</th>\n",
       "      <th>Ad 3</th>\n",
       "      <th>Ad 4</th>\n",
       "      <th>Ad 5</th>\n",
       "      <th>Ad 6</th>\n",
       "      <th>Ad 7</th>\n",
       "      <th>Ad 8</th>\n",
       "      <th>Ad 9</th>\n",
       "      <th>Ad 10</th>\n",
       "    </tr>\n",
       "  </thead>\n",
       "  <tbody>\n",
       "    <tr>\n",
       "      <th>0</th>\n",
       "      <td>1</td>\n",
       "      <td>0</td>\n",
       "      <td>0</td>\n",
       "      <td>0</td>\n",
       "      <td>1</td>\n",
       "      <td>0</td>\n",
       "      <td>0</td>\n",
       "      <td>0</td>\n",
       "      <td>1</td>\n",
       "      <td>0</td>\n",
       "    </tr>\n",
       "    <tr>\n",
       "      <th>1</th>\n",
       "      <td>0</td>\n",
       "      <td>0</td>\n",
       "      <td>0</td>\n",
       "      <td>0</td>\n",
       "      <td>0</td>\n",
       "      <td>0</td>\n",
       "      <td>0</td>\n",
       "      <td>0</td>\n",
       "      <td>1</td>\n",
       "      <td>0</td>\n",
       "    </tr>\n",
       "    <tr>\n",
       "      <th>2</th>\n",
       "      <td>0</td>\n",
       "      <td>0</td>\n",
       "      <td>0</td>\n",
       "      <td>0</td>\n",
       "      <td>0</td>\n",
       "      <td>0</td>\n",
       "      <td>0</td>\n",
       "      <td>0</td>\n",
       "      <td>0</td>\n",
       "      <td>0</td>\n",
       "    </tr>\n",
       "    <tr>\n",
       "      <th>3</th>\n",
       "      <td>0</td>\n",
       "      <td>1</td>\n",
       "      <td>0</td>\n",
       "      <td>0</td>\n",
       "      <td>0</td>\n",
       "      <td>0</td>\n",
       "      <td>0</td>\n",
       "      <td>1</td>\n",
       "      <td>0</td>\n",
       "      <td>0</td>\n",
       "    </tr>\n",
       "    <tr>\n",
       "      <th>4</th>\n",
       "      <td>0</td>\n",
       "      <td>0</td>\n",
       "      <td>0</td>\n",
       "      <td>0</td>\n",
       "      <td>0</td>\n",
       "      <td>0</td>\n",
       "      <td>0</td>\n",
       "      <td>0</td>\n",
       "      <td>0</td>\n",
       "      <td>0</td>\n",
       "    </tr>\n",
       "  </tbody>\n",
       "</table>\n",
       "</div>"
      ],
      "text/plain": [
       "   Ad 1  Ad 2  Ad 3  Ad 4  Ad 5  Ad 6  Ad 7  Ad 8  Ad 9  Ad 10\n",
       "0     1     0     0     0     1     0     0     0     1      0\n",
       "1     0     0     0     0     0     0     0     0     1      0\n",
       "2     0     0     0     0     0     0     0     0     0      0\n",
       "3     0     1     0     0     0     0     0     1     0      0\n",
       "4     0     0     0     0     0     0     0     0     0      0"
      ]
     },
     "execution_count": 10,
     "metadata": {},
     "output_type": "execute_result"
    }
   ],
   "source": [
    "import pandas as pd\n",
    "import numpy as np\n",
    "import matplotlib.pyplot as plt\n",
    "from matplotlib import style\n",
    "import math\n",
    "style.use('ggplot')\n",
    "\n",
    "df = pd.read_csv('../datasets/Ads_CTR_Optimisation.csv')\n",
    "df.head()"
   ]
  },
  {
   "cell_type": "code",
   "execution_count": 5,
   "metadata": {},
   "outputs": [],
   "source": []
  },
  {
   "cell_type": "code",
   "execution_count": 21,
   "metadata": {},
   "outputs": [],
   "source": []
  },
  {
   "cell_type": "code",
   "execution_count": 27,
   "metadata": {},
   "outputs": [],
   "source": [
    "# implementing UCB (Upper Confidence Bound)\n",
    "\n",
    "n_ads = 10\n",
    "n_rounds = len(df)\n",
    "\n",
    "ads_selected = []\n",
    "number_of_selections = [0] * n_ads\n",
    "sums_of_rewards = [0] * n_ads\n",
    "total_reward = 0\n",
    "\n",
    "for i in range(n_rounds):\n",
    "    max_upper_bound = 0\n",
    "    selected_ad = 0\n",
    "    \n",
    "    for j in range(n_ads):\n",
    "        # for the first ten rounds, just select each ad once \n",
    "        # round 1 - first ad, round 2 - second ad ...\n",
    "        # that is why we have the else clause there\n",
    "        if number_of_selections[j] > 0:        \n",
    "            avg_reward = sums_of_rewards[j] / number_of_selections[j]\n",
    "            delta_i = math.sqrt(3/2 * math.log(i+1) / number_of_selections[j])\n",
    "            upper_bound = avg_reward + delta_i\n",
    "        else:\n",
    "            upper_bound = 1e400\n",
    "\n",
    "        if upper_bound > max_upper_bound:\n",
    "            max_upper_bound = upper_bound\n",
    "            selected_ad = j\n",
    "    \n",
    "    ads_selected.append(selected_ad)\n",
    "    number_of_selections[selected_ad] += 1\n",
    "    reward = df.values[i, selected_ad]\n",
    "    sums_of_rewards[selected_ad] += reward\n",
    "    total_reward += reward"
   ]
  },
  {
   "cell_type": "code",
   "execution_count": 28,
   "metadata": {},
   "outputs": [
    {
     "data": {
      "text/plain": [
       "2178"
      ]
     },
     "execution_count": 28,
     "metadata": {},
     "output_type": "execute_result"
    }
   ],
   "source": [
    "total_reward"
   ]
  },
  {
   "cell_type": "code",
   "execution_count": 30,
   "metadata": {},
   "outputs": [
    {
     "data": {
      "text/plain": [
       "{0: 705,\n",
       " 1: 387,\n",
       " 2: 186,\n",
       " 3: 345,\n",
       " 4: 6323,\n",
       " 5: 150,\n",
       " 6: 292,\n",
       " 7: 1170,\n",
       " 8: 256,\n",
       " 9: 186}"
      ]
     },
     "execution_count": 30,
     "metadata": {},
     "output_type": "execute_result"
    }
   ],
   "source": [
    "ads_dict = {}\n",
    "for ad in ads_selected:\n",
    "    if ad in ads_dict:\n",
    "        ads_dict[ad] += 1\n",
    "    else:\n",
    "        ads_dict[ad] = 1\n",
    "\n",
    "ads_dict"
   ]
  },
  {
   "cell_type": "code",
   "execution_count": 40,
   "metadata": {},
   "outputs": [
    {
     "data": {
      "text/plain": [
       "Text(0, 0.5, '# selected')"
      ]
     },
     "execution_count": 40,
     "metadata": {},
     "output_type": "execute_result"
    },
    {
     "data": {
      "image/png": "[encoded data removed]",
      "text/plain": [
       "<Figure size 432x288 with 1 Axes>"
      ]
     },
     "metadata": {},
     "output_type": "display_data"
    }
   ],
   "source": [
    "plt.hist(ads_selected, color='dodgerblue')\n",
    "plt.title('Histogram of ads selections')\n",
    "plt.xlabel('Ad')\n",
    "plt.ylabel('# selected')"
   ]
  },
  {
   "cell_type": "code",
   "execution_count": null,
   "metadata": {},
   "outputs": [],
   "source": []
  }
 ],
 "metadata": {
  "kernelspec": {
   "display_name": "Python 3",
   "language": "python",
   "name": "python3"
  },
  "language_info": {
   "codemirror_mode": {
    "name": "ipython",
    "version": 3
   },
   "file_extension": ".py",
   "mimetype": "text/x-python",
   "name": "python",
   "nbconvert_exporter": "python",
   "pygments_lexer": "ipython3",
   "version": "3.7.6"
  }
 },
 "nbformat": 4,
 "nbformat_minor": 2
}
