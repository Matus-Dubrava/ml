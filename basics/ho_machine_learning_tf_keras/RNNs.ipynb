{
 "cells": [
  {
   "cell_type": "code",
   "execution_count": 7,
   "metadata": {},
   "outputs": [],
   "source": [
    "import tensorflow as tf\n",
    "from tensorflow import keras\n",
    "import numpy as np\n",
    "import matplotlib.pyplot as plt\n",
    "plt.style.use(\"seaborn\")"
   ]
  },
  {
   "cell_type": "code",
   "execution_count": 8,
   "metadata": {},
   "outputs": [],
   "source": [
    "def generate_time_series(batch_size, n_steps):\n",
    "    freq1, freq2, offsets1, offsets2 = np.random.rand(4, batch_size, 1)\n",
    "    time = np.linspace(0, 1, n_steps)\n",
    "    series = 0.5 * np.sin((time - offsets1) * (freq1 * 10 + 10)) # 1st wave\n",
    "    series += 0.2 * np.sin((time - offsets2) * (freq2 * 20 + 20 )) # 2nd wave\n",
    "    series += 0.1 * (np.random.rand(batch_size, n_steps) - 0.5) # some noise\n",
    "    return series[..., np.newaxis].astype(np.float32)"
   ]
  },
  {
   "cell_type": "code",
   "execution_count": 9,
   "metadata": {},
   "outputs": [],
   "source": [
    "n_steps = 50\n",
    "series = generate_time_series(10000, n_steps + 1)"
   ]
  },
  {
   "cell_type": "code",
   "execution_count": 18,
   "metadata": {},
   "outputs": [
    {
     "data": {
      "image/png": "[encoded data removed]",
      "text/plain": [
       "<Figure size 576x396 with 1 Axes>"
      ]
     },
     "metadata": {},
     "output_type": "display_data"
    }
   ],
   "source": [
    "plt.plot(range(n_steps + 1), series[0])\n",
    "plt.plot(range(n_steps + 1), [0] * (n_steps + 1), color=\"k\")\n",
    "plt.xlabel(\"t\")\n",
    "plt.ylabel(\"x(t)\")\n",
    "plt.show()"
   ]
  },
  {
   "cell_type": "code",
   "execution_count": 19,
   "metadata": {},
   "outputs": [],
   "source": [
    "X_train, y_train = series[:7000, :n_steps], series[:7000, -1]\n",
    "X_valid, y_valid = series[7000:9000, :n_steps], series[7000:9000, -1]\n",
    "X_test, y_test = series[9000:, :n_steps], series[9000:, -1]"
   ]
  },
  {
   "cell_type": "code",
   "execution_count": 20,
   "metadata": {},
   "outputs": [
    {
     "data": {
      "text/plain": [
       "0.020243855"
      ]
     },
     "execution_count": 20,
     "metadata": {},
     "output_type": "execute_result"
    }
   ],
   "source": [
    "# baseline metrics\n",
    "# - naively using the last value as the predicted value\n",
    "y_pred = X_valid[:, -1]\n",
    "np.mean(keras.losses.mean_squared_error(y_valid, y_pred))"
   ]
  },
  {
   "cell_type": "markdown",
   "metadata": {},
   "source": [
    "# fully connected network"
   ]
  },
  {
   "cell_type": "code",
   "execution_count": 22,
   "metadata": {},
   "outputs": [],
   "source": [
    "model = keras.Sequential([\n",
    "    keras.layers.Flatten(input_shape=[50, 1]),\n",
    "    keras.layers.Dense(1)\n",
    "])\n",
    "model.compile(loss=\"mean_squared_error\", optimizer=\"adam\")"
   ]
  },
  {
   "cell_type": "code",
   "execution_count": 23,
   "metadata": {
    "collapsed": true
   },
   "outputs": [
    {
     "name": "stdout",
     "output_type": "stream",
     "text": [
      "Train on 7000 samples, validate on 2000 samples\n",
      "Epoch 1/20\n",
      "7000/7000 [==============================] - 1s 197us/sample - loss: 0.0678 - val_loss: 0.0357\n",
      "Epoch 2/20\n",
      "7000/7000 [==============================] - 0s 57us/sample - loss: 0.0259 - val_loss: 0.0178\n",
      "Epoch 3/20\n",
      "7000/7000 [==============================] - 0s 57us/sample - loss: 0.0139 - val_loss: 0.0106\n",
      "Epoch 4/20\n",
      "7000/7000 [==============================] - 0s 58us/sample - loss: 0.0093 - val_loss: 0.0081\n",
      "Epoch 5/20\n",
      "7000/7000 [==============================] - 0s 59us/sample - loss: 0.0076 - val_loss: 0.0071\n",
      "Epoch 6/20\n",
      "7000/7000 [==============================] - 0s 59us/sample - loss: 0.0068 - val_loss: 0.0064\n",
      "Epoch 7/20\n",
      "7000/7000 [==============================] - 0s 58us/sample - loss: 0.0062 - val_loss: 0.0060\n",
      "Epoch 8/20\n",
      "7000/7000 [==============================] - 0s 55us/sample - loss: 0.0057 - val_loss: 0.0056\n",
      "Epoch 9/20\n",
      "7000/7000 [==============================] - 0s 55us/sample - loss: 0.0054 - val_loss: 0.0052\n",
      "Epoch 10/20\n",
      "7000/7000 [==============================] - 0s 57us/sample - loss: 0.0051 - val_loss: 0.0050\n",
      "Epoch 11/20\n",
      "7000/7000 [==============================] - 0s 57us/sample - loss: 0.0049 - val_loss: 0.0049\n",
      "Epoch 12/20\n",
      "7000/7000 [==============================] - 0s 57us/sample - loss: 0.0047 - val_loss: 0.0047\n",
      "Epoch 13/20\n",
      "7000/7000 [==============================] - 0s 57us/sample - loss: 0.0045 - val_loss: 0.0046\n",
      "Epoch 14/20\n",
      "7000/7000 [==============================] - 0s 55us/sample - loss: 0.0044 - val_loss: 0.0043\n",
      "Epoch 15/20\n",
      "7000/7000 [==============================] - 0s 57us/sample - loss: 0.0043 - val_loss: 0.0042\n",
      "Epoch 16/20\n",
      "7000/7000 [==============================] - 0s 58us/sample - loss: 0.0042 - val_loss: 0.0042\n",
      "Epoch 17/20\n",
      "7000/7000 [==============================] - 0s 57us/sample - loss: 0.0041 - val_loss: 0.0040\n",
      "Epoch 18/20\n",
      "7000/7000 [==============================] - 0s 58us/sample - loss: 0.0040 - val_loss: 0.0040\n",
      "Epoch 19/20\n",
      "7000/7000 [==============================] - 0s 57us/sample - loss: 0.0039 - val_loss: 0.0038\n",
      "Epoch 20/20\n",
      "7000/7000 [==============================] - 0s 57us/sample - loss: 0.0038 - val_loss: 0.0037\n"
     ]
    },
    {
     "data": {
      "text/plain": [
       "<tensorflow.python.keras.callbacks.History at 0x7f18a84b8b90>"
      ]
     },
     "execution_count": 23,
     "metadata": {},
     "output_type": "execute_result"
    }
   ],
   "source": [
    "model.fit(X_train, y_train, epochs=20, validation_data=(X_valid, y_valid))"
   ]
  },
  {
   "cell_type": "code",
   "execution_count": 25,
   "metadata": {},
   "outputs": [
    {
     "name": "stdout",
     "output_type": "stream",
     "text": [
      "2000/2000 [==============================] - 0s 30us/sample - loss: 0.0037\n"
     ]
    },
    {
     "data": {
      "text/plain": [
       "0.0037297125104814766"
      ]
     },
     "execution_count": 25,
     "metadata": {},
     "output_type": "execute_result"
    }
   ],
   "source": [
    "model.evaluate(X_valid, y_valid)"
   ]
  },
  {
   "cell_type": "markdown",
   "metadata": {},
   "source": [
    "# simple RNN"
   ]
  },
  {
   "cell_type": "code",
   "execution_count": 26,
   "metadata": {},
   "outputs": [],
   "source": [
    "model = keras.Sequential([\n",
    "    keras.layers.SimpleRNN(1, input_shape=[None, 1]) # single layer with a single neuron\n",
    "])\n",
    "model.compile(loss=\"mean_squared_error\", optimizer=\"adam\")"
   ]
  },
  {
   "cell_type": "code",
   "execution_count": 27,
   "metadata": {
    "collapsed": true
   },
   "outputs": [
    {
     "name": "stdout",
     "output_type": "stream",
     "text": [
      "Train on 7000 samples, validate on 2000 samples\n",
      "Epoch 1/20\n",
      "7000/7000 [==============================] - 6s 830us/sample - loss: 0.0955 - val_loss: 0.0821\n",
      "Epoch 2/20\n",
      "7000/7000 [==============================] - 5s 691us/sample - loss: 0.0704 - val_loss: 0.0603\n",
      "Epoch 3/20\n",
      "7000/7000 [==============================] - 5s 695us/sample - loss: 0.0505 - val_loss: 0.0422\n",
      "Epoch 4/20\n",
      "7000/7000 [==============================] - 5s 694us/sample - loss: 0.0346 - val_loss: 0.0281\n",
      "Epoch 5/20\n",
      "7000/7000 [==============================] - 5s 698us/sample - loss: 0.0232 - val_loss: 0.0192\n",
      "Epoch 6/20\n",
      "7000/7000 [==============================] - 5s 696us/sample - loss: 0.0167 - val_loss: 0.0146\n",
      "Epoch 7/20\n",
      "7000/7000 [==============================] - 5s 707us/sample - loss: 0.0137 - val_loss: 0.0129\n",
      "Epoch 8/20\n",
      "7000/7000 [==============================] - 5s 710us/sample - loss: 0.0127 - val_loss: 0.0124\n",
      "Epoch 9/20\n",
      "7000/7000 [==============================] - 5s 709us/sample - loss: 0.0123 - val_loss: 0.0122\n",
      "Epoch 10/20\n",
      "7000/7000 [==============================] - 5s 703us/sample - loss: 0.0121 - val_loss: 0.0120\n",
      "Epoch 11/20\n",
      "7000/7000 [==============================] - 5s 706us/sample - loss: 0.0119 - val_loss: 0.0118\n",
      "Epoch 12/20\n",
      "7000/7000 [==============================] - 5s 700us/sample - loss: 0.0117 - val_loss: 0.0117\n",
      "Epoch 13/20\n",
      "7000/7000 [==============================] - 5s 698us/sample - loss: 0.0116 - val_loss: 0.0116\n",
      "Epoch 14/20\n",
      "7000/7000 [==============================] - 5s 698us/sample - loss: 0.0115 - val_loss: 0.0114\n",
      "Epoch 15/20\n",
      "7000/7000 [==============================] - 5s 696us/sample - loss: 0.0113 - val_loss: 0.0113\n",
      "Epoch 16/20\n",
      "7000/7000 [==============================] - 5s 697us/sample - loss: 0.0113 - val_loss: 0.0113\n",
      "Epoch 17/20\n",
      "7000/7000 [==============================] - 5s 696us/sample - loss: 0.0112 - val_loss: 0.0112\n",
      "Epoch 18/20\n",
      "7000/7000 [==============================] - 5s 699us/sample - loss: 0.0111 - val_loss: 0.0112\n",
      "Epoch 19/20\n",
      "7000/7000 [==============================] - 5s 691us/sample - loss: 0.0111 - val_loss: 0.0112\n",
      "Epoch 20/20\n",
      "7000/7000 [==============================] - 5s 693us/sample - loss: 0.0111 - val_loss: 0.0112\n"
     ]
    },
    {
     "data": {
      "text/plain": [
       "<tensorflow.python.keras.callbacks.History at 0x7f189c4efe90>"
      ]
     },
     "execution_count": 27,
     "metadata": {},
     "output_type": "execute_result"
    }
   ],
   "source": [
    "model.fit(X_train, y_train, epochs=20, validation_data=(X_valid, y_valid))"
   ]
  },
  {
   "cell_type": "code",
   "execution_count": 28,
   "metadata": {},
   "outputs": [
    {
     "name": "stdout",
     "output_type": "stream",
     "text": [
      "2000/2000 [==============================] - 0s 181us/sample - loss: 0.0112\n"
     ]
    },
    {
     "data": {
      "text/plain": [
       "0.011193875849246979"
      ]
     },
     "execution_count": 28,
     "metadata": {},
     "output_type": "execute_result"
    }
   ],
   "source": [
    "model.evaluate(X_valid, y_valid)\n",
    "\n",
    "# simple RNN did better than the naive approach but fully connected network outperformed \n",
    "# this RNN"
   ]
  },
  {
   "cell_type": "markdown",
   "metadata": {},
   "source": [
    "# deep RNN"
   ]
  },
  {
   "cell_type": "code",
   "execution_count": 30,
   "metadata": {},
   "outputs": [],
   "source": [
    "model = keras.Sequential([\n",
    "    keras.layers.SimpleRNN(20, return_sequences=True, input_shape=[None, 1]),\n",
    "    keras.layers.SimpleRNN(20, return_sequences=True),\n",
    "    keras.layers.SimpleRNN(1)\n",
    "])\n",
    "model.compile(optimizer=\"adam\", loss=\"mean_squared_error\")"
   ]
  },
  {
   "cell_type": "code",
   "execution_count": 31,
   "metadata": {
    "collapsed": true
   },
   "outputs": [
    {
     "name": "stdout",
     "output_type": "stream",
     "text": [
      "Train on 7000 samples, validate on 2000 samples\n",
      "Epoch 1/20\n",
      "7000/7000 [==============================] - 16s 2ms/sample - loss: 0.0212 - val_loss: 0.0043\n",
      "Epoch 2/20\n",
      "7000/7000 [==============================] - 14s 2ms/sample - loss: 0.0037 - val_loss: 0.0032\n",
      "Epoch 3/20\n",
      "7000/7000 [==============================] - 14s 2ms/sample - loss: 0.0033 - val_loss: 0.0030\n",
      "Epoch 4/20\n",
      "7000/7000 [==============================] - 14s 2ms/sample - loss: 0.0032 - val_loss: 0.0030\n",
      "Epoch 5/20\n",
      "7000/7000 [==============================] - 14s 2ms/sample - loss: 0.0031 - val_loss: 0.0028\n",
      "Epoch 6/20\n",
      "7000/7000 [==============================] - 14s 2ms/sample - loss: 0.0030 - val_loss: 0.0029\n",
      "Epoch 7/20\n",
      "7000/7000 [==============================] - 14s 2ms/sample - loss: 0.0030 - val_loss: 0.0031\n",
      "Epoch 8/20\n",
      "7000/7000 [==============================] - 14s 2ms/sample - loss: 0.0030 - val_loss: 0.0028\n",
      "Epoch 9/20\n",
      "7000/7000 [==============================] - 14s 2ms/sample - loss: 0.0029 - val_loss: 0.0027\n",
      "Epoch 10/20\n",
      "7000/7000 [==============================] - 14s 2ms/sample - loss: 0.0029 - val_loss: 0.0028\n",
      "Epoch 11/20\n",
      "7000/7000 [==============================] - 14s 2ms/sample - loss: 0.0029 - val_loss: 0.0027\n",
      "Epoch 12/20\n",
      "7000/7000 [==============================] - 14s 2ms/sample - loss: 0.0028 - val_loss: 0.0026\n",
      "Epoch 13/20\n",
      "7000/7000 [==============================] - 14s 2ms/sample - loss: 0.0028 - val_loss: 0.0027\n",
      "Epoch 14/20\n",
      "7000/7000 [==============================] - 14s 2ms/sample - loss: 0.0028 - val_loss: 0.0026\n",
      "Epoch 15/20\n",
      "7000/7000 [==============================] - 14s 2ms/sample - loss: 0.0028 - val_loss: 0.0030\n",
      "Epoch 16/20\n",
      "7000/7000 [==============================] - 14s 2ms/sample - loss: 0.0029 - val_loss: 0.0028\n",
      "Epoch 17/20\n",
      "7000/7000 [==============================] - 14s 2ms/sample - loss: 0.0028 - val_loss: 0.0025\n",
      "Epoch 18/20\n",
      "7000/7000 [==============================] - 14s 2ms/sample - loss: 0.0028 - val_loss: 0.0029\n",
      "Epoch 19/20\n",
      "7000/7000 [==============================] - 14s 2ms/sample - loss: 0.0028 - val_loss: 0.0025\n",
      "Epoch 20/20\n",
      "7000/7000 [==============================] - 14s 2ms/sample - loss: 0.0027 - val_loss: 0.0031\n"
     ]
    },
    {
     "data": {
      "text/plain": [
       "<tensorflow.python.keras.callbacks.History at 0x7f18a84a3c10>"
      ]
     },
     "execution_count": 31,
     "metadata": {},
     "output_type": "execute_result"
    }
   ],
   "source": [
    "model.fit(X_train, y_train, epochs=20, validation_data=(X_valid, y_valid))"
   ]
  },
  {
   "cell_type": "markdown",
   "metadata": {},
   "source": [
    "# RNN with Dense layer"
   ]
  },
  {
   "cell_type": "code",
   "execution_count": 32,
   "metadata": {},
   "outputs": [],
   "source": [
    "model = keras.Sequential([\n",
    "    keras.layers.SimpleRNN(20, return_sequences=True, input_shape=[None, 1]),\n",
    "    keras.layers.SimpleRNN(20),\n",
    "    keras.layers.Dense(1)\n",
    "])\n",
    "model.compile(optimizer=\"adam\", loss=\"mean_squared_error\")"
   ]
  },
  {
   "cell_type": "code",
   "execution_count": 35,
   "metadata": {
    "collapsed": true
   },
   "outputs": [
    {
     "name": "stdout",
     "output_type": "stream",
     "text": [
      "Train on 7000 samples, validate on 2000 samples\n",
      "Epoch 1/20\n",
      "7000/7000 [==============================] - 11s 2ms/sample - loss: 0.0208 - val_loss: 0.0050\n",
      "Epoch 2/20\n",
      "7000/7000 [==============================] - 9s 1ms/sample - loss: 0.0042 - val_loss: 0.0038\n",
      "Epoch 3/20\n",
      "7000/7000 [==============================] - 9s 1ms/sample - loss: 0.0036 - val_loss: 0.0034\n",
      "Epoch 4/20\n",
      "7000/7000 [==============================] - 9s 1ms/sample - loss: 0.0034 - val_loss: 0.0031\n",
      "Epoch 5/20\n",
      "7000/7000 [==============================] - 9s 1ms/sample - loss: 0.0035 - val_loss: 0.0039\n",
      "Epoch 6/20\n",
      "7000/7000 [==============================] - 9s 1ms/sample - loss: 0.0034 - val_loss: 0.0031\n",
      "Epoch 7/20\n",
      "7000/7000 [==============================] - 9s 1ms/sample - loss: 0.0032 - val_loss: 0.0034\n",
      "Epoch 8/20\n",
      "7000/7000 [==============================] - 9s 1ms/sample - loss: 0.0032 - val_loss: 0.0029\n",
      "Epoch 9/20\n",
      "7000/7000 [==============================] - 9s 1ms/sample - loss: 0.0032 - val_loss: 0.0030\n",
      "Epoch 10/20\n",
      "7000/7000 [==============================] - 9s 1ms/sample - loss: 0.0031 - val_loss: 0.0029\n",
      "Epoch 11/20\n",
      "7000/7000 [==============================] - 9s 1ms/sample - loss: 0.0030 - val_loss: 0.0028\n",
      "Epoch 12/20\n",
      "7000/7000 [==============================] - 9s 1ms/sample - loss: 0.0030 - val_loss: 0.0027\n",
      "Epoch 13/20\n",
      "7000/7000 [==============================] - 9s 1ms/sample - loss: 0.0031 - val_loss: 0.0029\n",
      "Epoch 14/20\n",
      "7000/7000 [==============================] - 9s 1ms/sample - loss: 0.0030 - val_loss: 0.0028\n",
      "Epoch 15/20\n",
      "7000/7000 [==============================] - 9s 1ms/sample - loss: 0.0030 - val_loss: 0.0028\n",
      "Epoch 16/20\n",
      "7000/7000 [==============================] - 9s 1ms/sample - loss: 0.0030 - val_loss: 0.0028\n",
      "Epoch 17/20\n",
      "7000/7000 [==============================] - 9s 1ms/sample - loss: 0.0029 - val_loss: 0.0028\n",
      "Epoch 18/20\n",
      "7000/7000 [==============================] - 9s 1ms/sample - loss: 0.0029 - val_loss: 0.0026\n",
      "Epoch 19/20\n",
      "7000/7000 [==============================] - 9s 1ms/sample - loss: 0.0029 - val_loss: 0.0034\n",
      "Epoch 20/20\n",
      "7000/7000 [==============================] - 9s 1ms/sample - loss: 0.0029 - val_loss: 0.0026\n"
     ]
    },
    {
     "data": {
      "text/plain": [
       "<tensorflow.python.keras.callbacks.History at 0x7f186c50e350>"
      ]
     },
     "execution_count": 35,
     "metadata": {},
     "output_type": "execute_result"
    }
   ],
   "source": [
    "model.fit(X_train, y_train, epochs=20, validation_data=(X_valid, y_valid))"
   ]
  },
  {
   "cell_type": "code",
   "execution_count": 36,
   "metadata": {},
   "outputs": [],
   "source": [
    "# forecasting 10 steps ahead\n",
    "series = generate_time_series(1, n_steps + 10)\n",
    "X_new, y_new = series[:, :n_steps], series[:, n_steps:]\n",
    "X = X_new\n",
    "for step_ahead in range(10):\n",
    "    y_pred_one = model.predict(X[:, step_ahead:])[:, np.newaxis, :]\n",
    "    X = np.concatenate([X, y_pred_one], axis=1)\n",
    "    \n",
    "y_pred = X[:, n_steps:]"
   ]
  },
  {
   "cell_type": "code",
   "execution_count": 51,
   "metadata": {},
   "outputs": [
    {
     "data": {
      "image/png": "[encoded data removed]",
      "text/plain": [
       "<Figure size 576x396 with 1 Axes>"
      ]
     },
     "metadata": {},
     "output_type": "display_data"
    }
   ],
   "source": [
    "plt.plot(range(n_steps + 10), series[0])\n",
    "plt.scatter(range(50, 60), y_pred, color=\"salmon\", label=\"predicted\")\n",
    "plt.scatter(range(50, 60), series[0][-10:], marker=\"x\", label=\"actual\", color=\"gray\", s=100)\n",
    "plt.plot(range(0, 60), [0]*60, color=\"k\", linestyle=\"--\")\n",
    "plt.xlabel(\"t\", fontsize=20)\n",
    "plt.ylabel(\"x(t)\", fontsize=20)\n",
    "plt.legend()\n",
    "plt.show()"
   ]
  },
  {
   "cell_type": "markdown",
   "metadata": {},
   "source": [
    "# RNN trained to predict all 10 next values"
   ]
  },
  {
   "cell_type": "code",
   "execution_count": 53,
   "metadata": {},
   "outputs": [],
   "source": [
    "series = generate_time_series(10000, n_steps + 10)\n",
    "X_train, Y_train = series[:7000, :n_steps], series[:7000, -10:, 0]\n",
    "X_valid, Y_valid = series[7000:9000, :n_steps], series[7000:9000, -10:, 0]\n",
    "X_test, Y_test = series[9000:, :n_steps], series[9000:, -10:, 0]"
   ]
  },
  {
   "cell_type": "code",
   "execution_count": 55,
   "metadata": {},
   "outputs": [],
   "source": [
    "model = keras.Sequential([\n",
    "    keras.layers.SimpleRNN(20, return_sequences=True, input_shape=[None, 1]),\n",
    "    keras.layers.SimpleRNN(20),\n",
    "    keras.layers.Dense(10)\n",
    "])\n",
    "model.compile(optimizer=\"adam\", loss=\"mean_squared_error\")"
   ]
  },
  {
   "cell_type": "code",
   "execution_count": 56,
   "metadata": {},
   "outputs": [
    {
     "name": "stdout",
     "output_type": "stream",
     "text": [
      "Train on 7000 samples, validate on 2000 samples\n",
      "Epoch 1/20\n",
      "7000/7000 [==============================] - 11s 2ms/sample - loss: 0.0757 - val_loss: 0.0327\n",
      "Epoch 2/20\n",
      "7000/7000 [==============================] - 9s 1ms/sample - loss: 0.0268 - val_loss: 0.0242\n",
      "Epoch 3/20\n",
      "7000/7000 [==============================] - 9s 1ms/sample - loss: 0.0203 - val_loss: 0.0186\n",
      "Epoch 4/20\n",
      "7000/7000 [==============================] - 9s 1ms/sample - loss: 0.0173 - val_loss: 0.0155\n",
      "Epoch 5/20\n",
      "7000/7000 [==============================] - 9s 1ms/sample - loss: 0.0149 - val_loss: 0.0134\n",
      "Epoch 6/20\n",
      "7000/7000 [==============================] - 9s 1ms/sample - loss: 0.0132 - val_loss: 0.0130\n",
      "Epoch 7/20\n",
      "7000/7000 [==============================] - 9s 1ms/sample - loss: 0.0121 - val_loss: 0.0122\n",
      "Epoch 8/20\n",
      "7000/7000 [==============================] - 9s 1ms/sample - loss: 0.0120 - val_loss: 0.0148\n",
      "Epoch 9/20\n",
      "7000/7000 [==============================] - 9s 1ms/sample - loss: 0.0110 - val_loss: 0.0110\n",
      "Epoch 10/20\n",
      "7000/7000 [==============================] - 9s 1ms/sample - loss: 0.0108 - val_loss: 0.0121\n",
      "Epoch 11/20\n",
      "7000/7000 [==============================] - 9s 1ms/sample - loss: 0.0100 - val_loss: 0.0095\n",
      "Epoch 12/20\n",
      "7000/7000 [==============================] - 9s 1ms/sample - loss: 0.0097 - val_loss: 0.0098\n",
      "Epoch 13/20\n",
      "7000/7000 [==============================] - 9s 1ms/sample - loss: 0.0095 - val_loss: 0.0092\n",
      "Epoch 14/20\n",
      "7000/7000 [==============================] - 9s 1ms/sample - loss: 0.0096 - val_loss: 0.0093\n",
      "Epoch 15/20\n",
      "7000/7000 [==============================] - 9s 1ms/sample - loss: 0.0092 - val_loss: 0.0092\n",
      "Epoch 16/20\n",
      "7000/7000 [==============================] - 9s 1ms/sample - loss: 0.0087 - val_loss: 0.0101\n",
      "Epoch 17/20\n",
      "7000/7000 [==============================] - 9s 1ms/sample - loss: 0.0091 - val_loss: 0.0089\n",
      "Epoch 18/20\n",
      "7000/7000 [==============================] - 9s 1ms/sample - loss: 0.0087 - val_loss: 0.0085\n",
      "Epoch 19/20\n",
      "7000/7000 [==============================] - 9s 1ms/sample - loss: 0.0085 - val_loss: 0.0097\n",
      "Epoch 20/20\n",
      "7000/7000 [==============================] - 9s 1ms/sample - loss: 0.0085 - val_loss: 0.0107\n"
     ]
    },
    {
     "data": {
      "text/plain": [
       "<tensorflow.python.keras.callbacks.History at 0x7f18480392d0>"
      ]
     },
     "execution_count": 56,
     "metadata": {},
     "output_type": "execute_result"
    }
   ],
   "source": [
    "model.fit(X_train, Y_train, epochs=20, validation_data=(X_valid, Y_valid))"
   ]
  },
  {
   "cell_type": "code",
   "execution_count": 57,
   "metadata": {},
   "outputs": [],
   "source": [
    "Y_pred = model.predict(X_new)"
   ]
  },
  {
   "cell_type": "code",
   "execution_count": null,
   "metadata": {},
   "outputs": [],
   "source": []
  },
  {
   "cell_type": "code",
   "execution_count": null,
   "metadata": {},
   "outputs": [],
   "source": []
  }
 ],
 "metadata": {
  "kernelspec": {
   "display_name": "Python 3",
   "language": "python",
   "name": "python3"
  },
  "language_info": {
   "codemirror_mode": {
    "name": "ipython",
    "version": 3
   },
   "file_extension": ".py",
   "mimetype": "text/x-python",
   "name": "python",
   "nbconvert_exporter": "python",
   "pygments_lexer": "ipython3",
   "version": "3.7.6"
  }
 },
 "nbformat": 4,
 "nbformat_minor": 2
}
