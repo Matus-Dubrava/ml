{
 "cells": [
  {
   "cell_type": "code",
   "execution_count": 144,
   "metadata": {},
   "outputs": [],
   "source": [
    "import numpy as np\n",
    "import matplotlib.pyplot as plt\n",
    "plt.style.use(\"seaborn\")"
   ]
  },
  {
   "cell_type": "code",
   "execution_count": 182,
   "metadata": {},
   "outputs": [],
   "source": [
    "def generate_linear_dataset(n_instances=100):\n",
    "    X = np.random.rand(n_instances, 1) * 10 - 5\n",
    "    y = 4 + 3 * X + np.random.randn(n_instances, 1) * 3\n",
    "    return X, y\n",
    "\n",
    "def mse(y_true, y_pred):\n",
    "    return ((y_true - y_pred) ** 2).sum() / len(y_true)"
   ]
  },
  {
   "cell_type": "markdown",
   "metadata": {},
   "source": [
    "# Normal Equation\n",
    "\n",
    "\\begin{equation}\n",
    "\\Theta = (X^TX)^{-1}X^Ty\n",
    "\\end{equation}"
   ]
  },
  {
   "cell_type": "code",
   "execution_count": 183,
   "metadata": {},
   "outputs": [],
   "source": [
    "class NormalEquationLinearRegression:\n",
    "    def fit(self, X, y):\n",
    "        X_b = np.c_[np.ones((len(X), 1)), X]\n",
    "        self.theta_ = np.linalg.inv(X_b.T.dot(X_b)).dot(X_b.T).dot(y)\n",
    "    def predict(self, X):\n",
    "        X_b = np.c_[np.ones((len(X), 1)), X]\n",
    "        return X_b.dot(self.theta_)"
   ]
  },
  {
   "cell_type": "code",
   "execution_count": 184,
   "metadata": {},
   "outputs": [],
   "source": [
    "X, y = generate_linear_dataset()"
   ]
  },
  {
   "cell_type": "code",
   "execution_count": 185,
   "metadata": {},
   "outputs": [
    {
     "data": {
      "text/plain": [
       "array([[4.08606881],\n",
       "       [3.08787666]])"
      ]
     },
     "execution_count": 185,
     "metadata": {},
     "output_type": "execute_result"
    }
   ],
   "source": [
    "normal_reg = NormalEquationLinearRegression()\n",
    "normal_reg.fit(X, y)\n",
    "normal_reg.theta_"
   ]
  },
  {
   "cell_type": "code",
   "execution_count": 186,
   "metadata": {},
   "outputs": [
    {
     "data": {
      "text/plain": [
       "2.9543593232751206"
      ]
     },
     "execution_count": 186,
     "metadata": {},
     "output_type": "execute_result"
    }
   ],
   "source": [
    "y_pred = normal_reg.predict(X)\n",
    "np.sqrt(mse(y, y_pred))"
   ]
  },
  {
   "cell_type": "code",
   "execution_count": 187,
   "metadata": {},
   "outputs": [
    {
     "data": {
      "image/png": "[encoded data removed]",
      "text/plain": [
       "<Figure size 576x396 with 1 Axes>"
      ]
     },
     "metadata": {},
     "output_type": "display_data"
    }
   ],
   "source": [
    "plt.scatter(X, y)\n",
    "plt.plot([-5, 5], normal_reg.predict([-5, 5]), color=\"salmon\");"
   ]
  },
  {
   "cell_type": "markdown",
   "metadata": {},
   "source": [
    "# SVD\n",
    "\n",
    "\\begin{equation}\n",
    "\\Theta = X^+y\n",
    "\\end{equation}\n",
    "\n",
    "* where $X^+$ is pseudoinverse (Moore-Penrose inverse) of $X$\n",
    "* $X^+ = U\\sum^+ V^T$ "
   ]
  },
  {
   "cell_type": "code",
   "execution_count": 193,
   "metadata": {},
   "outputs": [],
   "source": [
    "class SVDLinearRegression:\n",
    "    def fit(self, X, y):\n",
    "        X_b = np.c_[np.ones((len(X), 1)), X]\n",
    "        self.theta_ = np.linalg.pinv(X_b).dot(y)\n",
    "        \n",
    "    def predict(self, X):\n",
    "        X_b = np.c_[np.ones((len(X), 1)), X]\n",
    "        return X_b.dot(self.theta_)"
   ]
  },
  {
   "cell_type": "code",
   "execution_count": 195,
   "metadata": {},
   "outputs": [
    {
     "data": {
      "text/plain": [
       "array([[4.08606881],\n",
       "       [3.08787666]])"
      ]
     },
     "execution_count": 195,
     "metadata": {},
     "output_type": "execute_result"
    }
   ],
   "source": [
    "svd_lin_reg = SVDLinearRegression()\n",
    "svd_lin_reg.fit(X, y)\n",
    "svd_lin_reg.theta_"
   ]
  },
  {
   "cell_type": "markdown",
   "metadata": {},
   "source": [
    "# Gradient Descent\n",
    "\n",
    "\\begin{equation}\n",
    "gradient = \\frac{2}{m} X^T(X\\Theta - y)\n",
    "\\end{equation}\n",
    "\n",
    "\\begin{equation}\n",
    "\\Theta = \\Theta - \\eta * gradient\n",
    "\\end{equation}"
   ]
  },
  {
   "cell_type": "code",
   "execution_count": 279,
   "metadata": {},
   "outputs": [],
   "source": [
    "class GradientDescentRegression:\n",
    "    def __init__(self, learning_rate=0.01, n_epochs=1000):\n",
    "        self.learning_rate = learning_rate\n",
    "        self.n_epochs = n_epochs\n",
    "        \n",
    "    def fit(self, X, y):\n",
    "        X_b = np.c_[np.ones((len(X), 1)), X]\n",
    "        self.theta_ = np.random.randn(len(X_b[0]), 1)\n",
    "        \n",
    "        for _ in range(self.n_epochs):\n",
    "            m = len(X)\n",
    "            gradient = 2 / m * X_b.T.dot(X_b.dot(self.theta_) - y)\n",
    "            self.theta_ = self.theta_ - self.learning_rate * gradient\n",
    "            \n",
    "    def partial_fit(self, X, y, n_epochs=1):\n",
    "        X_b = np.c_[np.ones((len(X), 1)), X]\n",
    "        \n",
    "        # if theta doesn't exist, create it\n",
    "        try:\n",
    "            self.theta_\n",
    "        except AttributeError as e:\n",
    "            self.theta_ = np.random.randn(len(X_b[0]), 1)\n",
    "        \n",
    "        for _ in range(n_epochs):\n",
    "            m = len(X)\n",
    "            gradient = 2 / m * X_b.T.dot(X_b.dot(self.theta_) - y)\n",
    "            self.theta_ = self.theta_ - self.learning_rate * gradient\n",
    "            \n",
    "    def predict(self, X):\n",
    "        X_b = np.c_[np.ones((len(X), 1)), X]\n",
    "        return X_b.dot(self.theta_)"
   ]
  },
  {
   "cell_type": "code",
   "execution_count": 266,
   "metadata": {},
   "outputs": [
    {
     "data": {
      "text/plain": [
       "array([[3.66987131],\n",
       "       [2.96683864]])"
      ]
     },
     "execution_count": 266,
     "metadata": {},
     "output_type": "execute_result"
    }
   ],
   "source": [
    "gd_reg = GradientDescentRegression(learning_rate=0.1, n_epochs=10)\n",
    "gd_reg.fit(X, y)\n",
    "gd_reg.theta_"
   ]
  },
  {
   "cell_type": "markdown",
   "metadata": {},
   "source": [
    "# Visualizing Different Learning Rates"
   ]
  },
  {
   "cell_type": "code",
   "execution_count": 275,
   "metadata": {},
   "outputs": [
    {
     "data": {
      "image/png": "[encoded data removed]",
      "text/plain": [
       "<Figure size 576x396 with 1 Axes>"
      ]
     },
     "metadata": {},
     "output_type": "display_data"
    }
   ],
   "source": [
    "gd_reg = GradientDescentRegression(learning_rate=0.02)\n",
    "X_test = [-5, 5]\n",
    "y_pred = []\n",
    "\n",
    "for _ in range(5):\n",
    "    gd_reg.partial_fit(X, y)\n",
    "    y_pred.append(gd_reg.predict(X_test))\n",
    "    \n",
    "plt.scatter(X, y)\n",
    "for i in range(len(y_pred)):\n",
    "    plt.plot(X_test, y_pred[i], color=\"salmon\")\n",
    "plt.title(\"eta=0.02 (too small)\")\n",
    "plt.show()"
   ]
  },
  {
   "cell_type": "code",
   "execution_count": 277,
   "metadata": {},
   "outputs": [
    {
     "data": {
      "image/png": "[encoded data removed]",
      "text/plain": [
       "<Figure size 576x396 with 1 Axes>"
      ]
     },
     "metadata": {},
     "output_type": "display_data"
    }
   ],
   "source": [
    "gd_reg = GradientDescentRegression(learning_rate=0.5)\n",
    "X_test = [-5, 5]\n",
    "y_pred = []\n",
    "\n",
    "for _ in range(5):\n",
    "    gd_reg.partial_fit(X, y)\n",
    "    y_pred.append(gd_reg.predict(X_test))\n",
    "    \n",
    "plt.scatter(X, y)\n",
    "for i in range(len(y_pred)):\n",
    "    plt.plot(X_test, y_pred[i], color=\"salmon\")\n",
    "plt.title(\"eta=0.5 (too big)\")\n",
    "plt.show()"
   ]
  },
  {
   "cell_type": "code",
   "execution_count": 327,
   "metadata": {
    "scrolled": true
   },
   "outputs": [
    {
     "data": {
      "image/png": "[encoded data removed]",
      "text/plain": [
       "<Figure size 576x396 with 1 Axes>"
      ]
     },
     "metadata": {},
     "output_type": "display_data"
    }
   ],
   "source": [
    "gd_reg = GradientDescentRegression(learning_rate=0.1)\n",
    "X_test = [-5, 5]\n",
    "y_pred = []\n",
    "\n",
    "for _ in range(5):\n",
    "    gd_reg.partial_fit(X, y)\n",
    "    y_pred.append(gd_reg.predict(X_test))\n",
    "    \n",
    "plt.scatter(X, y)\n",
    "for i in range(len(y_pred)):\n",
    "    plt.plot(X_test, y_pred[i], color=\"salmon\")\n",
    "plt.title(\"eta=0.1 (almost ideal)\")\n",
    "plt.show()"
   ]
  },
  {
   "cell_type": "markdown",
   "metadata": {},
   "source": [
    "# Logistic Regression"
   ]
  },
  {
   "cell_type": "code",
   "execution_count": 344,
   "metadata": {},
   "outputs": [
    {
     "data": {
      "text/plain": [
       "Counter({0: 50, 1: 50, 2: 50})"
      ]
     },
     "execution_count": 344,
     "metadata": {},
     "output_type": "execute_result"
    }
   ],
   "source": [
    "from sklearn.datasets import load_iris\n",
    "from sklearn.model_selection import train_test_split\n",
    "from sklearn.metrics import confusion_matrix, f1_score\n",
    "from collections import Counter\n",
    "\n",
    "iris = load_iris()\n",
    "X = iris[\"data\"][:, 2:]\n",
    "y = iris[\"target\"]\n",
    "\n",
    "X_train, X_test, y_train, y_test = train_test_split(X, y, test_size=0.2)\n",
    "\n",
    "Counter(y)"
   ]
  },
  {
   "cell_type": "code",
   "execution_count": 345,
   "metadata": {},
   "outputs": [
    {
     "data": {
      "text/plain": [
       "0.9666666666666667"
      ]
     },
     "execution_count": 345,
     "metadata": {},
     "output_type": "execute_result"
    }
   ],
   "source": [
    "from sklearn.linear_model import LogisticRegression\n",
    "\n",
    "lr_clf = LogisticRegression()\n",
    "lr_clf.fit(X_train, y_train)\n",
    "lr_clf.score(X_test, y_test)"
   ]
  },
  {
   "cell_type": "code",
   "execution_count": 348,
   "metadata": {},
   "outputs": [
    {
     "data": {
      "text/plain": [
       "array([[ 7,  0,  0],\n",
       "       [ 0,  9,  0],\n",
       "       [ 0,  1, 13]])"
      ]
     },
     "execution_count": 348,
     "metadata": {},
     "output_type": "execute_result"
    }
   ],
   "source": [
    "y_pred = lr_clf.predict(X_test)\n",
    "confusion_matrix(y_test, y_pred)"
   ]
  },
  {
   "cell_type": "markdown",
   "metadata": {},
   "source": [
    "# Testing L1/L2 regularization"
   ]
  },
  {
   "cell_type": "code",
   "execution_count": 469,
   "metadata": {},
   "outputs": [],
   "source": [
    "m = 1000\n",
    "X = np.c_[np.random.rand(m, 3) * 10 - 5, np.ones((m, 1))] \n",
    "y = (5 + 2 * X[:, :1] + 8 * X[:, 1:2] + np.random.randn(m, 1) * 5).ravel()\n",
    "\n",
    "X_train, X_test, y_train, y_test = train_test_split(X, y, test_size=0.2)"
   ]
  },
  {
   "cell_type": "code",
   "execution_count": 470,
   "metadata": {},
   "outputs": [],
   "source": [
    "from sklearn.linear_model import SGDRegressor"
   ]
  },
  {
   "cell_type": "code",
   "execution_count": 471,
   "metadata": {},
   "outputs": [
    {
     "data": {
      "text/plain": [
       "0.955032220501445"
      ]
     },
     "execution_count": 471,
     "metadata": {},
     "output_type": "execute_result"
    }
   ],
   "source": [
    "sgd = SGDRegressor(penalty=None)\n",
    "sgd.fit(X_train, y_train)\n",
    "sgd.score(X_test, y_test)"
   ]
  },
  {
   "cell_type": "code",
   "execution_count": 472,
   "metadata": {},
   "outputs": [
    {
     "data": {
      "text/plain": [
       "(array([2.41761513]), array([1.85872173, 8.17477363, 0.12715311, 2.41761513]))"
      ]
     },
     "execution_count": 472,
     "metadata": {},
     "output_type": "execute_result"
    }
   ],
   "source": [
    "sgd.intercept_, sgd.coef_"
   ]
  },
  {
   "cell_type": "code",
   "execution_count": 473,
   "metadata": {},
   "outputs": [
    {
     "data": {
      "text/plain": [
       "0.953266946910759"
      ]
     },
     "execution_count": 473,
     "metadata": {},
     "output_type": "execute_result"
    }
   ],
   "source": [
    "sgd_l2 = SGDRegressor(penalty=\"l2\")\n",
    "sgd_l2.fit(X_train, y_train)\n",
    "sgd_l2.score(X_test, y_test)"
   ]
  },
  {
   "cell_type": "code",
   "execution_count": 474,
   "metadata": {},
   "outputs": [
    {
     "data": {
      "text/plain": [
       "(array([2.39211141]), array([1.69292466, 8.07301471, 0.09934668, 2.38892552]))"
      ]
     },
     "execution_count": 474,
     "metadata": {},
     "output_type": "execute_result"
    }
   ],
   "source": [
    "sgd_l2.intercept_, sgd_l2.coef_"
   ]
  },
  {
   "cell_type": "code",
   "execution_count": 475,
   "metadata": {},
   "outputs": [
    {
     "data": {
      "text/plain": [
       "0.9541466664746902"
      ]
     },
     "execution_count": 475,
     "metadata": {},
     "output_type": "execute_result"
    }
   ],
   "source": [
    "sgd_l1 = SGDRegressor(penalty=\"l1\")\n",
    "sgd_l1.fit(X_train, y_train)\n",
    "sgd_l1.score(X_test, y_test)"
   ]
  },
  {
   "cell_type": "code",
   "execution_count": 476,
   "metadata": {},
   "outputs": [
    {
     "data": {
      "text/plain": [
       "(array([2.31389344]), array([1.79912906, 8.12590668, 0.11336104, 2.31285203]))"
      ]
     },
     "execution_count": 476,
     "metadata": {},
     "output_type": "execute_result"
    }
   ],
   "source": [
    "sgd_l1.intercept_, sgd_l1.coef_"
   ]
  },
  {
   "cell_type": "code",
   "execution_count": 477,
   "metadata": {},
   "outputs": [
    {
     "data": {
      "text/plain": [
       "0.9548558352020874"
      ]
     },
     "execution_count": 477,
     "metadata": {},
     "output_type": "execute_result"
    }
   ],
   "source": [
    "sgd_elastic_net = SGDRegressor(penalty=\"elasticnet\", l1_ratio=0.15)\n",
    "sgd_elastic_net.fit(X_train, y_train)\n",
    "sgd_elastic_net.score(X_test, y_test)"
   ]
  },
  {
   "cell_type": "code",
   "execution_count": 478,
   "metadata": {},
   "outputs": [
    {
     "data": {
      "text/plain": [
       "(array([2.3272388]), array([1.89307492, 8.13331812, 0.13103358, 2.32545574]))"
      ]
     },
     "execution_count": 478,
     "metadata": {},
     "output_type": "execute_result"
    }
   ],
   "source": [
    "sgd_elastic_net.intercept_, sgd_elastic_net.coef_"
   ]
  },
  {
   "cell_type": "code",
   "execution_count": 492,
   "metadata": {},
   "outputs": [
    {
     "data": {
      "text/html": [
       "<div>\n",
       "<style scoped>\n",
       "    .dataframe tbody tr th:only-of-type {\n",
       "        vertical-align: middle;\n",
       "    }\n",
       "\n",
       "    .dataframe tbody tr th {\n",
       "        vertical-align: top;\n",
       "    }\n",
       "\n",
       "    .dataframe thead th {\n",
       "        text-align: right;\n",
       "    }\n",
       "</style>\n",
       "<table border=\"1\" class=\"dataframe\">\n",
       "  <thead>\n",
       "    <tr style=\"text-align: right;\">\n",
       "      <th></th>\n",
       "      <th>MedInc</th>\n",
       "      <th>HouseAge</th>\n",
       "      <th>AveRooms</th>\n",
       "      <th>AveBedrms</th>\n",
       "      <th>Population</th>\n",
       "      <th>AveOccup</th>\n",
       "      <th>Latitude</th>\n",
       "      <th>Longitude</th>\n",
       "      <th>median_house_value</th>\n",
       "    </tr>\n",
       "  </thead>\n",
       "  <tbody>\n",
       "    <tr>\n",
       "      <th>0</th>\n",
       "      <td>8.3252</td>\n",
       "      <td>41.0</td>\n",
       "      <td>6.984127</td>\n",
       "      <td>1.023810</td>\n",
       "      <td>322.0</td>\n",
       "      <td>2.555556</td>\n",
       "      <td>37.88</td>\n",
       "      <td>-122.23</td>\n",
       "      <td>4.526</td>\n",
       "    </tr>\n",
       "    <tr>\n",
       "      <th>1</th>\n",
       "      <td>8.3014</td>\n",
       "      <td>21.0</td>\n",
       "      <td>6.238137</td>\n",
       "      <td>0.971880</td>\n",
       "      <td>2401.0</td>\n",
       "      <td>2.109842</td>\n",
       "      <td>37.86</td>\n",
       "      <td>-122.22</td>\n",
       "      <td>3.585</td>\n",
       "    </tr>\n",
       "    <tr>\n",
       "      <th>2</th>\n",
       "      <td>7.2574</td>\n",
       "      <td>52.0</td>\n",
       "      <td>8.288136</td>\n",
       "      <td>1.073446</td>\n",
       "      <td>496.0</td>\n",
       "      <td>2.802260</td>\n",
       "      <td>37.85</td>\n",
       "      <td>-122.24</td>\n",
       "      <td>3.521</td>\n",
       "    </tr>\n",
       "    <tr>\n",
       "      <th>3</th>\n",
       "      <td>5.6431</td>\n",
       "      <td>52.0</td>\n",
       "      <td>5.817352</td>\n",
       "      <td>1.073059</td>\n",
       "      <td>558.0</td>\n",
       "      <td>2.547945</td>\n",
       "      <td>37.85</td>\n",
       "      <td>-122.25</td>\n",
       "      <td>3.413</td>\n",
       "    </tr>\n",
       "    <tr>\n",
       "      <th>4</th>\n",
       "      <td>3.8462</td>\n",
       "      <td>52.0</td>\n",
       "      <td>6.281853</td>\n",
       "      <td>1.081081</td>\n",
       "      <td>565.0</td>\n",
       "      <td>2.181467</td>\n",
       "      <td>37.85</td>\n",
       "      <td>-122.25</td>\n",
       "      <td>3.422</td>\n",
       "    </tr>\n",
       "  </tbody>\n",
       "</table>\n",
       "</div>"
      ],
      "text/plain": [
       "   MedInc  HouseAge  AveRooms  AveBedrms  Population  AveOccup  Latitude  \\\n",
       "0  8.3252      41.0  6.984127   1.023810       322.0  2.555556     37.88   \n",
       "1  8.3014      21.0  6.238137   0.971880      2401.0  2.109842     37.86   \n",
       "2  7.2574      52.0  8.288136   1.073446       496.0  2.802260     37.85   \n",
       "3  5.6431      52.0  5.817352   1.073059       558.0  2.547945     37.85   \n",
       "4  3.8462      52.0  6.281853   1.081081       565.0  2.181467     37.85   \n",
       "\n",
       "   Longitude  median_house_value  \n",
       "0    -122.23               4.526  \n",
       "1    -122.22               3.585  \n",
       "2    -122.24               3.521  \n",
       "3    -122.25               3.413  \n",
       "4    -122.25               3.422  "
      ]
     },
     "execution_count": 492,
     "metadata": {},
     "output_type": "execute_result"
    }
   ],
   "source": [
    "from sklearn.datasets import fetch_california_housing\n",
    "import pandas as pd\n",
    "\n",
    "housing = fetch_california_housing()\n",
    "X = housing[\"data\"]\n",
    "y = housing[\"target\"]\n",
    "\n",
    "X_train, X_test, y_train, y_test = train_test_split(X, y, test_size=0.2)\n",
    "\n",
    "df = pd.DataFrame(X, columns=housing[\"feature_names\"])\n",
    "df[\"median_house_value\"] = y\n",
    "df.head()"
   ]
  },
  {
   "cell_type": "code",
   "execution_count": 526,
   "metadata": {},
   "outputs": [],
   "source": [
    "from sklearn.pipeline import Pipeline\n",
    "from sklearn.preprocessing import StandardScaler\n",
    "from sklearn.model_selection import GridSearchCV\n",
    "from sklearn.metrics import mean_squared_error\n",
    "\n",
    "pipe = Pipeline([\n",
    "    (\"std_scaler\", StandardScaler()),\n",
    "    (\"regressor\", SGDRegressor())\n",
    "])"
   ]
  },
  {
   "cell_type": "code",
   "execution_count": 523,
   "metadata": {},
   "outputs": [],
   "source": [
    "param_grid = [\n",
    "    {\n",
    "        \"regressor__penalty\": [None, \"l1\", \"l2\"],\n",
    "        \"regressor__learning_rate\": [\"constant\", \"optimal\", \"adaptive\", \"invscaling\"],\n",
    "        \"regressor__early_stopping\": [True, False]\n",
    "    }\n",
    "]\n",
    "\n",
    "grid_search = GridSearchCV(estimator=pipe, param_grid=param_grid, \n",
    "                           scoring=\"neg_mean_squared_error\", n_jobs=-1, cv=5)\n",
    "\n",
    "grid_search.fit(X_train, y_train);"
   ]
  },
  {
   "cell_type": "code",
   "execution_count": 524,
   "metadata": {},
   "outputs": [
    {
     "data": {
      "text/plain": [
       "{'regressor__early_stopping': True,\n",
       " 'regressor__learning_rate': 'invscaling',\n",
       " 'regressor__penalty': None}"
      ]
     },
     "execution_count": 524,
     "metadata": {},
     "output_type": "execute_result"
    }
   ],
   "source": [
    "grid_search.best_params_"
   ]
  },
  {
   "cell_type": "code",
   "execution_count": 525,
   "metadata": {},
   "outputs": [
    {
     "data": {
      "text/plain": [
       "-0.523342743732945"
      ]
     },
     "execution_count": 525,
     "metadata": {},
     "output_type": "execute_result"
    }
   ],
   "source": [
    "grid_search.score(X_test, y_test)"
   ]
  },
  {
   "cell_type": "code",
   "execution_count": 527,
   "metadata": {},
   "outputs": [
    {
     "data": {
      "text/plain": [
       "0.7234243179026711"
      ]
     },
     "execution_count": 527,
     "metadata": {},
     "output_type": "execute_result"
    }
   ],
   "source": [
    "np.sqrt(mean_squared_error(y_test, grid_search.predict(X_test)))"
   ]
  },
  {
   "cell_type": "code",
   "execution_count": 530,
   "metadata": {},
   "outputs": [
    {
     "name": "stderr",
     "output_type": "stream",
     "text": [
      "/usr/lib/python3.7/importlib/_bootstrap.py:219: RuntimeWarning: numpy.ufunc size changed, may indicate binary incompatibility. Expected 216, got 192\n",
      "  return f(*args, **kwds)\n"
     ]
    }
   ],
   "source": [
    "import tensorflow as tf\n",
    "from tensorflow import keras"
   ]
  },
  {
   "cell_type": "code",
   "execution_count": 534,
   "metadata": {
    "collapsed": true
   },
   "outputs": [
    {
     "name": "stdout",
     "output_type": "stream",
     "text": [
      "Train on 16512 samples, validate on 4128 samples\n",
      "Epoch 1/100\n",
      "16512/16512 [==============================] - 2s 142us/sample - loss: 181.6048 - val_loss: 3656.6592\n",
      "Epoch 2/100\n",
      "16512/16512 [==============================] - 1s 73us/sample - loss: 72.8956 - val_loss: 1.3512\n",
      "Epoch 3/100\n",
      "16512/16512 [==============================] - 1s 71us/sample - loss: 73.8871 - val_loss: 117.6205\n",
      "Epoch 4/100\n",
      "16512/16512 [==============================] - 1s 72us/sample - loss: 18.1535 - val_loss: 1.1462\n",
      "Epoch 5/100\n",
      "16512/16512 [==============================] - 1s 73us/sample - loss: 94.1209 - val_loss: 1.0561\n",
      "Epoch 6/100\n",
      "16512/16512 [==============================] - 1s 72us/sample - loss: 1.1639 - val_loss: 0.8338\n",
      "Epoch 7/100\n",
      "16512/16512 [==============================] - 1s 72us/sample - loss: 1.0996 - val_loss: 0.7520\n",
      "Epoch 8/100\n",
      "16512/16512 [==============================] - 1s 71us/sample - loss: 4.6994 - val_loss: 0.8039\n",
      "Epoch 9/100\n",
      "16512/16512 [==============================] - 1s 72us/sample - loss: 58.2564 - val_loss: 0.8261\n",
      "Epoch 10/100\n",
      "16512/16512 [==============================] - 1s 73us/sample - loss: 0.8085 - val_loss: 0.7656\n",
      "Epoch 11/100\n",
      "16512/16512 [==============================] - 1s 74us/sample - loss: 0.9071 - val_loss: 0.6365\n",
      "Epoch 12/100\n",
      "16512/16512 [==============================] - 1s 72us/sample - loss: 0.8913 - val_loss: 3.6435\n",
      "Epoch 13/100\n",
      "16512/16512 [==============================] - 1s 74us/sample - loss: 1.5325 - val_loss: 0.6512\n",
      "Epoch 14/100\n",
      "16512/16512 [==============================] - 1s 73us/sample - loss: 7.8499 - val_loss: 0.7026\n",
      "Epoch 15/100\n",
      "16512/16512 [==============================] - 1s 72us/sample - loss: 0.8654 - val_loss: 0.6297\n",
      "Epoch 16/100\n",
      "16512/16512 [==============================] - 1s 73us/sample - loss: 1.9171 - val_loss: 0.7385\n",
      "Epoch 17/100\n",
      "16512/16512 [==============================] - 1s 74us/sample - loss: 2.3696 - val_loss: 0.7338\n",
      "Epoch 18/100\n",
      "16512/16512 [==============================] - 1s 74us/sample - loss: 2.0594 - val_loss: 0.6497\n",
      "Epoch 19/100\n",
      "16512/16512 [==============================] - 1s 73us/sample - loss: 2.3533 - val_loss: 0.6413\n",
      "Epoch 20/100\n",
      "16512/16512 [==============================] - 1s 73us/sample - loss: 0.9133 - val_loss: 0.7319\n",
      "Epoch 21/100\n",
      "16512/16512 [==============================] - 1s 73us/sample - loss: 3.2033 - val_loss: 0.6169\n",
      "Epoch 22/100\n",
      "16512/16512 [==============================] - 1s 71us/sample - loss: 0.8886 - val_loss: 0.6497\n",
      "Epoch 23/100\n",
      "16512/16512 [==============================] - 1s 75us/sample - loss: 0.8448 - val_loss: 1.5239\n",
      "Epoch 24/100\n",
      "16512/16512 [==============================] - 1s 71us/sample - loss: 2.3713 - val_loss: 0.9597\n",
      "Epoch 25/100\n",
      "16512/16512 [==============================] - 1s 72us/sample - loss: 1.5358 - val_loss: 3.3308\n",
      "Epoch 26/100\n",
      "16512/16512 [==============================] - 1s 72us/sample - loss: 0.7228 - val_loss: 0.5716\n",
      "Epoch 27/100\n",
      "16512/16512 [==============================] - 1s 72us/sample - loss: 0.6728 - val_loss: 2.6231\n",
      "Epoch 28/100\n",
      "16512/16512 [==============================] - 1s 73us/sample - loss: 0.8118 - val_loss: 0.5496\n",
      "Epoch 29/100\n",
      "16512/16512 [==============================] - 1s 73us/sample - loss: 0.8940 - val_loss: 0.5517\n",
      "Epoch 30/100\n",
      "16512/16512 [==============================] - 1s 73us/sample - loss: 0.8432 - val_loss: 0.5609\n",
      "Epoch 31/100\n",
      "16512/16512 [==============================] - 1s 71us/sample - loss: 0.7319 - val_loss: 0.6697\n",
      "Epoch 32/100\n",
      "16512/16512 [==============================] - 1s 72us/sample - loss: 0.9444 - val_loss: 0.5789\n",
      "Epoch 33/100\n",
      "16512/16512 [==============================] - 1s 74us/sample - loss: 0.7342 - val_loss: 0.6495\n",
      "Epoch 34/100\n",
      "16512/16512 [==============================] - 1s 73us/sample - loss: 0.7742 - val_loss: 0.5501\n",
      "Epoch 35/100\n",
      "16512/16512 [==============================] - 1s 73us/sample - loss: 0.6849 - val_loss: 0.5584\n",
      "Epoch 36/100\n",
      "16512/16512 [==============================] - 1s 72us/sample - loss: 0.7347 - val_loss: 0.5542\n",
      "Epoch 37/100\n",
      "16512/16512 [==============================] - 1s 72us/sample - loss: 0.5957 - val_loss: 0.5222\n",
      "Epoch 38/100\n",
      "16512/16512 [==============================] - 1s 73us/sample - loss: 0.7612 - val_loss: 0.5131\n",
      "Epoch 39/100\n",
      "16512/16512 [==============================] - 1s 73us/sample - loss: 0.5499 - val_loss: 0.5384\n",
      "Epoch 40/100\n",
      "16512/16512 [==============================] - 1s 72us/sample - loss: 0.7155 - val_loss: 0.5666\n",
      "Epoch 41/100\n",
      "16512/16512 [==============================] - 1s 74us/sample - loss: 0.5623 - val_loss: 0.5458\n",
      "Epoch 42/100\n",
      "16512/16512 [==============================] - 1s 72us/sample - loss: 0.5394 - val_loss: 0.5649\n",
      "Epoch 43/100\n",
      "16512/16512 [==============================] - 1s 73us/sample - loss: 0.5449 - val_loss: 0.5125\n",
      "Epoch 44/100\n",
      "16512/16512 [==============================] - 1s 73us/sample - loss: 0.5456 - val_loss: 0.5060\n",
      "Epoch 45/100\n",
      "16512/16512 [==============================] - 1s 74us/sample - loss: 0.5704 - val_loss: 0.4977\n",
      "Epoch 46/100\n",
      "16512/16512 [==============================] - 1s 73us/sample - loss: 0.7779 - val_loss: 0.5903\n",
      "Epoch 47/100\n",
      "16512/16512 [==============================] - 1s 74us/sample - loss: 0.6989 - val_loss: 0.5798\n",
      "Epoch 48/100\n",
      "16512/16512 [==============================] - 1s 71us/sample - loss: 0.6562 - val_loss: 0.6031\n",
      "Epoch 49/100\n",
      "16512/16512 [==============================] - 1s 72us/sample - loss: 0.6530 - val_loss: 0.5939\n",
      "Epoch 50/100\n",
      "16512/16512 [==============================] - 1s 73us/sample - loss: 0.5495 - val_loss: 0.4852\n",
      "Epoch 51/100\n",
      "16512/16512 [==============================] - 1s 71us/sample - loss: 0.5194 - val_loss: 0.6105\n",
      "Epoch 52/100\n",
      "16512/16512 [==============================] - 1s 72us/sample - loss: 0.4952 - val_loss: 0.4879\n",
      "Epoch 53/100\n",
      "16512/16512 [==============================] - 1s 73us/sample - loss: 0.5139 - val_loss: 0.4808\n",
      "Epoch 54/100\n",
      "16512/16512 [==============================] - 1s 72us/sample - loss: 0.5033 - val_loss: 0.4965\n",
      "Epoch 55/100\n",
      "16512/16512 [==============================] - 1s 73us/sample - loss: 0.5118 - val_loss: 0.9705\n",
      "Epoch 56/100\n",
      "16512/16512 [==============================] - 1s 71us/sample - loss: 0.5114 - val_loss: 0.4506\n",
      "Epoch 57/100\n",
      "16512/16512 [==============================] - 1s 72us/sample - loss: 0.4901 - val_loss: 0.5540\n",
      "Epoch 58/100\n",
      "16512/16512 [==============================] - 1s 74us/sample - loss: 0.4852 - val_loss: 0.4692\n",
      "Epoch 59/100\n",
      "16512/16512 [==============================] - 1s 71us/sample - loss: 0.4922 - val_loss: 0.4701\n",
      "Epoch 60/100\n",
      "16512/16512 [==============================] - 1s 72us/sample - loss: 0.5030 - val_loss: 0.4693\n",
      "Epoch 61/100\n",
      "16512/16512 [==============================] - 1s 72us/sample - loss: 0.4784 - val_loss: 0.4581\n",
      "Epoch 62/100\n",
      "16512/16512 [==============================] - 1s 73us/sample - loss: 0.4784 - val_loss: 0.4588\n",
      "Epoch 63/100\n",
      "16512/16512 [==============================] - 1s 73us/sample - loss: 0.4876 - val_loss: 0.4656\n",
      "Epoch 64/100\n",
      "16512/16512 [==============================] - 1s 72us/sample - loss: 0.4901 - val_loss: 0.4860\n",
      "Epoch 65/100\n",
      "16512/16512 [==============================] - 1s 74us/sample - loss: 0.4754 - val_loss: 0.4653\n",
      "Epoch 66/100\n",
      "16512/16512 [==============================] - 1s 73us/sample - loss: 0.4776 - val_loss: 0.7992\n"
     ]
    },
    {
     "data": {
      "text/plain": [
       "<tensorflow.python.keras.callbacks.History at 0x7f2bc3bf3090>"
      ]
     },
     "execution_count": 534,
     "metadata": {},
     "output_type": "execute_result"
    }
   ],
   "source": [
    "ann = keras.Sequential([\n",
    "    keras.layers.Dense(100, activation=\"relu\"),\n",
    "    keras.layers.Dense(100, activation=\"relu\"),\n",
    "    keras.layers.Dense(1)\n",
    "])\n",
    "ann.compile(optimizer=\"nadam\", loss=\"mean_squared_error\")\n",
    "ann.fit(X_train, y_train, validation_data=(X_test, y_test), batch_size=32, epochs=100,\n",
    "        callbacks=[keras.callbacks.EarlyStopping(patience=10, restore_best_weights=True)])"
   ]
  },
  {
   "cell_type": "code",
   "execution_count": 535,
   "metadata": {},
   "outputs": [
    {
     "data": {
      "text/plain": [
       "0.4505983776560713"
      ]
     },
     "execution_count": 535,
     "metadata": {},
     "output_type": "execute_result"
    }
   ],
   "source": [
    "mean_squared_error(y_test, ann.predict(X_test))"
   ]
  },
  {
   "cell_type": "code",
   "execution_count": 536,
   "metadata": {
    "collapsed": true
   },
   "outputs": [
    {
     "name": "stdout",
     "output_type": "stream",
     "text": [
      "Train on 16512 samples, validate on 4128 samples\n",
      "Epoch 1/100\n",
      "16512/16512 [==============================] - 2s 123us/sample - loss: 182.5347 - val_loss: 1.6934\n",
      "Epoch 2/100\n",
      "16512/16512 [==============================] - 1s 83us/sample - loss: 7.6185 - val_loss: 1.1511\n",
      "Epoch 3/100\n",
      "16512/16512 [==============================] - 1s 83us/sample - loss: 9.6049 - val_loss: 17.1842\n",
      "Epoch 4/100\n",
      "16512/16512 [==============================] - 1s 83us/sample - loss: 7.9057 - val_loss: 0.9998\n",
      "Epoch 5/100\n",
      "16512/16512 [==============================] - 1s 84us/sample - loss: 3.9760 - val_loss: 0.9060\n",
      "Epoch 6/100\n",
      "16512/16512 [==============================] - 1s 84us/sample - loss: 2.5117 - val_loss: 0.8258\n",
      "Epoch 7/100\n",
      "16512/16512 [==============================] - 1s 85us/sample - loss: 7.7158 - val_loss: 1.0623\n",
      "Epoch 8/100\n",
      "16512/16512 [==============================] - 1s 82us/sample - loss: 0.9720 - val_loss: 1.0809\n",
      "Epoch 9/100\n",
      "16512/16512 [==============================] - 1s 81us/sample - loss: 0.9633 - val_loss: 0.6915\n",
      "Epoch 10/100\n",
      "16512/16512 [==============================] - 1s 83us/sample - loss: 1.0662 - val_loss: 0.7293\n",
      "Epoch 11/100\n",
      "16512/16512 [==============================] - 1s 83us/sample - loss: 0.8766 - val_loss: 1.0025\n",
      "Epoch 12/100\n",
      "16512/16512 [==============================] - 1s 83us/sample - loss: 3.0621 - val_loss: 0.7880\n",
      "Epoch 13/100\n",
      "16512/16512 [==============================] - 1s 83us/sample - loss: 0.7197 - val_loss: 0.6221\n",
      "Epoch 14/100\n",
      "16512/16512 [==============================] - 1s 85us/sample - loss: 0.7146 - val_loss: 0.6448\n",
      "Epoch 15/100\n",
      "16512/16512 [==============================] - 1s 85us/sample - loss: 0.7541 - val_loss: 0.6325\n",
      "Epoch 16/100\n",
      "16512/16512 [==============================] - 1s 82us/sample - loss: 2.8882 - val_loss: 1.1518\n",
      "Epoch 17/100\n",
      "16512/16512 [==============================] - 1s 83us/sample - loss: 1.2603 - val_loss: 0.9351\n",
      "Epoch 18/100\n",
      "16512/16512 [==============================] - 1s 83us/sample - loss: 0.8560 - val_loss: 0.8786\n",
      "Epoch 19/100\n",
      "16512/16512 [==============================] - 1s 84us/sample - loss: 0.7328 - val_loss: 0.6223\n",
      "Epoch 20/100\n",
      "16512/16512 [==============================] - 1s 89us/sample - loss: 0.7322 - val_loss: 0.7072\n",
      "Epoch 21/100\n",
      "16512/16512 [==============================] - 1s 84us/sample - loss: 0.6825 - val_loss: 0.8466\n",
      "Epoch 22/100\n",
      "16512/16512 [==============================] - 1s 84us/sample - loss: 0.7118 - val_loss: 0.6489\n",
      "Epoch 23/100\n",
      "16512/16512 [==============================] - 1s 85us/sample - loss: 0.6389 - val_loss: 0.5802\n",
      "Epoch 24/100\n",
      "16512/16512 [==============================] - 1s 85us/sample - loss: 0.6340 - val_loss: 0.5505\n",
      "Epoch 25/100\n",
      "16512/16512 [==============================] - 1s 84us/sample - loss: 0.6116 - val_loss: 0.7123\n",
      "Epoch 26/100\n",
      "16512/16512 [==============================] - 1s 84us/sample - loss: 0.6175 - val_loss: 0.6336\n",
      "Epoch 27/100\n",
      "16512/16512 [==============================] - 1s 84us/sample - loss: 0.6481 - val_loss: 0.7444\n",
      "Epoch 28/100\n",
      "16512/16512 [==============================] - 1s 84us/sample - loss: 0.6388 - val_loss: 0.8016\n",
      "Epoch 29/100\n",
      "16512/16512 [==============================] - 1s 86us/sample - loss: 0.6070 - val_loss: 0.5631\n",
      "Epoch 30/100\n",
      "16512/16512 [==============================] - 1s 84us/sample - loss: 0.6052 - val_loss: 0.6670\n",
      "Epoch 31/100\n",
      "16512/16512 [==============================] - 1s 84us/sample - loss: 0.5780 - val_loss: 0.5923\n",
      "Epoch 32/100\n",
      "16512/16512 [==============================] - 1s 83us/sample - loss: 0.5617 - val_loss: 0.7477\n",
      "Epoch 33/100\n",
      "16512/16512 [==============================] - 1s 85us/sample - loss: 0.5693 - val_loss: 0.5505\n",
      "Epoch 34/100\n",
      "16512/16512 [==============================] - 1s 83us/sample - loss: 0.5801 - val_loss: 0.4940\n",
      "Epoch 35/100\n",
      "16512/16512 [==============================] - 1s 85us/sample - loss: 0.5478 - val_loss: 0.6530\n",
      "Epoch 36/100\n",
      "16512/16512 [==============================] - 1s 83us/sample - loss: 0.5493 - val_loss: 0.5738\n",
      "Epoch 37/100\n",
      "16512/16512 [==============================] - 1s 84us/sample - loss: 0.5958 - val_loss: 1.7367\n",
      "Epoch 38/100\n",
      "16512/16512 [==============================] - 1s 85us/sample - loss: 0.6433 - val_loss: 0.5315\n",
      "Epoch 39/100\n",
      "16512/16512 [==============================] - 1s 82us/sample - loss: 0.5608 - val_loss: 0.5060\n",
      "Epoch 40/100\n",
      "16512/16512 [==============================] - 1s 84us/sample - loss: 0.5262 - val_loss: 0.5079\n",
      "Epoch 41/100\n",
      "16512/16512 [==============================] - 1s 84us/sample - loss: 0.5456 - val_loss: 0.5057\n",
      "Epoch 42/100\n",
      "16512/16512 [==============================] - 1s 84us/sample - loss: 0.5208 - val_loss: 0.4932\n",
      "Epoch 43/100\n",
      "16512/16512 [==============================] - 1s 84us/sample - loss: 0.5164 - val_loss: 0.5319\n",
      "Epoch 44/100\n",
      "16512/16512 [==============================] - 1s 82us/sample - loss: 0.5062 - val_loss: 0.4821\n",
      "Epoch 45/100\n",
      "16512/16512 [==============================] - 1s 84us/sample - loss: 0.5242 - val_loss: 0.5041\n",
      "Epoch 46/100\n",
      "16512/16512 [==============================] - 1s 83us/sample - loss: 0.5369 - val_loss: 0.5485\n",
      "Epoch 47/100\n",
      "16512/16512 [==============================] - 1s 83us/sample - loss: 0.5189 - val_loss: 0.4814\n",
      "Epoch 48/100\n",
      "16512/16512 [==============================] - 1s 83us/sample - loss: 0.5071 - val_loss: 0.5220\n",
      "Epoch 49/100\n",
      "16512/16512 [==============================] - 1s 83us/sample - loss: 0.5454 - val_loss: 0.4761\n",
      "Epoch 50/100\n",
      "16512/16512 [==============================] - 1s 84us/sample - loss: 0.5185 - val_loss: 0.4905\n",
      "Epoch 51/100\n",
      "16512/16512 [==============================] - 1s 83us/sample - loss: 0.5191 - val_loss: 0.4952\n",
      "Epoch 52/100\n",
      "16512/16512 [==============================] - 1s 82us/sample - loss: 0.4988 - val_loss: 0.4772\n",
      "Epoch 53/100\n",
      "16512/16512 [==============================] - 1s 83us/sample - loss: 0.4922 - val_loss: 0.5028\n",
      "Epoch 54/100\n",
      "16512/16512 [==============================] - 1s 85us/sample - loss: 0.5021 - val_loss: 0.4813\n",
      "Epoch 55/100\n",
      "16512/16512 [==============================] - 1s 84us/sample - loss: 0.5119 - val_loss: 0.4758\n",
      "Epoch 56/100\n",
      "16512/16512 [==============================] - 1s 83us/sample - loss: 0.4963 - val_loss: 0.4728\n",
      "Epoch 57/100\n",
      "16512/16512 [==============================] - 1s 84us/sample - loss: 0.4972 - val_loss: 0.4958\n",
      "Epoch 58/100\n",
      "16512/16512 [==============================] - 1s 81us/sample - loss: 0.4944 - val_loss: 0.4788\n",
      "Epoch 59/100\n",
      "16512/16512 [==============================] - 1s 82us/sample - loss: 0.4950 - val_loss: 0.5674\n",
      "Epoch 60/100\n",
      "16512/16512 [==============================] - 1s 83us/sample - loss: 0.4970 - val_loss: 0.4783\n",
      "Epoch 61/100\n",
      "16512/16512 [==============================] - 1s 82us/sample - loss: 0.4848 - val_loss: 0.4737\n",
      "Epoch 62/100\n",
      "16512/16512 [==============================] - 1s 84us/sample - loss: 0.4955 - val_loss: 0.4889\n",
      "Epoch 63/100\n",
      "16512/16512 [==============================] - 1s 85us/sample - loss: 0.4860 - val_loss: 0.4697\n",
      "Epoch 64/100\n",
      "16512/16512 [==============================] - 1s 82us/sample - loss: 0.4869 - val_loss: 0.5080\n",
      "Epoch 65/100\n",
      "16512/16512 [==============================] - 1s 84us/sample - loss: 0.4846 - val_loss: 0.4957\n",
      "Epoch 66/100\n",
      "16512/16512 [==============================] - 1s 82us/sample - loss: 0.4982 - val_loss: 0.5309\n",
      "Epoch 67/100\n",
      "16512/16512 [==============================] - 1s 82us/sample - loss: 0.4819 - val_loss: 0.5309\n",
      "Epoch 68/100\n",
      "16512/16512 [==============================] - 1s 82us/sample - loss: 0.4864 - val_loss: 0.5219\n",
      "Epoch 69/100\n",
      "16512/16512 [==============================] - 1s 82us/sample - loss: 0.4842 - val_loss: 0.7971\n",
      "Epoch 70/100\n",
      "16512/16512 [==============================] - 1s 82us/sample - loss: 0.4843 - val_loss: 0.4794\n",
      "Epoch 71/100\n",
      "16512/16512 [==============================] - 1s 83us/sample - loss: 0.4811 - val_loss: 0.4874\n",
      "Epoch 72/100\n",
      "16512/16512 [==============================] - 1s 82us/sample - loss: 0.4853 - val_loss: 0.4749\n",
      "Epoch 73/100\n",
      "16512/16512 [==============================] - 1s 85us/sample - loss: 0.4783 - val_loss: 0.4756\n"
     ]
    },
    {
     "data": {
      "text/plain": [
       "<tensorflow.python.keras.callbacks.History at 0x7f2bc8272d10>"
      ]
     },
     "execution_count": 536,
     "metadata": {},
     "output_type": "execute_result"
    }
   ],
   "source": [
    "ann = keras.Sequential([\n",
    "    keras.layers.Dense(100, activation=\"relu\"),\n",
    "    keras.layers.Dense(100, activation=\"relu\"),\n",
    "    keras.layers.Dense(100, activation=\"relu\"),\n",
    "    keras.layers.Dense(1)\n",
    "])\n",
    "ann.compile(optimizer=\"nadam\", loss=\"mean_squared_error\")\n",
    "ann.fit(X_train, y_train, validation_data=(X_test, y_test), batch_size=32, epochs=100,\n",
    "        callbacks=[keras.callbacks.EarlyStopping(patience=10, restore_best_weights=True)])"
   ]
  },
  {
   "cell_type": "code",
   "execution_count": 537,
   "metadata": {},
   "outputs": [
    {
     "data": {
      "text/plain": [
       "0.46966362721287913"
      ]
     },
     "execution_count": 537,
     "metadata": {},
     "output_type": "execute_result"
    }
   ],
   "source": [
    "mean_squared_error(y_test, ann.predict(X_test))"
   ]
  },
  {
   "cell_type": "code",
   "execution_count": 541,
   "metadata": {
    "collapsed": true
   },
   "outputs": [
    {
     "name": "stdout",
     "output_type": "stream",
     "text": [
      "Train on 16512 samples, validate on 4128 samples\n",
      "Epoch 1/100\n",
      "16512/16512 [==============================] - 4s 242us/sample - loss: 184.9027 - val_loss: 4.3972\n",
      "Epoch 2/100\n",
      "16512/16512 [==============================] - 3s 158us/sample - loss: 6.5268 - val_loss: 2.6985\n",
      "Epoch 3/100\n",
      "16512/16512 [==============================] - 3s 160us/sample - loss: 2.6892 - val_loss: 1.7834\n",
      "Epoch 4/100\n",
      "16512/16512 [==============================] - 3s 158us/sample - loss: 1.8600 - val_loss: 1.3581\n",
      "Epoch 5/100\n",
      "16512/16512 [==============================] - 3s 160us/sample - loss: 1.5673 - val_loss: 1.3038\n",
      "Epoch 6/100\n",
      "16512/16512 [==============================] - 3s 157us/sample - loss: 1.4802 - val_loss: 1.2635\n",
      "Epoch 7/100\n",
      "16512/16512 [==============================] - 3s 157us/sample - loss: 1.3996 - val_loss: 1.1495\n",
      "Epoch 8/100\n",
      "16512/16512 [==============================] - 3s 159us/sample - loss: 1.2063 - val_loss: 0.9788\n",
      "Epoch 9/100\n",
      "16512/16512 [==============================] - 3s 159us/sample - loss: 1.1130 - val_loss: 0.8100\n",
      "Epoch 10/100\n",
      "16512/16512 [==============================] - 3s 160us/sample - loss: 1.0584 - val_loss: 0.7445\n",
      "Epoch 11/100\n",
      "16512/16512 [==============================] - 3s 157us/sample - loss: 0.9285 - val_loss: 0.7960\n",
      "Epoch 12/100\n",
      "16512/16512 [==============================] - 3s 158us/sample - loss: 0.9203 - val_loss: 0.8447\n",
      "Epoch 13/100\n",
      "16512/16512 [==============================] - 3s 158us/sample - loss: 0.8364 - val_loss: 0.8470\n",
      "Epoch 14/100\n",
      "16512/16512 [==============================] - 3s 160us/sample - loss: 0.8101 - val_loss: 0.6902\n",
      "Epoch 15/100\n",
      "16512/16512 [==============================] - 3s 157us/sample - loss: 0.7805 - val_loss: 0.7014\n",
      "Epoch 16/100\n",
      "16512/16512 [==============================] - 3s 157us/sample - loss: 0.7454 - val_loss: 0.6761\n",
      "Epoch 17/100\n",
      "16512/16512 [==============================] - 3s 158us/sample - loss: 0.7116 - val_loss: 0.6808\n",
      "Epoch 18/100\n",
      "16512/16512 [==============================] - 3s 155us/sample - loss: 0.7728 - val_loss: 0.7084\n",
      "Epoch 19/100\n",
      "16512/16512 [==============================] - 3s 158us/sample - loss: 0.7120 - val_loss: 0.5650\n",
      "Epoch 20/100\n",
      "16512/16512 [==============================] - 3s 159us/sample - loss: 0.7003 - val_loss: 0.5790\n",
      "Epoch 21/100\n",
      "16512/16512 [==============================] - 3s 158us/sample - loss: 0.6611 - val_loss: 0.6331\n",
      "Epoch 22/100\n",
      "16512/16512 [==============================] - 3s 158us/sample - loss: 0.7283 - val_loss: 0.8640\n",
      "Epoch 23/100\n",
      "16512/16512 [==============================] - 3s 158us/sample - loss: 0.7980 - val_loss: 0.5694\n",
      "Epoch 24/100\n",
      "16512/16512 [==============================] - 3s 160us/sample - loss: 0.6694 - val_loss: 0.6019\n",
      "Epoch 25/100\n",
      "16512/16512 [==============================] - 3s 157us/sample - loss: 0.6520 - val_loss: 0.6637\n",
      "Epoch 26/100\n",
      "16512/16512 [==============================] - 3s 157us/sample - loss: 0.6535 - val_loss: 0.6229\n",
      "Epoch 27/100\n",
      "16512/16512 [==============================] - 3s 158us/sample - loss: 0.6159 - val_loss: 0.5729\n",
      "Epoch 28/100\n",
      "16512/16512 [==============================] - 3s 160us/sample - loss: 0.6095 - val_loss: 0.5268\n",
      "Epoch 29/100\n",
      "16512/16512 [==============================] - 3s 156us/sample - loss: 0.5971 - val_loss: 0.6079\n",
      "Epoch 30/100\n",
      "16512/16512 [==============================] - 3s 158us/sample - loss: 0.5793 - val_loss: 0.5059\n",
      "Epoch 31/100\n",
      "16512/16512 [==============================] - 3s 158us/sample - loss: 0.5740 - val_loss: 0.5841\n",
      "Epoch 32/100\n",
      "16512/16512 [==============================] - 3s 160us/sample - loss: 0.5709 - val_loss: 0.5250\n",
      "Epoch 33/100\n",
      "16512/16512 [==============================] - 3s 158us/sample - loss: 0.5586 - val_loss: 0.5397\n",
      "Epoch 34/100\n",
      "16512/16512 [==============================] - 3s 158us/sample - loss: 0.5362 - val_loss: 0.4802\n",
      "Epoch 35/100\n",
      "16512/16512 [==============================] - 3s 157us/sample - loss: 0.5395 - val_loss: 0.4780\n",
      "Epoch 36/100\n",
      "16512/16512 [==============================] - 3s 157us/sample - loss: 0.5611 - val_loss: 0.4805\n",
      "Epoch 37/100\n",
      "16512/16512 [==============================] - 3s 158us/sample - loss: 0.5335 - val_loss: 0.5417\n",
      "Epoch 38/100\n",
      "16512/16512 [==============================] - 3s 158us/sample - loss: 0.5297 - val_loss: 0.4993\n",
      "Epoch 39/100\n",
      "16512/16512 [==============================] - 3s 156us/sample - loss: 0.5253 - val_loss: 0.5632\n",
      "Epoch 40/100\n",
      "16512/16512 [==============================] - 3s 158us/sample - loss: 0.5119 - val_loss: 0.5689\n",
      "Epoch 41/100\n",
      "16512/16512 [==============================] - 3s 156us/sample - loss: 0.5186 - val_loss: 0.4802\n",
      "Epoch 42/100\n",
      "16512/16512 [==============================] - 3s 156us/sample - loss: 0.5165 - val_loss: 0.4866\n",
      "Epoch 43/100\n",
      "16512/16512 [==============================] - 3s 159us/sample - loss: 0.5102 - val_loss: 0.4555\n",
      "Epoch 44/100\n",
      "16512/16512 [==============================] - 3s 158us/sample - loss: 0.5120 - val_loss: 0.4831\n",
      "Epoch 45/100\n",
      "16512/16512 [==============================] - 3s 156us/sample - loss: 0.5074 - val_loss: 0.4661\n",
      "Epoch 46/100\n",
      "16512/16512 [==============================] - 3s 156us/sample - loss: 0.5068 - val_loss: 0.4774\n",
      "Epoch 47/100\n",
      "16512/16512 [==============================] - 3s 157us/sample - loss: 0.5085 - val_loss: 0.4735\n",
      "Epoch 48/100\n",
      "16512/16512 [==============================] - 3s 158us/sample - loss: 0.5069 - val_loss: 0.4950\n",
      "Epoch 49/100\n",
      "16512/16512 [==============================] - 3s 155us/sample - loss: 0.5004 - val_loss: 0.4979\n",
      "Epoch 50/100\n",
      "16512/16512 [==============================] - 3s 155us/sample - loss: 0.5100 - val_loss: 0.5642\n",
      "Epoch 51/100\n",
      "16512/16512 [==============================] - 3s 156us/sample - loss: 0.5024 - val_loss: 0.4906\n",
      "Epoch 52/100\n",
      "16512/16512 [==============================] - 3s 159us/sample - loss: 0.4960 - val_loss: 0.4651\n",
      "Epoch 53/100\n",
      "16512/16512 [==============================] - 3s 157us/sample - loss: 0.5010 - val_loss: 0.4977\n"
     ]
    },
    {
     "data": {
      "text/plain": [
       "<tensorflow.python.keras.callbacks.History at 0x7f2b80113ed0>"
      ]
     },
     "execution_count": 541,
     "metadata": {},
     "output_type": "execute_result"
    }
   ],
   "source": [
    "ann = keras.Sequential([\n",
    "    keras.layers.Dense(200, activation=\"relu\"),\n",
    "    keras.layers.Dropout(0.1),\n",
    "    keras.layers.Dense(200, activation=\"relu\"),\n",
    "    keras.layers.Dropout(0.1),\n",
    "    keras.layers.Dense(200, activation=\"relu\"),\n",
    "    keras.layers.Dropout(0.1),\n",
    "    keras.layers.Dense(200, activation=\"relu\"),\n",
    "    keras.layers.Dropout(0.1),\n",
    "    keras.layers.Dense(1)\n",
    "])\n",
    "ann.compile(optimizer=\"nadam\", loss=\"mean_squared_error\")\n",
    "ann.fit(X_train, y_train, validation_data=(X_test, y_test), batch_size=32, epochs=100,\n",
    "        callbacks=[keras.callbacks.EarlyStopping(patience=10, restore_best_weights=True)])"
   ]
  },
  {
   "cell_type": "code",
   "execution_count": 542,
   "metadata": {},
   "outputs": [
    {
     "data": {
      "text/plain": [
       "0.4554964161510966"
      ]
     },
     "execution_count": 542,
     "metadata": {},
     "output_type": "execute_result"
    }
   ],
   "source": [
    "mean_squared_error(y_test, ann.predict(X_test))"
   ]
  },
  {
   "cell_type": "code",
   "execution_count": 551,
   "metadata": {},
   "outputs": [],
   "source": [
    "y_df = pd.DataFrame(np.c_[y_test, ann.predict(X_test)], columns=[\"y_actual\", \"y_pred\"])\n",
    "y_df[\"residuals\"] = y_df[\"y_actual\"] - y_df[\"y_pred\"]"
   ]
  },
  {
   "cell_type": "code",
   "execution_count": 553,
   "metadata": {},
   "outputs": [
    {
     "data": {
      "image/png": "[encoded data removed]",
      "text/plain": [
       "<Figure size 576x396 with 1 Axes>"
      ]
     },
     "metadata": {},
     "output_type": "display_data"
    }
   ],
   "source": [
    "y_df[\"residuals\"].hist(bins=20, edgecolor=\"k\");"
   ]
  },
  {
   "cell_type": "code",
   "execution_count": 554,
   "metadata": {},
   "outputs": [],
   "source": [
    "scaler = StandardScaler()\n",
    "X_train_scaled = scaler.fit_transform(X_train)\n",
    "X_test_scaled = scaler.transform(X_test)"
   ]
  },
  {
   "cell_type": "code",
   "execution_count": 556,
   "metadata": {
    "collapsed": true
   },
   "outputs": [
    {
     "name": "stdout",
     "output_type": "stream",
     "text": [
      "Train on 16512 samples, validate on 4128 samples\n",
      "Epoch 1/100\n",
      "16512/16512 [==============================] - 3s 206us/sample - loss: 0.5725 - val_loss: 0.3816\n",
      "Epoch 2/100\n",
      "16512/16512 [==============================] - 3s 156us/sample - loss: 0.4441 - val_loss: 0.3531\n",
      "Epoch 3/100\n",
      "16512/16512 [==============================] - 3s 155us/sample - loss: 0.3799 - val_loss: 0.3361\n",
      "Epoch 4/100\n",
      "16512/16512 [==============================] - 3s 154us/sample - loss: 0.3574 - val_loss: 0.3333\n",
      "Epoch 5/100\n",
      "16512/16512 [==============================] - 3s 155us/sample - loss: 0.3393 - val_loss: 0.3080\n",
      "Epoch 6/100\n",
      "16512/16512 [==============================] - 3s 155us/sample - loss: 0.3344 - val_loss: 0.3133\n",
      "Epoch 7/100\n",
      "16512/16512 [==============================] - 3s 155us/sample - loss: 0.3170 - val_loss: 0.3056\n",
      "Epoch 8/100\n",
      "16512/16512 [==============================] - 3s 155us/sample - loss: 0.3127 - val_loss: 0.3005\n",
      "Epoch 9/100\n",
      "16512/16512 [==============================] - 3s 155us/sample - loss: 0.3102 - val_loss: 0.2934\n",
      "Epoch 10/100\n",
      "16512/16512 [==============================] - 3s 154us/sample - loss: 0.3070 - val_loss: 0.3270\n",
      "Epoch 11/100\n",
      "16512/16512 [==============================] - 3s 156us/sample - loss: 0.2997 - val_loss: 0.2892\n",
      "Epoch 12/100\n",
      "16512/16512 [==============================] - 3s 154us/sample - loss: 0.2922 - val_loss: 0.2841\n",
      "Epoch 13/100\n",
      "16512/16512 [==============================] - 3s 160us/sample - loss: 0.2865 - val_loss: 0.2844\n",
      "Epoch 14/100\n",
      "16512/16512 [==============================] - 3s 157us/sample - loss: 0.2831 - val_loss: 0.2984\n",
      "Epoch 15/100\n",
      "16512/16512 [==============================] - 3s 153us/sample - loss: 0.2819 - val_loss: 0.2738\n",
      "Epoch 16/100\n",
      "16512/16512 [==============================] - 3s 155us/sample - loss: 0.2787 - val_loss: 0.2801\n",
      "Epoch 17/100\n",
      "16512/16512 [==============================] - 3s 153us/sample - loss: 0.2762 - val_loss: 0.2727\n",
      "Epoch 18/100\n",
      "16512/16512 [==============================] - 3s 154us/sample - loss: 0.2682 - val_loss: 0.2769\n",
      "Epoch 19/100\n",
      "16512/16512 [==============================] - 3s 157us/sample - loss: 0.2693 - val_loss: 0.2775\n",
      "Epoch 20/100\n",
      "16512/16512 [==============================] - 3s 158us/sample - loss: 0.2672 - val_loss: 0.2748\n",
      "Epoch 21/100\n",
      "16512/16512 [==============================] - 3s 155us/sample - loss: 0.2604 - val_loss: 0.2821\n",
      "Epoch 22/100\n",
      "16512/16512 [==============================] - 3s 157us/sample - loss: 0.2611 - val_loss: 0.2735\n",
      "Epoch 23/100\n",
      "16512/16512 [==============================] - 3s 155us/sample - loss: 0.2568 - val_loss: 0.2719\n",
      "Epoch 24/100\n",
      "16512/16512 [==============================] - 3s 154us/sample - loss: 0.2545 - val_loss: 0.2789\n",
      "Epoch 25/100\n",
      "16512/16512 [==============================] - 3s 156us/sample - loss: 0.2545 - val_loss: 0.2689\n",
      "Epoch 26/100\n",
      "16512/16512 [==============================] - 3s 159us/sample - loss: 0.2494 - val_loss: 0.2700\n",
      "Epoch 27/100\n",
      "16512/16512 [==============================] - 3s 158us/sample - loss: 0.2493 - val_loss: 0.2651\n",
      "Epoch 28/100\n",
      "16512/16512 [==============================] - 3s 157us/sample - loss: 0.2449 - val_loss: 0.2751\n",
      "Epoch 29/100\n",
      "16512/16512 [==============================] - 3s 157us/sample - loss: 0.2529 - val_loss: 0.2797\n",
      "Epoch 30/100\n",
      "16512/16512 [==============================] - 3s 153us/sample - loss: 0.2406 - val_loss: 0.2789\n",
      "Epoch 31/100\n",
      "16512/16512 [==============================] - 3s 155us/sample - loss: 0.2444 - val_loss: 0.2998\n",
      "Epoch 32/100\n",
      "16512/16512 [==============================] - 3s 155us/sample - loss: 0.2363 - val_loss: 0.2813\n",
      "Epoch 33/100\n",
      "16512/16512 [==============================] - 3s 156us/sample - loss: 0.2368 - val_loss: 0.2702\n",
      "Epoch 34/100\n",
      "16512/16512 [==============================] - 3s 155us/sample - loss: 0.2346 - val_loss: 0.2735\n",
      "Epoch 35/100\n",
      "16512/16512 [==============================] - 3s 156us/sample - loss: 0.2368 - val_loss: 0.2672\n",
      "Epoch 36/100\n",
      "16512/16512 [==============================] - 3s 155us/sample - loss: 0.2318 - val_loss: 0.2661\n",
      "Epoch 37/100\n",
      "16512/16512 [==============================] - 3s 157us/sample - loss: 0.2378 - val_loss: 0.2786\n"
     ]
    },
    {
     "data": {
      "text/plain": [
       "<tensorflow.python.keras.callbacks.History at 0x7f2b406a5c50>"
      ]
     },
     "execution_count": 556,
     "metadata": {},
     "output_type": "execute_result"
    }
   ],
   "source": [
    "ann = keras.Sequential([\n",
    "    keras.layers.Dense(200, activation=\"relu\"),\n",
    "    keras.layers.Dropout(0.1),\n",
    "    keras.layers.Dense(200, activation=\"relu\"),\n",
    "    keras.layers.Dropout(0.1),\n",
    "    keras.layers.Dense(200, activation=\"relu\"),\n",
    "    keras.layers.Dropout(0.1),\n",
    "    keras.layers.Dense(200, activation=\"relu\"),\n",
    "    keras.layers.Dropout(0.1),\n",
    "    keras.layers.Dense(1)\n",
    "])\n",
    "ann.compile(optimizer=\"nadam\", loss=\"mean_squared_error\")\n",
    "ann.fit(X_train_scaled, y_train, \n",
    "        validation_data=(X_test_scaled, y_test), batch_size=32, epochs=100,\n",
    "        callbacks=[keras.callbacks.EarlyStopping(patience=10, restore_best_weights=True)])"
   ]
  },
  {
   "cell_type": "code",
   "execution_count": 557,
   "metadata": {},
   "outputs": [
    {
     "data": {
      "text/plain": [
       "0.2650926199350692"
      ]
     },
     "execution_count": 557,
     "metadata": {},
     "output_type": "execute_result"
    }
   ],
   "source": [
    "mean_squared_error(y_test, ann.predict(X_test_scaled))"
   ]
  },
  {
   "cell_type": "code",
   "execution_count": 558,
   "metadata": {},
   "outputs": [
    {
     "data": {
      "text/plain": [
       "array([[1.455     , 1.2123034 ],\n",
       "       [0.9       , 1.01620841],\n",
       "       [3.712     , 3.63089943],\n",
       "       ...,\n",
       "       [2.413     , 2.64254045],\n",
       "       [2.021     , 1.8609643 ],\n",
       "       [1.807     , 2.00548172]])"
      ]
     },
     "execution_count": 558,
     "metadata": {},
     "output_type": "execute_result"
    }
   ],
   "source": [
    "y_pred = ann.predict(X_test_scaled)\n",
    "np.c_[y_test, y_pred]"
   ]
  },
  {
   "cell_type": "code",
   "execution_count": 560,
   "metadata": {},
   "outputs": [
    {
     "data": {
      "image/png": "[encoded data removed]",
      "text/plain": [
       "<Figure size 576x396 with 1 Axes>"
      ]
     },
     "metadata": {},
     "output_type": "display_data"
    }
   ],
   "source": [
    "y_df = pd.DataFrame(np.c_[y_test, y_pred], columns=[\"y_actual\", \"y_pred\"])\n",
    "y_df[\"residuals\"] = y_df[\"y_actual\"] - y_df[\"y_pred\"]\n",
    "y_df[\"residuals\"].hist(bins=20, edgecolor=\"k\");"
   ]
  },
  {
   "cell_type": "code",
   "execution_count": 578,
   "metadata": {},
   "outputs": [
    {
     "data": {
      "text/plain": [
       "GridSearchCV(cv=3, error_score=nan,\n",
       "             estimator=RandomForestRegressor(bootstrap=True, ccp_alpha=0.0,\n",
       "                                             criterion='mse', max_depth=None,\n",
       "                                             max_features='auto',\n",
       "                                             max_leaf_nodes=None,\n",
       "                                             max_samples=None,\n",
       "                                             min_impurity_decrease=0.0,\n",
       "                                             min_impurity_split=None,\n",
       "                                             min_samples_leaf=1,\n",
       "                                             min_samples_split=2,\n",
       "                                             min_weight_fraction_leaf=0.0,\n",
       "                                             n_estimators=100, n_jobs=None,\n",
       "                                             oob_score=False, random_state=None,\n",
       "                                             verbose=0, warm_start=False),\n",
       "             iid='deprecated', n_jobs=-1,\n",
       "             param_grid=[{'max_depth': [190, 200, 225, 250],\n",
       "                          'max_leaf_nodes': [290, 300, 325, 350]}],\n",
       "             pre_dispatch='2*n_jobs', refit=True, return_train_score=False,\n",
       "             scoring='neg_mean_squared_error', verbose=0)"
      ]
     },
     "execution_count": 578,
     "metadata": {},
     "output_type": "execute_result"
    }
   ],
   "source": [
    "from sklearn.ensemble import RandomForestRegressor\n",
    "\n",
    "grid_param = [\n",
    "    {\n",
    "        \"max_depth\": [190, 200, 225, 250],\n",
    "        \"max_leaf_nodes\": [290, 300, 325, 350]\n",
    "    }\n",
    "]\n",
    "\n",
    "grid_search = GridSearchCV(estimator=RandomForestRegressor(), param_grid=grid_param, \n",
    "                           cv=3, n_jobs=-1, scoring=\"neg_mean_squared_error\")\n",
    "grid_search.fit(X_train, y_train)"
   ]
  },
  {
   "cell_type": "code",
   "execution_count": 579,
   "metadata": {},
   "outputs": [
    {
     "data": {
      "text/plain": [
       "{'max_depth': 190, 'max_leaf_nodes': 350}"
      ]
     },
     "execution_count": 579,
     "metadata": {},
     "output_type": "execute_result"
    }
   ],
   "source": [
    "grid_search.best_params_"
   ]
  },
  {
   "cell_type": "code",
   "execution_count": 580,
   "metadata": {},
   "outputs": [],
   "source": [
    "y_pred = grid_search.predict(X_test)"
   ]
  },
  {
   "cell_type": "code",
   "execution_count": 581,
   "metadata": {},
   "outputs": [
    {
     "data": {
      "text/plain": [
       "0.28359716567012055"
      ]
     },
     "execution_count": 581,
     "metadata": {},
     "output_type": "execute_result"
    }
   ],
   "source": [
    "mean_squared_error(y_test, y_pred)"
   ]
  },
  {
   "cell_type": "code",
   "execution_count": 589,
   "metadata": {},
   "outputs": [
    {
     "data": {
      "text/plain": [
       "0.25442242863570996"
      ]
     },
     "execution_count": 589,
     "metadata": {},
     "output_type": "execute_result"
    }
   ],
   "source": [
    "ann_pred = ann.predict(X_test_scaled)\n",
    "random_forest_pred = grid_search.predict(X_test)\n",
    "combined_pred = (ann_pred + random_forest_pred.reshape((-1, 1))) / 2\n",
    "mean_squared_error(y_test, combined_pred)"
   ]
  },
  {
   "cell_type": "code",
   "execution_count": 641,
   "metadata": {},
   "outputs": [
    {
     "data": {
      "text/plain": [
       "XGBRegressor(base_score=0.5, booster='gbtree', colsample_bylevel=1,\n",
       "             colsample_bynode=1, colsample_bytree=0.85, gamma=0,\n",
       "             importance_type='gain', learning_rate=0.1, max_delta_step=0,\n",
       "             max_depth=8, min_child_weight=1, missing=None, n_estimators=500,\n",
       "             n_jobs=1, nthread=None, objective='reg:squarederror',\n",
       "             random_state=0, reg_alpha=0, reg_lambda=1, scale_pos_weight=1,\n",
       "             seed=None, silent=None, subsample=0.85, verbosity=1)"
      ]
     },
     "execution_count": 641,
     "metadata": {},
     "output_type": "execute_result"
    }
   ],
   "source": [
    "from xgboost import XGBRegressor\n",
    "\n",
    "xgb = XGBRegressor(max_depth=8, n_estimators=500, objective=\"reg:squarederror\", \n",
    "                   subsample=0.85, colsample_bytree=0.85)\n",
    "xgb.fit(X_train, y_train)"
   ]
  },
  {
   "cell_type": "code",
   "execution_count": 642,
   "metadata": {},
   "outputs": [
    {
     "data": {
      "text/plain": [
       "0.20290507295990912"
      ]
     },
     "execution_count": 642,
     "metadata": {},
     "output_type": "execute_result"
    }
   ],
   "source": [
    "y_pred = xgb.predict(X_test)\n",
    "mean_squared_error(y_test, y_pred)"
   ]
  },
  {
   "cell_type": "code",
   "execution_count": 643,
   "metadata": {},
   "outputs": [
    {
     "data": {
      "text/plain": [
       "array([[1.455     , 1.76788568],\n",
       "       [0.9       , 1.16222823],\n",
       "       [3.712     , 3.65737557],\n",
       "       ...,\n",
       "       [2.413     , 2.76932287],\n",
       "       [2.021     , 1.8729583 ],\n",
       "       [1.807     , 2.31620693]])"
      ]
     },
     "execution_count": 643,
     "metadata": {},
     "output_type": "execute_result"
    }
   ],
   "source": [
    "np.c_[y_test, y_pred]"
   ]
  },
  {
   "cell_type": "code",
   "execution_count": 649,
   "metadata": {},
   "outputs": [],
   "source": [
    "xgb_pred = xgb.predict(X_test)\n",
    "combined_pred = (ann_pred + xgb_pred.reshape((-1, 1))) / 2"
   ]
  },
  {
   "cell_type": "code",
   "execution_count": 650,
   "metadata": {},
   "outputs": [
    {
     "data": {
      "text/plain": [
       "0.21335121628899212"
      ]
     },
     "execution_count": 650,
     "metadata": {},
     "output_type": "execute_result"
    }
   ],
   "source": [
    "mean_squared_error(y_test, combined_pred)"
   ]
  },
  {
   "cell_type": "code",
   "execution_count": 651,
   "metadata": {},
   "outputs": [
    {
     "data": {
      "text/plain": [
       "array([[1.455     , 1.49009454],\n",
       "       [0.9       , 1.08921838],\n",
       "       [3.712     , 3.64413738],\n",
       "       ...,\n",
       "       [2.413     , 2.70593166],\n",
       "       [2.021     , 1.86696124],\n",
       "       [1.807     , 2.16084433]])"
      ]
     },
     "execution_count": 651,
     "metadata": {},
     "output_type": "execute_result"
    }
   ],
   "source": [
    "np.c_[y_test, combined_pred]"
   ]
  },
  {
   "cell_type": "code",
   "execution_count": null,
   "metadata": {},
   "outputs": [],
   "source": []
  }
 ],
 "metadata": {
  "kernelspec": {
   "display_name": "Python 3",
   "language": "python",
   "name": "python3"
  },
  "language_info": {
   "codemirror_mode": {
    "name": "ipython",
    "version": 3
   },
   "file_extension": ".py",
   "mimetype": "text/x-python",
   "name": "python",
   "nbconvert_exporter": "python",
   "pygments_lexer": "ipython3",
   "version": "3.7.6"
  }
 },
 "nbformat": 4,
 "nbformat_minor": 2
}
