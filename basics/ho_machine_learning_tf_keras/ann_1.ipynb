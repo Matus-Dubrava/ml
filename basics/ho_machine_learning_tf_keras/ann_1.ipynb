{
 "cells": [
  {
   "cell_type": "code",
   "execution_count": 13,
   "metadata": {},
   "outputs": [],
   "source": [
    "import tensorflow as tf\n",
    "from tensorflow import keras\n",
    "import matplotlib.pyplot as plt\n",
    "plt.style.use('seaborn')"
   ]
  },
  {
   "cell_type": "code",
   "execution_count": 2,
   "metadata": {},
   "outputs": [
    {
     "data": {
      "text/plain": [
       "'2.1.0'"
      ]
     },
     "execution_count": 2,
     "metadata": {},
     "output_type": "execute_result"
    }
   ],
   "source": [
    "tf.__version__"
   ]
  },
  {
   "cell_type": "code",
   "execution_count": 3,
   "metadata": {},
   "outputs": [
    {
     "data": {
      "text/plain": [
       "'2.2.4-tf'"
      ]
     },
     "execution_count": 3,
     "metadata": {},
     "output_type": "execute_result"
    }
   ],
   "source": [
    "keras.__version__"
   ]
  },
  {
   "cell_type": "code",
   "execution_count": 4,
   "metadata": {},
   "outputs": [],
   "source": [
    "fashion_mnist = keras.datasets.fashion_mnist"
   ]
  },
  {
   "cell_type": "code",
   "execution_count": 5,
   "metadata": {},
   "outputs": [
    {
     "name": "stdout",
     "output_type": "stream",
     "text": [
      "Downloading data from https://storage.googleapis.com/tensorflow/tf-keras-datasets/train-labels-idx1-ubyte.gz\n",
      "32768/29515 [=================================] - 0s 1us/step\n",
      "Downloading data from https://storage.googleapis.com/tensorflow/tf-keras-datasets/train-images-idx3-ubyte.gz\n",
      "26427392/26421880 [==============================] - 18s 1us/step\n",
      "Downloading data from https://storage.googleapis.com/tensorflow/tf-keras-datasets/t10k-labels-idx1-ubyte.gz\n",
      "8192/5148 [===============================================] - 0s 0us/step\n",
      "Downloading data from https://storage.googleapis.com/tensorflow/tf-keras-datasets/t10k-images-idx3-ubyte.gz\n",
      "4423680/4422102 [==============================] - 3s 1us/step\n"
     ]
    }
   ],
   "source": [
    "(X_train_full, y_train_full), (X_test_full, y_test_full) = fashion_mnist.load_data()"
   ]
  },
  {
   "cell_type": "code",
   "execution_count": 25,
   "metadata": {},
   "outputs": [
    {
     "name": "stdout",
     "output_type": "stream",
     "text": [
      "n_classes: 10\n"
     ]
    }
   ],
   "source": [
    "from collections import Counter\n",
    "\n",
    "print(f'n_classes: {len(Counter(y_train_full).keys())}')"
   ]
  },
  {
   "cell_type": "code",
   "execution_count": 7,
   "metadata": {},
   "outputs": [
    {
     "data": {
      "text/plain": [
       "(60000, 28, 28)"
      ]
     },
     "execution_count": 7,
     "metadata": {},
     "output_type": "execute_result"
    }
   ],
   "source": [
    "X_train_full.shape"
   ]
  },
  {
   "cell_type": "code",
   "execution_count": 8,
   "metadata": {},
   "outputs": [
    {
     "data": {
      "text/plain": [
       "dtype('uint8')"
      ]
     },
     "execution_count": 8,
     "metadata": {},
     "output_type": "execute_result"
    }
   ],
   "source": [
    "X_train_full.dtype"
   ]
  },
  {
   "cell_type": "code",
   "execution_count": 47,
   "metadata": {},
   "outputs": [],
   "source": [
    "X_valid, X_train = X_train_full[:5000] / 255.0, X_train_full[5000:] / 255.0\n",
    "y_valid, y_train = y_train_full[:5000], y_train_full[5000:]\n",
    "X_test = X_test_full / 255.0\n",
    "y_test = y_test_full"
   ]
  },
  {
   "cell_type": "code",
   "execution_count": 10,
   "metadata": {},
   "outputs": [],
   "source": [
    "class_names = ['T-shirt/top', 'Trousers', 'Pullover', 'Dress', 'Coat', 'Sandal',\n",
    "               'Shirt', 'Sneakers', 'Bag', 'Ankle boot']"
   ]
  },
  {
   "cell_type": "code",
   "execution_count": 17,
   "metadata": {},
   "outputs": [
    {
     "data": {
      "text/plain": [
       "'Ankle boot'"
      ]
     },
     "execution_count": 17,
     "metadata": {},
     "output_type": "execute_result"
    }
   ],
   "source": [
    "class_names[y_train[3]]"
   ]
  },
  {
   "cell_type": "code",
   "execution_count": 18,
   "metadata": {},
   "outputs": [
    {
     "data": {
      "image/png": "[encoded data removed]",
      "text/plain": [
       "<Figure size 576x396 with 1 Axes>"
      ]
     },
     "metadata": {},
     "output_type": "display_data"
    }
   ],
   "source": [
    "plt.imshow(X_train[3]);"
   ]
  },
  {
   "cell_type": "markdown",
   "metadata": {},
   "source": [
    "# using sequential API to build a classification model"
   ]
  },
  {
   "cell_type": "code",
   "execution_count": 26,
   "metadata": {},
   "outputs": [],
   "source": [
    "from tensorflow.keras.models import Sequential\n",
    "from tensorflow.keras import layers\n",
    "\n",
    "model = Sequential()\n",
    "model.add(layers.Flatten(input_shape=[28, 28]))\n",
    "model.add(layers.Dense(300, activation='relu'))\n",
    "model.add(layers.Dense(100, activation='relu'))\n",
    "model.add(layers.Dense(10, activation='softmax'))"
   ]
  },
  {
   "cell_type": "code",
   "execution_count": 27,
   "metadata": {},
   "outputs": [
    {
     "name": "stdout",
     "output_type": "stream",
     "text": [
      "Model: \"sequential\"\n",
      "_________________________________________________________________\n",
      "Layer (type)                 Output Shape              Param #   \n",
      "=================================================================\n",
      "flatten (Flatten)            (None, 784)               0         \n",
      "_________________________________________________________________\n",
      "dense (Dense)                (None, 300)               235500    \n",
      "_________________________________________________________________\n",
      "dense_1 (Dense)              (None, 100)               30100     \n",
      "_________________________________________________________________\n",
      "dense_2 (Dense)              (None, 10)                1010      \n",
      "=================================================================\n",
      "Total params: 266,610\n",
      "Trainable params: 266,610\n",
      "Non-trainable params: 0\n",
      "_________________________________________________________________\n"
     ]
    }
   ],
   "source": [
    "model.summary()"
   ]
  },
  {
   "cell_type": "code",
   "execution_count": 30,
   "metadata": {},
   "outputs": [
    {
     "data": {
      "text/plain": [
       "[<tensorflow.python.keras.layers.core.Flatten at 0x7f3c3c117950>,\n",
       " <tensorflow.python.keras.layers.core.Dense at 0x7f3c3e925310>,\n",
       " <tensorflow.python.keras.layers.core.Dense at 0x7f3c3c077290>,\n",
       " <tensorflow.python.keras.layers.core.Dense at 0x7f3c3c1073d0>]"
      ]
     },
     "execution_count": 30,
     "metadata": {},
     "output_type": "execute_result"
    }
   ],
   "source": [
    "model.layers"
   ]
  },
  {
   "cell_type": "code",
   "execution_count": 32,
   "metadata": {},
   "outputs": [],
   "source": [
    "weights, biases = model.layers[1].get_weights()"
   ]
  },
  {
   "cell_type": "code",
   "execution_count": 33,
   "metadata": {},
   "outputs": [
    {
     "data": {
      "text/plain": [
       "array([[ 6.5471321e-02, -4.8524808e-02,  1.9980803e-02, ...,\n",
       "         1.2314595e-02,  5.3440496e-02, -5.3880859e-02],\n",
       "       [ 4.9044490e-03, -3.9354783e-02, -5.3621009e-03, ...,\n",
       "        -3.9087437e-02,  1.6982406e-03, -2.8027672e-02],\n",
       "       [-4.7634546e-02, -1.9260082e-02, -5.1546700e-02, ...,\n",
       "         1.2074672e-02, -2.5369778e-02,  8.6046755e-05],\n",
       "       ...,\n",
       "       [ 7.1931377e-02, -1.7212495e-02,  9.8253340e-03, ...,\n",
       "         6.1579764e-02,  3.5400391e-02,  1.6646177e-02],\n",
       "       [-5.6147635e-02,  4.3291271e-02,  1.4869608e-02, ...,\n",
       "         5.6330070e-02,  2.0269044e-02,  6.6464677e-02],\n",
       "       [ 2.7785085e-02, -1.3735220e-02, -2.4592895e-02, ...,\n",
       "        -4.7313277e-02, -3.7001483e-02,  5.9868008e-02]], dtype=float32)"
      ]
     },
     "execution_count": 33,
     "metadata": {},
     "output_type": "execute_result"
    }
   ],
   "source": [
    "weights"
   ]
  },
  {
   "cell_type": "code",
   "execution_count": 34,
   "metadata": {},
   "outputs": [
    {
     "data": {
      "text/plain": [
       "array([0., 0., 0., 0., 0., 0., 0., 0., 0., 0., 0., 0., 0., 0., 0., 0., 0.,\n",
       "       0., 0., 0., 0., 0., 0., 0., 0., 0., 0., 0., 0., 0., 0., 0., 0., 0.,\n",
       "       0., 0., 0., 0., 0., 0., 0., 0., 0., 0., 0., 0., 0., 0., 0., 0., 0.,\n",
       "       0., 0., 0., 0., 0., 0., 0., 0., 0., 0., 0., 0., 0., 0., 0., 0., 0.,\n",
       "       0., 0., 0., 0., 0., 0., 0., 0., 0., 0., 0., 0., 0., 0., 0., 0., 0.,\n",
       "       0., 0., 0., 0., 0., 0., 0., 0., 0., 0., 0., 0., 0., 0., 0., 0., 0.,\n",
       "       0., 0., 0., 0., 0., 0., 0., 0., 0., 0., 0., 0., 0., 0., 0., 0., 0.,\n",
       "       0., 0., 0., 0., 0., 0., 0., 0., 0., 0., 0., 0., 0., 0., 0., 0., 0.,\n",
       "       0., 0., 0., 0., 0., 0., 0., 0., 0., 0., 0., 0., 0., 0., 0., 0., 0.,\n",
       "       0., 0., 0., 0., 0., 0., 0., 0., 0., 0., 0., 0., 0., 0., 0., 0., 0.,\n",
       "       0., 0., 0., 0., 0., 0., 0., 0., 0., 0., 0., 0., 0., 0., 0., 0., 0.,\n",
       "       0., 0., 0., 0., 0., 0., 0., 0., 0., 0., 0., 0., 0., 0., 0., 0., 0.,\n",
       "       0., 0., 0., 0., 0., 0., 0., 0., 0., 0., 0., 0., 0., 0., 0., 0., 0.,\n",
       "       0., 0., 0., 0., 0., 0., 0., 0., 0., 0., 0., 0., 0., 0., 0., 0., 0.,\n",
       "       0., 0., 0., 0., 0., 0., 0., 0., 0., 0., 0., 0., 0., 0., 0., 0., 0.,\n",
       "       0., 0., 0., 0., 0., 0., 0., 0., 0., 0., 0., 0., 0., 0., 0., 0., 0.,\n",
       "       0., 0., 0., 0., 0., 0., 0., 0., 0., 0., 0., 0., 0., 0., 0., 0., 0.,\n",
       "       0., 0., 0., 0., 0., 0., 0., 0., 0., 0., 0.], dtype=float32)"
      ]
     },
     "execution_count": 34,
     "metadata": {},
     "output_type": "execute_result"
    }
   ],
   "source": [
    "biases"
   ]
  },
  {
   "cell_type": "code",
   "execution_count": 35,
   "metadata": {},
   "outputs": [],
   "source": [
    "model.compile(optimizer='sgd', loss='sparse_categorical_crossentropy', metrics=['accuracy'])"
   ]
  },
  {
   "cell_type": "code",
   "execution_count": 36,
   "metadata": {},
   "outputs": [
    {
     "name": "stdout",
     "output_type": "stream",
     "text": [
      "Train on 55000 samples, validate on 5000 samples\n",
      "Epoch 1/30\n",
      "55000/55000 [==============================] - 7s 133us/sample - loss: 0.7038 - accuracy: 0.7724 - val_loss: 0.5314 - val_accuracy: 0.8146\n",
      "Epoch 2/30\n",
      "55000/55000 [==============================] - 6s 115us/sample - loss: 0.4809 - accuracy: 0.8317 - val_loss: 0.4415 - val_accuracy: 0.8482\n",
      "Epoch 3/30\n",
      "55000/55000 [==============================] - 6s 114us/sample - loss: 0.4358 - accuracy: 0.8478 - val_loss: 0.4173 - val_accuracy: 0.8548\n",
      "Epoch 4/30\n",
      "55000/55000 [==============================] - 6s 115us/sample - loss: 0.4114 - accuracy: 0.8540 - val_loss: 0.4003 - val_accuracy: 0.8618\n",
      "Epoch 5/30\n",
      "55000/55000 [==============================] - 6s 115us/sample - loss: 0.3911 - accuracy: 0.8620 - val_loss: 0.3838 - val_accuracy: 0.8702\n",
      "Epoch 6/30\n",
      "55000/55000 [==============================] - 6s 114us/sample - loss: 0.3764 - accuracy: 0.8657 - val_loss: 0.3797 - val_accuracy: 0.8704\n",
      "Epoch 7/30\n",
      "55000/55000 [==============================] - 6s 115us/sample - loss: 0.3627 - accuracy: 0.8707 - val_loss: 0.3648 - val_accuracy: 0.8756\n",
      "Epoch 8/30\n",
      "55000/55000 [==============================] - 6s 114us/sample - loss: 0.3527 - accuracy: 0.8739 - val_loss: 0.3605 - val_accuracy: 0.8734\n",
      "Epoch 9/30\n",
      "55000/55000 [==============================] - 6s 115us/sample - loss: 0.3417 - accuracy: 0.8778 - val_loss: 0.3535 - val_accuracy: 0.8724\n",
      "Epoch 10/30\n",
      "55000/55000 [==============================] - 6s 114us/sample - loss: 0.3332 - accuracy: 0.8807 - val_loss: 0.3407 - val_accuracy: 0.8800\n",
      "Epoch 11/30\n",
      "55000/55000 [==============================] - 6s 115us/sample - loss: 0.3251 - accuracy: 0.8834 - val_loss: 0.3346 - val_accuracy: 0.8836\n",
      "Epoch 12/30\n",
      "55000/55000 [==============================] - 6s 114us/sample - loss: 0.3170 - accuracy: 0.8862 - val_loss: 0.3432 - val_accuracy: 0.8810\n",
      "Epoch 13/30\n",
      "55000/55000 [==============================] - 6s 115us/sample - loss: 0.3104 - accuracy: 0.8882 - val_loss: 0.3292 - val_accuracy: 0.8856\n",
      "Epoch 14/30\n",
      "55000/55000 [==============================] - 6s 114us/sample - loss: 0.3041 - accuracy: 0.8911 - val_loss: 0.3193 - val_accuracy: 0.8864\n",
      "Epoch 15/30\n",
      "55000/55000 [==============================] - 6s 115us/sample - loss: 0.2966 - accuracy: 0.8940 - val_loss: 0.3205 - val_accuracy: 0.8858\n",
      "Epoch 16/30\n",
      "55000/55000 [==============================] - 6s 115us/sample - loss: 0.2913 - accuracy: 0.8946 - val_loss: 0.3240 - val_accuracy: 0.8804\n",
      "Epoch 17/30\n",
      "55000/55000 [==============================] - 6s 115us/sample - loss: 0.2844 - accuracy: 0.8967 - val_loss: 0.3844 - val_accuracy: 0.8678\n",
      "Epoch 18/30\n",
      "55000/55000 [==============================] - 6s 114us/sample - loss: 0.2796 - accuracy: 0.8987 - val_loss: 0.3230 - val_accuracy: 0.8824\n",
      "Epoch 19/30\n",
      "55000/55000 [==============================] - 6s 115us/sample - loss: 0.2737 - accuracy: 0.9009 - val_loss: 0.3168 - val_accuracy: 0.8898\n",
      "Epoch 20/30\n",
      "55000/55000 [==============================] - 6s 115us/sample - loss: 0.2683 - accuracy: 0.9032 - val_loss: 0.3048 - val_accuracy: 0.8924\n",
      "Epoch 21/30\n",
      "55000/55000 [==============================] - 6s 116us/sample - loss: 0.2636 - accuracy: 0.9049 - val_loss: 0.3194 - val_accuracy: 0.8874\n",
      "Epoch 22/30\n",
      "55000/55000 [==============================] - 6s 115us/sample - loss: 0.2590 - accuracy: 0.9063 - val_loss: 0.3100 - val_accuracy: 0.8900\n",
      "Epoch 23/30\n",
      "55000/55000 [==============================] - 6s 116us/sample - loss: 0.2540 - accuracy: 0.9079 - val_loss: 0.2976 - val_accuracy: 0.8966\n",
      "Epoch 24/30\n",
      "55000/55000 [==============================] - 6s 115us/sample - loss: 0.2501 - accuracy: 0.9099 - val_loss: 0.3110 - val_accuracy: 0.8890\n",
      "Epoch 25/30\n",
      "55000/55000 [==============================] - 6s 115us/sample - loss: 0.2459 - accuracy: 0.9112 - val_loss: 0.3136 - val_accuracy: 0.8890\n",
      "Epoch 26/30\n",
      "55000/55000 [==============================] - 6s 115us/sample - loss: 0.2421 - accuracy: 0.9125 - val_loss: 0.2969 - val_accuracy: 0.8964\n",
      "Epoch 27/30\n",
      "55000/55000 [==============================] - 6s 115us/sample - loss: 0.2377 - accuracy: 0.9139 - val_loss: 0.3126 - val_accuracy: 0.8902\n",
      "Epoch 28/30\n",
      "55000/55000 [==============================] - 6s 114us/sample - loss: 0.2338 - accuracy: 0.9149 - val_loss: 0.2920 - val_accuracy: 0.8976\n",
      "Epoch 29/30\n",
      "55000/55000 [==============================] - 6s 115us/sample - loss: 0.2293 - accuracy: 0.9166 - val_loss: 0.2917 - val_accuracy: 0.8980\n",
      "Epoch 30/30\n",
      "55000/55000 [==============================] - 6s 114us/sample - loss: 0.2258 - accuracy: 0.9182 - val_loss: 0.3007 - val_accuracy: 0.8926\n"
     ]
    }
   ],
   "source": [
    "history = model.fit(X_train, y_train, epochs=30, validation_data=(X_valid, y_valid))"
   ]
  },
  {
   "cell_type": "code",
   "execution_count": 44,
   "metadata": {},
   "outputs": [
    {
     "data": {
      "image/png": "[encoded data removed]",
      "text/plain": [
       "<Figure size 720x504 with 1 Axes>"
      ]
     },
     "metadata": {},
     "output_type": "display_data"
    }
   ],
   "source": [
    "import pandas as pd\n",
    "\n",
    "pd.DataFrame(history.history).plot(figsize=(10, 7));\n",
    "plt.grid(True)\n",
    "plt.gca().set_ylim(0, 1)\n",
    "plt.show()"
   ]
  },
  {
   "cell_type": "code",
   "execution_count": 48,
   "metadata": {},
   "outputs": [
    {
     "name": "stdout",
     "output_type": "stream",
     "text": [
      "10000/10000 [==============================] - 1s 64us/sample - loss: 0.3333 - accuracy: 0.8813\n"
     ]
    },
    {
     "data": {
      "text/plain": [
       "[0.3332813518345356, 0.8813]"
      ]
     },
     "execution_count": 48,
     "metadata": {},
     "output_type": "execute_result"
    }
   ],
   "source": [
    "model.evaluate(X_test, y_test)"
   ]
  },
  {
   "cell_type": "code",
   "execution_count": 51,
   "metadata": {},
   "outputs": [
    {
     "data": {
      "text/plain": [
       "['Ankle boot', 'Pullover', 'Trousers']"
      ]
     },
     "execution_count": 51,
     "metadata": {},
     "output_type": "execute_result"
    }
   ],
   "source": [
    "X_new = X_test[:3]\n",
    "y_true = y_test[:3]\n",
    "[class_names[i] for i in y_true]"
   ]
  },
  {
   "cell_type": "code",
   "execution_count": 58,
   "metadata": {},
   "outputs": [
    {
     "data": {
      "text/plain": [
       "array([[0.   , 0.   , 0.   , 0.   , 0.   , 0.001, 0.   , 0.003, 0.   ,\n",
       "        0.996],\n",
       "       [0.   , 0.   , 0.996, 0.   , 0.003, 0.   , 0.001, 0.   , 0.   ,\n",
       "        0.   ],\n",
       "       [0.   , 1.   , 0.   , 0.   , 0.   , 0.   , 0.   , 0.   , 0.   ,\n",
       "        0.   ]], dtype=float32)"
      ]
     },
     "execution_count": 58,
     "metadata": {},
     "output_type": "execute_result"
    }
   ],
   "source": [
    "y_proba = model.predict(X_new)\n",
    "y_proba.round(3)"
   ]
  },
  {
   "cell_type": "code",
   "execution_count": 59,
   "metadata": {},
   "outputs": [
    {
     "data": {
      "text/plain": [
       "array([9, 2, 1])"
      ]
     },
     "execution_count": 59,
     "metadata": {},
     "output_type": "execute_result"
    }
   ],
   "source": [
    "y_pred = model.predict_classes(X_new)\n",
    "y_pred"
   ]
  },
  {
   "cell_type": "code",
   "execution_count": 60,
   "metadata": {},
   "outputs": [
    {
     "data": {
      "text/plain": [
       "['Ankle boot', 'Pullover', 'Trousers']"
      ]
     },
     "execution_count": 60,
     "metadata": {},
     "output_type": "execute_result"
    }
   ],
   "source": [
    "[class_names[i] for i in y_pred]"
   ]
  },
  {
   "cell_type": "code",
   "execution_count": 61,
   "metadata": {},
   "outputs": [
    {
     "name": "stdout",
     "output_type": "stream",
     "text": [
      "Train on 55000 samples, validate on 5000 samples\n",
      "Epoch 1/15\n",
      "55000/55000 [==============================] - 6s 114us/sample - loss: 0.2210 - accuracy: 0.9196 - val_loss: 0.2974 - val_accuracy: 0.8948\n",
      "Epoch 2/15\n",
      "55000/55000 [==============================] - 6s 114us/sample - loss: 0.2190 - accuracy: 0.9207 - val_loss: 0.2977 - val_accuracy: 0.8950\n",
      "Epoch 3/15\n",
      "55000/55000 [==============================] - 6s 114us/sample - loss: 0.2154 - accuracy: 0.9227 - val_loss: 0.2998 - val_accuracy: 0.8928\n",
      "Epoch 4/15\n",
      "55000/55000 [==============================] - 6s 114us/sample - loss: 0.2113 - accuracy: 0.9236 - val_loss: 0.2903 - val_accuracy: 0.8962\n",
      "Epoch 5/15\n",
      "55000/55000 [==============================] - 6s 114us/sample - loss: 0.2073 - accuracy: 0.9247 - val_loss: 0.2867 - val_accuracy: 0.8986\n",
      "Epoch 6/15\n",
      "55000/55000 [==============================] - 6s 114us/sample - loss: 0.2039 - accuracy: 0.9273 - val_loss: 0.2930 - val_accuracy: 0.8910\n",
      "Epoch 7/15\n",
      "55000/55000 [==============================] - 6s 114us/sample - loss: 0.2011 - accuracy: 0.9280 - val_loss: 0.3093 - val_accuracy: 0.8890\n",
      "Epoch 8/15\n",
      "55000/55000 [==============================] - 6s 115us/sample - loss: 0.1979 - accuracy: 0.9293 - val_loss: 0.2980 - val_accuracy: 0.8954\n",
      "Epoch 9/15\n",
      "55000/55000 [==============================] - 6s 115us/sample - loss: 0.1942 - accuracy: 0.9299 - val_loss: 0.3023 - val_accuracy: 0.8926\n",
      "Epoch 10/15\n",
      "55000/55000 [==============================] - 6s 115us/sample - loss: 0.1920 - accuracy: 0.9312 - val_loss: 0.2860 - val_accuracy: 0.8966\n",
      "Epoch 11/15\n",
      "55000/55000 [==============================] - 6s 114us/sample - loss: 0.1888 - accuracy: 0.9325 - val_loss: 0.2966 - val_accuracy: 0.8932\n",
      "Epoch 12/15\n",
      "55000/55000 [==============================] - 6s 115us/sample - loss: 0.1871 - accuracy: 0.9319 - val_loss: 0.2840 - val_accuracy: 0.8994\n",
      "Epoch 13/15\n",
      "55000/55000 [==============================] - 6s 117us/sample - loss: 0.1828 - accuracy: 0.9337 - val_loss: 0.2935 - val_accuracy: 0.8930\n",
      "Epoch 14/15\n",
      "55000/55000 [==============================] - 6s 114us/sample - loss: 0.1791 - accuracy: 0.9365 - val_loss: 0.2843 - val_accuracy: 0.9012\n",
      "Epoch 15/15\n",
      "55000/55000 [==============================] - 6s 115us/sample - loss: 0.1769 - accuracy: 0.9376 - val_loss: 0.3033 - val_accuracy: 0.8904\n"
     ]
    }
   ],
   "source": [
    "# continue with training \n",
    "history_1 = model.fit(X_train, y_train, epochs=15, validation_data=(X_valid, y_valid))"
   ]
  },
  {
   "cell_type": "code",
   "execution_count": 62,
   "metadata": {},
   "outputs": [
    {
     "data": {
      "image/png": "[encoded data removed]",
      "text/plain": [
       "<Figure size 720x504 with 1 Axes>"
      ]
     },
     "metadata": {},
     "output_type": "display_data"
    }
   ],
   "source": [
    "pd.DataFrame(history_1.history).plot(figsize=(10, 7))\n",
    "plt.gca().set_ylim(0, 1)\n",
    "plt.show()"
   ]
  },
  {
   "cell_type": "code",
   "execution_count": 63,
   "metadata": {},
   "outputs": [
    {
     "name": "stdout",
     "output_type": "stream",
     "text": [
      "10000/10000 [==============================] - 1s 63us/sample - loss: 0.3315 - accuracy: 0.8845\n"
     ]
    },
    {
     "data": {
      "text/plain": [
       "[0.3314607475757599, 0.8845]"
      ]
     },
     "execution_count": 63,
     "metadata": {},
     "output_type": "execute_result"
    }
   ],
   "source": [
    "model.evaluate(X_test, y_test)"
   ]
  },
  {
   "cell_type": "markdown",
   "metadata": {},
   "source": [
    "# Regression Model"
   ]
  },
  {
   "cell_type": "code",
   "execution_count": 64,
   "metadata": {},
   "outputs": [],
   "source": [
    "from sklearn.datasets import fetch_california_housing\n",
    "from sklearn.model_selection import train_test_split\n",
    "from sklearn.preprocessing import StandardScaler"
   ]
  },
  {
   "cell_type": "code",
   "execution_count": 65,
   "metadata": {},
   "outputs": [
    {
     "name": "stderr",
     "output_type": "stream",
     "text": [
      "Downloading Cal. housing from https://ndownloader.figshare.com/files/5976036 to /home/matus/scikit_learn_data\n"
     ]
    }
   ],
   "source": [
    "housing = fetch_california_housing()"
   ]
  },
  {
   "cell_type": "code",
   "execution_count": 68,
   "metadata": {},
   "outputs": [],
   "source": [
    "X_train_full, X_test, y_train_full, y_test = train_test_split(\n",
    "    housing['data'], housing['target'])\n",
    "X_train, X_valid, y_train, y_valid = train_test_split(X_train_full, y_train_full)"
   ]
  },
  {
   "cell_type": "code",
   "execution_count": 69,
   "metadata": {},
   "outputs": [],
   "source": [
    "scaler = StandardScaler()\n",
    "X_train = scaler.fit_transform(X_train)\n",
    "X_valid = scaler.transform(X_valid)\n",
    "X_test = scaler.transform(X_test)"
   ]
  },
  {
   "cell_type": "code",
   "execution_count": 71,
   "metadata": {},
   "outputs": [],
   "source": [
    "model = keras.Sequential()\n",
    "model.add(layers.Dense(30, activation='relu', input_shape=X_train.shape[1:]))\n",
    "model.add(layers.Dense(1))"
   ]
  },
  {
   "cell_type": "code",
   "execution_count": 72,
   "metadata": {
    "scrolled": true
   },
   "outputs": [
    {
     "name": "stdout",
     "output_type": "stream",
     "text": [
      "Train on 11610 samples, validate on 3870 samples\n",
      "Epoch 1/20\n",
      "11610/11610 [==============================] - 1s 89us/sample - loss: 0.8352 - val_loss: 1.0471\n",
      "Epoch 2/20\n",
      "11610/11610 [==============================] - 1s 59us/sample - loss: 1.1416 - val_loss: 0.6077\n",
      "Epoch 3/20\n",
      "11610/11610 [==============================] - 1s 57us/sample - loss: 0.5138 - val_loss: 0.4951\n",
      "Epoch 4/20\n",
      "11610/11610 [==============================] - 1s 58us/sample - loss: 0.4815 - val_loss: 0.4682\n",
      "Epoch 5/20\n",
      "11610/11610 [==============================] - 1s 59us/sample - loss: 0.4474 - val_loss: 0.4535\n",
      "Epoch 6/20\n",
      "11610/11610 [==============================] - 1s 58us/sample - loss: 0.4338 - val_loss: 0.4432\n",
      "Epoch 7/20\n",
      "11610/11610 [==============================] - 1s 59us/sample - loss: 0.4507 - val_loss: 0.4354\n",
      "Epoch 8/20\n",
      "11610/11610 [==============================] - 1s 57us/sample - loss: 0.4163 - val_loss: 0.4330\n",
      "Epoch 9/20\n",
      "11610/11610 [==============================] - 1s 56us/sample - loss: 0.4110 - val_loss: 0.4250\n",
      "Epoch 10/20\n",
      "11610/11610 [==============================] - 1s 58us/sample - loss: 0.4048 - val_loss: 0.4195\n",
      "Epoch 11/20\n",
      "11610/11610 [==============================] - 1s 58us/sample - loss: 0.4013 - val_loss: 0.4184\n",
      "Epoch 12/20\n",
      "11610/11610 [==============================] - 1s 61us/sample - loss: 0.3970 - val_loss: 0.4920\n",
      "Epoch 13/20\n",
      "11610/11610 [==============================] - 1s 56us/sample - loss: 0.3993 - val_loss: 0.4812\n",
      "Epoch 14/20\n",
      "11610/11610 [==============================] - 1s 57us/sample - loss: 0.3948 - val_loss: 0.4095\n",
      "Epoch 15/20\n",
      "11610/11610 [==============================] - 1s 59us/sample - loss: 0.3856 - val_loss: 0.4045\n",
      "Epoch 16/20\n",
      "11610/11610 [==============================] - 1s 59us/sample - loss: 0.3806 - val_loss: 0.4046\n",
      "Epoch 17/20\n",
      "11610/11610 [==============================] - 1s 60us/sample - loss: 0.3907 - val_loss: 0.4333\n",
      "Epoch 18/20\n",
      "11610/11610 [==============================] - 1s 58us/sample - loss: 0.3789 - val_loss: 0.3991\n",
      "Epoch 19/20\n",
      "11610/11610 [==============================] - 1s 59us/sample - loss: 0.3736 - val_loss: 0.4008\n",
      "Epoch 20/20\n",
      "11610/11610 [==============================] - 1s 58us/sample - loss: 0.3745 - val_loss: 0.3950\n"
     ]
    }
   ],
   "source": [
    "model.compile(loss='mean_squared_error', optimizer='sgd')\n",
    "history = model.fit(X_train, y_train, epochs=20, validation_data=(X_valid, y_valid))"
   ]
  },
  {
   "cell_type": "code",
   "execution_count": 73,
   "metadata": {},
   "outputs": [
    {
     "name": "stdout",
     "output_type": "stream",
     "text": [
      "5160/5160 [==============================] - 0s 28us/sample - loss: 0.3800\n"
     ]
    },
    {
     "data": {
      "text/plain": [
       "0.380039013541022"
      ]
     },
     "execution_count": 73,
     "metadata": {},
     "output_type": "execute_result"
    }
   ],
   "source": [
    "mse_test = model.evaluate(X_test, y_test)\n",
    "mse_test"
   ]
  },
  {
   "cell_type": "code",
   "execution_count": 78,
   "metadata": {},
   "outputs": [
    {
     "data": {
      "text/plain": [
       "array([[5.8519645],\n",
       "       [2.4894643],\n",
       "       [1.0479704]], dtype=float32)"
      ]
     },
     "execution_count": 78,
     "metadata": {},
     "output_type": "execute_result"
    }
   ],
   "source": [
    "X_new = X_test[:3]\n",
    "y_pred = model.predict(X_new)\n",
    "y_pred"
   ]
  },
  {
   "cell_type": "code",
   "execution_count": 82,
   "metadata": {},
   "outputs": [
    {
     "data": {
      "image/png": "[encoded data removed]",
      "text/plain": [
       "<Figure size 576x396 with 1 Axes>"
      ]
     },
     "metadata": {},
     "output_type": "display_data"
    }
   ],
   "source": [
    "pd.DataFrame(history.history).plot();"
   ]
  },
  {
   "cell_type": "markdown",
   "metadata": {},
   "source": [
    "# Functional API - Deep & Wide networks"
   ]
  },
  {
   "cell_type": "code",
   "execution_count": 83,
   "metadata": {},
   "outputs": [],
   "source": [
    "# here the input passed both through the deep path (input -> hidden1 -> hidden2 -> concat)\n",
    "# and through the wide path (input -> concat)\n",
    "input_ = layers.Input(shape=X_train.shape[1:])\n",
    "hidden1 = layers.Dense(30, activation='relu')(input_)\n",
    "hidden2 = layers.Dense(30, activation='relu')(hidden1)\n",
    "concat = layers.Concatenate()([input_, hidden2])\n",
    "output = layers.Dense(1)(concat)\n",
    "model = keras.Model(inputs=[input_], outputs=[output])"
   ]
  },
  {
   "cell_type": "code",
   "execution_count": 87,
   "metadata": {},
   "outputs": [],
   "source": [
    "# let's split the input matrix and send features 0-4 through the wide path and features\n",
    "# 2-7 thorough the deep path\n",
    "input_A = layers.Input(shape=[5], name='wide_input')\n",
    "input_B = layers.Input(shape=[6], name='deep_input')\n",
    "hidden1 = layers.Dense(30, activation='relu')(input_B)\n",
    "hidden2 = layers.Dense(30, activation='relu')(hidden1)\n",
    "concat = layers.Concatenate()([input_A, hidden2])\n",
    "output = layers.Dense(1)(concat)\n",
    "model = keras.Model(inputs=[input_A, input_B], outputs=[output])"
   ]
  },
  {
   "cell_type": "code",
   "execution_count": 92,
   "metadata": {},
   "outputs": [],
   "source": [
    "X_train_A, X_train_B = X_train[:, :5], X_train[:, 2:]\n",
    "X_valid_A, X_valid_B = X_valid[:, :5], X_valid[:, 2:]\n",
    "X_test_A, X_test_B = X_test[:, :5], X_test[:, 2:]\n",
    "X_new_A, X_new_B = X_test_A[:3], X_test_B[:3]"
   ]
  },
  {
   "cell_type": "code",
   "execution_count": 89,
   "metadata": {},
   "outputs": [
    {
     "name": "stdout",
     "output_type": "stream",
     "text": [
      "Train on 11610 samples, validate on 3870 samples\n",
      "Epoch 1/20\n",
      "11610/11610 [==============================] - 1s 92us/sample - loss: 1.2186 - val_loss: 0.6105\n",
      "Epoch 2/20\n",
      "11610/11610 [==============================] - 1s 69us/sample - loss: 0.5239 - val_loss: 0.4950\n",
      "Epoch 3/20\n",
      "11610/11610 [==============================] - 1s 67us/sample - loss: 0.5123 - val_loss: 0.4647\n",
      "Epoch 4/20\n",
      "11610/11610 [==============================] - 1s 67us/sample - loss: 0.4362 - val_loss: 0.4509\n",
      "Epoch 5/20\n",
      "11610/11610 [==============================] - 1s 69us/sample - loss: 0.4189 - val_loss: 0.4314\n",
      "Epoch 6/20\n",
      "11610/11610 [==============================] - 1s 67us/sample - loss: 0.4104 - val_loss: 0.4242\n",
      "Epoch 7/20\n",
      "11610/11610 [==============================] - 1s 64us/sample - loss: 0.3978 - val_loss: 0.4211\n",
      "Epoch 8/20\n",
      "11610/11610 [==============================] - 1s 65us/sample - loss: 0.3955 - val_loss: 0.4148\n",
      "Epoch 9/20\n",
      "11610/11610 [==============================] - 1s 65us/sample - loss: 0.3875 - val_loss: 0.4240\n",
      "Epoch 10/20\n",
      "11610/11610 [==============================] - 1s 66us/sample - loss: 0.3792 - val_loss: 0.4038\n",
      "Epoch 11/20\n",
      "11610/11610 [==============================] - 1s 65us/sample - loss: 0.3728 - val_loss: 0.3993\n",
      "Epoch 12/20\n",
      "11610/11610 [==============================] - 1s 66us/sample - loss: 0.3706 - val_loss: 0.4056\n",
      "Epoch 13/20\n",
      "11610/11610 [==============================] - 1s 68us/sample - loss: 0.3673 - val_loss: 0.4114\n",
      "Epoch 14/20\n",
      "11610/11610 [==============================] - 1s 66us/sample - loss: 0.3663 - val_loss: 0.3912\n",
      "Epoch 15/20\n",
      "11610/11610 [==============================] - 1s 67us/sample - loss: 0.3593 - val_loss: 0.3858\n",
      "Epoch 16/20\n",
      "11610/11610 [==============================] - 1s 67us/sample - loss: 0.3570 - val_loss: 0.3863\n",
      "Epoch 17/20\n",
      "11610/11610 [==============================] - 1s 64us/sample - loss: 0.3585 - val_loss: 0.3895\n",
      "Epoch 18/20\n",
      "11610/11610 [==============================] - 1s 65us/sample - loss: 0.3556 - val_loss: 0.3882\n",
      "Epoch 19/20\n",
      "11610/11610 [==============================] - 1s 67us/sample - loss: 0.3487 - val_loss: 0.4045\n",
      "Epoch 20/20\n",
      "11610/11610 [==============================] - 1s 66us/sample - loss: 0.3488 - val_loss: 0.3890\n"
     ]
    },
    {
     "data": {
      "text/plain": [
       "<tensorflow.python.keras.callbacks.History at 0x7f3c56894810>"
      ]
     },
     "execution_count": 89,
     "metadata": {},
     "output_type": "execute_result"
    }
   ],
   "source": [
    "model.compile(loss='mean_squared_error', optimizer='sgd')\n",
    "model.fit((X_train_A, X_train_B), y_train, epochs=20, \n",
    "           validation_data=((X_valid_A, X_valid_B), y_valid))"
   ]
  },
  {
   "cell_type": "code",
   "execution_count": 90,
   "metadata": {},
   "outputs": [
    {
     "name": "stdout",
     "output_type": "stream",
     "text": [
      "5160/5160 [==============================] - 0s 33us/sample - loss: 0.3708\n"
     ]
    },
    {
     "data": {
      "text/plain": [
       "0.3708456836005514"
      ]
     },
     "execution_count": 90,
     "metadata": {},
     "output_type": "execute_result"
    }
   ],
   "source": [
    "mse_test = model.evaluate((X_test_A, X_test_B), y_test)\n",
    "mse_test"
   ]
  },
  {
   "cell_type": "code",
   "execution_count": 94,
   "metadata": {},
   "outputs": [
    {
     "data": {
      "text/plain": [
       "array([[5.9096646 ],\n",
       "       [2.3043718 ],\n",
       "       [0.98788995]], dtype=float32)"
      ]
     },
     "execution_count": 94,
     "metadata": {},
     "output_type": "execute_result"
    }
   ],
   "source": [
    "y_pred = model.predict((X_new_A, X_new_B))\n",
    "y_pred"
   ]
  },
  {
   "cell_type": "markdown",
   "metadata": {},
   "source": [
    "# Using callbacks"
   ]
  },
  {
   "cell_type": "code",
   "execution_count": 95,
   "metadata": {},
   "outputs": [],
   "source": [
    "# saving the best model during the training\n",
    "housing = fetch_california_housing()\n",
    "\n",
    "X_train_full, X_test, y_train_full, y_test = train_test_split(\n",
    "    housing['data'], housing['target'])\n",
    "X_train, X_valid, y_train, y_valid = train_test_split(X_train_full, y_train_full)\n",
    "\n",
    "scaler = StandardScaler()\n",
    "X_train = scaler.fit_transform(X_train)\n",
    "X_valid = scaler.transform(X_valid)\n",
    "X_test = scaler.transform(X_test)\n",
    "\n",
    "model = keras.Sequential()\n",
    "model.add(layers.Dense(30, activation='relu', input_shape=X_train.shape[1:]))\n",
    "model.add(layers.Dense(1))\n",
    "model.compile(loss='mean_squared_error', optimizer='sgd')"
   ]
  },
  {
   "cell_type": "code",
   "execution_count": 99,
   "metadata": {
    "scrolled": true
   },
   "outputs": [
    {
     "name": "stdout",
     "output_type": "stream",
     "text": [
      "Train on 11610 samples, validate on 3870 samples\n",
      "Epoch 1/100\n",
      "11610/11610 [==============================] - 1s 69us/sample - loss: 0.3450 - val_loss: 0.3602\n",
      "Epoch 2/100\n",
      "11610/11610 [==============================] - 1s 58us/sample - loss: 0.3440 - val_loss: 0.3613\n",
      "Epoch 3/100\n",
      "11610/11610 [==============================] - 1s 61us/sample - loss: 0.3424 - val_loss: 0.3648\n",
      "Epoch 4/100\n",
      "11610/11610 [==============================] - 1s 61us/sample - loss: 0.3411 - val_loss: 0.3642\n",
      "Epoch 5/100\n",
      "11610/11610 [==============================] - 1s 59us/sample - loss: 0.3391 - val_loss: 0.3590\n",
      "Epoch 6/100\n",
      "11610/11610 [==============================] - 1s 58us/sample - loss: 0.3369 - val_loss: 0.3611\n",
      "Epoch 7/100\n",
      "11610/11610 [==============================] - 1s 57us/sample - loss: 0.3413 - val_loss: 0.3574\n",
      "Epoch 8/100\n",
      "11610/11610 [==============================] - 1s 60us/sample - loss: 0.3378 - val_loss: 0.3626\n",
      "Epoch 9/100\n",
      "11610/11610 [==============================] - 1s 60us/sample - loss: 0.3357 - val_loss: 0.3559\n",
      "Epoch 10/100\n",
      "11610/11610 [==============================] - 1s 56us/sample - loss: 0.3513 - val_loss: 0.3572\n",
      "Epoch 11/100\n",
      "11610/11610 [==============================] - 1s 60us/sample - loss: 0.3384 - val_loss: 0.3552\n",
      "Epoch 12/100\n",
      "11610/11610 [==============================] - 1s 60us/sample - loss: 0.3308 - val_loss: 0.3594\n",
      "Epoch 13/100\n",
      "11610/11610 [==============================] - 1s 58us/sample - loss: 0.3282 - val_loss: 0.3562\n",
      "Epoch 14/100\n",
      "11610/11610 [==============================] - 1s 60us/sample - loss: 0.3278 - val_loss: 0.3493\n",
      "Epoch 15/100\n",
      "11610/11610 [==============================] - 1s 60us/sample - loss: 0.3328 - val_loss: 0.3504\n",
      "Epoch 16/100\n",
      "11610/11610 [==============================] - 1s 59us/sample - loss: 0.3244 - val_loss: 0.3502\n",
      "Epoch 17/100\n",
      "11610/11610 [==============================] - 1s 60us/sample - loss: 0.3242 - val_loss: 0.3466\n",
      "Epoch 18/100\n",
      "11610/11610 [==============================] - 1s 59us/sample - loss: 0.3213 - val_loss: 0.3481\n",
      "Epoch 19/100\n",
      "11610/11610 [==============================] - 1s 60us/sample - loss: 0.3219 - val_loss: 0.3469\n",
      "Epoch 20/100\n",
      "11610/11610 [==============================] - 1s 60us/sample - loss: 0.3652 - val_loss: 0.3535\n",
      "Epoch 21/100\n",
      "11610/11610 [==============================] - 1s 60us/sample - loss: 0.3250 - val_loss: 0.3692\n",
      "Epoch 22/100\n",
      "11610/11610 [==============================] - 1s 58us/sample - loss: 0.3318 - val_loss: 0.3482\n",
      "Epoch 23/100\n",
      "11610/11610 [==============================] - 1s 59us/sample - loss: 0.3208 - val_loss: 0.3515\n",
      "Epoch 24/100\n",
      "11610/11610 [==============================] - 1s 59us/sample - loss: 0.3499 - val_loss: 0.3410\n",
      "Epoch 25/100\n",
      "11610/11610 [==============================] - 1s 58us/sample - loss: 0.3171 - val_loss: 0.3493\n",
      "Epoch 26/100\n",
      "11610/11610 [==============================] - 1s 58us/sample - loss: 0.3313 - val_loss: 0.3461\n",
      "Epoch 27/100\n",
      "11610/11610 [==============================] - 1s 58us/sample - loss: 0.3172 - val_loss: 0.3385\n",
      "Epoch 28/100\n",
      "11610/11610 [==============================] - 1s 59us/sample - loss: 0.3168 - val_loss: 0.3436\n",
      "Epoch 29/100\n",
      "11610/11610 [==============================] - 1s 58us/sample - loss: 0.3150 - val_loss: 0.3393\n",
      "Epoch 30/100\n",
      "11610/11610 [==============================] - 1s 57us/sample - loss: 0.3206 - val_loss: 0.3411\n",
      "Epoch 31/100\n",
      "11610/11610 [==============================] - 1s 58us/sample - loss: 0.3208 - val_loss: 0.3443\n",
      "Epoch 32/100\n",
      "11610/11610 [==============================] - 1s 59us/sample - loss: 0.3156 - val_loss: 0.3359\n",
      "Epoch 33/100\n",
      "11610/11610 [==============================] - 1s 59us/sample - loss: 0.3130 - val_loss: 0.3426\n",
      "Epoch 34/100\n",
      "11610/11610 [==============================] - 1s 58us/sample - loss: 0.3134 - val_loss: 0.3374\n",
      "Epoch 35/100\n",
      "11610/11610 [==============================] - 1s 60us/sample - loss: 0.3228 - val_loss: 0.3371\n",
      "Epoch 36/100\n",
      "11610/11610 [==============================] - 1s 58us/sample - loss: 0.3141 - val_loss: 0.3358\n",
      "Epoch 37/100\n",
      "11610/11610 [==============================] - 1s 57us/sample - loss: 0.3134 - val_loss: 0.3397\n",
      "Epoch 38/100\n",
      "11610/11610 [==============================] - 1s 59us/sample - loss: 0.3099 - val_loss: 0.3344\n",
      "Epoch 39/100\n",
      "11610/11610 [==============================] - 1s 61us/sample - loss: 0.3091 - val_loss: 0.3347\n",
      "Epoch 40/100\n",
      "11610/11610 [==============================] - 1s 59us/sample - loss: 0.3096 - val_loss: 0.3383\n",
      "Epoch 41/100\n",
      "11610/11610 [==============================] - 1s 59us/sample - loss: 0.3076 - val_loss: 0.3438\n",
      "Epoch 42/100\n",
      "11610/11610 [==============================] - 1s 60us/sample - loss: 0.3076 - val_loss: 0.3399\n",
      "Epoch 43/100\n",
      "11610/11610 [==============================] - 1s 57us/sample - loss: 0.3085 - val_loss: 0.3711\n",
      "Epoch 44/100\n",
      "11610/11610 [==============================] - 1s 59us/sample - loss: 0.3124 - val_loss: 0.3330\n",
      "Epoch 45/100\n",
      "11610/11610 [==============================] - 1s 59us/sample - loss: 0.3087 - val_loss: 0.3322\n",
      "Epoch 46/100\n",
      "11610/11610 [==============================] - 1s 57us/sample - loss: 0.3047 - val_loss: 0.3426\n",
      "Epoch 47/100\n",
      "11610/11610 [==============================] - 1s 59us/sample - loss: 0.3109 - val_loss: 0.3381\n",
      "Epoch 48/100\n",
      "11610/11610 [==============================] - 1s 58us/sample - loss: 0.3066 - val_loss: 0.3471\n",
      "Epoch 49/100\n",
      "11610/11610 [==============================] - 1s 57us/sample - loss: 0.3090 - val_loss: 0.3350\n",
      "Epoch 50/100\n",
      "11610/11610 [==============================] - 1s 58us/sample - loss: 0.3039 - val_loss: 0.3361\n",
      "Epoch 51/100\n",
      "11610/11610 [==============================] - 1s 57us/sample - loss: 0.3064 - val_loss: 0.3417\n",
      "Epoch 52/100\n",
      "11610/11610 [==============================] - 1s 59us/sample - loss: 0.3028 - val_loss: 0.3343\n",
      "Epoch 53/100\n",
      "11610/11610 [==============================] - 1s 58us/sample - loss: 0.3031 - val_loss: 0.3355\n",
      "Epoch 54/100\n",
      "11610/11610 [==============================] - 1s 60us/sample - loss: 0.3202 - val_loss: 0.3328\n",
      "Epoch 55/100\n",
      "11610/11610 [==============================] - 1s 57us/sample - loss: 0.3340 - val_loss: 0.3425\n",
      "Epoch 56/100\n",
      "11610/11610 [==============================] - 1s 58us/sample - loss: 0.3922 - val_loss: 0.3412\n",
      "Epoch 57/100\n",
      "11610/11610 [==============================] - 1s 59us/sample - loss: 0.3124 - val_loss: 0.3368\n",
      "Epoch 58/100\n",
      "11610/11610 [==============================] - 1s 59us/sample - loss: 0.3071 - val_loss: 0.3338\n",
      "Epoch 59/100\n",
      "11610/11610 [==============================] - 1s 58us/sample - loss: 0.3056 - val_loss: 0.3343\n",
      "Epoch 60/100\n",
      "11610/11610 [==============================] - 1s 58us/sample - loss: 0.3350 - val_loss: 0.3445\n",
      "Epoch 61/100\n",
      "11610/11610 [==============================] - 1s 58us/sample - loss: 0.3192 - val_loss: 0.3364\n",
      "Epoch 62/100\n",
      "11610/11610 [==============================] - 1s 58us/sample - loss: 0.3461 - val_loss: 0.3405\n",
      "Epoch 63/100\n",
      "11610/11610 [==============================] - 1s 58us/sample - loss: 0.3144 - val_loss: 0.3364\n",
      "Epoch 64/100\n",
      "11610/11610 [==============================] - 1s 58us/sample - loss: 0.3225 - val_loss: 0.3345\n",
      "Epoch 65/100\n",
      "11610/11610 [==============================] - 1s 57us/sample - loss: 0.3058 - val_loss: 0.3349\n",
      "Epoch 66/100\n",
      "11610/11610 [==============================] - 1s 58us/sample - loss: 0.3046 - val_loss: 0.3385\n",
      "Epoch 67/100\n",
      "11610/11610 [==============================] - 1s 59us/sample - loss: 0.3034 - val_loss: 0.3301\n",
      "Epoch 68/100\n",
      "11610/11610 [==============================] - 1s 57us/sample - loss: 0.3028 - val_loss: 0.3314\n",
      "Epoch 69/100\n",
      "11610/11610 [==============================] - 1s 57us/sample - loss: 0.3027 - val_loss: 0.3359\n",
      "Epoch 70/100\n",
      "11610/11610 [==============================] - 1s 58us/sample - loss: 0.3035 - val_loss: 0.3288\n",
      "Epoch 71/100\n",
      "11610/11610 [==============================] - 1s 57us/sample - loss: 0.3035 - val_loss: 0.3368\n",
      "Epoch 72/100\n",
      "11610/11610 [==============================] - 1s 58us/sample - loss: 0.3011 - val_loss: 0.3290\n",
      "Epoch 73/100\n",
      "11610/11610 [==============================] - 1s 56us/sample - loss: 0.3006 - val_loss: 0.3291\n",
      "Epoch 74/100\n",
      "11610/11610 [==============================] - 1s 58us/sample - loss: 0.3071 - val_loss: 0.3343\n",
      "Epoch 75/100\n",
      "11610/11610 [==============================] - 1s 58us/sample - loss: 0.3041 - val_loss: 0.3296\n"
     ]
    },
    {
     "name": "stdout",
     "output_type": "stream",
     "text": [
      "Epoch 76/100\n",
      "11610/11610 [==============================] - 1s 59us/sample - loss: 0.3000 - val_loss: 0.3273\n",
      "Epoch 77/100\n",
      "11610/11610 [==============================] - 1s 59us/sample - loss: 0.3002 - val_loss: 0.3299\n",
      "Epoch 78/100\n",
      "11610/11610 [==============================] - 1s 58us/sample - loss: 0.3000 - val_loss: 0.3295\n",
      "Epoch 79/100\n",
      "11610/11610 [==============================] - 1s 59us/sample - loss: 0.3012 - val_loss: 0.3369\n",
      "Epoch 80/100\n",
      "11610/11610 [==============================] - 1s 58us/sample - loss: 0.3022 - val_loss: 0.3328\n",
      "Epoch 81/100\n",
      "11610/11610 [==============================] - 1s 59us/sample - loss: 0.3000 - val_loss: 0.3332\n",
      "Epoch 82/100\n",
      "11610/11610 [==============================] - 1s 57us/sample - loss: 0.3127 - val_loss: 0.3316\n",
      "Epoch 83/100\n",
      "11610/11610 [==============================] - 1s 58us/sample - loss: 0.3012 - val_loss: 0.3308\n",
      "Epoch 84/100\n",
      "11610/11610 [==============================] - 1s 60us/sample - loss: 0.2997 - val_loss: 0.3272\n",
      "Epoch 85/100\n",
      "11610/11610 [==============================] - 1s 58us/sample - loss: 0.3199 - val_loss: 0.3325\n",
      "Epoch 86/100\n",
      "11610/11610 [==============================] - 1s 59us/sample - loss: 0.3052 - val_loss: 0.3334\n",
      "Epoch 87/100\n",
      "11610/11610 [==============================] - 1s 59us/sample - loss: 0.3023 - val_loss: 0.3360\n",
      "Epoch 88/100\n",
      "11610/11610 [==============================] - 1s 59us/sample - loss: 0.3090 - val_loss: 0.3539\n",
      "Epoch 89/100\n",
      "11610/11610 [==============================] - 1s 58us/sample - loss: 0.3105 - val_loss: 0.3393\n",
      "Epoch 90/100\n",
      "11610/11610 [==============================] - 1s 59us/sample - loss: 0.3046 - val_loss: 0.3342\n",
      "Epoch 91/100\n",
      "11610/11610 [==============================] - 1s 59us/sample - loss: 0.3728 - val_loss: 0.3414\n",
      "Epoch 92/100\n",
      "11610/11610 [==============================] - 1s 56us/sample - loss: 0.3146 - val_loss: 0.3373\n",
      "Epoch 93/100\n",
      "11610/11610 [==============================] - 1s 59us/sample - loss: 0.3234 - val_loss: 0.3334\n",
      "Epoch 94/100\n",
      "11610/11610 [==============================] - 1s 59us/sample - loss: 0.3056 - val_loss: 0.3353\n",
      "Epoch 95/100\n",
      "11610/11610 [==============================] - 1s 58us/sample - loss: 0.3047 - val_loss: 0.3290\n",
      "Epoch 96/100\n",
      "11610/11610 [==============================] - 1s 59us/sample - loss: 0.3024 - val_loss: 0.3360\n",
      "Epoch 97/100\n",
      "11610/11610 [==============================] - 1s 57us/sample - loss: 0.3112 - val_loss: 0.3311\n",
      "Epoch 98/100\n",
      "11610/11610 [==============================] - 1s 57us/sample - loss: 0.3129 - val_loss: 0.3367\n",
      "Epoch 99/100\n",
      "11610/11610 [==============================] - 1s 57us/sample - loss: 0.3047 - val_loss: 0.3291\n",
      "Epoch 100/100\n",
      "11610/11610 [==============================] - 1s 56us/sample - loss: 0.2998 - val_loss: 0.3290\n"
     ]
    }
   ],
   "source": [
    "checkpoint_cb = keras.callbacks.ModelCheckpoint('my_keras_model.h5', save_best_only=True)\n",
    "history = model.fit(X_train, y_train, epochs=100, \n",
    "                    validation_data=(X_valid, y_valid),\n",
    "                    callbacks=[checkpoint_cb])"
   ]
  },
  {
   "cell_type": "code",
   "execution_count": 100,
   "metadata": {},
   "outputs": [],
   "source": [
    "model = keras.models.load_model('my_keras_model.h5')"
   ]
  },
  {
   "cell_type": "code",
   "execution_count": 101,
   "metadata": {},
   "outputs": [
    {
     "name": "stdout",
     "output_type": "stream",
     "text": [
      "5160/5160 [==============================] - 0s 38us/sample - loss: 0.3216\n"
     ]
    },
    {
     "data": {
      "text/plain": [
       "0.3215945162976435"
      ]
     },
     "execution_count": 101,
     "metadata": {},
     "output_type": "execute_result"
    }
   ],
   "source": [
    "model.evaluate(X_test, y_test)"
   ]
  },
  {
   "cell_type": "markdown",
   "metadata": {},
   "source": [
    "# early stopping callback"
   ]
  },
  {
   "cell_type": "code",
   "execution_count": 103,
   "metadata": {},
   "outputs": [
    {
     "name": "stdout",
     "output_type": "stream",
     "text": [
      "Train on 11610 samples, validate on 3870 samples\n",
      "Epoch 1/500\n",
      "11610/11610 [==============================] - 1s 70us/sample - loss: 0.2995 - val_loss: 0.3311\n",
      "Epoch 2/500\n",
      "11610/11610 [==============================] - 1s 61us/sample - loss: 0.3016 - val_loss: 0.3279\n",
      "Epoch 3/500\n",
      "11610/11610 [==============================] - 1s 60us/sample - loss: 0.2994 - val_loss: 0.3264\n",
      "Epoch 4/500\n",
      "11610/11610 [==============================] - 1s 60us/sample - loss: 0.2996 - val_loss: 0.3266\n",
      "Epoch 5/500\n",
      "11610/11610 [==============================] - 1s 61us/sample - loss: 0.2976 - val_loss: 0.3364\n",
      "Epoch 6/500\n",
      "11610/11610 [==============================] - 1s 61us/sample - loss: 0.2986 - val_loss: 0.3274\n",
      "Epoch 7/500\n",
      "11610/11610 [==============================] - 1s 59us/sample - loss: 0.2970 - val_loss: 0.3330\n",
      "Epoch 8/500\n",
      "11610/11610 [==============================] - 1s 59us/sample - loss: 0.2969 - val_loss: 0.3384\n",
      "Epoch 9/500\n",
      "11610/11610 [==============================] - 1s 61us/sample - loss: 0.3026 - val_loss: 0.3313\n",
      "Epoch 10/500\n",
      "11610/11610 [==============================] - 1s 59us/sample - loss: 0.3028 - val_loss: 0.3277\n",
      "Epoch 11/500\n",
      "11610/11610 [==============================] - 1s 59us/sample - loss: 0.3000 - val_loss: 0.3262\n",
      "Epoch 12/500\n",
      "11610/11610 [==============================] - 1s 59us/sample - loss: 0.2975 - val_loss: 0.3360\n",
      "Epoch 13/500\n",
      "11610/11610 [==============================] - 1s 61us/sample - loss: 0.2982 - val_loss: 0.3262\n",
      "Epoch 14/500\n",
      "11610/11610 [==============================] - 1s 60us/sample - loss: 0.2972 - val_loss: 0.3259\n",
      "Epoch 15/500\n",
      "11610/11610 [==============================] - 1s 60us/sample - loss: 0.2981 - val_loss: 0.3382\n",
      "Epoch 16/500\n",
      "11610/11610 [==============================] - 1s 60us/sample - loss: 0.2977 - val_loss: 0.3301\n",
      "Epoch 17/500\n",
      "11610/11610 [==============================] - 1s 61us/sample - loss: 0.3046 - val_loss: 0.3271\n",
      "Epoch 18/500\n",
      "11610/11610 [==============================] - 1s 61us/sample - loss: 0.2954 - val_loss: 0.3332\n",
      "Epoch 19/500\n",
      "11610/11610 [==============================] - 1s 59us/sample - loss: 0.2966 - val_loss: 0.3265\n",
      "Epoch 20/500\n",
      "11610/11610 [==============================] - 1s 61us/sample - loss: 0.3001 - val_loss: 0.3289\n",
      "Epoch 21/500\n",
      "11610/11610 [==============================] - 1s 60us/sample - loss: 0.3003 - val_loss: 0.3266\n",
      "Epoch 22/500\n",
      "11610/11610 [==============================] - 1s 59us/sample - loss: 0.3071 - val_loss: 0.3312\n",
      "Epoch 23/500\n",
      "11610/11610 [==============================] - 1s 61us/sample - loss: 0.2997 - val_loss: 0.3300\n",
      "Epoch 24/500\n",
      "11610/11610 [==============================] - 1s 58us/sample - loss: 0.3017 - val_loss: 0.3389\n",
      "Epoch 25/500\n",
      "11610/11610 [==============================] - 1s 58us/sample - loss: 0.3108 - val_loss: 0.3363\n",
      "Epoch 26/500\n",
      "11610/11610 [==============================] - 1s 58us/sample - loss: 0.3036 - val_loss: 0.3252\n",
      "Epoch 27/500\n",
      "11610/11610 [==============================] - 1s 59us/sample - loss: 0.3004 - val_loss: 0.3284\n",
      "Epoch 28/500\n",
      "11610/11610 [==============================] - 1s 59us/sample - loss: 0.3017 - val_loss: 0.3268\n",
      "Epoch 29/500\n",
      "11610/11610 [==============================] - 1s 58us/sample - loss: 0.2957 - val_loss: 0.3272\n",
      "Epoch 30/500\n",
      "11610/11610 [==============================] - 1s 59us/sample - loss: 0.2990 - val_loss: 0.3285\n",
      "Epoch 31/500\n",
      "11610/11610 [==============================] - 1s 60us/sample - loss: 0.3006 - val_loss: 0.3354\n",
      "Epoch 32/500\n",
      "11610/11610 [==============================] - 1s 60us/sample - loss: 0.2962 - val_loss: 0.3270\n",
      "Epoch 33/500\n",
      "11610/11610 [==============================] - 1s 57us/sample - loss: 0.2979 - val_loss: 0.3399\n",
      "Epoch 34/500\n",
      "11610/11610 [==============================] - 1s 58us/sample - loss: 0.2999 - val_loss: 0.3304\n",
      "Epoch 35/500\n",
      "11610/11610 [==============================] - 1s 59us/sample - loss: 0.2971 - val_loss: 0.3309\n",
      "Epoch 36/500\n",
      "11610/11610 [==============================] - 1s 60us/sample - loss: 0.2937 - val_loss: 0.3293\n",
      "Epoch 37/500\n",
      "11610/11610 [==============================] - 1s 60us/sample - loss: 0.2950 - val_loss: 0.3304\n",
      "Epoch 38/500\n",
      "11610/11610 [==============================] - 1s 59us/sample - loss: 0.3168 - val_loss: 0.3331\n",
      "Epoch 39/500\n",
      "11610/11610 [==============================] - 1s 60us/sample - loss: 0.2983 - val_loss: 0.3277\n",
      "Epoch 40/500\n",
      "11610/11610 [==============================] - 1s 60us/sample - loss: 0.3109 - val_loss: 0.3342\n",
      "Epoch 41/500\n",
      "11610/11610 [==============================] - 1s 60us/sample - loss: 0.3796 - val_loss: 0.3454\n"
     ]
    }
   ],
   "source": [
    "early_stopping_cb = keras.callbacks.EarlyStopping(patience=15, restore_best_weights=True)\n",
    "\n",
    "history = model.fit(X_train, y_train, epochs=500, \n",
    "                    validation_data=(X_valid, y_valid),\n",
    "                    callbacks=[checkpoint_cb, early_stopping_cb])"
   ]
  },
  {
   "cell_type": "code",
   "execution_count": 104,
   "metadata": {},
   "outputs": [
    {
     "name": "stdout",
     "output_type": "stream",
     "text": [
      "5160/5160 [==============================] - 0s 29us/sample - loss: 0.3192\n"
     ]
    },
    {
     "data": {
      "text/plain": [
       "0.31915223963500916"
      ]
     },
     "execution_count": 104,
     "metadata": {},
     "output_type": "execute_result"
    }
   ],
   "source": [
    "model.evaluate(X_test, y_test)"
   ]
  },
  {
   "cell_type": "markdown",
   "metadata": {},
   "source": [
    "# custom callback"
   ]
  },
  {
   "cell_type": "code",
   "execution_count": 105,
   "metadata": {},
   "outputs": [],
   "source": [
    "class PrintValTrainRatioCallback(keras.callbacks.Callback):\n",
    "    def on_epoch_end(self, epoch, logs):\n",
    "        print(f'\\nval/train: {logs[\"val_loss\"] / lgos[\"loss\"]}')"
   ]
  },
  {
   "cell_type": "markdown",
   "metadata": {},
   "source": [
    "# using tensorboard"
   ]
  },
  {
   "cell_type": "code",
   "execution_count": 106,
   "metadata": {},
   "outputs": [],
   "source": [
    "import os\n",
    "root_logdir = os.path.join(os.curdir, 'my_logs')\n",
    "\n",
    "def get_run_logdir():\n",
    "    import time\n",
    "    run_id = time.strftime('run_%Y_%m_%d-%H_%M_%S')\n",
    "    return os.path.join(root_logdir, run_id)"
   ]
  },
  {
   "cell_type": "code",
   "execution_count": 107,
   "metadata": {},
   "outputs": [
    {
     "data": {
      "text/html": [
       "\n",
       "      <iframe id=\"tensorboard-frame-8f49d2373683cae1\" width=\"100%\" height=\"800\" frameborder=\"0\">\n",
       "      </iframe>\n",
       "      <script>\n",
       "        (function() {\n",
       "          const frame = document.getElementById(\"tensorboard-frame-8f49d2373683cae1\");\n",
       "          const url = new URL(\"/\", window.location);\n",
       "          url.port = 6006;\n",
       "          frame.src = url;\n",
       "        })();\n",
       "      </script>\n",
       "  "
      ],
      "text/plain": [
       "<IPython.core.display.HTML object>"
      ]
     },
     "metadata": {},
     "output_type": "display_data"
    }
   ],
   "source": [
    "%load_ext tensorboard\n",
    "%tensorboard --logdir=./my_logs --port=6006"
   ]
  },
  {
   "cell_type": "code",
   "execution_count": 111,
   "metadata": {},
   "outputs": [
    {
     "name": "stdout",
     "output_type": "stream",
     "text": [
      "Train on 11610 samples, validate on 3870 samples\n",
      "Epoch 1/100\n",
      "11610/11610 [==============================] - 1s 93us/sample - loss: 0.8051 - val_loss: 0.6472\n",
      "Epoch 2/100\n",
      "11610/11610 [==============================] - 1s 67us/sample - loss: 1.2351 - val_loss: 0.5188\n",
      "Epoch 3/100\n",
      "11610/11610 [==============================] - 1s 67us/sample - loss: 0.4877 - val_loss: 0.4637\n",
      "Epoch 4/100\n",
      "11610/11610 [==============================] - 1s 65us/sample - loss: 0.4594 - val_loss: 0.4480\n",
      "Epoch 5/100\n",
      "11610/11610 [==============================] - 1s 67us/sample - loss: 0.4429 - val_loss: 0.4361\n",
      "Epoch 6/100\n",
      "11610/11610 [==============================] - 1s 68us/sample - loss: 0.4309 - val_loss: 0.4249\n",
      "Epoch 7/100\n",
      "11610/11610 [==============================] - 1s 67us/sample - loss: 0.4216 - val_loss: 0.4173\n",
      "Epoch 8/100\n",
      "11610/11610 [==============================] - 1s 69us/sample - loss: 0.4125 - val_loss: 0.4118\n",
      "Epoch 9/100\n",
      "11610/11610 [==============================] - 1s 68us/sample - loss: 0.4052 - val_loss: 0.4071\n",
      "Epoch 10/100\n",
      "11610/11610 [==============================] - 1s 66us/sample - loss: 0.4008 - val_loss: 0.4012\n",
      "Epoch 11/100\n",
      "11610/11610 [==============================] - 1s 68us/sample - loss: 0.3960 - val_loss: 0.3984\n",
      "Epoch 12/100\n",
      "11610/11610 [==============================] - 1s 68us/sample - loss: 0.3920 - val_loss: 0.3924\n",
      "Epoch 13/100\n",
      "11610/11610 [==============================] - 1s 68us/sample - loss: 0.3879 - val_loss: 0.3967\n",
      "Epoch 14/100\n",
      "11610/11610 [==============================] - 1s 68us/sample - loss: 0.3855 - val_loss: 0.3896\n",
      "Epoch 15/100\n",
      "11610/11610 [==============================] - 1s 67us/sample - loss: 0.3826 - val_loss: 0.3863\n",
      "Epoch 16/100\n",
      "11610/11610 [==============================] - 1s 67us/sample - loss: 0.3802 - val_loss: 0.3814\n",
      "Epoch 17/100\n",
      "11610/11610 [==============================] - 1s 69us/sample - loss: 0.3774 - val_loss: 0.3838\n",
      "Epoch 18/100\n",
      "11610/11610 [==============================] - 1s 67us/sample - loss: 0.3753 - val_loss: 0.3816\n",
      "Epoch 19/100\n",
      "11610/11610 [==============================] - 1s 67us/sample - loss: 0.3734 - val_loss: 0.3800\n",
      "Epoch 20/100\n",
      "11610/11610 [==============================] - 1s 68us/sample - loss: 0.3708 - val_loss: 0.3758\n",
      "Epoch 21/100\n",
      "11610/11610 [==============================] - 1s 68us/sample - loss: 0.3699 - val_loss: 0.3730\n",
      "Epoch 22/100\n",
      "11610/11610 [==============================] - 1s 66us/sample - loss: 0.3704 - val_loss: 0.3757\n",
      "Epoch 23/100\n",
      "11610/11610 [==============================] - 1s 66us/sample - loss: 0.3676 - val_loss: 0.3784\n",
      "Epoch 24/100\n",
      "11610/11610 [==============================] - 1s 67us/sample - loss: 0.3672 - val_loss: 0.3708\n",
      "Epoch 25/100\n",
      "11610/11610 [==============================] - 1s 68us/sample - loss: 0.3627 - val_loss: 0.3705\n",
      "Epoch 26/100\n",
      "11610/11610 [==============================] - 1s 69us/sample - loss: 0.3616 - val_loss: 0.3695\n",
      "Epoch 27/100\n",
      "11610/11610 [==============================] - 1s 67us/sample - loss: 0.3584 - val_loss: 0.3712\n",
      "Epoch 28/100\n",
      "11610/11610 [==============================] - 1s 68us/sample - loss: 0.3570 - val_loss: 0.3632\n",
      "Epoch 29/100\n",
      "11610/11610 [==============================] - 1s 69us/sample - loss: 0.3579 - val_loss: 0.3701\n",
      "Epoch 30/100\n",
      "11610/11610 [==============================] - 1s 68us/sample - loss: 0.3553 - val_loss: 0.3589\n",
      "Epoch 31/100\n",
      "11610/11610 [==============================] - 1s 71us/sample - loss: 0.3545 - val_loss: 0.3596\n",
      "Epoch 32/100\n",
      "11610/11610 [==============================] - 1s 68us/sample - loss: 0.3509 - val_loss: 0.3643\n",
      "Epoch 33/100\n",
      "11610/11610 [==============================] - 1s 68us/sample - loss: 0.3495 - val_loss: 0.3568\n",
      "Epoch 34/100\n",
      "11610/11610 [==============================] - 1s 66us/sample - loss: 0.3491 - val_loss: 0.3565\n",
      "Epoch 35/100\n",
      "11610/11610 [==============================] - 1s 67us/sample - loss: 0.3504 - val_loss: 0.3622\n",
      "Epoch 36/100\n",
      "11610/11610 [==============================] - 1s 67us/sample - loss: 0.3487 - val_loss: 0.3546\n",
      "Epoch 37/100\n",
      "11610/11610 [==============================] - 1s 68us/sample - loss: 0.3450 - val_loss: 0.3588\n",
      "Epoch 38/100\n",
      "11610/11610 [==============================] - 1s 68us/sample - loss: 0.3453 - val_loss: 0.3517\n",
      "Epoch 39/100\n",
      "11610/11610 [==============================] - 1s 67us/sample - loss: 0.3441 - val_loss: 0.3573\n",
      "Epoch 40/100\n",
      "11610/11610 [==============================] - 1s 68us/sample - loss: 0.3422 - val_loss: 0.3509\n",
      "Epoch 41/100\n",
      "11610/11610 [==============================] - 1s 68us/sample - loss: 0.3410 - val_loss: 0.3555\n",
      "Epoch 42/100\n",
      "11610/11610 [==============================] - 1s 68us/sample - loss: 0.3391 - val_loss: 0.3489\n",
      "Epoch 43/100\n",
      "11610/11610 [==============================] - 1s 69us/sample - loss: 0.3394 - val_loss: 0.3496\n",
      "Epoch 44/100\n",
      "11610/11610 [==============================] - 1s 66us/sample - loss: 0.3399 - val_loss: 0.3548\n",
      "Epoch 45/100\n",
      "11610/11610 [==============================] - 1s 67us/sample - loss: 0.3380 - val_loss: 0.3557\n",
      "Epoch 46/100\n",
      "11610/11610 [==============================] - 1s 69us/sample - loss: 0.3368 - val_loss: 0.3523\n",
      "Epoch 47/100\n",
      "11610/11610 [==============================] - 1s 67us/sample - loss: 0.3367 - val_loss: 0.3470\n",
      "Epoch 48/100\n",
      "11610/11610 [==============================] - 1s 67us/sample - loss: 0.3360 - val_loss: 0.3510\n",
      "Epoch 49/100\n",
      "11610/11610 [==============================] - 1s 67us/sample - loss: 0.3350 - val_loss: 0.3508\n",
      "Epoch 50/100\n",
      "11610/11610 [==============================] - 1s 66us/sample - loss: 0.3327 - val_loss: 0.3529\n",
      "Epoch 51/100\n",
      "11610/11610 [==============================] - 1s 66us/sample - loss: 0.3317 - val_loss: 0.3472\n",
      "Epoch 52/100\n",
      "11610/11610 [==============================] - 1s 68us/sample - loss: 0.3305 - val_loss: 0.3474\n",
      "Epoch 53/100\n",
      "11610/11610 [==============================] - 1s 68us/sample - loss: 0.3309 - val_loss: 0.3464\n",
      "Epoch 54/100\n",
      "11610/11610 [==============================] - 1s 67us/sample - loss: 0.3375 - val_loss: 0.3571\n",
      "Epoch 55/100\n",
      "11610/11610 [==============================] - 1s 67us/sample - loss: 0.3363 - val_loss: 0.3491\n",
      "Epoch 56/100\n",
      "11610/11610 [==============================] - 1s 67us/sample - loss: 0.3423 - val_loss: 0.3493\n",
      "Epoch 57/100\n",
      "11610/11610 [==============================] - 1s 66us/sample - loss: 0.3307 - val_loss: 0.3479\n",
      "Epoch 58/100\n",
      "11610/11610 [==============================] - 1s 66us/sample - loss: 0.3297 - val_loss: 0.3445\n",
      "Epoch 59/100\n",
      "11610/11610 [==============================] - 1s 68us/sample - loss: 0.3271 - val_loss: 0.3443\n",
      "Epoch 60/100\n",
      "11610/11610 [==============================] - 1s 69us/sample - loss: 0.3329 - val_loss: 0.3414\n",
      "Epoch 61/100\n",
      "11610/11610 [==============================] - 1s 67us/sample - loss: 0.3258 - val_loss: 0.3455\n",
      "Epoch 62/100\n",
      "11610/11610 [==============================] - 1s 69us/sample - loss: 0.3275 - val_loss: 0.3407\n",
      "Epoch 63/100\n",
      "11610/11610 [==============================] - 1s 69us/sample - loss: 0.3253 - val_loss: 0.3463\n",
      "Epoch 64/100\n",
      "11610/11610 [==============================] - 1s 69us/sample - loss: 0.3228 - val_loss: 0.3451\n",
      "Epoch 65/100\n",
      "11610/11610 [==============================] - 1s 66us/sample - loss: 0.3223 - val_loss: 0.3376\n",
      "Epoch 66/100\n",
      "11610/11610 [==============================] - 1s 66us/sample - loss: 0.3210 - val_loss: 0.3411\n",
      "Epoch 67/100\n",
      "11610/11610 [==============================] - 1s 67us/sample - loss: 0.3331 - val_loss: 0.3481\n",
      "Epoch 68/100\n",
      "11610/11610 [==============================] - 1s 68us/sample - loss: 0.3298 - val_loss: 0.3438\n",
      "Epoch 69/100\n",
      "11610/11610 [==============================] - 1s 66us/sample - loss: 0.3266 - val_loss: 0.3391\n",
      "Epoch 70/100\n",
      "11610/11610 [==============================] - 1s 69us/sample - loss: 0.3218 - val_loss: 0.3375\n",
      "Epoch 71/100\n",
      "11610/11610 [==============================] - 1s 67us/sample - loss: 0.3190 - val_loss: 0.3365\n",
      "Epoch 72/100\n",
      "11610/11610 [==============================] - 1s 68us/sample - loss: 0.3186 - val_loss: 0.3352\n",
      "Epoch 73/100\n",
      "11610/11610 [==============================] - 1s 67us/sample - loss: 0.3183 - val_loss: 0.3389\n",
      "Epoch 74/100\n",
      "11610/11610 [==============================] - 1s 67us/sample - loss: 0.3167 - val_loss: 0.3367\n",
      "Epoch 75/100\n",
      "11610/11610 [==============================] - 1s 67us/sample - loss: 0.3175 - val_loss: 0.3421\n"
     ]
    },
    {
     "name": "stdout",
     "output_type": "stream",
     "text": [
      "Epoch 76/100\n",
      "11610/11610 [==============================] - 1s 68us/sample - loss: 0.3168 - val_loss: 0.3349\n",
      "Epoch 77/100\n",
      "11610/11610 [==============================] - 1s 67us/sample - loss: 0.3162 - val_loss: 0.3315\n",
      "Epoch 78/100\n",
      "11610/11610 [==============================] - 1s 67us/sample - loss: 0.3148 - val_loss: 0.3346\n",
      "Epoch 79/100\n",
      "11610/11610 [==============================] - 1s 69us/sample - loss: 0.3140 - val_loss: 0.3305\n",
      "Epoch 80/100\n",
      "11610/11610 [==============================] - 1s 68us/sample - loss: 0.3145 - val_loss: 0.3388\n",
      "Epoch 81/100\n",
      "11610/11610 [==============================] - 1s 67us/sample - loss: 0.3128 - val_loss: 0.3338\n",
      "Epoch 82/100\n",
      "11610/11610 [==============================] - 1s 69us/sample - loss: 0.3121 - val_loss: 0.3421\n",
      "Epoch 83/100\n",
      "11610/11610 [==============================] - 1s 66us/sample - loss: 0.3118 - val_loss: 0.3269\n",
      "Epoch 84/100\n",
      "11610/11610 [==============================] - 1s 69us/sample - loss: 0.3113 - val_loss: 0.3407\n",
      "Epoch 85/100\n",
      "11610/11610 [==============================] - 1s 68us/sample - loss: 0.3105 - val_loss: 0.3331\n",
      "Epoch 86/100\n",
      "11610/11610 [==============================] - 1s 67us/sample - loss: 0.3126 - val_loss: 0.3265\n",
      "Epoch 87/100\n",
      "11610/11610 [==============================] - 1s 67us/sample - loss: 0.3100 - val_loss: 0.3297\n",
      "Epoch 88/100\n",
      "11610/11610 [==============================] - 1s 67us/sample - loss: 0.3102 - val_loss: 0.3345\n",
      "Epoch 89/100\n",
      "11610/11610 [==============================] - 1s 68us/sample - loss: 0.3080 - val_loss: 0.3371\n",
      "Epoch 90/100\n",
      "11610/11610 [==============================] - 1s 67us/sample - loss: 0.3130 - val_loss: 0.3373\n",
      "Epoch 91/100\n",
      "11610/11610 [==============================] - 1s 70us/sample - loss: 0.3291 - val_loss: 0.3489\n",
      "Epoch 92/100\n",
      "11610/11610 [==============================] - 1s 69us/sample - loss: 0.3178 - val_loss: 0.3300\n",
      "Epoch 93/100\n",
      "11610/11610 [==============================] - 1s 66us/sample - loss: 0.3115 - val_loss: 0.3301\n",
      "Epoch 94/100\n",
      "11610/11610 [==============================] - 1s 68us/sample - loss: 0.3085 - val_loss: 0.3291\n",
      "Epoch 95/100\n",
      "11610/11610 [==============================] - 1s 66us/sample - loss: 0.3072 - val_loss: 0.3311\n",
      "Epoch 96/100\n",
      "11610/11610 [==============================] - 1s 68us/sample - loss: 0.3074 - val_loss: 0.3267\n",
      "Epoch 97/100\n",
      "11610/11610 [==============================] - 1s 69us/sample - loss: 0.3058 - val_loss: 0.3269\n",
      "Epoch 98/100\n",
      "11610/11610 [==============================] - 1s 70us/sample - loss: 0.3058 - val_loss: 0.3253\n",
      "Epoch 99/100\n",
      "11610/11610 [==============================] - 1s 67us/sample - loss: 0.3048 - val_loss: 0.3414\n",
      "Epoch 100/100\n",
      "11610/11610 [==============================] - 1s 66us/sample - loss: 0.3046 - val_loss: 0.3266\n"
     ]
    }
   ],
   "source": [
    "run_logdir = get_run_logdir()\n",
    "\n",
    "tensorboard_cb = keras.callbacks.TensorBoard(run_logdir)\n",
    "\n",
    "model = keras.Sequential()\n",
    "model.add(layers.Dense(30, activation='relu', input_shape=X_train.shape[1:]))\n",
    "model.add(layers.Dense(1))\n",
    "model.compile(loss='mean_squared_error', optimizer='sgd')\n",
    "\n",
    "history = model.fit(X_train, y_train, epochs=100, \n",
    "                    validation_data=(X_valid, y_valid),\n",
    "                    callbacks=[tensorboard_cb])"
   ]
  },
  {
   "cell_type": "code",
   "execution_count": null,
   "metadata": {},
   "outputs": [],
   "source": []
  }
 ],
 "metadata": {
  "kernelspec": {
   "display_name": "Python 3",
   "language": "python",
   "name": "python3"
  },
  "language_info": {
   "codemirror_mode": {
    "name": "ipython",
    "version": 3
   },
   "file_extension": ".py",
   "mimetype": "text/x-python",
   "name": "python",
   "nbconvert_exporter": "python",
   "pygments_lexer": "ipython3",
   "version": "3.7.6"
  }
 },
 "nbformat": 4,
 "nbformat_minor": 2
}
