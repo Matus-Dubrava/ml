{
 "cells": [
  {
   "cell_type": "code",
   "execution_count": 35,
   "metadata": {},
   "outputs": [],
   "source": [
    "import tensorflow as tf\n",
    "import numpy as np\n",
    "from tensorflow import keras"
   ]
  },
  {
   "cell_type": "markdown",
   "metadata": {},
   "source": [
    "# basic tensorflow operation"
   ]
  },
  {
   "cell_type": "code",
   "execution_count": 5,
   "metadata": {},
   "outputs": [
    {
     "data": {
      "text/plain": [
       "<tf.Tensor: shape=(2, 3), dtype=float32, numpy=\n",
       "array([[1., 2., 3.],\n",
       "       [4., 5., 6.]], dtype=float32)>"
      ]
     },
     "execution_count": 5,
     "metadata": {},
     "output_type": "execute_result"
    }
   ],
   "source": [
    "t = tf.constant([[1., 2., 3.], [4., 5., 6.]])\n",
    "t"
   ]
  },
  {
   "cell_type": "code",
   "execution_count": 3,
   "metadata": {},
   "outputs": [
    {
     "data": {
      "text/plain": [
       "<tf.Tensor: shape=(), dtype=int32, numpy=42>"
      ]
     },
     "execution_count": 3,
     "metadata": {},
     "output_type": "execute_result"
    }
   ],
   "source": [
    "tf.constant(42)"
   ]
  },
  {
   "cell_type": "code",
   "execution_count": 6,
   "metadata": {},
   "outputs": [
    {
     "data": {
      "text/plain": [
       "TensorShape([2, 3])"
      ]
     },
     "execution_count": 6,
     "metadata": {},
     "output_type": "execute_result"
    }
   ],
   "source": [
    "t.shape"
   ]
  },
  {
   "cell_type": "code",
   "execution_count": 8,
   "metadata": {},
   "outputs": [
    {
     "data": {
      "text/plain": [
       "(tf.float32, dtype('float64'))"
      ]
     },
     "execution_count": 8,
     "metadata": {},
     "output_type": "execute_result"
    }
   ],
   "source": [
    "# tensorflow uses 32 bit float representation (numpy uses 64 bit implementation)\n",
    "t.dtype, np.array([1., 2.]).dtype"
   ]
  },
  {
   "cell_type": "code",
   "execution_count": 11,
   "metadata": {},
   "outputs": [
    {
     "data": {
      "text/plain": [
       "<tf.Tensor: shape=(1, 2), dtype=float32, numpy=array([[5., 6.]], dtype=float32)>"
      ]
     },
     "execution_count": 11,
     "metadata": {},
     "output_type": "execute_result"
    }
   ],
   "source": [
    "# indexing works much like in numpy\n",
    "t[1:, 1:]"
   ]
  },
  {
   "cell_type": "code",
   "execution_count": 14,
   "metadata": {},
   "outputs": [
    {
     "data": {
      "text/plain": [
       "<tf.Tensor: shape=(2, 3), dtype=float32, numpy=\n",
       "array([[11., 12., 13.],\n",
       "       [14., 15., 16.]], dtype=float32)>"
      ]
     },
     "execution_count": 14,
     "metadata": {},
     "output_type": "execute_result"
    }
   ],
   "source": [
    "t + 10"
   ]
  },
  {
   "cell_type": "code",
   "execution_count": 15,
   "metadata": {},
   "outputs": [
    {
     "data": {
      "text/plain": [
       "<tf.Tensor: shape=(2, 3), dtype=float32, numpy=\n",
       "array([[ 1.,  4.,  9.],\n",
       "       [16., 25., 36.]], dtype=float32)>"
      ]
     },
     "execution_count": 15,
     "metadata": {},
     "output_type": "execute_result"
    }
   ],
   "source": [
    "tf.square(t)"
   ]
  },
  {
   "cell_type": "code",
   "execution_count": 16,
   "metadata": {},
   "outputs": [
    {
     "data": {
      "text/plain": [
       "<tf.Tensor: shape=(2, 2), dtype=float32, numpy=\n",
       "array([[14., 32.],\n",
       "       [32., 77.]], dtype=float32)>"
      ]
     },
     "execution_count": 16,
     "metadata": {},
     "output_type": "execute_result"
    }
   ],
   "source": [
    "# @ is matmul\n",
    "t @ tf.transpose(t)"
   ]
  },
  {
   "cell_type": "code",
   "execution_count": 17,
   "metadata": {
    "scrolled": true
   },
   "outputs": [
    {
     "ename": "InvalidArgumentError",
     "evalue": "cannot compute AddV2 as input #1(zero-based) was expected to be a int32 tensor but is a float tensor [Op:AddV2] name: add/",
     "output_type": "error",
     "traceback": [
      "\u001b[0;31m---------------------------------------------------------------------------\u001b[0m",
      "\u001b[0;31mInvalidArgumentError\u001b[0m                      Traceback (most recent call last)",
      "\u001b[0;32m<ipython-input-17-b7dd23521f32>\u001b[0m in \u001b[0;36m<module>\u001b[0;34m\u001b[0m\n\u001b[1;32m      1\u001b[0m \u001b[0;31m# tensorflow doesn't perfrom any automatic type conversion\u001b[0m\u001b[0;34m\u001b[0m\u001b[0;34m\u001b[0m\u001b[0;34m\u001b[0m\u001b[0m\n\u001b[0;32m----> 2\u001b[0;31m \u001b[0mtf\u001b[0m\u001b[0;34m.\u001b[0m\u001b[0mconstant\u001b[0m\u001b[0;34m(\u001b[0m\u001b[0;36m42\u001b[0m\u001b[0;34m)\u001b[0m \u001b[0;34m+\u001b[0m \u001b[0mtf\u001b[0m\u001b[0;34m.\u001b[0m\u001b[0mconstant\u001b[0m\u001b[0;34m(\u001b[0m\u001b[0;36m1.\u001b[0m\u001b[0;34m)\u001b[0m\u001b[0;34m\u001b[0m\u001b[0;34m\u001b[0m\u001b[0m\n\u001b[0m",
      "\u001b[0;32m/usr/local/lib/python3.7/site-packages/tensorflow_core/python/ops/math_ops.py\u001b[0m in \u001b[0;36mbinary_op_wrapper\u001b[0;34m(x, y)\u001b[0m\n\u001b[1;32m    900\u001b[0m     \u001b[0;32mwith\u001b[0m \u001b[0mops\u001b[0m\u001b[0;34m.\u001b[0m\u001b[0mname_scope\u001b[0m\u001b[0;34m(\u001b[0m\u001b[0;32mNone\u001b[0m\u001b[0;34m,\u001b[0m \u001b[0mop_name\u001b[0m\u001b[0;34m,\u001b[0m \u001b[0;34m[\u001b[0m\u001b[0mx\u001b[0m\u001b[0;34m,\u001b[0m \u001b[0my\u001b[0m\u001b[0;34m]\u001b[0m\u001b[0;34m)\u001b[0m \u001b[0;32mas\u001b[0m \u001b[0mname\u001b[0m\u001b[0;34m:\u001b[0m\u001b[0;34m\u001b[0m\u001b[0;34m\u001b[0m\u001b[0m\n\u001b[1;32m    901\u001b[0m       \u001b[0;32mif\u001b[0m \u001b[0misinstance\u001b[0m\u001b[0;34m(\u001b[0m\u001b[0mx\u001b[0m\u001b[0;34m,\u001b[0m \u001b[0mops\u001b[0m\u001b[0;34m.\u001b[0m\u001b[0mTensor\u001b[0m\u001b[0;34m)\u001b[0m \u001b[0;32mand\u001b[0m \u001b[0misinstance\u001b[0m\u001b[0;34m(\u001b[0m\u001b[0my\u001b[0m\u001b[0;34m,\u001b[0m \u001b[0mops\u001b[0m\u001b[0;34m.\u001b[0m\u001b[0mTensor\u001b[0m\u001b[0;34m)\u001b[0m\u001b[0;34m:\u001b[0m\u001b[0;34m\u001b[0m\u001b[0;34m\u001b[0m\u001b[0m\n\u001b[0;32m--> 902\u001b[0;31m         \u001b[0;32mreturn\u001b[0m \u001b[0mfunc\u001b[0m\u001b[0;34m(\u001b[0m\u001b[0mx\u001b[0m\u001b[0;34m,\u001b[0m \u001b[0my\u001b[0m\u001b[0;34m,\u001b[0m \u001b[0mname\u001b[0m\u001b[0;34m=\u001b[0m\u001b[0mname\u001b[0m\u001b[0;34m)\u001b[0m\u001b[0;34m\u001b[0m\u001b[0;34m\u001b[0m\u001b[0m\n\u001b[0m\u001b[1;32m    903\u001b[0m       \u001b[0;32melif\u001b[0m \u001b[0;32mnot\u001b[0m \u001b[0misinstance\u001b[0m\u001b[0;34m(\u001b[0m\u001b[0my\u001b[0m\u001b[0;34m,\u001b[0m \u001b[0msparse_tensor\u001b[0m\u001b[0;34m.\u001b[0m\u001b[0mSparseTensor\u001b[0m\u001b[0;34m)\u001b[0m\u001b[0;34m:\u001b[0m\u001b[0;34m\u001b[0m\u001b[0;34m\u001b[0m\u001b[0m\n\u001b[1;32m    904\u001b[0m         \u001b[0;32mtry\u001b[0m\u001b[0;34m:\u001b[0m\u001b[0;34m\u001b[0m\u001b[0;34m\u001b[0m\u001b[0m\n",
      "\u001b[0;32m/usr/local/lib/python3.7/site-packages/tensorflow_core/python/ops/math_ops.py\u001b[0m in \u001b[0;36m_add_dispatch\u001b[0;34m(x, y, name)\u001b[0m\n\u001b[1;32m   1192\u001b[0m     \u001b[0;32mreturn\u001b[0m \u001b[0mgen_math_ops\u001b[0m\u001b[0;34m.\u001b[0m\u001b[0madd\u001b[0m\u001b[0;34m(\u001b[0m\u001b[0mx\u001b[0m\u001b[0;34m,\u001b[0m \u001b[0my\u001b[0m\u001b[0;34m,\u001b[0m \u001b[0mname\u001b[0m\u001b[0;34m=\u001b[0m\u001b[0mname\u001b[0m\u001b[0;34m)\u001b[0m\u001b[0;34m\u001b[0m\u001b[0;34m\u001b[0m\u001b[0m\n\u001b[1;32m   1193\u001b[0m   \u001b[0;32melse\u001b[0m\u001b[0;34m:\u001b[0m\u001b[0;34m\u001b[0m\u001b[0;34m\u001b[0m\u001b[0m\n\u001b[0;32m-> 1194\u001b[0;31m     \u001b[0;32mreturn\u001b[0m \u001b[0mgen_math_ops\u001b[0m\u001b[0;34m.\u001b[0m\u001b[0madd_v2\u001b[0m\u001b[0;34m(\u001b[0m\u001b[0mx\u001b[0m\u001b[0;34m,\u001b[0m \u001b[0my\u001b[0m\u001b[0;34m,\u001b[0m \u001b[0mname\u001b[0m\u001b[0;34m=\u001b[0m\u001b[0mname\u001b[0m\u001b[0;34m)\u001b[0m\u001b[0;34m\u001b[0m\u001b[0;34m\u001b[0m\u001b[0m\n\u001b[0m\u001b[1;32m   1195\u001b[0m \u001b[0;34m\u001b[0m\u001b[0m\n\u001b[1;32m   1196\u001b[0m \u001b[0;34m\u001b[0m\u001b[0m\n",
      "\u001b[0;32m/usr/local/lib/python3.7/site-packages/tensorflow_core/python/ops/gen_math_ops.py\u001b[0m in \u001b[0;36madd_v2\u001b[0;34m(x, y, name)\u001b[0m\n\u001b[1;32m    478\u001b[0m         \u001b[0;32mpass\u001b[0m  \u001b[0;31m# Add nodes to the TensorFlow graph.\u001b[0m\u001b[0;34m\u001b[0m\u001b[0;34m\u001b[0m\u001b[0m\n\u001b[1;32m    479\u001b[0m     \u001b[0;32mexcept\u001b[0m \u001b[0m_core\u001b[0m\u001b[0;34m.\u001b[0m\u001b[0m_NotOkStatusException\u001b[0m \u001b[0;32mas\u001b[0m \u001b[0me\u001b[0m\u001b[0;34m:\u001b[0m\u001b[0;34m\u001b[0m\u001b[0;34m\u001b[0m\u001b[0m\n\u001b[0;32m--> 480\u001b[0;31m       \u001b[0m_ops\u001b[0m\u001b[0;34m.\u001b[0m\u001b[0mraise_from_not_ok_status\u001b[0m\u001b[0;34m(\u001b[0m\u001b[0me\u001b[0m\u001b[0;34m,\u001b[0m \u001b[0mname\u001b[0m\u001b[0;34m)\u001b[0m\u001b[0;34m\u001b[0m\u001b[0;34m\u001b[0m\u001b[0m\n\u001b[0m\u001b[1;32m    481\u001b[0m   \u001b[0;31m# Add nodes to the TensorFlow graph.\u001b[0m\u001b[0;34m\u001b[0m\u001b[0;34m\u001b[0m\u001b[0;34m\u001b[0m\u001b[0m\n\u001b[1;32m    482\u001b[0m   _, _, _op, _outputs = _op_def_library._apply_op_helper(\n",
      "\u001b[0;32m/usr/local/lib/python3.7/site-packages/tensorflow_core/python/framework/ops.py\u001b[0m in \u001b[0;36mraise_from_not_ok_status\u001b[0;34m(e, name)\u001b[0m\n\u001b[1;32m   6604\u001b[0m   \u001b[0mmessage\u001b[0m \u001b[0;34m=\u001b[0m \u001b[0me\u001b[0m\u001b[0;34m.\u001b[0m\u001b[0mmessage\u001b[0m \u001b[0;34m+\u001b[0m \u001b[0;34m(\u001b[0m\u001b[0;34m\" name: \"\u001b[0m \u001b[0;34m+\u001b[0m \u001b[0mname\u001b[0m \u001b[0;32mif\u001b[0m \u001b[0mname\u001b[0m \u001b[0;32mis\u001b[0m \u001b[0;32mnot\u001b[0m \u001b[0;32mNone\u001b[0m \u001b[0;32melse\u001b[0m \u001b[0;34m\"\"\u001b[0m\u001b[0;34m)\u001b[0m\u001b[0;34m\u001b[0m\u001b[0;34m\u001b[0m\u001b[0m\n\u001b[1;32m   6605\u001b[0m   \u001b[0;31m# pylint: disable=protected-access\u001b[0m\u001b[0;34m\u001b[0m\u001b[0;34m\u001b[0m\u001b[0;34m\u001b[0m\u001b[0m\n\u001b[0;32m-> 6606\u001b[0;31m   \u001b[0msix\u001b[0m\u001b[0;34m.\u001b[0m\u001b[0mraise_from\u001b[0m\u001b[0;34m(\u001b[0m\u001b[0mcore\u001b[0m\u001b[0;34m.\u001b[0m\u001b[0m_status_to_exception\u001b[0m\u001b[0;34m(\u001b[0m\u001b[0me\u001b[0m\u001b[0;34m.\u001b[0m\u001b[0mcode\u001b[0m\u001b[0;34m,\u001b[0m \u001b[0mmessage\u001b[0m\u001b[0;34m)\u001b[0m\u001b[0;34m,\u001b[0m \u001b[0;32mNone\u001b[0m\u001b[0;34m)\u001b[0m\u001b[0;34m\u001b[0m\u001b[0;34m\u001b[0m\u001b[0m\n\u001b[0m\u001b[1;32m   6607\u001b[0m   \u001b[0;31m# pylint: enable=protected-access\u001b[0m\u001b[0;34m\u001b[0m\u001b[0;34m\u001b[0m\u001b[0;34m\u001b[0m\u001b[0m\n\u001b[1;32m   6608\u001b[0m \u001b[0;34m\u001b[0m\u001b[0m\n",
      "\u001b[0;32m/usr/local/lib/python3.7/site-packages/six.py\u001b[0m in \u001b[0;36mraise_from\u001b[0;34m(value, from_value)\u001b[0m\n",
      "\u001b[0;31mInvalidArgumentError\u001b[0m: cannot compute AddV2 as input #1(zero-based) was expected to be a int32 tensor but is a float tensor [Op:AddV2] name: add/"
     ]
    }
   ],
   "source": [
    "# tensorflow doesn't perfrom any automatic type conversion\n",
    "tf.constant(42) + tf.constant(1.)"
   ]
  },
  {
   "cell_type": "code",
   "execution_count": 20,
   "metadata": {},
   "outputs": [
    {
     "data": {
      "text/plain": [
       "<tf.Tensor: shape=(), dtype=float32, numpy=42.0>"
      ]
     },
     "execution_count": 20,
     "metadata": {},
     "output_type": "execute_result"
    }
   ],
   "source": [
    "# type casting\n",
    "t2 = tf.constant(40, dtype=tf.float64)\n",
    "tf.constant(2.) + tf.cast(t2, tf.float32)"
   ]
  },
  {
   "cell_type": "code",
   "execution_count": 29,
   "metadata": {},
   "outputs": [
    {
     "data": {
      "text/plain": [
       "<tf.Variable 'Variable:0' shape=(2, 3) dtype=float32, numpy=\n",
       "array([[1., 2., 3.],\n",
       "       [4., 5., 6.]], dtype=float32)>"
      ]
     },
     "execution_count": 29,
     "metadata": {},
     "output_type": "execute_result"
    }
   ],
   "source": [
    "# variables\n",
    "v = tf.Variable([[1., 2., 3.], [4., 5., 6.]])\n",
    "v"
   ]
  },
  {
   "cell_type": "code",
   "execution_count": 30,
   "metadata": {},
   "outputs": [
    {
     "data": {
      "text/plain": [
       "<tf.Variable 'Variable:0' shape=(2, 3) dtype=float32, numpy=\n",
       "array([[ 2.,  4.,  6.],\n",
       "       [ 8., 10., 12.]], dtype=float32)>"
      ]
     },
     "execution_count": 30,
     "metadata": {},
     "output_type": "execute_result"
    }
   ],
   "source": [
    "v.assign(v * 2) # inplace assignment\n",
    "v"
   ]
  },
  {
   "cell_type": "code",
   "execution_count": 31,
   "metadata": {},
   "outputs": [
    {
     "data": {
      "text/plain": [
       "<tf.Variable 'Variable:0' shape=(2, 3) dtype=float32, numpy=\n",
       "array([[ 2., 42.,  6.],\n",
       "       [ 8., 10., 12.]], dtype=float32)>"
      ]
     },
     "execution_count": 31,
     "metadata": {},
     "output_type": "execute_result"
    }
   ],
   "source": [
    "v[0, 1].assign(42)\n",
    "v"
   ]
  },
  {
   "cell_type": "code",
   "execution_count": 33,
   "metadata": {},
   "outputs": [
    {
     "data": {
      "text/plain": [
       "<tf.Variable 'UnreadVariable' shape=(2, 3) dtype=float32, numpy=\n",
       "array([[ 2., 42.,  0.],\n",
       "       [ 8., 10.,  1.]], dtype=float32)>"
      ]
     },
     "execution_count": 33,
     "metadata": {},
     "output_type": "execute_result"
    }
   ],
   "source": [
    "v[:, 2].assign([0, 1])"
   ]
  },
  {
   "cell_type": "code",
   "execution_count": 34,
   "metadata": {},
   "outputs": [
    {
     "data": {
      "text/plain": [
       "<tf.Variable 'UnreadVariable' shape=(2, 3) dtype=float32, numpy=\n",
       "array([[100.,  42.,   0.],\n",
       "       [  8.,  10., 200.]], dtype=float32)>"
      ]
     },
     "execution_count": 34,
     "metadata": {},
     "output_type": "execute_result"
    }
   ],
   "source": [
    "v.scatter_nd_update(indices=[[0, 0], [1, 2]], updates=[100, 200])"
   ]
  },
  {
   "cell_type": "markdown",
   "metadata": {},
   "source": [
    "# implementing custom Dense Layer"
   ]
  },
  {
   "cell_type": "code",
   "execution_count": 48,
   "metadata": {},
   "outputs": [],
   "source": [
    "class MyDense(keras.layers.Layer):\n",
    "    def __init__(self, units, activation=None, **kwargs):\n",
    "        super().__init__(**kwargs)\n",
    "        self.units = units\n",
    "        self.activation = keras.activations.get(activation)\n",
    "        \n",
    "    def build(self, batch_input_shape):\n",
    "        self.kernel = self.add_weight(\n",
    "            name=\"kernel\", shape=[batch_input_shape[-1], self.units],\n",
    "            initializer=\"glorot_normal\")\n",
    "        self.bias = self.add_weight(\n",
    "            name=\"bias\", shape=[self.units], initializer=\"zeros\")\n",
    "        super().build(batch_input_shape)\n",
    "        \n",
    "    def call(self, X):\n",
    "        return self.activation(X @ self.kernel + self.bias)\n",
    "    \n",
    "    def compute_output_shape(self, batch_input_shape):\n",
    "        return tf.TensorShape(batch_input_shape.as_list()[:-1] + [self.units])\n",
    "    \n",
    "    def get_config(self):\n",
    "        base_config = super().get_config()\n",
    "        return {**base_config, \"units\": self.units, \n",
    "                activation: keras.activations.serialize(self.activation)}"
   ]
  },
  {
   "cell_type": "code",
   "execution_count": 49,
   "metadata": {},
   "outputs": [],
   "source": [
    "from sklearn.datasets import make_moons\n",
    "from sklearn.model_selection import train_test_split\n",
    "\n",
    "X, y = make_moons(n_samples=10000, noise=0.2)\n",
    "X_train_full, X_test, y_train_full, y_test = train_test_split(X, y, test_size=0.2)\n",
    "X_train, X_valid, y_train, y_valid = train_test_split(X_train_full, y_train_full, test_size=0.15)"
   ]
  },
  {
   "cell_type": "code",
   "execution_count": 50,
   "metadata": {},
   "outputs": [],
   "source": [
    "model = keras.Sequential()\n",
    "model.add(MyDense(30, activation='elu'))\n",
    "model.add(MyDense(30, activation='elu'))\n",
    "model.add(MyDense(1, activation='sigmoid'))\n",
    "model.compile(loss='binary_crossentropy', metrics=['accuracy'])"
   ]
  },
  {
   "cell_type": "code",
   "execution_count": 51,
   "metadata": {},
   "outputs": [
    {
     "name": "stdout",
     "output_type": "stream",
     "text": [
      "Train on 6800 samples, validate on 1200 samples\n",
      "Epoch 1/10000\n",
      "6800/6800 [==============================] - 1s 183us/sample - loss: 0.3577 - accuracy: 0.8449 - val_loss: 0.3050 - val_accuracy: 0.8508\n",
      "Epoch 2/10000\n",
      "6800/6800 [==============================] - 0s 71us/sample - loss: 0.2973 - accuracy: 0.8669 - val_loss: 0.2950 - val_accuracy: 0.8600\n",
      "Epoch 3/10000\n",
      "6800/6800 [==============================] - 0s 71us/sample - loss: 0.2945 - accuracy: 0.8659 - val_loss: 0.2968 - val_accuracy: 0.8600\n",
      "Epoch 4/10000\n",
      "6800/6800 [==============================] - 0s 72us/sample - loss: 0.2910 - accuracy: 0.8682 - val_loss: 0.2920 - val_accuracy: 0.8600\n",
      "Epoch 5/10000\n",
      "6800/6800 [==============================] - 0s 71us/sample - loss: 0.2852 - accuracy: 0.8715 - val_loss: 0.2766 - val_accuracy: 0.8692\n",
      "Epoch 6/10000\n",
      "6800/6800 [==============================] - 0s 72us/sample - loss: 0.2738 - accuracy: 0.8763 - val_loss: 0.2599 - val_accuracy: 0.8792\n",
      "Epoch 7/10000\n",
      "6800/6800 [==============================] - 0s 71us/sample - loss: 0.2573 - accuracy: 0.8863 - val_loss: 0.2356 - val_accuracy: 0.9000\n",
      "Epoch 8/10000\n",
      "6800/6800 [==============================] - 0s 73us/sample - loss: 0.2347 - accuracy: 0.8972 - val_loss: 0.2104 - val_accuracy: 0.9117\n",
      "Epoch 9/10000\n",
      "6800/6800 [==============================] - 0s 73us/sample - loss: 0.2092 - accuracy: 0.9135 - val_loss: 0.1856 - val_accuracy: 0.9225\n",
      "Epoch 10/10000\n",
      "6800/6800 [==============================] - 1s 77us/sample - loss: 0.1822 - accuracy: 0.9276 - val_loss: 0.1641 - val_accuracy: 0.9392\n",
      "Epoch 11/10000\n",
      "6800/6800 [==============================] - 0s 71us/sample - loss: 0.1581 - accuracy: 0.9399 - val_loss: 0.1446 - val_accuracy: 0.9417\n",
      "Epoch 12/10000\n",
      "6800/6800 [==============================] - 0s 72us/sample - loss: 0.1381 - accuracy: 0.9513 - val_loss: 0.1204 - val_accuracy: 0.9533\n",
      "Epoch 13/10000\n",
      "6800/6800 [==============================] - 1s 80us/sample - loss: 0.1238 - accuracy: 0.9551 - val_loss: 0.1085 - val_accuracy: 0.9567\n",
      "Epoch 14/10000\n",
      "6800/6800 [==============================] - 1s 77us/sample - loss: 0.1150 - accuracy: 0.9575 - val_loss: 0.1011 - val_accuracy: 0.9617\n",
      "Epoch 15/10000\n",
      "6800/6800 [==============================] - 1s 75us/sample - loss: 0.1072 - accuracy: 0.9609 - val_loss: 0.0972 - val_accuracy: 0.9642\n",
      "Epoch 16/10000\n",
      "6800/6800 [==============================] - 0s 72us/sample - loss: 0.1028 - accuracy: 0.9647 - val_loss: 0.0895 - val_accuracy: 0.9658\n",
      "Epoch 17/10000\n",
      "6800/6800 [==============================] - 0s 72us/sample - loss: 0.0996 - accuracy: 0.9641 - val_loss: 0.0854 - val_accuracy: 0.9692\n",
      "Epoch 18/10000\n",
      "6800/6800 [==============================] - 0s 73us/sample - loss: 0.0978 - accuracy: 0.9643 - val_loss: 0.0842 - val_accuracy: 0.9708\n",
      "Epoch 19/10000\n",
      "6800/6800 [==============================] - 0s 72us/sample - loss: 0.0952 - accuracy: 0.9629 - val_loss: 0.0823 - val_accuracy: 0.9675\n",
      "Epoch 20/10000\n",
      "6800/6800 [==============================] - 0s 71us/sample - loss: 0.0932 - accuracy: 0.9660 - val_loss: 0.0836 - val_accuracy: 0.9675\n",
      "Epoch 21/10000\n",
      "6800/6800 [==============================] - 0s 72us/sample - loss: 0.0920 - accuracy: 0.9682 - val_loss: 0.0809 - val_accuracy: 0.9675\n",
      "Epoch 22/10000\n",
      "6800/6800 [==============================] - 0s 73us/sample - loss: 0.0911 - accuracy: 0.9668 - val_loss: 0.0770 - val_accuracy: 0.9733\n",
      "Epoch 23/10000\n",
      "6800/6800 [==============================] - 0s 69us/sample - loss: 0.0907 - accuracy: 0.9666 - val_loss: 0.0768 - val_accuracy: 0.9708\n",
      "Epoch 24/10000\n",
      "6800/6800 [==============================] - 1s 75us/sample - loss: 0.0901 - accuracy: 0.9662 - val_loss: 0.0751 - val_accuracy: 0.9742\n",
      "Epoch 25/10000\n",
      "6800/6800 [==============================] - 0s 73us/sample - loss: 0.0900 - accuracy: 0.9669 - val_loss: 0.0765 - val_accuracy: 0.9675\n",
      "Epoch 26/10000\n",
      "6800/6800 [==============================] - 0s 73us/sample - loss: 0.0897 - accuracy: 0.9660 - val_loss: 0.0753 - val_accuracy: 0.9700\n",
      "Epoch 27/10000\n",
      "6800/6800 [==============================] - 0s 72us/sample - loss: 0.0893 - accuracy: 0.9663 - val_loss: 0.0744 - val_accuracy: 0.9767\n",
      "Epoch 28/10000\n",
      "6800/6800 [==============================] - 0s 72us/sample - loss: 0.0886 - accuracy: 0.9674 - val_loss: 0.0759 - val_accuracy: 0.9708\n",
      "Epoch 29/10000\n",
      "6800/6800 [==============================] - 0s 72us/sample - loss: 0.0891 - accuracy: 0.9671 - val_loss: 0.0726 - val_accuracy: 0.9708\n",
      "Epoch 30/10000\n",
      "6800/6800 [==============================] - 1s 74us/sample - loss: 0.0893 - accuracy: 0.9679 - val_loss: 0.0725 - val_accuracy: 0.9717\n",
      "Epoch 31/10000\n",
      "6800/6800 [==============================] - 0s 70us/sample - loss: 0.0881 - accuracy: 0.9663 - val_loss: 0.0708 - val_accuracy: 0.9750\n",
      "Epoch 32/10000\n",
      "6800/6800 [==============================] - 1s 77us/sample - loss: 0.0884 - accuracy: 0.9669 - val_loss: 0.0715 - val_accuracy: 0.9733\n",
      "Epoch 33/10000\n",
      "6800/6800 [==============================] - 0s 72us/sample - loss: 0.0879 - accuracy: 0.9672 - val_loss: 0.0720 - val_accuracy: 0.9725\n",
      "Epoch 34/10000\n",
      "6800/6800 [==============================] - 1s 74us/sample - loss: 0.0880 - accuracy: 0.9657 - val_loss: 0.0713 - val_accuracy: 0.9767\n",
      "Epoch 35/10000\n",
      "6800/6800 [==============================] - 0s 73us/sample - loss: 0.0872 - accuracy: 0.9676 - val_loss: 0.0764 - val_accuracy: 0.9692\n",
      "Epoch 36/10000\n",
      "6800/6800 [==============================] - 1s 75us/sample - loss: 0.0874 - accuracy: 0.9668 - val_loss: 0.0709 - val_accuracy: 0.9758\n",
      "Epoch 37/10000\n",
      "6800/6800 [==============================] - 0s 73us/sample - loss: 0.0865 - accuracy: 0.9678 - val_loss: 0.0749 - val_accuracy: 0.9700\n",
      "Epoch 38/10000\n",
      "6800/6800 [==============================] - 1s 74us/sample - loss: 0.0875 - accuracy: 0.9665 - val_loss: 0.0694 - val_accuracy: 0.9733\n",
      "Epoch 39/10000\n",
      "6800/6800 [==============================] - 0s 72us/sample - loss: 0.0880 - accuracy: 0.9671 - val_loss: 0.0691 - val_accuracy: 0.9742\n",
      "Epoch 40/10000\n",
      "6800/6800 [==============================] - 0s 73us/sample - loss: 0.0869 - accuracy: 0.9669 - val_loss: 0.0766 - val_accuracy: 0.9683\n",
      "Epoch 41/10000\n",
      "6800/6800 [==============================] - 0s 73us/sample - loss: 0.0879 - accuracy: 0.9671 - val_loss: 0.0698 - val_accuracy: 0.9750\n",
      "Epoch 42/10000\n",
      "6800/6800 [==============================] - 0s 73us/sample - loss: 0.0868 - accuracy: 0.9674 - val_loss: 0.0692 - val_accuracy: 0.9758\n",
      "Epoch 43/10000\n",
      "6800/6800 [==============================] - 0s 70us/sample - loss: 0.0861 - accuracy: 0.9682 - val_loss: 0.0722 - val_accuracy: 0.9667\n",
      "Epoch 44/10000\n",
      "6800/6800 [==============================] - 0s 73us/sample - loss: 0.0867 - accuracy: 0.9674 - val_loss: 0.0682 - val_accuracy: 0.9708\n",
      "Epoch 45/10000\n",
      "6800/6800 [==============================] - 0s 73us/sample - loss: 0.0871 - accuracy: 0.9665 - val_loss: 0.0681 - val_accuracy: 0.9758\n",
      "Epoch 46/10000\n",
      "6800/6800 [==============================] - 0s 73us/sample - loss: 0.0868 - accuracy: 0.9690 - val_loss: 0.0688 - val_accuracy: 0.9750\n",
      "Epoch 47/10000\n",
      "6800/6800 [==============================] - 0s 70us/sample - loss: 0.0863 - accuracy: 0.9674 - val_loss: 0.0693 - val_accuracy: 0.9733\n",
      "Epoch 48/10000\n",
      "6800/6800 [==============================] - 1s 74us/sample - loss: 0.0869 - accuracy: 0.9676 - val_loss: 0.0714 - val_accuracy: 0.9733\n",
      "Epoch 49/10000\n",
      "6800/6800 [==============================] - 0s 72us/sample - loss: 0.0870 - accuracy: 0.9676 - val_loss: 0.0796 - val_accuracy: 0.9675\n",
      "Epoch 50/10000\n",
      "6800/6800 [==============================] - 0s 71us/sample - loss: 0.0861 - accuracy: 0.9662 - val_loss: 0.0708 - val_accuracy: 0.9708\n",
      "Epoch 51/10000\n",
      "6800/6800 [==============================] - 0s 70us/sample - loss: 0.0872 - accuracy: 0.9685 - val_loss: 0.0688 - val_accuracy: 0.9700\n",
      "Epoch 52/10000\n",
      "6800/6800 [==============================] - 0s 72us/sample - loss: 0.0866 - accuracy: 0.9671 - val_loss: 0.0733 - val_accuracy: 0.9692\n",
      "Epoch 53/10000\n",
      "6800/6800 [==============================] - 0s 73us/sample - loss: 0.0864 - accuracy: 0.9676 - val_loss: 0.0692 - val_accuracy: 0.9733\n",
      "Epoch 54/10000\n",
      "6800/6800 [==============================] - 1s 76us/sample - loss: 0.0863 - accuracy: 0.9675 - val_loss: 0.0675 - val_accuracy: 0.9742\n"
     ]
    },
    {
     "name": "stdout",
     "output_type": "stream",
     "text": [
      "Epoch 55/10000\n",
      "6800/6800 [==============================] - 0s 64us/sample - loss: 0.0862 - accuracy: 0.9671 - val_loss: 0.0738 - val_accuracy: 0.9692\n",
      "Epoch 56/10000\n",
      "6800/6800 [==============================] - 0s 69us/sample - loss: 0.0863 - accuracy: 0.9678 - val_loss: 0.0779 - val_accuracy: 0.9683\n",
      "Epoch 57/10000\n",
      "6800/6800 [==============================] - 0s 68us/sample - loss: 0.0859 - accuracy: 0.9675 - val_loss: 0.0738 - val_accuracy: 0.9717\n",
      "Epoch 58/10000\n",
      "6800/6800 [==============================] - 0s 70us/sample - loss: 0.0858 - accuracy: 0.9676 - val_loss: 0.0684 - val_accuracy: 0.9733\n",
      "Epoch 59/10000\n",
      "6800/6800 [==============================] - 0s 69us/sample - loss: 0.0870 - accuracy: 0.9672 - val_loss: 0.0686 - val_accuracy: 0.9742\n",
      "Epoch 60/10000\n",
      "6800/6800 [==============================] - 0s 72us/sample - loss: 0.0861 - accuracy: 0.9681 - val_loss: 0.0682 - val_accuracy: 0.9717\n",
      "Epoch 61/10000\n",
      "6800/6800 [==============================] - 1s 76us/sample - loss: 0.0862 - accuracy: 0.9681 - val_loss: 0.0824 - val_accuracy: 0.9683\n",
      "Epoch 62/10000\n",
      "6800/6800 [==============================] - 1s 74us/sample - loss: 0.0867 - accuracy: 0.9682 - val_loss: 0.0681 - val_accuracy: 0.9733\n",
      "Epoch 63/10000\n",
      "6800/6800 [==============================] - 0s 73us/sample - loss: 0.0866 - accuracy: 0.9672 - val_loss: 0.0680 - val_accuracy: 0.9717\n",
      "Epoch 64/10000\n",
      "6800/6800 [==============================] - 0s 72us/sample - loss: 0.0858 - accuracy: 0.9685 - val_loss: 0.0682 - val_accuracy: 0.9725\n",
      "Epoch 65/10000\n",
      "6800/6800 [==============================] - 0s 73us/sample - loss: 0.0855 - accuracy: 0.9687 - val_loss: 0.0678 - val_accuracy: 0.9725\n",
      "Epoch 66/10000\n",
      "6800/6800 [==============================] - 0s 73us/sample - loss: 0.0859 - accuracy: 0.9674 - val_loss: 0.0689 - val_accuracy: 0.9758\n",
      "Epoch 67/10000\n",
      "6800/6800 [==============================] - 0s 71us/sample - loss: 0.0862 - accuracy: 0.9675 - val_loss: 0.0702 - val_accuracy: 0.9758\n",
      "Epoch 68/10000\n",
      "6800/6800 [==============================] - 0s 72us/sample - loss: 0.0856 - accuracy: 0.9669 - val_loss: 0.0789 - val_accuracy: 0.9683\n",
      "Epoch 69/10000\n",
      "6800/6800 [==============================] - 0s 73us/sample - loss: 0.0865 - accuracy: 0.9665 - val_loss: 0.0678 - val_accuracy: 0.9742\n",
      "Epoch 70/10000\n",
      "6800/6800 [==============================] - 0s 71us/sample - loss: 0.0862 - accuracy: 0.9669 - val_loss: 0.0701 - val_accuracy: 0.9708\n",
      "Epoch 71/10000\n",
      "6800/6800 [==============================] - 1s 74us/sample - loss: 0.0865 - accuracy: 0.9665 - val_loss: 0.0677 - val_accuracy: 0.9733\n",
      "Epoch 72/10000\n",
      "6800/6800 [==============================] - 0s 71us/sample - loss: 0.0856 - accuracy: 0.9699 - val_loss: 0.0696 - val_accuracy: 0.9742\n",
      "Epoch 73/10000\n",
      "6800/6800 [==============================] - 0s 70us/sample - loss: 0.0858 - accuracy: 0.9679 - val_loss: 0.0763 - val_accuracy: 0.9675\n",
      "Epoch 74/10000\n",
      "6800/6800 [==============================] - 1s 81us/sample - loss: 0.0858 - accuracy: 0.9675 - val_loss: 0.0714 - val_accuracy: 0.9742\n"
     ]
    },
    {
     "data": {
      "text/plain": [
       "<tensorflow.python.keras.callbacks.History at 0x13b330da0>"
      ]
     },
     "execution_count": 51,
     "metadata": {},
     "output_type": "execute_result"
    }
   ],
   "source": [
    "early_stopping_cb = keras.callbacks.EarlyStopping(patience=20)\n",
    "model.fit(X_train, y_train, epochs=10000,\n",
    "          validation_data=(X_valid, y_valid),\n",
    "          callbacks=[early_stopping_cb])"
   ]
  },
  {
   "cell_type": "markdown",
   "metadata": {},
   "source": [
    "# implementing custom Normalization Layer"
   ]
  },
  {
   "cell_type": "code",
   "execution_count": 70,
   "metadata": {},
   "outputs": [],
   "source": [
    "class MyNormalizationLayer(keras.layers.Layer):\n",
    "    def __init__(self, **kwargs):\n",
    "        super().__init__(**kwargs)\n",
    "        \n",
    "    def build(self, input_shape):\n",
    "        self.alpha = tf.ones(input_shape[-1:])\n",
    "        self.beta = tf.zeros(input_shape[-1:])\n",
    "        super().build(input_shape)\n",
    "        \n",
    "    def call(self, X):\n",
    "        mean, variance = tf.nn.moments(X, axes=-1, keepdims=True)\n",
    "        std = tf.sqrt(variance)\n",
    "        eps = 0.001\n",
    "        return self.alpha * (X - mean) / (std + eps) + self.beta"
   ]
  },
  {
   "cell_type": "code",
   "execution_count": 74,
   "metadata": {},
   "outputs": [
    {
     "name": "stdout",
     "output_type": "stream",
     "text": [
      "Train on 6800 samples, validate on 1200 samples\n",
      "6800/6800 [==============================] - 2s 245us/sample - loss: 0.3513 - accuracy: 0.8600 - val_loss: 0.3390 - val_accuracy: 0.8583\n"
     ]
    },
    {
     "data": {
      "text/plain": [
       "<tensorflow.python.keras.callbacks.History at 0x13bf3a780>"
      ]
     },
     "execution_count": 74,
     "metadata": {},
     "output_type": "execute_result"
    }
   ],
   "source": [
    "model = keras.Sequential()\n",
    "model.add(keras.layers.Dense(10, activation='elu'))\n",
    "model.add(keras.layers.LayerNormalization())\n",
    "model.add(keras.layers.Dense(1, activation='sigmoid'))\n",
    "model.compile(loss='binary_crossentropy', metrics=['accuracy'], optimizer='nadam')\n",
    "model.fit(X_train, y_train, validation_data=(X_valid, y_valid))"
   ]
  },
  {
   "cell_type": "code",
   "execution_count": 75,
   "metadata": {},
   "outputs": [
    {
     "name": "stdout",
     "output_type": "stream",
     "text": [
      "Train on 6800 samples, validate on 1200 samples\n",
      "6800/6800 [==============================] - 1s 212us/sample - loss: 0.9093 - accuracy: 0.4974 - val_loss: 0.4712 - val_accuracy: 0.8233\n"
     ]
    },
    {
     "data": {
      "text/plain": [
       "<tensorflow.python.keras.callbacks.History at 0x13c1d1828>"
      ]
     },
     "execution_count": 75,
     "metadata": {},
     "output_type": "execute_result"
    }
   ],
   "source": [
    "model = keras.Sequential()\n",
    "model.add(keras.layers.Dense(10, activation='elu'))\n",
    "model.add(MyNormalizationLayer())\n",
    "model.add(keras.layers.Dense(1, activation='sigmoid'))\n",
    "model.compile(loss='binary_crossentropy', metrics=['accuracy'], optimizer='nadam')\n",
    "model.fit(X_train, y_train, validation_data=(X_valid, y_valid))"
   ]
  },
  {
   "cell_type": "code",
   "execution_count": null,
   "metadata": {},
   "outputs": [],
   "source": []
  },
  {
   "cell_type": "code",
   "execution_count": null,
   "metadata": {},
   "outputs": [],
   "source": []
  }
 ],
 "metadata": {
  "kernelspec": {
   "display_name": "Python 3",
   "language": "python",
   "name": "python3"
  },
  "language_info": {
   "codemirror_mode": {
    "name": "ipython",
    "version": 3
   },
   "file_extension": ".py",
   "mimetype": "text/x-python",
   "name": "python",
   "nbconvert_exporter": "python",
   "pygments_lexer": "ipython3",
   "version": "3.7.3"
  }
 },
 "nbformat": 4,
 "nbformat_minor": 2
}
