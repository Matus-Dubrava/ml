{
 "cells": [
  {
   "cell_type": "code",
   "execution_count": 6,
   "metadata": {},
   "outputs": [],
   "source": [
    "from pyspark import SparkContext, SparkConf\n",
    "from pyspark.mllib.clustering import KMeans\n",
    "from sklearn.preprocessing import StandardScaler\n",
    "import numpy as np"
   ]
  },
  {
   "cell_type": "code",
   "execution_count": 4,
   "metadata": {},
   "outputs": [],
   "source": [
    "conf = SparkConf().setMaster(\"local\").setAppName(\"SparkKMeans\")\n",
    "sc = SparkContext(conf=conf)"
   ]
  },
  {
   "cell_type": "code",
   "execution_count": 8,
   "metadata": {},
   "outputs": [],
   "source": [
    "def create_clustered_data(n, k):\n",
    "    np.random.seed(0)\n",
    "    points_per_cluster = float(n / k)\n",
    "    X = []\n",
    "    for i in range(k):\n",
    "        income_centroid = np.random.uniform(20000.0, 200000.0)\n",
    "        age_centroid = np.random.uniform(20.0, 70.0)\n",
    "        for j in range(int(points_per_cluster)):\n",
    "            X.append([np.random.normal(income_centroid, 10000.0), \n",
    "                     np.random.normal(age_centroid, 2.0)])\n",
    "    return np.array(X)"
   ]
  },
  {
   "cell_type": "code",
   "execution_count": 12,
   "metadata": {},
   "outputs": [],
   "source": [
    "K = 5\n",
    "scaler = StandardScaler()\n",
    "data = scaler.fit_transform(create_clustered_data(100, K))\n",
    "data = sc.parallelize(data)"
   ]
  },
  {
   "cell_type": "code",
   "execution_count": 13,
   "metadata": {},
   "outputs": [
    {
     "name": "stderr",
     "output_type": "stream",
     "text": [
      "/home/matus/anaconda3/envs/ml/lib/python3.7/site-packages/pyspark/mllib/clustering.py:347: UserWarning: The param `runs` has no effect since Spark 2.0.0.\n",
      "  warnings.warn(\"The param `runs` has no effect since Spark 2.0.0.\")\n"
     ]
    }
   ],
   "source": [
    "clusters = KMeans.train(data, K, maxIterations=10, runs=10, initializationMode=\"random\")"
   ]
  },
  {
   "cell_type": "code",
   "execution_count": 14,
   "metadata": {},
   "outputs": [],
   "source": [
    "resultRDD = data.map(lambda point: clusters.predict(point)).cache()"
   ]
  },
  {
   "cell_type": "code",
   "execution_count": 16,
   "metadata": {},
   "outputs": [
    {
     "name": "stdout",
     "output_type": "stream",
     "text": [
      "Counts by Value\n",
      "defaultdict(<class 'int'>, {1: 20, 3: 27, 0: 18, 4: 23, 2: 12})\n"
     ]
    }
   ],
   "source": [
    "print(\"Counts by Value\")\n",
    "counts = resultRDD.countByValue()\n",
    "print(counts)"
   ]
  },
  {
   "cell_type": "code",
   "execution_count": 17,
   "metadata": {},
   "outputs": [
    {
     "name": "stdout",
     "output_type": "stream",
     "text": [
      "Cluster assignments:\n",
      "[1, 1, 1, 3, 3, 1, 3, 1, 3, 3, 1, 1, 3, 1, 3, 3, 3, 1, 3, 3, 0, 0, 0, 0, 0, 0, 0, 0, 0, 0, 0, 0, 0, 4, 4, 4, 0, 0, 0, 4, 4, 3, 3, 4, 4, 3, 4, 2, 3, 3, 0, 2, 2, 3, 3, 4, 4, 4, 4, 0, 2, 4, 4, 4, 2, 2, 4, 2, 2, 4, 4, 2, 4, 2, 2, 4, 4, 2, 4, 4, 1, 1, 3, 3, 3, 3, 3, 1, 3, 3, 3, 1, 1, 1, 1, 3, 1, 1, 1, 1]\n"
     ]
    }
   ],
   "source": [
    "print(\"Cluster assignments:\")\n",
    "results = resultRDD.collect()\n",
    "print(results)"
   ]
  },
  {
   "cell_type": "code",
   "execution_count": 28,
   "metadata": {},
   "outputs": [
    {
     "name": "stdout",
     "output_type": "stream",
     "text": [
      "WCSS: 55.642078339133086\n"
     ]
    }
   ],
   "source": [
    "def wcss_error(point):\n",
    "    center = clusters.centers[clusters.predict(point)]\n",
    "    return np.sqrt(np.sum([x ** 2 for x in (point - center)]))\n",
    "\n",
    "WCSS = data.map(lambda point: wcss_error(point)).reduce(lambda x, y: x + y)\n",
    "print(f\"WCSS: {WCSS}\")"
   ]
  },
  {
   "cell_type": "code",
   "execution_count": null,
   "metadata": {},
   "outputs": [],
   "source": []
  }
 ],
 "metadata": {
  "kernelspec": {
   "display_name": "Python 3",
   "language": "python",
   "name": "python3"
  },
  "language_info": {
   "codemirror_mode": {
    "name": "ipython",
    "version": 3
   },
   "file_extension": ".py",
   "mimetype": "text/x-python",
   "name": "python",
   "nbconvert_exporter": "python",
   "pygments_lexer": "ipython3",
   "version": "3.7.6"
  }
 },
 "nbformat": 4,
 "nbformat_minor": 4
}
