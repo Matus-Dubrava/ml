{
 "cells": [
  {
   "cell_type": "code",
   "execution_count": 6,
   "metadata": {},
   "outputs": [],
   "source": [
    "from pyspark import SparkContext, SparkConf\n",
    "from pyspark.mllib.feature import HashingTF, IDF"
   ]
  },
  {
   "cell_type": "code",
   "execution_count": 15,
   "metadata": {},
   "outputs": [
    {
     "data": {
      "text/html": [
       "<div>\n",
       "<style scoped>\n",
       "    .dataframe tbody tr th:only-of-type {\n",
       "        vertical-align: middle;\n",
       "    }\n",
       "\n",
       "    .dataframe tbody tr th {\n",
       "        vertical-align: top;\n",
       "    }\n",
       "\n",
       "    .dataframe thead th {\n",
       "        text-align: right;\n",
       "    }\n",
       "</style>\n",
       "<table border=\"1\" class=\"dataframe\">\n",
       "  <thead>\n",
       "    <tr style=\"text-align: right;\">\n",
       "      <th></th>\n",
       "      <th>0</th>\n",
       "      <th>1</th>\n",
       "      <th>2</th>\n",
       "      <th>3</th>\n",
       "    </tr>\n",
       "  </thead>\n",
       "  <tbody>\n",
       "    <tr>\n",
       "      <th>0</th>\n",
       "      <td>12</td>\n",
       "      <td>Anarchism</td>\n",
       "      <td>2008-12-30 06:23:05</td>\n",
       "      <td>Anarchism (sometimes referred to as libertaria...</td>\n",
       "    </tr>\n",
       "    <tr>\n",
       "      <th>1</th>\n",
       "      <td>25</td>\n",
       "      <td>Autism</td>\n",
       "      <td>2008-12-24 20:41:05</td>\n",
       "      <td>Autism is a brain development disorder that is...</td>\n",
       "    </tr>\n",
       "    <tr>\n",
       "      <th>2</th>\n",
       "      <td>39</td>\n",
       "      <td>Albedo</td>\n",
       "      <td>2008-12-29 18:19:09</td>\n",
       "      <td>The albedo of an object is the extent to which...</td>\n",
       "    </tr>\n",
       "    <tr>\n",
       "      <th>3</th>\n",
       "      <td>290</td>\n",
       "      <td>A</td>\n",
       "      <td>2008-12-27 04:33:16</td>\n",
       "      <td>The letter A is the first letter in the Latin ...</td>\n",
       "    </tr>\n",
       "    <tr>\n",
       "      <th>4</th>\n",
       "      <td>303</td>\n",
       "      <td>Alabama</td>\n",
       "      <td>2008-12-29 08:15:47</td>\n",
       "      <td>Alabama (formally, the State of Alabama; ) is ...</td>\n",
       "    </tr>\n",
       "  </tbody>\n",
       "</table>\n",
       "</div>"
      ],
      "text/plain": [
       "     0          1                    2  \\\n",
       "0   12  Anarchism  2008-12-30 06:23:05   \n",
       "1   25     Autism  2008-12-24 20:41:05   \n",
       "2   39     Albedo  2008-12-29 18:19:09   \n",
       "3  290          A  2008-12-27 04:33:16   \n",
       "4  303    Alabama  2008-12-29 08:15:47   \n",
       "\n",
       "                                                   3  \n",
       "0  Anarchism (sometimes referred to as libertaria...  \n",
       "1  Autism is a brain development disorder that is...  \n",
       "2  The albedo of an object is the extent to which...  \n",
       "3  The letter A is the first letter in the Latin ...  \n",
       "4  Alabama (formally, the State of Alabama; ) is ...  "
      ]
     },
     "execution_count": 15,
     "metadata": {},
     "output_type": "execute_result"
    }
   ],
   "source": [
    "filepath = \"../../datasets/MLCourse/subset-small.tsv\"\n",
    "# with open(filepath) as f:\n",
    "#     print(f.readline())\n",
    "#     print(f.readline())\n",
    "pd.read_csv(filepath, sep=\"\\t\", header=None).head()"
   ]
  },
  {
   "cell_type": "code",
   "execution_count": 3,
   "metadata": {},
   "outputs": [],
   "source": [
    "conf = SparkConf().setMaster(\"local\").setAppName(\"SparkTFIDF\")\n",
    "sc = SparkContext(conf=conf)"
   ]
  },
  {
   "cell_type": "code",
   "execution_count": 18,
   "metadata": {},
   "outputs": [],
   "source": [
    "raw_data = sc.textFile(filepath)\n",
    "fields = raw_data.map(lambda x: x.split(\"\\t\"))\n",
    "documents = fields.map(lambda x: x[3].split(\" \"))\n",
    "document_names = fields.map(lambda x: x[1])"
   ]
  },
  {
   "cell_type": "code",
   "execution_count": 20,
   "metadata": {},
   "outputs": [],
   "source": [
    "hashingTF = HashingTF(100000) #100K hash buckets\n",
    "tf = hashingTF.transform(documents)"
   ]
  },
  {
   "cell_type": "code",
   "execution_count": 21,
   "metadata": {},
   "outputs": [],
   "source": [
    "tf.cache()\n",
    "idf = IDF(minDocFreq=2).fit(tf)\n",
    "tfidf = idf.transform(tf)"
   ]
  },
  {
   "cell_type": "code",
   "execution_count": 36,
   "metadata": {},
   "outputs": [],
   "source": [
    "gettysburgTF = hashingTF.transform([\"Gettysburg\"])\n",
    "gettysburg_hash_value = gettysburgTF.indices[0]"
   ]
  },
  {
   "cell_type": "code",
   "execution_count": 37,
   "metadata": {},
   "outputs": [],
   "source": [
    "gettysburg_relevance = tfidf.map(lambda x: x[int(gettysburg_hash_value)])"
   ]
  },
  {
   "cell_type": "code",
   "execution_count": 40,
   "metadata": {},
   "outputs": [
    {
     "name": "stdout",
     "output_type": "stream",
     "text": [
      "Best document for Gettysburg:\n",
      "(5.52246041819533, 'Auguste Rodin')\n"
     ]
    }
   ],
   "source": [
    "zipped_results = gettysburg_relevance.zip(document_names)\n",
    "print(\"Best document for Gettysburg:\")\n",
    "print(zipped_results.max())"
   ]
  }
 ],
 "metadata": {
  "kernelspec": {
   "display_name": "Python 3",
   "language": "python",
   "name": "python3"
  },
  "language_info": {
   "codemirror_mode": {
    "name": "ipython",
    "version": 3
   },
   "file_extension": ".py",
   "mimetype": "text/x-python",
   "name": "python",
   "nbconvert_exporter": "python",
   "pygments_lexer": "ipython3",
   "version": "3.7.6"
  }
 },
 "nbformat": 4,
 "nbformat_minor": 4
}
